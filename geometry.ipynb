{
 "cells": [
  {
   "cell_type": "code",
   "execution_count": 1,
   "id": "initial_id",
   "metadata": {
    "collapsed": true,
    "ExecuteTime": {
     "end_time": "2024-12-04T14:47:18.353523086Z",
     "start_time": "2024-12-04T14:47:18.150289248Z"
    }
   },
   "outputs": [],
   "source": [
    "import pymeshlab\n",
    "ms = pymeshlab.MeshSet()\n",
    "\n"
   ]
  },
  {
   "cell_type": "code",
   "execution_count": 3,
   "outputs": [],
   "source": [
    "ms.load_new_mesh(\"example_data/xyzrgb_manuscript.ply\")"
   ],
   "metadata": {
    "collapsed": false,
    "ExecuteTime": {
     "end_time": "2024-12-04T14:48:07.925690501Z",
     "start_time": "2024-12-04T14:48:06.464197488Z"
    }
   },
   "id": "6e103679f83e05ab"
  },
  {
   "cell_type": "code",
   "execution_count": null,
   "outputs": [],
   "source": [
    "ms"
   ],
   "metadata": {
    "collapsed": false
   },
   "id": "1cb76c67376ebad9"
  }
 ],
 "metadata": {
  "kernelspec": {
   "display_name": "Python 3",
   "language": "python",
   "name": "python3"
  },
  "language_info": {
   "codemirror_mode": {
    "name": "ipython",
    "version": 2
   },
   "file_extension": ".py",
   "mimetype": "text/x-python",
   "name": "python",
   "nbconvert_exporter": "python",
   "pygments_lexer": "ipython2",
   "version": "2.7.6"
  }
 },
 "nbformat": 4,
 "nbformat_minor": 5
}
