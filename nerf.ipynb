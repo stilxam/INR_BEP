{
 "cells": [
  {
   "cell_type": "code",
   "execution_count": 1,
   "id": "6b750ae9a6097f01",
   "metadata": {
    "collapsed": true,
    "ExecuteTime": {
     "end_time": "2025-01-22T13:26:18.531843361Z",
     "start_time": "2025-01-22T13:26:16.539877801Z"
    }
   },
   "outputs": [],
   "source": [
    "import jax\n",
    "import jax.numpy as jnp\n",
    "import optax\n",
    "from inr_utils.sampling import NeRFSyntheticScenesSampler\n",
    "from model_components.inr_modules import NeRF\n",
    "from model_components.inr_layers import SirenLayer\n",
    "from model_components.inr_layers import ClassicalPositionalEncoding\n",
    "\n",
    "# Set JAX to run on CPU\n",
    "# jax.config.update('jax_platform_name', 'cpu')"
   ]
  },
  {
   "cell_type": "code",
   "execution_count": 2,
   "outputs": [],
   "source": [
    "\n",
    "\n",
    "# Step 1: Initialize the NeRF model\n",
    "key = jax.random.PRNGKey(0)\n",
    "nerf_model = NeRF.from_config(\n",
    "    in_size=(3, 2),\n",
    "    out_size=(1, 3),\n",
    "    bottle_size=256,\n",
    "    block_length=4,\n",
    "    block_width=512,\n",
    "    num_blocks=2,\n",
    "    condition_length=None,\n",
    "    condition_width=None,\n",
    "    layer_type=SirenLayer,\n",
    "    activation_kwargs={\"w0\": 30.0},\n",
    "    key=key,\n",
    "    initialization_scheme=None,\n",
    "    initialization_scheme_kwargs=None,\n",
    "    positional_encoding_layer=ClassicalPositionalEncoding,\n",
    "    # positional_encoding_layer=ClassicalPositionalEncoding.from_config(num_frequencies=3),\n",
    "    # positional_encoding_layer=None,\n",
    "    num_splits=1,\n",
    "    post_processor=None,\n",
    "    num_coarse_samples=64,\n",
    "    num_fine_samples=128,\n",
    "    use_viewdirs=True,\n",
    "    near=2.0,\n",
    "    far=6.0,\n",
    "    noise_std=1.0,\n",
    "    white_bkgd=True,\n",
    "    lindisp=False\n",
    ")\n",
    "\n",
    "# Step 2: Initialize the sampler\n",
    "sampler = NeRFSyntheticScenesSampler(\n",
    "    split='train',\n",
    "    name='armchair_dataset_small',\n",
    "    batch_size=10,\n",
    "    poses_per_batch=10,\n",
    "    base_path=\"example_data/nerfdata\",\n",
    "    size_limit=-1\n",
    ")"
   ],
   "metadata": {
    "collapsed": false,
    "ExecuteTime": {
     "end_time": "2025-01-22T13:26:24.763035779Z",
     "start_time": "2025-01-22T13:26:19.838358977Z"
    }
   },
   "id": "7fb1f61f9ae17163"
  },
  {
   "cell_type": "code",
   "execution_count": 3,
   "outputs": [
    {
     "ename": "TypeError",
     "evalue": "dot_general requires contracting dimensions to have the same shape, got (18,) and (3840,).",
     "output_type": "error",
     "traceback": [
      "\u001B[0;31m---------------------------------------------------------------------------\u001B[0m",
      "\u001B[0;31mTypeError\u001B[0m                                 Traceback (most recent call last)",
      "Cell \u001B[0;32mIn[3], line 7\u001B[0m\n\u001B[1;32m      5\u001B[0m \u001B[38;5;66;03m# Step 4: Perform a forward pass through the NeRF model\u001B[39;00m\n\u001B[1;32m      6\u001B[0m randomized \u001B[38;5;241m=\u001B[39m \u001B[38;5;28;01mTrue\u001B[39;00m\n\u001B[0;32m----> 7\u001B[0m output \u001B[38;5;241m=\u001B[39m \u001B[43mnerf_model\u001B[49m\u001B[43m(\u001B[49m\u001B[43mray_origins\u001B[49m\u001B[43m,\u001B[49m\u001B[43m \u001B[49m\u001B[43mray_directions\u001B[49m\u001B[43m,\u001B[49m\u001B[43m \u001B[49m\u001B[43mrandomized\u001B[49m\u001B[43m,\u001B[49m\u001B[43m \u001B[49m\u001B[43mkey\u001B[49m\u001B[38;5;241;43m=\u001B[39;49m\u001B[43msample_key\u001B[49m\u001B[43m)\u001B[49m\n\u001B[1;32m      9\u001B[0m \u001B[38;5;66;03m# Print the output\u001B[39;00m\n\u001B[1;32m     10\u001B[0m \u001B[38;5;28mprint\u001B[39m(output)\n",
      "File \u001B[0;32m~/PycharmProjects/INR_BEP/model_components/inr_modules.py:751\u001B[0m, in \u001B[0;36mNeRF.__call__\u001B[0;34m(self, ray_origins, ray_directions, randomized, state, key)\u001B[0m\n\u001B[1;32m    749\u001B[0m         new_state \u001B[38;5;241m=\u001B[39m new_state\u001B[38;5;241m.\u001B[39mupdate(substate)\n\u001B[1;32m    750\u001B[0m     \u001B[38;5;28;01melse\u001B[39;00m:\n\u001B[0;32m--> 751\u001B[0m         raw_rgb, raw_sigma \u001B[38;5;241m=\u001B[39m \u001B[38;5;28;43mself\u001B[39;49m\u001B[38;5;241;43m.\u001B[39;49m\u001B[43mcoarse_model\u001B[49m\u001B[43m(\u001B[49m\u001B[43msamples\u001B[49m\u001B[43m,\u001B[49m\u001B[43m \u001B[49m\u001B[43mviewdirs\u001B[49m\u001B[43m)\u001B[49m\n\u001B[1;32m    752\u001B[0m \u001B[38;5;28;01melse\u001B[39;00m:\n\u001B[1;32m    753\u001B[0m     \u001B[38;5;28;01mif\u001B[39;00m \u001B[38;5;28mself\u001B[39m\u001B[38;5;241m.\u001B[39mcoarse_model\u001B[38;5;241m.\u001B[39mis_stateful \u001B[38;5;129;01mand\u001B[39;00m state \u001B[38;5;129;01mis\u001B[39;00m \u001B[38;5;129;01mnot\u001B[39;00m \u001B[38;5;28;01mNone\u001B[39;00m:\n",
      "File \u001B[0;32m~/PycharmProjects/INR_BEP/model_components/inr_modules.py:592\u001B[0m, in \u001B[0;36mNeRFComponent.__call__\u001B[0;34m(self, position, view_angle, state, key)\u001B[0m\n\u001B[1;32m    590\u001B[0m         new_state \u001B[38;5;241m=\u001B[39m new_state\u001B[38;5;241m.\u001B[39mupdate(substate)\n\u001B[1;32m    591\u001B[0m     \u001B[38;5;28;01melse\u001B[39;00m:\n\u001B[0;32m--> 592\u001B[0m         inp, h \u001B[38;5;241m=\u001B[39m \u001B[43mcomponent\u001B[49m\u001B[43m(\u001B[49m\u001B[43mh\u001B[49m\u001B[43m,\u001B[49m\u001B[43m \u001B[49m\u001B[43mkey\u001B[49m\u001B[38;5;241;43m=\u001B[39;49m\u001B[43mkey\u001B[49m\u001B[43m)\u001B[49m\n\u001B[1;32m    594\u001B[0m raw_sigma \u001B[38;5;241m=\u001B[39m \u001B[38;5;28mself\u001B[39m\u001B[38;5;241m.\u001B[39mto_sigma(h, key\u001B[38;5;241m=\u001B[39mkey)\n\u001B[1;32m    596\u001B[0m \u001B[38;5;28;01mif\u001B[39;00m \u001B[38;5;28mself\u001B[39m\u001B[38;5;241m.\u001B[39mcondition \u001B[38;5;129;01mis\u001B[39;00m \u001B[38;5;129;01mnot\u001B[39;00m \u001B[38;5;28;01mNone\u001B[39;00m:\n",
      "File \u001B[0;32m~/PycharmProjects/INR_BEP/model_components/inr_modules.py:311\u001B[0m, in \u001B[0;36mNeRFBlock.__call__\u001B[0;34m(self, x, h, state, key)\u001B[0m\n\u001B[1;32m    309\u001B[0m     h_new, new_state \u001B[38;5;241m=\u001B[39m \u001B[38;5;28mself\u001B[39m\u001B[38;5;241m.\u001B[39mnet(inp, state)\n\u001B[1;32m    310\u001B[0m     \u001B[38;5;28;01mreturn\u001B[39;00m x, jnp\u001B[38;5;241m.\u001B[39mconcatenate([x, h_new], axis\u001B[38;5;241m=\u001B[39m\u001B[38;5;241m-\u001B[39m\u001B[38;5;241m1\u001B[39m), new_state\n\u001B[0;32m--> 311\u001B[0m h_new \u001B[38;5;241m=\u001B[39m \u001B[38;5;28;43mself\u001B[39;49m\u001B[38;5;241;43m.\u001B[39;49m\u001B[43mnet\u001B[49m\u001B[43m(\u001B[49m\u001B[43minp\u001B[49m\u001B[43m)\u001B[49m\n\u001B[1;32m    312\u001B[0m \u001B[38;5;28;01mreturn\u001B[39;00m x, jnp\u001B[38;5;241m.\u001B[39mconcatenate([x, h_new], axis\u001B[38;5;241m=\u001B[39m\u001B[38;5;241m-\u001B[39m\u001B[38;5;241m1\u001B[39m)\n",
      "File \u001B[0;32m/run/current-system/sw/lib/python3.10/contextlib.py:79\u001B[0m, in \u001B[0;36mContextDecorator.__call__.<locals>.inner\u001B[0;34m(*args, **kwds)\u001B[0m\n\u001B[1;32m     76\u001B[0m \u001B[38;5;129m@wraps\u001B[39m(func)\n\u001B[1;32m     77\u001B[0m \u001B[38;5;28;01mdef\u001B[39;00m\u001B[38;5;250m \u001B[39m\u001B[38;5;21minner\u001B[39m(\u001B[38;5;241m*\u001B[39margs, \u001B[38;5;241m*\u001B[39m\u001B[38;5;241m*\u001B[39mkwds):\n\u001B[1;32m     78\u001B[0m     \u001B[38;5;28;01mwith\u001B[39;00m \u001B[38;5;28mself\u001B[39m\u001B[38;5;241m.\u001B[39m_recreate_cm():\n\u001B[0;32m---> 79\u001B[0m         \u001B[38;5;28;01mreturn\u001B[39;00m \u001B[43mfunc\u001B[49m\u001B[43m(\u001B[49m\u001B[38;5;241;43m*\u001B[39;49m\u001B[43margs\u001B[49m\u001B[43m,\u001B[49m\u001B[43m \u001B[49m\u001B[38;5;241;43m*\u001B[39;49m\u001B[38;5;241;43m*\u001B[39;49m\u001B[43mkwds\u001B[49m\u001B[43m)\u001B[49m\n",
      "File \u001B[0;32m~/PycharmProjects/INR_BEP/.venv/lib/python3.10/site-packages/equinox/nn/_sequential.py:105\u001B[0m, in \u001B[0;36mSequential.__call__\u001B[0;34m(self, x, state, key)\u001B[0m\n\u001B[1;32m    103\u001B[0m         x, state \u001B[38;5;241m=\u001B[39m layer(x, state\u001B[38;5;241m=\u001B[39mstate, key\u001B[38;5;241m=\u001B[39mkey)\n\u001B[1;32m    104\u001B[0m     \u001B[38;5;28;01melse\u001B[39;00m:\n\u001B[0;32m--> 105\u001B[0m         x \u001B[38;5;241m=\u001B[39m \u001B[43mlayer\u001B[49m\u001B[43m(\u001B[49m\u001B[43mx\u001B[49m\u001B[43m,\u001B[49m\u001B[43m \u001B[49m\u001B[43mkey\u001B[49m\u001B[38;5;241;43m=\u001B[39;49m\u001B[43mkey\u001B[49m\u001B[43m)\u001B[49m\n\u001B[1;32m    106\u001B[0m \u001B[38;5;28;01mif\u001B[39;00m state \u001B[38;5;129;01mis\u001B[39;00m sentinel:\n\u001B[1;32m    107\u001B[0m     \u001B[38;5;28;01mreturn\u001B[39;00m x\n",
      "File \u001B[0;32m~/PycharmProjects/INR_BEP/model_components/inr_layers.py:163\u001B[0m, in \u001B[0;36mINRLayer.__call__\u001B[0;34m(self, x, key)\u001B[0m\n\u001B[1;32m    160\u001B[0m     wxb \u001B[38;5;241m=\u001B[39m [w \u001B[38;5;241m@\u001B[39m x \u001B[38;5;241m+\u001B[39m b \u001B[38;5;28;01mfor\u001B[39;00m w, b \u001B[38;5;129;01min\u001B[39;00m \u001B[38;5;28mzip\u001B[39m(\u001B[38;5;28mself\u001B[39m\u001B[38;5;241m.\u001B[39mweights, \u001B[38;5;28mself\u001B[39m\u001B[38;5;241m.\u001B[39mbiases)]\n\u001B[1;32m    161\u001B[0m \u001B[38;5;28;01melse\u001B[39;00m:\n\u001B[1;32m    162\u001B[0m     \u001B[38;5;66;03m# when num_splits=1\u001B[39;00m\n\u001B[0;32m--> 163\u001B[0m     wxb \u001B[38;5;241m=\u001B[39m (\u001B[38;5;28;43mself\u001B[39;49m\u001B[38;5;241;43m.\u001B[39;49m\u001B[43mweights\u001B[49m\u001B[43m \u001B[49m\u001B[38;5;241;43m@\u001B[39;49m\u001B[43m \u001B[49m\u001B[43mx\u001B[49m \u001B[38;5;241m+\u001B[39m \u001B[38;5;28mself\u001B[39m\u001B[38;5;241m.\u001B[39mbiases,)\n\u001B[1;32m    164\u001B[0m \u001B[38;5;28;01mreturn\u001B[39;00m \u001B[38;5;28mself\u001B[39m\u001B[38;5;241m.\u001B[39mactivation_function(\u001B[38;5;241m*\u001B[39mwxb)\n",
      "File \u001B[0;32m~/PycharmProjects/INR_BEP/.venv/lib/python3.10/site-packages/jax/_src/numpy/array_methods.py:578\u001B[0m, in \u001B[0;36m_defer_to_unrecognized_arg.<locals>.deferring_binary_op\u001B[0;34m(self, other)\u001B[0m\n\u001B[1;32m    576\u001B[0m args \u001B[38;5;241m=\u001B[39m (other, \u001B[38;5;28mself\u001B[39m) \u001B[38;5;28;01mif\u001B[39;00m swap \u001B[38;5;28;01melse\u001B[39;00m (\u001B[38;5;28mself\u001B[39m, other)\n\u001B[1;32m    577\u001B[0m \u001B[38;5;28;01mif\u001B[39;00m \u001B[38;5;28misinstance\u001B[39m(other, _accepted_binop_types):\n\u001B[0;32m--> 578\u001B[0m   \u001B[38;5;28;01mreturn\u001B[39;00m \u001B[43mbinary_op\u001B[49m\u001B[43m(\u001B[49m\u001B[38;5;241;43m*\u001B[39;49m\u001B[43margs\u001B[49m\u001B[43m)\u001B[49m\n\u001B[1;32m    579\u001B[0m \u001B[38;5;66;03m# Note: don't use isinstance here, because we don't want to raise for\u001B[39;00m\n\u001B[1;32m    580\u001B[0m \u001B[38;5;66;03m# subclasses, e.g. NamedTuple objects that may override operators.\u001B[39;00m\n\u001B[1;32m    581\u001B[0m \u001B[38;5;28;01mif\u001B[39;00m \u001B[38;5;28mtype\u001B[39m(other) \u001B[38;5;129;01min\u001B[39;00m _rejected_binop_types:\n",
      "    \u001B[0;31m[... skipping hidden 14 frame]\u001B[0m\n",
      "File \u001B[0;32m~/PycharmProjects/INR_BEP/.venv/lib/python3.10/site-packages/jax/_src/numpy/lax_numpy.py:9185\u001B[0m, in \u001B[0;36mmatmul\u001B[0;34m(a, b, precision, preferred_element_type)\u001B[0m\n\u001B[1;32m   9183\u001B[0m a \u001B[38;5;241m=\u001B[39m lax\u001B[38;5;241m.\u001B[39msqueeze(a, \u001B[38;5;28mtuple\u001B[39m(a_squeeze))\n\u001B[1;32m   9184\u001B[0m b \u001B[38;5;241m=\u001B[39m lax\u001B[38;5;241m.\u001B[39msqueeze(b, \u001B[38;5;28mtuple\u001B[39m(b_squeeze))\n\u001B[0;32m-> 9185\u001B[0m out \u001B[38;5;241m=\u001B[39m \u001B[43mlax\u001B[49m\u001B[38;5;241;43m.\u001B[39;49m\u001B[43mdot_general\u001B[49m\u001B[43m(\u001B[49m\n\u001B[1;32m   9186\u001B[0m \u001B[43m  \u001B[49m\u001B[43ma\u001B[49m\u001B[43m,\u001B[49m\u001B[43m \u001B[49m\u001B[43mb\u001B[49m\u001B[43m,\u001B[49m\u001B[43m \u001B[49m\u001B[43m(\u001B[49m\u001B[43m(\u001B[49m\u001B[43m(\u001B[49m\u001B[43mndim\u001B[49m\u001B[43m(\u001B[49m\u001B[43ma\u001B[49m\u001B[43m)\u001B[49m\u001B[43m \u001B[49m\u001B[38;5;241;43m-\u001B[39;49m\u001B[43m \u001B[49m\u001B[38;5;241;43m1\u001B[39;49m\u001B[43m,\u001B[49m\u001B[43m)\u001B[49m\u001B[43m,\u001B[49m\u001B[43m \u001B[49m\u001B[43m(\u001B[49m\u001B[43mndim\u001B[49m\u001B[43m(\u001B[49m\u001B[43mb\u001B[49m\u001B[43m)\u001B[49m\u001B[43m \u001B[49m\u001B[38;5;241;43m-\u001B[39;49m\u001B[43m \u001B[49m\u001B[38;5;241;43m1\u001B[39;49m\u001B[43m \u001B[49m\u001B[38;5;241;43m-\u001B[39;49m\u001B[43m \u001B[49m\u001B[43mb_is_mat\u001B[49m\u001B[43m,\u001B[49m\u001B[43m)\u001B[49m\u001B[43m)\u001B[49m\u001B[43m,\u001B[49m\u001B[43m \u001B[49m\u001B[43m(\u001B[49m\u001B[43ma_batch\u001B[49m\u001B[43m,\u001B[49m\u001B[43m \u001B[49m\u001B[43mb_batch\u001B[49m\u001B[43m)\u001B[49m\u001B[43m)\u001B[49m\u001B[43m,\u001B[49m\n\u001B[1;32m   9187\u001B[0m \u001B[43m  \u001B[49m\u001B[43mprecision\u001B[49m\u001B[38;5;241;43m=\u001B[39;49m\u001B[43mprecision\u001B[49m\u001B[43m,\u001B[49m\u001B[43m \u001B[49m\u001B[43mpreferred_element_type\u001B[49m\u001B[38;5;241;43m=\u001B[39;49m\u001B[43mpreferred_element_type\u001B[49m\u001B[43m)\u001B[49m\n\u001B[1;32m   9188\u001B[0m result \u001B[38;5;241m=\u001B[39m lax\u001B[38;5;241m.\u001B[39mtranspose(out, perm)\n\u001B[1;32m   9189\u001B[0m \u001B[38;5;28;01mreturn\u001B[39;00m lax_internal\u001B[38;5;241m.\u001B[39m_convert_element_type(result, preferred_element_type, output_weak_type)\n",
      "    \u001B[0;31m[... skipping hidden 7 frame]\u001B[0m\n",
      "File \u001B[0;32m~/PycharmProjects/INR_BEP/.venv/lib/python3.10/site-packages/jax/_src/lax/lax.py:3518\u001B[0m, in \u001B[0;36m_dot_general_shape_rule\u001B[0;34m(lhs, rhs, dimension_numbers, precision, preferred_element_type, out_sharding)\u001B[0m\n\u001B[1;32m   3515\u001B[0m \u001B[38;5;28;01mif\u001B[39;00m \u001B[38;5;129;01mnot\u001B[39;00m core\u001B[38;5;241m.\u001B[39mdefinitely_equal_shape(lhs_contracting_shape, rhs_contracting_shape):\n\u001B[1;32m   3516\u001B[0m   msg \u001B[38;5;241m=\u001B[39m (\u001B[38;5;124m\"\u001B[39m\u001B[38;5;124mdot_general requires contracting dimensions to have the same \u001B[39m\u001B[38;5;124m\"\u001B[39m\n\u001B[1;32m   3517\u001B[0m          \u001B[38;5;124m\"\u001B[39m\u001B[38;5;124mshape, got \u001B[39m\u001B[38;5;132;01m{}\u001B[39;00m\u001B[38;5;124m and \u001B[39m\u001B[38;5;132;01m{}\u001B[39;00m\u001B[38;5;124m.\u001B[39m\u001B[38;5;124m\"\u001B[39m)\n\u001B[0;32m-> 3518\u001B[0m   \u001B[38;5;28;01mraise\u001B[39;00m \u001B[38;5;167;01mTypeError\u001B[39;00m(msg\u001B[38;5;241m.\u001B[39mformat(lhs_contracting_shape, rhs_contracting_shape))\n\u001B[1;32m   3520\u001B[0m \u001B[38;5;28;01mreturn\u001B[39;00m _dot_general_shape_computation(lhs\u001B[38;5;241m.\u001B[39mshape, rhs\u001B[38;5;241m.\u001B[39mshape, dimension_numbers)\n",
      "\u001B[0;31mTypeError\u001B[0m: dot_general requires contracting dimensions to have the same shape, got (18,) and (3840,)."
     ]
    }
   ],
   "source": [
    "\n",
    "# Step 3: Use the sampler to generate rays and ground truth data\n",
    "key, sample_key = jax.random.split(key)\n",
    "ray_origins, ray_directions, sample_key, ground_truth = sampler(sample_key)\n",
    "\n",
    "# Step 4: Perform a forward pass through the NeRF model\n",
    "randomized = True\n",
    "output = nerf_model(ray_origins, ray_directions, randomized, key=sample_key)\n",
    "\n",
    "# Print the output\n",
    "print(output)\n"
   ],
   "metadata": {
    "collapsed": false,
    "ExecuteTime": {
     "end_time": "2025-01-22T13:26:39.331725475Z",
     "start_time": "2025-01-22T13:26:24.761241315Z"
    }
   },
   "id": "initial_id"
  },
  {
   "cell_type": "code",
   "execution_count": null,
   "outputs": [],
   "source": [],
   "metadata": {
    "collapsed": false
   },
   "id": "cbc396ce107281bc"
  }
 ],
 "metadata": {
  "kernelspec": {
   "display_name": "Python 3",
   "language": "python",
   "name": "python3"
  },
  "language_info": {
   "codemirror_mode": {
    "name": "ipython",
    "version": 2
   },
   "file_extension": ".py",
   "mimetype": "text/x-python",
   "name": "python",
   "nbconvert_exporter": "python",
   "pygments_lexer": "ipython2",
   "version": "2.7.6"
  }
 },
 "nbformat": 4,
 "nbformat_minor": 5
}
