{
 "cells": [
  {
   "cell_type": "code",
   "execution_count": 1,
   "id": "6b750ae9a6097f01",
   "metadata": {
    "ExecuteTime": {
     "end_time": "2025-01-22T13:26:18.531843361Z",
     "start_time": "2025-01-22T13:26:16.539877801Z"
    },
    "collapsed": true
   },
   "outputs": [
    {
     "name": "stderr",
     "output_type": "stream",
     "text": [
      "2025-01-22 14:44:24.605377: W external/xla/xla/service/gpu/nvptx_compiler.cc:893] The NVIDIA driver's CUDA version is 12.4 which is older than the PTX compiler version 12.6.68. Because the driver is older than the PTX compiler version, XLA is disabling parallel compilation, which may slow down compilation. You should update your NVIDIA driver or use the NVIDIA-provided CUDA forward compatibility packages.\n"
     ]
    }
   ],
   "source": [
    "import jax\n",
    "import jax.numpy as jnp\n",
    "import optax\n",
    "from inr_utils.sampling import NeRFSyntheticScenesSampler\n",
    "from model_components.inr_modules import NeRF\n",
    "from model_components.inr_layers import SirenLayer\n",
    "from model_components.inr_layers import ClassicalPositionalEncoding\n",
    "\n",
    "# Set JAX to run on CPU\n",
    "# jax.config.update('jax_platform_name', 'cpu')"
   ]
  },
  {
   "cell_type": "code",
   "execution_count": 3,
   "id": "7fb1f61f9ae17163",
   "metadata": {
    "ExecuteTime": {
     "end_time": "2025-01-22T13:26:24.763035779Z",
     "start_time": "2025-01-22T13:26:19.838358977Z"
    },
    "collapsed": false
   },
   "outputs": [],
   "source": [
    "\n",
    "\n",
    "# Step 1: Initialize the NeRF model\n",
    "key = jax.random.PRNGKey(0)\n",
    "nerf_model = NeRF.from_config(\n",
    "    in_size=(3, 2),\n",
    "    out_size=(1, 3),\n",
    "    bottle_size=256,\n",
    "    block_length=4,\n",
    "    block_width=512,\n",
    "    num_blocks=2,\n",
    "    condition_length=None,\n",
    "    condition_width=None,\n",
    "    layer_type=SirenLayer,\n",
    "    activation_kwargs={\"w0\": 30.0},\n",
    "    key=key,\n",
    "    initialization_scheme=None,\n",
    "    initialization_scheme_kwargs=None,\n",
    "    positional_encoding_layer=ClassicalPositionalEncoding,\n",
    "    # positional_encoding_layer=ClassicalPositionalEncoding.from_config(num_frequencies=3),\n",
    "    # positional_encoding_layer=None,\n",
    "    num_splits=1,\n",
    "    post_processor=None,\n",
    "    num_coarse_samples=64,\n",
    "    num_fine_samples=128,\n",
    "    use_viewdirs=True,\n",
    "    near=2.0,\n",
    "    far=6.0,\n",
    "    noise_std=1.0,\n",
    "    white_bkgd=True,\n",
    "    lindisp=False\n",
    ")\n",
    "\n",
    "# Step 2: Initialize the sampler\n",
    "sampler = NeRFSyntheticScenesSampler(\n",
    "    split='train',\n",
    "    name=\"vase\",#'armchair_dataset_small',\n",
    "    batch_size=10,\n",
    "    poses_per_batch=10,\n",
    "    base_path=\"./synthetic_scenes/\",#\"example_data/nerfdata\",\n",
    "    size_limit=-1\n",
    ")"
   ]
  },
  {
   "cell_type": "code",
   "execution_count": 7,
   "id": "initial_id",
   "metadata": {
    "ExecuteTime": {
     "end_time": "2025-01-22T13:26:39.331725475Z",
     "start_time": "2025-01-22T13:26:24.761241315Z"
    },
    "collapsed": false
   },
   "outputs": [
    {
     "name": "stderr",
     "output_type": "stream",
     "text": [
      "Traceback (most recent call last):\n",
      "  File \"/tmp/ipykernel_32273/2477426486.py\", line 11, in <module>\n",
      "    output = jax.vmap(lambda ro, rd, ra: nerf_model(ro, rd, ra, key=sample_key), (0, 0, None))(ray_origins, ray_directions, randomized)\n",
      "  File \"/home/simon/miniconda3/envs/inr_edu_24/lib/python3.10/site-packages/jax/_src/traceback_util.py\", line 180, in reraise_with_filtered_traceback\n",
      "    return fun(*args, **kwargs)\n",
      "  File \"/home/simon/miniconda3/envs/inr_edu_24/lib/python3.10/site-packages/jax/_src/api.py\", line 994, in vmap_f\n",
      "    out_flat = batching.batch(\n",
      "  File \"/home/simon/miniconda3/envs/inr_edu_24/lib/python3.10/site-packages/jax/_src/linear_util.py\", line 187, in call_wrapped\n",
      "    return self.f_transformed(*args, **kwargs)\n",
      "  File \"/home/simon/miniconda3/envs/inr_edu_24/lib/python3.10/site-packages/jax/_src/interpreters/batching.py\", line 589, in _batch_outer\n",
      "    outs, trace = f(tag, in_dims, *in_vals)\n",
      "  File \"/home/simon/miniconda3/envs/inr_edu_24/lib/python3.10/site-packages/jax/_src/interpreters/batching.py\", line 604, in _batch_inner\n",
      "    outs = f(*in_tracers)\n",
      "  File \"/home/simon/miniconda3/envs/inr_edu_24/lib/python3.10/site-packages/jax/_src/interpreters/batching.py\", line 333, in flatten_fun_for_vmap\n",
      "    ans = f(*py_args, **py_kwargs)\n",
      "  File \"/tmp/ipykernel_32273/2477426486.py\", line 11, in <lambda>\n",
      "    output = jax.vmap(lambda ro, rd, ra: nerf_model(ro, rd, ra, key=sample_key), (0, 0, None))(ray_origins, ray_directions, randomized)\n",
      "  File \"/home/simon/Documents/INR_BEP/model_components/inr_modules.py\", line 731, in __call__\n",
      "    z_vals, samples = self.sample_along_ray(\n",
      "  File \"/home/simon/miniconda3/envs/inr_edu_24/lib/python3.10/site-packages/equinox/_module.py\", line 1096, in __call__\n",
      "    return self.__func__(self.__self__, *args, **kwargs)\n",
      "  File \"/home/simon/Documents/INR_BEP/model_components/inr_modules.py\", line 880, in sample_along_ray\n",
      "    coords = self.cast_ray(z_vals, origin, direction)\n",
      "  File \"/home/simon/Documents/INR_BEP/model_components/inr_modules.py\", line 839, in cast_ray\n",
      "    origin = origin[None, :, :]  # [1, batch_size, 3]\n",
      "  File \"/home/simon/miniconda3/envs/inr_edu_24/lib/python3.10/site-packages/jax/_src/numpy/array_methods.py\", line 1050, in op\n",
      "    return getattr(self.aval, f\"_{name}\")(self, *args)\n",
      "  File \"/home/simon/miniconda3/envs/inr_edu_24/lib/python3.10/site-packages/jax/_src/numpy/array_methods.py\", line 646, in _getitem\n",
      "    return lax_numpy._rewriting_take(self, item)\n",
      "  File \"/home/simon/miniconda3/envs/inr_edu_24/lib/python3.10/site-packages/jax/_src/numpy/lax_numpy.py\", line 11939, in _rewriting_take\n",
      "    return _gather(arr, treedef, static_idx, dynamic_idx, indices_are_sorted,\n",
      "  File \"/home/simon/miniconda3/envs/inr_edu_24/lib/python3.10/site-packages/jax/_src/numpy/lax_numpy.py\", line 11948, in _gather\n",
      "    indexer = _index_to_gather(shape(arr), idx)  # shared with _scatter_update\n",
      "  File \"/home/simon/miniconda3/envs/inr_edu_24/lib/python3.10/site-packages/jax/_src/numpy/lax_numpy.py\", line 12064, in _index_to_gather\n",
      "    idx = _canonicalize_tuple_index(len(x_shape), idx)\n",
      "  File \"/home/simon/miniconda3/envs/inr_edu_24/lib/python3.10/site-packages/jax/_src/numpy/lax_numpy.py\", line 12383, in _canonicalize_tuple_index\n",
      "    raise IndexError(\n",
      "IndexError: Too many indices: 1-dimensional array indexed with 2 regular indices.\n"
     ]
    },
    {
     "name": "stdout",
     "output_type": "stream",
     "text": [
      "Too many indices: 1-dimensional array indexed with 2 regular indices.\n",
      "> \u001b[0;32m/home/simon/miniconda3/envs/inr_edu_24/lib/python3.10/site-packages/jax/_src/numpy/lax_numpy.py\u001b[0m(12383)\u001b[0;36m_canonicalize_tuple_index\u001b[0;34m()\u001b[0m\n",
      "\u001b[0;32m  12381 \u001b[0;31m  \u001b[0;32mif\u001b[0m \u001b[0mnum_dimensions_consumed\u001b[0m \u001b[0;34m>\u001b[0m \u001b[0marr_ndim\u001b[0m\u001b[0;34m:\u001b[0m\u001b[0;34m\u001b[0m\u001b[0;34m\u001b[0m\u001b[0m\n",
      "\u001b[0m\u001b[0;32m  12382 \u001b[0;31m    \u001b[0mindex_or_indices\u001b[0m \u001b[0;34m=\u001b[0m \u001b[0;34m\"index\"\u001b[0m \u001b[0;32mif\u001b[0m \u001b[0mnum_dimensions_consumed\u001b[0m \u001b[0;34m==\u001b[0m \u001b[0;36m1\u001b[0m \u001b[0;32melse\u001b[0m \u001b[0;34m\"indices\"\u001b[0m\u001b[0;34m\u001b[0m\u001b[0;34m\u001b[0m\u001b[0m\n",
      "\u001b[0m\u001b[0;32m> 12383 \u001b[0;31m    raise IndexError(\n",
      "\u001b[0m\u001b[0;32m  12384 \u001b[0;31m        \u001b[0;34mf\"Too many indices: {arr_ndim}-dimensional array indexed \"\u001b[0m\u001b[0;34m\u001b[0m\u001b[0;34m\u001b[0m\u001b[0m\n",
      "\u001b[0m\u001b[0;32m  12385 \u001b[0;31m        f\"with {num_dimensions_consumed} regular {index_or_indices}.\")\n",
      "\u001b[0m\n",
      "> \u001b[0;32m/home/simon/miniconda3/envs/inr_edu_24/lib/python3.10/site-packages/jax/_src/numpy/lax_numpy.py\u001b[0m(12064)\u001b[0;36m_index_to_gather\u001b[0;34m()\u001b[0m\n",
      "\u001b[0;32m  12062 \u001b[0;31m\u001b[0;34m\u001b[0m\u001b[0m\n",
      "\u001b[0m\u001b[0;32m  12063 \u001b[0;31m  \u001b[0;31m# Remove ellipses and add trailing slice(None)s.\u001b[0m\u001b[0;34m\u001b[0m\u001b[0;34m\u001b[0m\u001b[0m\n",
      "\u001b[0m\u001b[0;32m> 12064 \u001b[0;31m  \u001b[0midx\u001b[0m \u001b[0;34m=\u001b[0m \u001b[0m_canonicalize_tuple_index\u001b[0m\u001b[0;34m(\u001b[0m\u001b[0mlen\u001b[0m\u001b[0;34m(\u001b[0m\u001b[0mx_shape\u001b[0m\u001b[0;34m)\u001b[0m\u001b[0;34m,\u001b[0m \u001b[0midx\u001b[0m\u001b[0;34m)\u001b[0m\u001b[0;34m\u001b[0m\u001b[0;34m\u001b[0m\u001b[0m\n",
      "\u001b[0m\u001b[0;32m  12065 \u001b[0;31m\u001b[0;34m\u001b[0m\u001b[0m\n",
      "\u001b[0m\u001b[0;32m  12066 \u001b[0;31m  \u001b[0;31m# Check for scalar boolean indexing: this requires inserting extra dimensions\u001b[0m\u001b[0;34m\u001b[0m\u001b[0;34m\u001b[0m\u001b[0m\n",
      "\u001b[0m\n"
     ]
    }
   ],
   "source": [
    "import pdb\n",
    "import traceback\n",
    "\n",
    "try:\n",
    "    # Step 3: Use the sampler to generate rays and ground truth data\n",
    "    key, sample_key = jax.random.split(key)\n",
    "    ray_origins, ray_directions, sample_key, ground_truth = sampler(sample_key)\n",
    "\n",
    "    # Step 4: Perform a forward pass through the NeRF model\n",
    "    randomized = True\n",
    "    output = jax.vmap(lambda ro, rd, ra: nerf_model(ro, rd, ra, key=sample_key), (0, 0, None))(ray_origins, ray_directions, randomized)\n",
    "\n",
    "    # Print the output\n",
    "    print(output)\n",
    "\n",
    "except Exception as e:\n",
    "    print(e)\n",
    "    traceback.print_exc()\n",
    "    pdb.post_mortem()\n"
   ]
  },
  {
   "cell_type": "code",
   "execution_count": null,
   "id": "cbc396ce107281bc",
   "metadata": {
    "collapsed": false
   },
   "outputs": [],
   "source": []
  }
 ],
 "metadata": {
  "kernelspec": {
   "display_name": "inr_edu_24",
   "language": "python",
   "name": "python3"
  },
  "language_info": {
   "codemirror_mode": {
    "name": "ipython",
    "version": 3
   },
   "file_extension": ".py",
   "mimetype": "text/x-python",
   "name": "python",
   "nbconvert_exporter": "python",
   "pygments_lexer": "ipython3",
   "version": "3.10.14"
  }
 },
 "nbformat": 4,
 "nbformat_minor": 5
}
