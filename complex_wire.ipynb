{
 "cells": [
  {
   "cell_type": "code",
   "execution_count": 1,
   "id": "initial_id",
   "metadata": {
    "collapsed": true,
    "ExecuteTime": {
     "end_time": "2024-10-09T11:34:21.966841055Z",
     "start_time": "2024-10-09T11:34:19.744511883Z"
    }
   },
   "outputs": [
    {
     "name": "stderr",
     "output_type": "stream",
     "text": [
      "\u001B[34m\u001B[1mwandb\u001B[0m: Using wandb-core as the SDK backend. Please refer to https://wandb.me/wandb-core for more information.\n",
      "\u001B[34m\u001B[1mwandb\u001B[0m: Currently logged in as: \u001B[33mmaxwell_litsios\u001B[0m (\u001B[33mbep-circle\u001B[0m). Use \u001B[1m`wandb login --relogin`\u001B[0m to force relogin\n",
      "2024-10-09 13:34:21.881138: W external/xla/xla/service/gpu/nvptx_compiler.cc:930] The NVIDIA driver's CUDA version is 12.3 which is older than the PTX compiler version 12.6.77. Because the driver is older than the PTX compiler version, XLA is disabling parallel compilation, which may slow down compilation. You should update your NVIDIA driver or use the NVIDIA-provided CUDA forward compatibility packages.\n"
     ]
    }
   ],
   "source": [
    "from pprint import pprint\n",
    "\n",
    "import numpy as np\n",
    "\n",
    "import wandb\n",
    "import pdb\n",
    "import traceback\n",
    "\n",
    "import jax\n",
    "from jax import numpy as jnp\n",
    "import optax\n",
    "\n",
    "from common_dl_utils.config_creation import Config\n",
    "import common_jax_utils as cju\n",
    "\n",
    "import common_dl_utils as cdu\n",
    "from common_dl_utils.config_creation import Config, VariableCollector\n",
    "\n",
    "wandb.login()\n",
    "key = jax.random.PRNGKey(123)\n",
    "key_gen = cju.key_generator(key)"
   ]
  },
  {
   "cell_type": "markdown",
   "source": [
    "# model definition"
   ],
   "metadata": {
    "collapsed": false
   },
   "id": "efc147c1336fec54"
  },
  {
   "cell_type": "code",
   "execution_count": 13,
   "outputs": [],
   "source": [
    "\n",
    "config = Config()\n",
    "\n",
    "config.architecture = \"./model_components\"\n",
    "config.model_type = 'inr_modules.CombinedINR'\n",
    "\n",
    "\n",
    "config.model_config = Config()\n",
    "\n",
    "config.model_config.in_size = 2\n",
    "config.model_config.out_size = 3\n",
    "\n",
    "config.model_config.terms = [\n",
    "    (\n",
    "        \"inr_modules.MLPINR.from_config\", {\n",
    "        \"hidden_size\":512,\n",
    "        \"num_layers\":5,\n",
    "        \"layer_type\": \"inr_layers.ComplexWire\",\n",
    "        \"num_splits\":1,\n",
    "        \"use_complex\":False,\n",
    "        \"activation_kwargs\": {\"w0\": 12, \"s0\": 1}\n",
    "    })\n",
    "]\n"
   ],
   "metadata": {
    "collapsed": false,
    "ExecuteTime": {
     "end_time": "2024-10-09T11:39:59.057906059Z",
     "start_time": "2024-10-09T11:39:58.957533553Z"
    }
   },
   "id": "9b597f39b4b11926"
  },
  {
   "cell_type": "markdown",
   "source": [
    "# training config"
   ],
   "metadata": {
    "collapsed": false
   },
   "id": "c924021b1376430d"
  },
  {
   "cell_type": "code",
   "execution_count": 14,
   "outputs": [],
   "source": [
    "config.trainer_module = \"./inr_utils/\"\n",
    "config.trainer_type = \"training.train_inr\"\n",
    "config.target_function = \"images.ContinuousImage\"\n",
    "\n",
    "config.target_function_config = {\n",
    "    \"image\": \"./example_data/parrot.png\",\n",
    "    \"scale_to_01\":True,\n",
    "    \"interpolation_method\":\"images.make_piece_wise_constant_interpolation\"\n",
    "}\n",
    "\n",
    "config.loss_function = 'losses.scaled_mse_loss'\n",
    "config.sampler = ('sampling.GridSubsetSampler',{  # samples coordinates in a fixed grid, that should in this case coincide with the pixel locations in the image\n",
    "    'size': [2040, 1356],\n",
    "    'batch_size': 2000,\n",
    "    'allow_duplicates': False,\n",
    "})\n",
    "\n",
    "config.optimizer = 'adam'  # we'll have to add optax to the additional default modules later\n",
    "config.optimizer_config = {\n",
    "    'learning_rate': 1.5e-4\n",
    "}\n",
    "\n",
    "\n",
    "config.steps = 10000\n",
    "config.use_wandb = True\n",
    "\n",
    "# now we want some extra things, like logging, to happen during training\n",
    "# the inr_utils.training.train_inr function allows for this through callbacks.\n",
    "# The callbacks we want to use can be found in inr_utils.callbacks\n",
    "config.after_step_callback = 'callbacks.ComposedCallback'\n",
    "config.after_step_callback_config = {\n",
    "    'callbacks':[\n",
    "        ('callbacks.print_loss', {'after_every':400}),  # only print the loss every 400th step\n",
    "        'callbacks.report_loss',  # but log the loss to wandb after every step\n",
    "        ('callbacks.MetricCollectingCallback', # this thing will help us collect metrics and log images to wandb\n",
    "             {'metric_collector':'metrics.MetricCollector'}\n",
    "        ),\n",
    "        'callbacks.raise_error_on_nan'  # stop training if the loss becomes NaN\n",
    "    ],\n",
    "    'show_logs': False\n",
    "}\n",
    "\n",
    "config.metric_collector_config = {  # the metrics for MetricCollectingCallback / metrics.MetricCollector\n",
    "    'metrics':[\n",
    "        ('metrics.PlotOnGrid2D', {'grid': 256, 'batch_size':8*256, 'frequency':'every_n_batches'}),  \n",
    "        # ^ plots the image on this fixed grid so we can visually inspect the inr on wandb\n",
    "        ('metrics.MSEOnFixedGrid', {'grid': [2040, 1356], 'batch_size':2040, 'frequency': 'every_n_batches'})\n",
    "        # ^ compute the MSE with the actual image pixels\n",
    "    ],\n",
    "    'batch_frequency': 400,  # compute all of these metrics every 400 batches\n",
    "    'epoch_frequency': 1  # not actually used\n",
    "}\n",
    "\n",
    "config.after_training_callback = None  # don't care for one now, but you could have this e.g. store some nice loss plots if you're not using wandb \n",
    "config.optimizer_state = None  # we're starting from scratch"
   ],
   "metadata": {
    "collapsed": false,
    "ExecuteTime": {
     "end_time": "2024-10-09T11:39:59.313750881Z",
     "start_time": "2024-10-09T11:39:59.252114748Z"
    }
   },
   "id": "f477314602d56bdd"
  },
  {
   "cell_type": "code",
   "execution_count": 15,
   "outputs": [],
   "source": [
    "# let's first see if we get the correct model\n",
    "try:\n",
    "    inr = cju.run_utils.get_model_from_config_and_key(\n",
    "        prng_key=next(key_gen),\n",
    "        config=config,\n",
    "        model_sub_config_name_base='model',\n",
    "        add_model_module_to_architecture_default_module=False, # since the model is already in the default module specified by 'architecture',\n",
    "    )\n",
    "except Exception as e:\n",
    "    traceback.print_exc()\n",
    "    print(e)\n",
    "    print('\\n')\n",
    "    pdb.post_mortem()"
   ],
   "metadata": {
    "collapsed": false,
    "ExecuteTime": {
     "end_time": "2024-10-09T11:40:00.315024752Z",
     "start_time": "2024-10-09T11:39:59.436408299Z"
    }
   },
   "id": "839bb70cfe410ed4"
  },
  {
   "cell_type": "code",
   "execution_count": 16,
   "outputs": [
    {
     "data": {
      "text/plain": "CombinedINR(\n  terms=(\n    MLPINR(\n      input_layer=ComplexWire(\n        weights=f32[512,2],\n        biases=f32[512],\n        activation_kwargs={'w0': 12, 's0': 1}\n      ),\n      hidden_layers=[\n        ComplexWire(\n          weights=f32[512,512],\n          biases=f32[512],\n          activation_kwargs={'w0': 12, 's0': 1}\n        ),\n        ComplexWire(\n          weights=f32[512,512],\n          biases=f32[512],\n          activation_kwargs={'w0': 12, 's0': 1}\n        ),\n        ComplexWire(\n          weights=f32[512,512],\n          biases=f32[512],\n          activation_kwargs={'w0': 12, 's0': 1}\n        )\n      ],\n      output_layer=Linear(\n        weights=f32[3,512],\n        biases=f32[3],\n        activation_kwargs={}\n      ),\n      post_processor=<function real_part>\n    ),\n  ),\n  post_processor=<function real_part>\n)"
     },
     "execution_count": 16,
     "metadata": {},
     "output_type": "execute_result"
    }
   ],
   "source": [
    "inr\n"
   ],
   "metadata": {
    "collapsed": false,
    "ExecuteTime": {
     "end_time": "2024-10-09T11:40:00.315692413Z",
     "start_time": "2024-10-09T11:40:00.300106359Z"
    }
   },
   "id": "444ba27997f20010"
  },
  {
   "cell_type": "code",
   "execution_count": 18,
   "outputs": [],
   "source": [
    "experiment = cju.run_utils.get_experiment_from_config_and_key(\n",
    "    prng_key=next(key_gen),\n",
    "    config=config,\n",
    "    model_kwarg_in_trainer='inr',\n",
    "    model_sub_config_name_base='model',  # so it looks for \"model_config\" in config\n",
    "    trainer_default_module_key='trainer_module',  # so it knows to get the module specified by config.trainer_module\n",
    "    additional_trainer_default_modules=[optax],  # remember the don't forget to add optax to the default modules? This is that \n",
    "    add_model_module_to_architecture_default_module=False,\n",
    "    initialize=False  # don't run the experiment yet, we want to use wandb\n",
    ")"
   ],
   "metadata": {
    "collapsed": false,
    "ExecuteTime": {
     "end_time": "2024-10-09T11:40:00.960395653Z",
     "start_time": "2024-10-09T11:40:00.935842677Z"
    }
   },
   "id": "7c8acad24bc56a11"
  },
  {
   "cell_type": "code",
   "execution_count": 19,
   "outputs": [
    {
     "data": {
      "text/plain": "<IPython.core.display.HTML object>",
      "text/html": "Tracking run with wandb version 0.18.3"
     },
     "metadata": {},
     "output_type": "display_data"
    },
    {
     "data": {
      "text/plain": "<IPython.core.display.HTML object>",
      "text/html": "Run data is saved locally in <code>/home/ovindar/PycharmProjects/INR_BEP/wandb/run-20241009_134001-2bnrzu30</code>"
     },
     "metadata": {},
     "output_type": "display_data"
    },
    {
     "data": {
      "text/plain": "<IPython.core.display.HTML object>",
      "text/html": "Syncing run <strong><a href='https://wandb.ai/bep-circle/inr_edu_24/runs/2bnrzu30' target=\"_blank\">lively-vortex-4</a></strong> to <a href='https://wandb.ai/bep-circle/inr_edu_24' target=\"_blank\">Weights & Biases</a> (<a href='https://wandb.me/run' target=\"_blank\">docs</a>)<br/>"
     },
     "metadata": {},
     "output_type": "display_data"
    },
    {
     "data": {
      "text/plain": "<IPython.core.display.HTML object>",
      "text/html": " View project at <a href='https://wandb.ai/bep-circle/inr_edu_24' target=\"_blank\">https://wandb.ai/bep-circle/inr_edu_24</a>"
     },
     "metadata": {},
     "output_type": "display_data"
    },
    {
     "data": {
      "text/plain": "<IPython.core.display.HTML object>",
      "text/html": " View run at <a href='https://wandb.ai/bep-circle/inr_edu_24/runs/2bnrzu30' target=\"_blank\">https://wandb.ai/bep-circle/inr_edu_24/runs/2bnrzu30</a>"
     },
     "metadata": {},
     "output_type": "display_data"
    },
    {
     "name": "stderr",
     "output_type": "stream",
     "text": [
      "/home/ovindar/PycharmProjects/INR_BEP/.venv/lib/python3.10/site-packages/jax/_src/lax/lax.py:3227: ComplexWarning: Casting complex values to real discards the imaginary part\n",
      "  x_bar = _convert_element_type(x_bar, x.aval.dtype, x.aval.weak_type)\n"
     ]
    },
    {
     "name": "stdout",
     "output_type": "stream",
     "text": [
      "Loss at step 400 is 0.23753859102725983.\n",
      "Loss at step 800 is 0.17240950465202332.\n",
      "Loss at step 1200 is 0.17338517308235168.\n",
      "Loss at step 1600 is 0.13816608488559723.\n",
      "Loss at step 2000 is 0.14387619495391846.\n",
      "Loss at step 2400 is 0.12242170423269272.\n",
      "Loss at step 2800 is 0.1180521547794342.\n",
      "Loss at step 3200 is 0.10810013860464096.\n",
      "Loss at step 3600 is 0.10784098505973816.\n",
      "Loss at step 4000 is 0.11602301895618439.\n",
      "Loss at step 4400 is 0.09595547616481781.\n",
      "Loss at step 4800 is 0.10572443902492523.\n",
      "Loss at step 5200 is 0.08449115604162216.\n",
      "Loss at step 5600 is 0.10581201314926147.\n",
      "Loss at step 6000 is 0.09425991773605347.\n",
      "Loss at step 6400 is 0.09983878582715988.\n",
      "Loss at step 6800 is 0.0859023854136467.\n",
      "Loss at step 7200 is 0.09281058609485626.\n",
      "Loss at step 7600 is 0.08459315448999405.\n",
      "Loss at step 8000 is 0.08344407379627228.\n",
      "Loss at step 8400 is 0.0762539803981781.\n",
      "Loss at step 8800 is 0.09273675084114075.\n",
      "Loss at step 9200 is 0.09298018366098404.\n",
      "Loss at step 9600 is 0.09295334666967392.\n",
      "Loss at step 10000 is 0.08030357211828232.\n",
      "Loss at step 10400 is 0.07704474776983261.\n",
      "Loss at step 10800 is 0.11263304203748703.\n",
      "Loss at step 11200 is 0.09513372927904129.\n",
      "Loss at step 11600 is 0.09443872421979904.\n",
      "Loss at step 12000 is 0.09003599733114243.\n",
      "Loss at step 12400 is 0.07608973979949951.\n",
      "Loss at step 12800 is 0.07612139731645584.\n",
      "Loss at step 13200 is 0.07346324622631073.\n",
      "Loss at step 13600 is 0.0774325430393219.\n",
      "Loss at step 14000 is 0.0835571438074112.\n",
      "Loss at step 14400 is 0.086952805519104.\n",
      "Loss at step 14800 is 0.07718715816736221.\n",
      "Loss at step 15200 is 0.07439526170492172.\n",
      "Loss at step 15600 is 0.09193889051675797.\n",
      "Loss at step 16000 is 0.0974317118525505.\n",
      "Loss at step 16400 is 0.07320784777402878.\n",
      "Loss at step 16800 is 0.06897707283496857.\n",
      "Loss at step 17200 is 0.07480059564113617.\n",
      "Loss at step 17600 is 0.0640217736363411.\n",
      "Loss at step 18000 is 0.07705842703580856.\n",
      "Loss at step 18400 is 0.07938513904809952.\n",
      "Loss at step 18800 is 0.08034209161996841.\n",
      "Loss at step 19200 is 0.08799147605895996.\n",
      "Loss at step 19600 is 0.06698816269636154.\n",
      "Loss at step 20000 is 0.06678786873817444.\n",
      "Loss at step 20400 is 0.0784769281744957.\n",
      "Loss at step 20800 is 0.07559186220169067.\n",
      "Loss at step 21200 is 0.061524610966444016.\n",
      "Loss at step 21600 is 0.07119084894657135.\n",
      "Loss at step 22000 is 0.06515324860811234.\n",
      "Loss at step 22400 is 0.07808869332075119.\n",
      "Loss at step 22800 is 0.06983627378940582.\n",
      "Loss at step 23200 is 0.06609028577804565.\n",
      "Loss at step 23600 is 0.07884776592254639.\n",
      "Loss at step 24000 is 0.06078994646668434.\n",
      "Loss at step 24400 is 0.08236310631036758.\n",
      "Loss at step 24800 is 0.06743361800909042.\n",
      "Loss at step 25200 is 0.07081738859415054.\n",
      "Loss at step 25600 is 0.0720590204000473.\n",
      "Loss at step 26000 is 0.06800904124975204.\n",
      "Loss at step 26400 is 0.06292946636676788.\n",
      "Loss at step 26800 is 0.061828479170799255.\n",
      "Loss at step 27200 is 0.07121729105710983.\n",
      "Loss at step 27600 is 0.07624616473913193.\n",
      "Loss at step 28000 is 0.06837314367294312.\n",
      "Loss at step 28400 is 0.07729580253362656.\n",
      "Loss at step 28800 is 0.06128551438450813.\n",
      "Loss at step 29200 is 0.06262794137001038.\n",
      "Loss at step 29600 is 0.06720228493213654.\n",
      "Loss at step 30000 is 0.058268919587135315.\n",
      "Loss at step 30400 is 0.06229238212108612.\n",
      "Loss at step 30800 is 0.07364728301763535.\n",
      "Loss at step 31200 is 0.06050601601600647.\n",
      "Loss at step 31600 is 0.0749887228012085.\n",
      "Loss at step 32000 is 0.0818738117814064.\n",
      "Loss at step 32400 is 0.06282572448253632.\n",
      "Loss at step 32800 is 0.07954254746437073.\n",
      "Loss at step 33200 is 0.07167094945907593.\n",
      "Loss at step 33600 is 0.08393701165914536.\n",
      "Loss at step 34000 is 0.0650247111916542.\n",
      "Loss at step 34400 is 0.07553759962320328.\n",
      "Loss at step 34800 is 0.06716973334550858.\n",
      "Loss at step 35200 is 0.07096154987812042.\n",
      "Loss at step 35600 is 0.07035961002111435.\n",
      "Loss at step 36000 is 0.06896970421075821.\n",
      "Loss at step 36400 is 0.058364443480968475.\n",
      "Loss at step 36800 is 0.05779559165239334.\n",
      "Loss at step 37200 is 0.060813773423433304.\n",
      "Loss at step 37600 is 0.05740289017558098.\n",
      "Loss at step 38000 is 0.062266554683446884.\n",
      "Loss at step 38400 is 0.06132105737924576.\n",
      "Loss at step 38800 is 0.055094651877880096.\n",
      "Loss at step 39200 is 0.05652836337685585.\n",
      "Loss at step 39600 is 0.06391356140375137.\n",
      "Loss at step 40000 is 0.059234511107206345.\n"
     ]
    },
    {
     "data": {
      "text/plain": "<Figure size 640x480 with 1 Axes>",
      "image/png": "[encoded data removed]"
     },
     "metadata": {},
     "output_type": "display_data"
    },
    {
     "data": {
      "text/plain": "VBox(children=(Label(value='8.958 MB of 10.867 MB uploaded\\r'), FloatProgress(value=0.8243011795233814, max=1.…",
      "application/vnd.jupyter.widget-view+json": {
       "version_major": 2,
       "version_minor": 0,
       "model_id": "e2d23980b1d442c9bde949203913739d"
      }
     },
     "metadata": {},
     "output_type": "display_data"
    },
    {
     "data": {
      "text/plain": "<IPython.core.display.HTML object>",
      "text/html": "<style>\n    table.wandb td:nth-child(1) { padding: 0 10px; text-align: left ; width: auto;} td:nth-child(2) {text-align: left ; width: 100%}\n    .wandb-row { display: flex; flex-direction: row; flex-wrap: wrap; justify-content: flex-start; width: 100% }\n    .wandb-col { display: flex; flex-direction: column; flex-basis: 100%; flex: 1; padding: 10px; }\n    </style>\n<div class=\"wandb-row\"><div class=\"wandb-col\"><h3>Run history:</h3><br/><table class=\"wandb\"><tr><td>MSE_on_fixed_grid</td><td>█▆▄▄▃▂▂▂▂▂▂▂▂▂▂▂▂▂▂▂▁▁▁▁▂▁▁▁▁▁▁▁▁▁▁▁▁▁▁▁</td></tr><tr><td>batch_within_epoch</td><td>▁▁▁▁▁▁▁▂▂▂▂▂▂▃▃▃▃▃▄▄▄▄▄▄▄▅▅▅▆▆▆▆▆▆▇▇▇▇██</td></tr><tr><td>epoch</td><td>▁▁▁▁▁▁▁▁▁▁▁▁▁▁▁▁▁▁▁▁▁▁▁▁▁▁▁▁▁▁▁▁▁▁▁▁▁▁▁▁</td></tr><tr><td>loss</td><td>█▇▆▇▅▃▃▄▅▅▃▂▃▃▃▃▂▂▂▃▂▁▁▂▁▂▁▁▂▁▂▂▂▃▂▂▂▁▂▃</td></tr></table><br/></div><div class=\"wandb-col\"><h3>Run summary:</h3><br/><table class=\"wandb\"><tr><td>MSE_on_fixed_grid</td><td>0.00888</td></tr><tr><td>batch_within_epoch</td><td>40000</td></tr><tr><td>epoch</td><td>1</td></tr><tr><td>loss</td><td>0.05923</td></tr></table><br/></div></div>"
     },
     "metadata": {},
     "output_type": "display_data"
    },
    {
     "data": {
      "text/plain": "<IPython.core.display.HTML object>",
      "text/html": " View run <strong style=\"color:#cdcd00\">lively-vortex-4</strong> at: <a href='https://wandb.ai/bep-circle/inr_edu_24/runs/2bnrzu30' target=\"_blank\">https://wandb.ai/bep-circle/inr_edu_24/runs/2bnrzu30</a><br/> View project at: <a href='https://wandb.ai/bep-circle/inr_edu_24' target=\"_blank\">https://wandb.ai/bep-circle/inr_edu_24</a><br/>Synced 5 W&B file(s), 0 media file(s), 2 artifact file(s) and 100 other file(s)"
     },
     "metadata": {},
     "output_type": "display_data"
    },
    {
     "data": {
      "text/plain": "<IPython.core.display.HTML object>",
      "text/html": "Find logs at: <code>./wandb/run-20241009_134001-2bnrzu30/logs</code>"
     },
     "metadata": {},
     "output_type": "display_data"
    }
   ],
   "source": [
    "with wandb.init(\n",
    "    project='inr_edu_24',\n",
    "    notes='test',\n",
    "    tags=['test']\n",
    ") as run:\n",
    "    results = experiment.initialize()"
   ],
   "metadata": {
    "collapsed": false,
    "ExecuteTime": {
     "end_time": "2024-10-09T12:11:29.306659261Z",
     "start_time": "2024-10-09T11:40:01.900788629Z"
    }
   },
   "id": "3ae4fab87ae14701"
  }
 ],
 "metadata": {
  "kernelspec": {
   "display_name": "Python 3",
   "language": "python",
   "name": "python3"
  },
  "language_info": {
   "codemirror_mode": {
    "name": "ipython",
    "version": 2
   },
   "file_extension": ".py",
   "mimetype": "text/x-python",
   "name": "python",
   "nbconvert_exporter": "python",
   "pygments_lexer": "ipython2",
   "version": "2.7.6"
  }
 },
 "nbformat": 4,
 "nbformat_minor": 5
}
