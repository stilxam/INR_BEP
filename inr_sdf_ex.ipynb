{
 "cells": [
  {
   "cell_type": "markdown",
   "metadata": {},
   "source": [
    "# Example of training an INR locally\n",
    "This notebook provides an example of how to create an INR and train it locally using the tools in this repo."
   ]
  },
  {
   "cell_type": "code",
   "execution_count": 10,
   "metadata": {
    "ExecuteTime": {
     "end_time": "2025-01-29T17:38:46.497892957Z",
     "start_time": "2025-01-29T17:38:44.185604013Z"
    }
   },
   "outputs": [],
   "source": [
    "import pdb\n",
    "import traceback\n",
    "\n",
    "import jax\n",
    "from jax import numpy as jnp\n",
    "import optax\n",
    "import wandb\n",
    "\n",
    "from common_dl_utils.config_creation import Config\n",
    "import common_jax_utils as cju\n",
    "\n",
    "wandb.login()\n",
    "\n",
    "key = jax.random.PRNGKey(12398)\n",
    "key_gen = cju.key_generator(key)"
   ]
  },
  {
   "cell_type": "code",
   "execution_count": 1,
   "metadata": {
    "ExecuteTime": {
     "end_time": "2025-01-29T17:38:46.565306650Z",
     "start_time": "2025-01-29T17:38:46.417287541Z"
    }
   },
   "outputs": [],
   "source": []
  },
  {
   "cell_type": "markdown",
   "metadata": {},
   "source": [
    "We want to train a single INR on `example_data/parrot.png`. We'll use the `CombinedINR` clas from `model_components.inr_modules` together with the `SirenLayer` and `GaussianINRLayer` from `model_components.inr_layers` for the model, and we'll train it using the tools from `inr_utils`.\n",
    "\n",
    "To do all of this, basically we only need to create a config. We'll use the `common_dl_utils.config_creation.Config` class for this, but this is basically just a dictionary that allows for attribute access-like acces of its elements (so we can do `config.model_type = \"CombinedINR\"` instead of `config[\"model_type\"] = \"CombinedINR\"`). You can also just use a dictionary instead.\n",
    "\n",
    "Then we'll use the tools from `common_jax_utils` to first get a model from this config so we can inspect it, and then just run the experiment specified by the config.\n",
    "\n",
    "Doing this in a config instead of hard coded might seem like extra work, but consider this:\n",
    "1. you can serialize this config as a json file or a yaml file to later get the same model and experimental settings back \n",
    "   so when you are experimenting with different architectures, if you just store the configs you've used, you can easily recreate previous results\n",
    "2. when we get to running hyper parameter sweeps, you can easily get these configs (with a pick for the varying hyper parameters) from wandb\n",
    "   and then run an experiment specified by that config on any machine you want, e.g. on Snellius"
   ]
  },
  {
   "cell_type": "code",
   "execution_count": 11,
   "metadata": {
    "ExecuteTime": {
     "end_time": "2025-01-29T17:38:46.565639050Z",
     "start_time": "2025-01-29T17:38:46.420337345Z"
    }
   },
   "outputs": [],
   "source": [
    "config = Config()\n",
    "\n",
    "# first we specify what the model should look like\n",
    "config.architecture = './model_components'  # module containing all relevant classes for architectures\n",
    "# NB if the classes relevant for creating the model are spread over multiple modules, this is no problem\n",
    "# let config.architecture be the module that contains the \"main\" model class, and for all other components just specify the module\n",
    "# or specify the other modules as default modules to the tools in common_jax_utils.run_utils\n",
    "config.model_type = 'inr_modules.CombinedINR'\n",
    "\n",
    "config.model_config = Config()\n",
    "config.model_config.in_size = 3\n",
    "config.model_config.out_size = 1\n",
    "config.model_config.terms = [  # CombinedINR uses multiple MLPs and returns the sum of their outputs. These 'terms' are the MLPs\n",
    "    ('inr_modules.MLPINR.from_config',{\n",
    "        'hidden_size': 512,\n",
    "        'num_layers': 3,\n",
    "        'layer_type': 'inr_layers.SirenLayer',\n",
    "        'num_splits': 3,\n",
    "        'activation_kwargs': {'w0':12.},#{'inverse_scale': 5.},\n",
    "        'initialization_scheme':'initialization_schemes.siren_scheme',\n",
    "        'initialization_scheme_kwargs': {'w0': 12.},\n",
    "        'positional_encoding_layer': ('state_test_objects.py', 'CountingIdentity'),\n",
    "        # 'post_processor': 'model_components.auxiliary.squeeze_array',\n",
    "    }),\n",
    "    # ('inr_modules.MLPINR.from_config',{\n",
    "    #     'hidden_size': 1024,\n",
    "    #     'num_layers': 2,\n",
    "    #     'num_splits': 1,\n",
    "    #     'layer_type': 'inr_layers.GaussianINRLayer',\n",
    "    #     'use_complex': False,\n",
    "    #     'activation_kwargs': {'inverse_scale': 1},\n",
    "    # })\n",
    "]\n",
    "\n",
    "# next, we set up the training loop, including the 'target_function' that we want to mimic\n",
    "config.trainer_module = './inr_utils/'  # similarly to config.architecture above, here we just specify in what module to look for objects by default\n",
    "config.trainer_type = 'training.train_with_dataloader_scan'\n",
    "\n",
    "\n",
    "config.dataloader = 'sdf.SDFDataLoader'\n",
    "\n",
    "config.dataloader_config = {\n",
    "    \"sdf_name\": \"Armadillo\",\n",
    "    \"batch_size\": 100,\n",
    "    \"keep_aspect_ratio\":False\n",
    "\n",
    "}\n",
    "\n",
    "config.num_cycles = 20\n",
    "config.steps_per_cycle = 100\n",
    "\n",
    "\n",
    "config.loss_evaluator = \"losses.SDFLossEvaluator\"\n",
    "\n",
    "# config.loss_evaluator_connfig = {\n",
    "\n",
    "\n",
    "# }\n",
    "\n",
    "# })\n",
    "\n",
    "config.target_function = 'sdf.SDFDataLoader' #see when config. losseval\n",
    "config.target_function_config = {\n",
    "    \"sdf_name\": \"Armadillo\",\n",
    "    \"batch_size\": 100,\n",
    "    \"keep_aspect_ratio\":False\n",
    "\n",
    "}\n",
    "\n",
    "config.state_update_function = ('state_test_objects.py', 'counter_updater')\n",
    "# config.sampler = ('sampling.SDFSampler',{  # samples coordinates in a fixed grid, that should in this case coincide with the pixel locations in the image\n",
    "#     # 'sdf_path': \"xyzrgb_statuette\",\n",
    "#     'sdf_name': \"Armadillo\",\n",
    "#     'batch_size': 256,\n",
    "#     'num_dims': 3,\n",
    "#     'keep_aspect_ratio': False,\n",
    "# })\n",
    "\n",
    "config.optimizer = 'adam'  # we'll have to add optax to the additional default modules later\n",
    "config.optimizer_config = {\n",
    "    'learning_rate': 1.5e-4\n",
    "}\n",
    "config.steps = 20000 #changed from 40000\n",
    "config.use_wandb = True\n",
    "\n",
    "# now we want some extra things, like logging, to happen during training\n",
    "# the inr_utils.training.train_inr function allows for this through callbacks.\n",
    "# The callbacks we want to use can be found in inr_utils.callbacks\n",
    "config.after_cycle_callback = 'callbacks.ComposedCallback'\n",
    "config.after_cycle_callback_config = {\n",
    "    'callbacks':[\n",
    "        ('callbacks.print_loss', {'after_every':1}),  # only print the loss every 400th step\n",
    "        'callbacks.report_loss',  # but log the loss to wandb after every step\n",
    "        ('callbacks.MetricCollectingCallback', # this thing will help us collect metrics and log images to wandb\n",
    "             {'metric_collector':'metrics.MetricCollector'}\n",
    "        ),\n",
    "        'callbacks.raise_error_on_nan'  # stop training if the loss becomes NaN\n",
    "    ],\n",
    "    'show_logs': False\n",
    "}\n",
    "\n",
    "config.after_training_callback = ('state_test_objects.py', 'after_training_callback')\n",
    "\n",
    "config.metric_collector_config = {  # the metrics for MetricCollectingCallback / metrics.MetricCollector\n",
    "    'metrics':[\n",
    "        ('metrics.JaccardIndexSDFNumpy', {\n",
    "            'frequency':'every_n_batches',\n",
    "            'grid_resolution': 100,\n",
    "            'num_dims': 3,\n",
    "        }),  \n",
    "\n",
    "    ],\n",
    "    'batch_frequency': 400,  # compute all of these metrics every 400 batches\n",
    "    'epoch_frequency': 1  # not actually used\n",
    "}\n",
    "\n",
    "#config.after_training_callback = None  # don't care for one now, but you could have this e.g. store some nice loss plots if you're not using wandb \n",
    "config.optimizer_state = None  # we're starting from scratch"
   ]
  },
  {
   "cell_type": "code",
   "execution_count": 12,
   "metadata": {
    "ExecuteTime": {
     "end_time": "2025-01-29T17:38:47.782423846Z",
     "start_time": "2025-01-29T17:38:46.433578686Z"
    }
   },
   "outputs": [],
   "source": [
    "# let's first see if we get the correct model\n",
    "try:\n",
    "    inr = cju.run_utils.get_model_from_config_and_key(\n",
    "        prng_key=next(key_gen),\n",
    "        config=config,\n",
    "        model_sub_config_name_base='model',\n",
    "        add_model_module_to_architecture_default_module=False, # since the model is already in the default module specified by 'architecture',\n",
    "    )\n",
    "except Exception as e:\n",
    "    traceback.print_exc()\n",
    "    print(e)\n",
    "    print('\\n')\n",
    "    pdb.post_mortem()"
   ]
  },
  {
   "cell_type": "code",
   "execution_count": 13,
   "metadata": {
    "ExecuteTime": {
     "end_time": "2025-01-29T17:38:47.881656515Z",
     "start_time": "2025-01-29T17:38:47.707380730Z"
    }
   },
   "outputs": [
    {
     "data": {
      "text/plain": [
       "CombinedINR(\n",
       "  terms=(\n",
       "    MLPINR(\n",
       "      layers=(\n",
       "        CountingIdentity(\n",
       "          _embedding_matrix=f32[3],\n",
       "          state_index=StateIndex(\n",
       "            marker=<object object at 0x7f1d3ce11a70>,\n",
       "            init=i32[]\n",
       "          )\n",
       "        ),\n",
       "        SirenLayer(\n",
       "          weights=f32[512,3],\n",
       "          biases=f32[512],\n",
       "          activation_kwargs={'w0': 12.0}\n",
       "        ),\n",
       "        Linear(weights=f32[1,512], biases=f32[1], activation_kwargs={})\n",
       "      )\n",
       "    ),\n",
       "  ),\n",
       "  post_processor=<function real_part>\n",
       ")"
      ]
     },
     "execution_count": 13,
     "metadata": {},
     "output_type": "execute_result"
    }
   ],
   "source": [
    "inr"
   ]
  },
  {
   "cell_type": "code",
   "execution_count": 14,
   "metadata": {
    "ExecuteTime": {
     "end_time": "2025-01-29T17:38:48.007744642Z",
     "start_time": "2025-01-29T17:38:47.711595015Z"
    }
   },
   "outputs": [],
   "source": [
    "# check that it works properly\n",
    "try:\n",
    "    inr(jnp.zeros(3))\n",
    "except Exception as e:\n",
    "    traceback.print_exc()\n",
    "    print(e)\n",
    "    print('\\n')\n",
    "    pdb.post_mortem()"
   ]
  },
  {
   "cell_type": "code",
   "execution_count": 15,
   "metadata": {
    "ExecuteTime": {
     "end_time": "2025-01-29T17:38:48.009680049Z",
     "start_time": "2025-01-29T17:38:47.966825298Z"
    }
   },
   "outputs": [
    {
     "data": {
      "text/plain": [
       "(Array([0.48826963], dtype=float32), None)"
      ]
     },
     "execution_count": 15,
     "metadata": {},
     "output_type": "execute_result"
    }
   ],
   "source": [
    "inr(jnp.zeros(3))\n"
   ]
  },
  {
   "cell_type": "code",
   "execution_count": 6,
   "metadata": {
    "ExecuteTime": {
     "end_time": "2025-01-29T17:38:48.063830422Z",
     "start_time": "2025-01-29T17:38:48.010271004Z"
    }
   },
   "outputs": [],
   "source": []
  },
  {
   "cell_type": "code",
   "execution_count": 16,
   "metadata": {
    "ExecuteTime": {
     "end_time": "2025-01-29T17:38:49.247650742Z",
     "start_time": "2025-01-29T17:38:48.194942849Z"
    }
   },
   "outputs": [],
   "source": [
    "# next we get the experiment from the config using common_jax_utils.run_utils.get_experiment_from_config_and_key\n",
    "experiment = cju.run_utils.get_experiment_from_config_and_key(\n",
    "    prng_key=next(key_gen),\n",
    "    config=config,\n",
    "    model_kwarg_in_trainer='inr',\n",
    "    model_sub_config_name_base='model',  # so it looks for \"model_config\" in config\n",
    "    trainer_default_module_key='trainer_module',  # so it knows to get the module specified by config.trainer_module\n",
    "    additional_trainer_default_modules=[optax],  # remember the don't forget to add optax to the default modules? This is that \n",
    "    add_model_module_to_architecture_default_module=False,\n",
    "    initialize=False  # don't run the experiment yet, we want to use wandb\n",
    ")"
   ]
  },
  {
   "cell_type": "code",
   "execution_count": 17,
   "metadata": {
    "ExecuteTime": {
     "end_time": "2025-01-29T17:38:49.248303431Z",
     "start_time": "2025-01-29T17:38:49.241652462Z"
    }
   },
   "outputs": [
    {
     "data": {
      "text/plain": [
       "PostponedInitialization(cls=train_with_dataloader_scan, kwargs={'loss_evaluator': PostponedInitialization(cls=SDFLossEvaluator, kwargs={'state_update_function': <function counter_updater at 0x7f1d33109750>}, missing_args=[]), 'dataloader': PostponedInitialization(cls=SDFDataLoader, kwargs={'sdf_name': 'Armadillo', 'batch_size': 100, 'keep_aspect_ratio': False, 'key': Array([1722811570, 3826931003], dtype=uint32)}, missing_args=[]), 'optimizer': PostponedInitialization(cls=adam, kwargs={'learning_rate': 0.00015, 'b1': 0.9, 'b2': 0.999, 'eps': 1e-08, 'eps_root': 0.0, 'mu_dtype': None, 'nesterov': False}, missing_args=[]), 'steps_per_cycle': 100, 'num_cycles': 20, 'use_wandb': True, 'after_cycle_callback': PostponedInitialization(cls=ComposedCallback, kwargs={'callbacks': [functools.partial(<function print_loss at 0x7f1d39250310>, after_every=1), <function report_loss at 0x7f1d39253910>, PostponedInitialization(cls=MetricCollectingCallback, kwargs={'metric_collector': PostponedInitialization(cls=MetricCollector, kwargs={'metrics': [PostponedInitialization(cls=JaccardIndexSDFNumpy, kwargs={'grid_resolution': 100, 'num_dims': 3, 'target_function': <class 'inr_utils.sdf.SDFDataLoader'>}, missing_args=[])], 'batch_frequency': 400, 'epoch_frequency': 1}, missing_args=[])}, missing_args=[]), <function raise_error_on_nan at 0x7f1d39253be0>], 'show_logs': False, 'use_wandb': True, 'display_func': <function pprint at 0x7f1f73911900>}, missing_args=[]), 'after_training_callback': <function after_training_callback at 0x7f1d33109b40>, 'optimizer_state': None, 'state_initialization_function': <function initialize_state at 0x7f1d3928c1f0>, 'state': None, 'inr': PostponedInitialization(cls=CombinedINR, kwargs={'terms': [PostponedInitialization(cls=from_config, kwargs={'hidden_size': 512, 'num_layers': 3, 'layer_type': <class 'model_components.inr_layers.SirenLayer'>, 'activation_kwargs': {'w0': 12.0}, 'initialization_scheme': <function siren_scheme at 0x7f1f180a7d90>, 'initialization_scheme_kwargs': {'w0': 12.0}, 'positional_encoding_layer': PostponedInitialization(cls=CountingIdentity, kwargs={}, missing_args=[]), 'num_splits': 3, 'post_processor': None, 'in_size': 3, 'out_size': 1, 'key': Array([3941762975, 2946414623], dtype=uint32)}, missing_args=[])], 'post_processor': <function real_part at 0x7f1f19213d00>}, missing_args=[])}, missing_args=[])"
      ]
     },
     "execution_count": 17,
     "metadata": {},
     "output_type": "execute_result"
    }
   ],
   "source": [
    "experiment"
   ]
  },
  {
   "cell_type": "code",
   "execution_count": 18,
   "metadata": {
    "ExecuteTime": {
     "end_time": "2025-01-29T17:38:58.600014210Z",
     "start_time": "2025-01-29T17:38:49.350288926Z"
    }
   },
   "outputs": [
    {
     "data": {
      "text/html": [
       "Tracking run with wandb version 0.19.4"
      ],
      "text/plain": [
       "<IPython.core.display.HTML object>"
      ]
     },
     "metadata": {},
     "output_type": "display_data"
    },
    {
     "data": {
      "text/html": [
       "Run data is saved locally in <code>/home/ovindar/PycharmProjects/INR_BEP/wandb/run-20250130_113710-tf8ohrwq</code>"
      ],
      "text/plain": [
       "<IPython.core.display.HTML object>"
      ]
     },
     "metadata": {},
     "output_type": "display_data"
    },
    {
     "data": {
      "text/html": [
       "Syncing run <strong><a href='https://wandb.ai/bep-circle/inr_edu_24/runs/tf8ohrwq' target=\"_blank\">bright-firebrand-131</a></strong> to <a href='https://wandb.ai/bep-circle/inr_edu_24' target=\"_blank\">Weights & Biases</a> (<a href='https://wandb.me/developer-guide' target=\"_blank\">docs</a>)<br>"
      ],
      "text/plain": [
       "<IPython.core.display.HTML object>"
      ]
     },
     "metadata": {},
     "output_type": "display_data"
    },
    {
     "data": {
      "text/html": [
       " View project at <a href='https://wandb.ai/bep-circle/inr_edu_24' target=\"_blank\">https://wandb.ai/bep-circle/inr_edu_24</a>"
      ],
      "text/plain": [
       "<IPython.core.display.HTML object>"
      ]
     },
     "metadata": {},
     "output_type": "display_data"
    },
    {
     "data": {
      "text/html": [
       " View run at <a href='https://wandb.ai/bep-circle/inr_edu_24/runs/tf8ohrwq' target=\"_blank\">https://wandb.ai/bep-circle/inr_edu_24/runs/tf8ohrwq</a>"
      ],
      "text/plain": [
       "<IPython.core.display.HTML object>"
      ]
     },
     "metadata": {},
     "output_type": "display_data"
    },
    {
     "name": "stderr",
     "output_type": "stream",
     "text": [
      "Traceback (most recent call last):\n",
      "  File \"/home/ovindar/PycharmProjects/INR_BEP/inr_utils/metrics.py\", line 501, in _evaluate_sdf\n",
      "    values = func(points)\n",
      "TypeError: SDFDataLoader.__init__() missing 3 required positional arguments: 'batch_size', 'keep_aspect_ratio', and 'key'\n",
      "\n",
      "During handling of the above exception, another exception occurred:\n",
      "\n",
      "Traceback (most recent call last):\n",
      "  File \"/tmp/ipykernel_4495/1430037846.py\", line 8, in <module>\n",
      "    results = experiment.initialize()\n",
      "  File \"/home/ovindar/PycharmProjects/INR_BEP/.venv/lib/python3.10/site-packages/common_dl_utils/config_realization.py\", line 182, in initialize\n",
      "    processed_self_kwargs = tree_map(\n",
      "  File \"/home/ovindar/PycharmProjects/INR_BEP/.venv/lib/python3.10/site-packages/common_dl_utils/trees.py\", line 126, in tree_map\n",
      "    {\n",
      "  File \"/home/ovindar/PycharmProjects/INR_BEP/.venv/lib/python3.10/site-packages/common_dl_utils/trees.py\", line 127, in <dictcomp>\n",
      "    key: tree_map(sub_tree, func, is_leaf=is_leaf)\n",
      "  File \"/home/ovindar/PycharmProjects/INR_BEP/.venv/lib/python3.10/site-packages/common_dl_utils/trees.py\", line 116, in tree_map\n",
      "    return func(tree)\n",
      "  File \"/home/ovindar/PycharmProjects/INR_BEP/.venv/lib/python3.10/site-packages/common_dl_utils/config_realization.py\", line 184, in <lambda>\n",
      "    func = lambda x: x.initialize() if isinstance(x, PostponedInitialization) else x,\n",
      "  File \"/home/ovindar/PycharmProjects/INR_BEP/.venv/lib/python3.10/site-packages/common_dl_utils/config_realization.py\", line 182, in initialize\n",
      "    processed_self_kwargs = tree_map(\n",
      "  File \"/home/ovindar/PycharmProjects/INR_BEP/.venv/lib/python3.10/site-packages/common_dl_utils/trees.py\", line 126, in tree_map\n",
      "    {\n",
      "  File \"/home/ovindar/PycharmProjects/INR_BEP/.venv/lib/python3.10/site-packages/common_dl_utils/trees.py\", line 127, in <dictcomp>\n",
      "    key: tree_map(sub_tree, func, is_leaf=is_leaf)\n",
      "  File \"/home/ovindar/PycharmProjects/INR_BEP/.venv/lib/python3.10/site-packages/common_dl_utils/trees.py\", line 132, in tree_map\n",
      "    return type(tree)(tree_map(sub_tree, func, is_leaf=is_leaf) for sub_tree in tree)\n",
      "  File \"/home/ovindar/PycharmProjects/INR_BEP/.venv/lib/python3.10/site-packages/common_dl_utils/trees.py\", line 132, in <genexpr>\n",
      "    return type(tree)(tree_map(sub_tree, func, is_leaf=is_leaf) for sub_tree in tree)\n",
      "  File \"/home/ovindar/PycharmProjects/INR_BEP/.venv/lib/python3.10/site-packages/common_dl_utils/trees.py\", line 116, in tree_map\n",
      "    return func(tree)\n",
      "  File \"/home/ovindar/PycharmProjects/INR_BEP/.venv/lib/python3.10/site-packages/common_dl_utils/config_realization.py\", line 184, in <lambda>\n",
      "    func = lambda x: x.initialize() if isinstance(x, PostponedInitialization) else x,\n",
      "  File \"/home/ovindar/PycharmProjects/INR_BEP/.venv/lib/python3.10/site-packages/common_dl_utils/config_realization.py\", line 182, in initialize\n",
      "    processed_self_kwargs = tree_map(\n",
      "  File \"/home/ovindar/PycharmProjects/INR_BEP/.venv/lib/python3.10/site-packages/common_dl_utils/trees.py\", line 126, in tree_map\n",
      "    {\n",
      "  File \"/home/ovindar/PycharmProjects/INR_BEP/.venv/lib/python3.10/site-packages/common_dl_utils/trees.py\", line 127, in <dictcomp>\n",
      "    key: tree_map(sub_tree, func, is_leaf=is_leaf)\n",
      "  File \"/home/ovindar/PycharmProjects/INR_BEP/.venv/lib/python3.10/site-packages/common_dl_utils/trees.py\", line 116, in tree_map\n",
      "    return func(tree)\n",
      "  File \"/home/ovindar/PycharmProjects/INR_BEP/.venv/lib/python3.10/site-packages/common_dl_utils/config_realization.py\", line 184, in <lambda>\n",
      "    func = lambda x: x.initialize() if isinstance(x, PostponedInitialization) else x,\n",
      "  File \"/home/ovindar/PycharmProjects/INR_BEP/.venv/lib/python3.10/site-packages/common_dl_utils/config_realization.py\", line 182, in initialize\n",
      "    processed_self_kwargs = tree_map(\n",
      "  File \"/home/ovindar/PycharmProjects/INR_BEP/.venv/lib/python3.10/site-packages/common_dl_utils/trees.py\", line 126, in tree_map\n",
      "    {\n",
      "  File \"/home/ovindar/PycharmProjects/INR_BEP/.venv/lib/python3.10/site-packages/common_dl_utils/trees.py\", line 127, in <dictcomp>\n",
      "    key: tree_map(sub_tree, func, is_leaf=is_leaf)\n",
      "  File \"/home/ovindar/PycharmProjects/INR_BEP/.venv/lib/python3.10/site-packages/common_dl_utils/trees.py\", line 132, in tree_map\n",
      "    return type(tree)(tree_map(sub_tree, func, is_leaf=is_leaf) for sub_tree in tree)\n",
      "  File \"/home/ovindar/PycharmProjects/INR_BEP/.venv/lib/python3.10/site-packages/common_dl_utils/trees.py\", line 132, in <genexpr>\n",
      "    return type(tree)(tree_map(sub_tree, func, is_leaf=is_leaf) for sub_tree in tree)\n",
      "  File \"/home/ovindar/PycharmProjects/INR_BEP/.venv/lib/python3.10/site-packages/common_dl_utils/trees.py\", line 116, in tree_map\n",
      "    return func(tree)\n",
      "  File \"/home/ovindar/PycharmProjects/INR_BEP/.venv/lib/python3.10/site-packages/common_dl_utils/config_realization.py\", line 184, in <lambda>\n",
      "    func = lambda x: x.initialize() if isinstance(x, PostponedInitialization) else x,\n",
      "  File \"/home/ovindar/PycharmProjects/INR_BEP/.venv/lib/python3.10/site-packages/common_dl_utils/config_realization.py\", line 195, in initialize\n",
      "    return cls(**processed_self_kwargs)\n",
      "  File \"/home/ovindar/PycharmProjects/INR_BEP/inr_utils/metrics.py\", line 495, in __init__\n",
      "    self.target_inside = self._evaluate_sdf(self.target_function, self.grid_points)\n",
      "  File \"/home/ovindar/PycharmProjects/INR_BEP/inr_utils/metrics.py\", line 509, in _evaluate_sdf\n",
      "    val = func(point)\n",
      "TypeError: SDFDataLoader.__init__() missing 3 required positional arguments: 'batch_size', 'keep_aspect_ratio', and 'key'\n"
     ]
    },
    {
     "data": {
      "text/html": [],
      "text/plain": [
       "<IPython.core.display.HTML object>"
      ]
     },
     "metadata": {},
     "output_type": "display_data"
    },
    {
     "data": {
      "text/html": [
       " View run <strong style=\"color:#cdcd00\">bright-firebrand-131</strong> at: <a href='https://wandb.ai/bep-circle/inr_edu_24/runs/tf8ohrwq' target=\"_blank\">https://wandb.ai/bep-circle/inr_edu_24/runs/tf8ohrwq</a><br> View project at: <a href='https://wandb.ai/bep-circle/inr_edu_24' target=\"_blank\">https://wandb.ai/bep-circle/inr_edu_24</a><br>Synced 5 W&B file(s), 0 media file(s), 0 artifact file(s) and 0 other file(s)"
      ],
      "text/plain": [
       "<IPython.core.display.HTML object>"
      ]
     },
     "metadata": {},
     "output_type": "display_data"
    },
    {
     "data": {
      "text/html": [
       "Find logs at: <code>./wandb/run-20250130_113710-tf8ohrwq/logs</code>"
      ],
      "text/plain": [
       "<IPython.core.display.HTML object>"
      ]
     },
     "metadata": {},
     "output_type": "display_data"
    },
    {
     "name": "stderr",
     "output_type": "stream",
     "text": [
      "Traceback (most recent call last):\n",
      "  File \"/home/ovindar/PycharmProjects/INR_BEP/inr_utils/metrics.py\", line 501, in _evaluate_sdf\n",
      "    values = func(points)\n",
      "TypeError: SDFDataLoader.__init__() missing 3 required positional arguments: 'batch_size', 'keep_aspect_ratio', and 'key'\n",
      "\n",
      "During handling of the above exception, another exception occurred:\n",
      "\n",
      "Traceback (most recent call last):\n",
      "  File \"/tmp/ipykernel_4495/1430037846.py\", line 8, in <module>\n",
      "    results = experiment.initialize()\n",
      "  File \"/home/ovindar/PycharmProjects/INR_BEP/.venv/lib/python3.10/site-packages/common_dl_utils/config_realization.py\", line 182, in initialize\n",
      "    processed_self_kwargs = tree_map(\n",
      "  File \"/home/ovindar/PycharmProjects/INR_BEP/.venv/lib/python3.10/site-packages/common_dl_utils/trees.py\", line 126, in tree_map\n",
      "    {\n",
      "  File \"/home/ovindar/PycharmProjects/INR_BEP/.venv/lib/python3.10/site-packages/common_dl_utils/trees.py\", line 127, in <dictcomp>\n",
      "    key: tree_map(sub_tree, func, is_leaf=is_leaf)\n",
      "  File \"/home/ovindar/PycharmProjects/INR_BEP/.venv/lib/python3.10/site-packages/common_dl_utils/trees.py\", line 116, in tree_map\n",
      "    return func(tree)\n",
      "  File \"/home/ovindar/PycharmProjects/INR_BEP/.venv/lib/python3.10/site-packages/common_dl_utils/config_realization.py\", line 184, in <lambda>\n",
      "    func = lambda x: x.initialize() if isinstance(x, PostponedInitialization) else x,\n",
      "  File \"/home/ovindar/PycharmProjects/INR_BEP/.venv/lib/python3.10/site-packages/common_dl_utils/config_realization.py\", line 182, in initialize\n",
      "    processed_self_kwargs = tree_map(\n",
      "  File \"/home/ovindar/PycharmProjects/INR_BEP/.venv/lib/python3.10/site-packages/common_dl_utils/trees.py\", line 126, in tree_map\n",
      "    {\n",
      "  File \"/home/ovindar/PycharmProjects/INR_BEP/.venv/lib/python3.10/site-packages/common_dl_utils/trees.py\", line 127, in <dictcomp>\n",
      "    key: tree_map(sub_tree, func, is_leaf=is_leaf)\n",
      "  File \"/home/ovindar/PycharmProjects/INR_BEP/.venv/lib/python3.10/site-packages/common_dl_utils/trees.py\", line 132, in tree_map\n",
      "    return type(tree)(tree_map(sub_tree, func, is_leaf=is_leaf) for sub_tree in tree)\n",
      "  File \"/home/ovindar/PycharmProjects/INR_BEP/.venv/lib/python3.10/site-packages/common_dl_utils/trees.py\", line 132, in <genexpr>\n",
      "    return type(tree)(tree_map(sub_tree, func, is_leaf=is_leaf) for sub_tree in tree)\n",
      "  File \"/home/ovindar/PycharmProjects/INR_BEP/.venv/lib/python3.10/site-packages/common_dl_utils/trees.py\", line 116, in tree_map\n",
      "    return func(tree)\n",
      "  File \"/home/ovindar/PycharmProjects/INR_BEP/.venv/lib/python3.10/site-packages/common_dl_utils/config_realization.py\", line 184, in <lambda>\n",
      "    func = lambda x: x.initialize() if isinstance(x, PostponedInitialization) else x,\n",
      "  File \"/home/ovindar/PycharmProjects/INR_BEP/.venv/lib/python3.10/site-packages/common_dl_utils/config_realization.py\", line 182, in initialize\n",
      "    processed_self_kwargs = tree_map(\n",
      "  File \"/home/ovindar/PycharmProjects/INR_BEP/.venv/lib/python3.10/site-packages/common_dl_utils/trees.py\", line 126, in tree_map\n",
      "    {\n",
      "  File \"/home/ovindar/PycharmProjects/INR_BEP/.venv/lib/python3.10/site-packages/common_dl_utils/trees.py\", line 127, in <dictcomp>\n",
      "    key: tree_map(sub_tree, func, is_leaf=is_leaf)\n",
      "  File \"/home/ovindar/PycharmProjects/INR_BEP/.venv/lib/python3.10/site-packages/common_dl_utils/trees.py\", line 116, in tree_map\n",
      "    return func(tree)\n",
      "  File \"/home/ovindar/PycharmProjects/INR_BEP/.venv/lib/python3.10/site-packages/common_dl_utils/config_realization.py\", line 184, in <lambda>\n",
      "    func = lambda x: x.initialize() if isinstance(x, PostponedInitialization) else x,\n",
      "  File \"/home/ovindar/PycharmProjects/INR_BEP/.venv/lib/python3.10/site-packages/common_dl_utils/config_realization.py\", line 182, in initialize\n",
      "    processed_self_kwargs = tree_map(\n",
      "  File \"/home/ovindar/PycharmProjects/INR_BEP/.venv/lib/python3.10/site-packages/common_dl_utils/trees.py\", line 126, in tree_map\n",
      "    {\n",
      "  File \"/home/ovindar/PycharmProjects/INR_BEP/.venv/lib/python3.10/site-packages/common_dl_utils/trees.py\", line 127, in <dictcomp>\n",
      "    key: tree_map(sub_tree, func, is_leaf=is_leaf)\n",
      "  File \"/home/ovindar/PycharmProjects/INR_BEP/.venv/lib/python3.10/site-packages/common_dl_utils/trees.py\", line 132, in tree_map\n",
      "    return type(tree)(tree_map(sub_tree, func, is_leaf=is_leaf) for sub_tree in tree)\n",
      "  File \"/home/ovindar/PycharmProjects/INR_BEP/.venv/lib/python3.10/site-packages/common_dl_utils/trees.py\", line 132, in <genexpr>\n",
      "    return type(tree)(tree_map(sub_tree, func, is_leaf=is_leaf) for sub_tree in tree)\n",
      "  File \"/home/ovindar/PycharmProjects/INR_BEP/.venv/lib/python3.10/site-packages/common_dl_utils/trees.py\", line 116, in tree_map\n",
      "    return func(tree)\n",
      "  File \"/home/ovindar/PycharmProjects/INR_BEP/.venv/lib/python3.10/site-packages/common_dl_utils/config_realization.py\", line 184, in <lambda>\n",
      "    func = lambda x: x.initialize() if isinstance(x, PostponedInitialization) else x,\n",
      "  File \"/home/ovindar/PycharmProjects/INR_BEP/.venv/lib/python3.10/site-packages/common_dl_utils/config_realization.py\", line 195, in initialize\n",
      "    return cls(**processed_self_kwargs)\n",
      "  File \"/home/ovindar/PycharmProjects/INR_BEP/inr_utils/metrics.py\", line 495, in __init__\n",
      "    self.target_inside = self._evaluate_sdf(self.target_function, self.grid_points)\n",
      "  File \"/home/ovindar/PycharmProjects/INR_BEP/inr_utils/metrics.py\", line 509, in _evaluate_sdf\n",
      "    val = func(point)\n",
      "TypeError: SDFDataLoader.__init__() missing 3 required positional arguments: 'batch_size', 'keep_aspect_ratio', and 'key'\n"
     ]
    },
    {
     "name": "stdout",
     "output_type": "stream",
     "text": [
      "SDFDataLoader.__init__() missing 3 required positional arguments: 'batch_size', 'keep_aspect_ratio', and 'key'\n",
      "\n",
      "\n",
      "> \u001b[0;32m/home/ovindar/PycharmProjects/INR_BEP/inr_utils/metrics.py\u001b[0m(509)\u001b[0;36m_evaluate_sdf\u001b[0;34m()\u001b[0m\n",
      "\u001b[0;32m    507 \u001b[0;31m            \u001b[0mvalues\u001b[0m \u001b[0;34m=\u001b[0m \u001b[0;34m[\u001b[0m\u001b[0;34m]\u001b[0m\u001b[0;34m\u001b[0m\u001b[0;34m\u001b[0m\u001b[0m\n",
      "\u001b[0m\u001b[0;32m    508 \u001b[0;31m            \u001b[0;32mfor\u001b[0m \u001b[0mpoint\u001b[0m \u001b[0;32min\u001b[0m \u001b[0mpoints\u001b[0m\u001b[0;34m:\u001b[0m\u001b[0;34m\u001b[0m\u001b[0;34m\u001b[0m\u001b[0m\n",
      "\u001b[0m\u001b[0;32m--> 509 \u001b[0;31m                \u001b[0mval\u001b[0m \u001b[0;34m=\u001b[0m \u001b[0mfunc\u001b[0m\u001b[0;34m(\u001b[0m\u001b[0mpoint\u001b[0m\u001b[0;34m)\u001b[0m\u001b[0;34m\u001b[0m\u001b[0;34m\u001b[0m\u001b[0m\n",
      "\u001b[0m\u001b[0;32m    510 \u001b[0;31m                \u001b[0;32mif\u001b[0m \u001b[0mhasattr\u001b[0m\u001b[0;34m(\u001b[0m\u001b[0mval\u001b[0m\u001b[0;34m,\u001b[0m \u001b[0;34m'numpy'\u001b[0m\u001b[0;34m)\u001b[0m\u001b[0;34m:\u001b[0m  \u001b[0;31m# Handle JAX arrays\u001b[0m\u001b[0;34m\u001b[0m\u001b[0;34m\u001b[0m\u001b[0m\n",
      "\u001b[0m\u001b[0;32m    511 \u001b[0;31m                    \u001b[0mval\u001b[0m \u001b[0;34m=\u001b[0m \u001b[0mnp\u001b[0m\u001b[0;34m.\u001b[0m\u001b[0marray\u001b[0m\u001b[0;34m(\u001b[0m\u001b[0mval\u001b[0m\u001b[0;34m)\u001b[0m\u001b[0;34m\u001b[0m\u001b[0;34m\u001b[0m\u001b[0m\n",
      "\u001b[0m\n"
     ]
    }
   ],
   "source": [
    "# and we run the experiment while logging things to wandb\n",
    "try:\n",
    "    with wandb.init(\n",
    "        project='inr_edu_24',\n",
    "        notes='test',\n",
    "        tags=['test']\n",
    "    ) as run:\n",
    "        results = experiment.initialize()\n",
    "except Exception as e:\n",
    "    traceback.print_exc()\n",
    "    print(e)\n",
    "    print('\\n')\n",
    "    pdb.post_mortem()\n"
   ]
  },
  {
   "cell_type": "code",
   "execution_count": 19,
   "metadata": {
    "ExecuteTime": {
     "end_time": "2025-01-29T14:15:14.261487793Z",
     "start_time": "2025-01-29T14:15:13.857588974Z"
    }
   },
   "outputs": [
    {
     "ename": "NameError",
     "evalue": "name 'results' is not defined",
     "output_type": "error",
     "traceback": [
      "\u001b[0;31m---------------------------------------------------------------------------\u001b[0m",
      "\u001b[0;31mNameError\u001b[0m                                 Traceback (most recent call last)",
      "Cell \u001b[0;32mIn[19], line 1\u001b[0m\n\u001b[0;32m----> 1\u001b[0m inr, losses, optimizer_state, state, loss_evaluator, additional_output \u001b[38;5;241m=\u001b[39m \u001b[43mresults\u001b[49m\n\u001b[1;32m      2\u001b[0m inr\n",
      "\u001b[0;31mNameError\u001b[0m: name 'results' is not defined"
     ]
    }
   ],
   "source": [
    "inr, losses, optimizer_state, state, loss_evaluator, additional_output = results\n",
    "inr"
   ]
  },
  {
   "cell_type": "code",
   "execution_count": null,
   "metadata": {
    "ExecuteTime": {
     "start_time": "2025-01-29T14:15:14.236000228Z"
    }
   },
   "outputs": [],
   "source": [
    "from state_test_objects import after_training_callback, CountingIdentity\n",
    "after_training_callback(losses, inr, state)"
   ]
  },
  {
   "cell_type": "code",
   "execution_count": null,
   "metadata": {
    "ExecuteTime": {
     "start_time": "2025-01-29T14:15:14.238785769Z"
    }
   },
   "outputs": [],
   "source": [
    "inr.terms[0].layers[0]"
   ]
  },
  {
   "cell_type": "code",
   "execution_count": null,
   "metadata": {
    "ExecuteTime": {
     "start_time": "2025-01-29T14:15:14.280221199Z"
    }
   },
   "outputs": [],
   "source": [
    "isinstance(inr.terms[0].layers[0], CountingIdentity)"
   ]
  },
  {
   "cell_type": "code",
   "execution_count": null,
   "metadata": {
    "ExecuteTime": {
     "start_time": "2025-01-29T14:15:14.280361150Z"
    }
   },
   "outputs": [],
   "source": [
    "type(inr.terms[0].layers[0])"
   ]
  },
  {
   "cell_type": "code",
   "execution_count": null,
   "metadata": {
    "ExecuteTime": {
     "end_time": "2025-01-29T14:15:14.331886315Z",
     "start_time": "2025-01-29T14:15:14.280470172Z"
    }
   },
   "outputs": [],
   "source": []
  }
 ],
 "metadata": {
  "kernelspec": {
   "display_name": "inr_edu_24",
   "language": "python",
   "name": "python3"
  },
  "language_info": {
   "codemirror_mode": {
    "name": "ipython",
    "version": 3
   },
   "file_extension": ".py",
   "mimetype": "text/x-python",
   "name": "python",
   "nbconvert_exporter": "python",
   "pygments_lexer": "ipython3",
   "version": "3.10.16"
  }
 },
 "nbformat": 4,
 "nbformat_minor": 2
}
