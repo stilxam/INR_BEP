{
 "cells": [
  {
   "cell_type": "markdown",
   "metadata": {},
   "source": [
    "# Example of training an INR locally\n",
    "This notebook provides an example of how to create an INR and train it locally using the tools in this repo."
   ]
  },
  {
   "cell_type": "code",
   "metadata": {
    "ExecuteTime": {
     "end_time": "2025-02-07T15:59:09.683516Z",
     "start_time": "2025-02-07T15:59:07.549315Z"
    }
   },
   "source": [
    "import pdb\n",
    "import traceback\n",
    "\n",
    "import jax\n",
    "from jax import numpy as jnp\n",
    "import optax\n",
    "import wandb\n",
    "\n",
    "from common_dl_utils.config_creation import Config\n",
    "import common_jax_utils as cju\n",
    "\n",
    "wandb.login()\n",
    "\n",
    "key = jax.random.PRNGKey(12398)\n",
    "key_gen = cju.key_generator(key)"
   ],
   "outputs": [
    {
     "name": "stderr",
     "output_type": "stream",
     "text": [
      "\u001B[34m\u001B[1mwandb\u001B[0m: Currently logged in as: \u001B[33mmaxwell_litsios\u001B[0m (\u001B[33mbep-circle\u001B[0m). Use \u001B[1m`wandb login --relogin`\u001B[0m to force relogin\n"
     ]
    }
   ],
   "execution_count": 2
  },
  {
   "cell_type": "code",
   "metadata": {
    "ExecuteTime": {
     "end_time": "2025-02-07T15:59:09.690329Z",
     "start_time": "2025-02-07T15:59:09.688170Z"
    }
   },
   "source": [],
   "outputs": [],
   "execution_count": null
  },
  {
   "cell_type": "markdown",
   "metadata": {},
   "source": [
    "We want to train a single INR on `example_data/parrot.png`. We'll use the `CombinedINR` clas from `model_components.inr_modules` together with the `SirenLayer` and `GaussianINRLayer` from `model_components.inr_layers` for the model, and we'll train it using the tools from `inr_utils`.\n",
    "\n",
    "To do all of this, basically we only need to create a config. We'll use the `common_dl_utils.config_creation.Config` class for this, but this is basically just a dictionary that allows for attribute access-like acces of its elements (so we can do `config.model_type = \"CombinedINR\"` instead of `config[\"model_type\"] = \"CombinedINR\"`). You can also just use a dictionary instead.\n",
    "\n",
    "Then we'll use the tools from `common_jax_utils` to first get a model from this config so we can inspect it, and then just run the experiment specified by the config.\n",
    "\n",
    "Doing this in a config instead of hard coded might seem like extra work, but consider this:\n",
    "1. you can serialize this config as a json file or a yaml file to later get the same model and experimental settings back \n",
    "   so when you are experimenting with different architectures, if you just store the configs you've used, you can easily recreate previous results\n",
    "2. when we get to running hyper parameter sweeps, you can easily get these configs (with a pick for the varying hyper parameters) from wandb\n",
    "   and then run an experiment specified by that config on any machine you want, e.g. on Snellius"
   ]
  },
  {
   "cell_type": "code",
   "execution_count": 2,
   "metadata": {
    "ExecuteTime": {
     "end_time": "2025-01-30T12:42:10.214921477Z",
     "start_time": "2025-01-30T12:42:10.187940879Z"
    }
   },
   "outputs": [],
   "source": [
    "config = Config()\n",
    "\n",
    "# first we specify what the model should look like\n",
    "config.architecture = './model_components'  # module containing all relevant classes for architectures\n",
    "# NB if the classes relevant for creating the model are spread over multiple modules, this is no problem\n",
    "# let config.architecture be the module that contains the \"main\" model class, and for all other components just specify the module\n",
    "# or specify the other modules as default modules to the tools in common_jax_utils.run_utils\n",
    "config.model_type = 'inr_modules.CombinedINR'\n",
    "\n",
    "config.model_config = Config()\n",
    "config.model_config.in_size = 3\n",
    "config.model_config.out_size = 1\n",
    "config.model_config.terms = [  # CombinedINR uses multiple MLPs and returns the sum of their outputs. These 'terms' are the MLPs\n",
    "    ('inr_modules.MLPINR.from_config',{\n",
    "        'hidden_size': 256,\n",
    "        'num_layers': 5,\n",
    "        'layer_type': 'inr_layers.SirenLayer',\n",
    "        'num_splits': 3,\n",
    "        'activation_kwargs': {'w0':12.},#{'inverse_scale': 5.},\n",
    "        # 'initialization_scheme':'initialization_schemes.siren_scheme',\n",
    "        # 'initialization_scheme_kwargs': {'w0': 25.},\n",
    "        'positional_encoding_layer': ('state_test_objects.py', 'CountingIdentity'),\n",
    "        # 'post_processor': 'model_components.auxiliary.squeeze_array',\n",
    "    }),\n",
    "    # ('inr_modules.MLPINR.from_config',{\n",
    "    #     'hidden_size': 1024,\n",
    "    #     'num_layers': 2,\n",
    "    #     'num_splits': 1,\n",
    "    #     'layer_type': 'inr_layers.GaussianINRLayer',\n",
    "    #     'use_complex': False,\n",
    "    #     'activation_kwargs': {'inverse_scale': 1},\n",
    "    # })\n",
    "]\n",
    "\n",
    "# next, we set up the training loop, including the 'target_function' that we want to mimic\n",
    "config.trainer_module = './inr_utils/'  # similarly to config.architecture above, here we just specify in what module to look for objects by default\n",
    "config.trainer_type = 'training.train_with_dataloader_scan'\n",
    "# config.trainer_type = 'training.train_inr_with_dataloader'\n",
    "\n",
    "\n",
    "config.dataloader = 'sdf.SDFDataLoader'\n",
    "\n",
    "config.dataloader_config = {\n",
    "    \"sdf_name\": \"Armadillo\",\n",
    "    \"batch_size\": 20000,\n",
    "    \"keep_aspect_ratio\":True\n",
    "\n",
    "}\n",
    "\n",
    "config.num_cycles = 40\n",
    "config.steps_per_cycle = 200\n",
    "\n",
    "\n",
    "config.loss_evaluator = \"losses.SDFLossEvaluator\"\n",
    "\n",
    "\n",
    "config.target_function = 'sdf.SDFDataLoader' #see when config. losseval\n",
    "config.target_function_config = {\n",
    "    \"sdf_name\": \"Armadillo\",\n",
    "    \"batch_size\": 10000,\n",
    "    \"keep_aspect_ratio\":True,\n",
    "\n",
    "}\n",
    "\n",
    "config.state_update_function = ('state_test_objects.py', 'counter_updater')\n",
    "\n",
    "config.optimizer = 'training.OptimizerFactory.single_optimizer'#'adamw'  # we'll have to add optax to the additional default modules later\n",
    "config.optimizer_type = 'adamw'\n",
    "config.optimizer_config = {\n",
    "    'learning_rate': 1e-5,#1.5e-4\n",
    "    'weight_decay': 1e-4,\n",
    "}\n",
    "config.optimizer_mask = 'masking.array_mask'\n",
    "config.steps = 1200 #changed from 40000\n",
    "config.use_wandb = True\n",
    "\n",
    "# now we want some extra things, like logging, to happen during training\n",
    "# the inr_utils.training.train_inr function allows for this through callbacks.\n",
    "# The callbacks we want to use can be found in inr_utils.callbacks\n",
    "config.after_cycle_callback = 'callbacks.ComposedCallback'\n",
    "config.after_cycle_callback_config = {\n",
    "    'callbacks':[\n",
    "        ('callbacks.print_loss', {'after_every':1}),  # only print the loss every 400th step\n",
    "        'callbacks.report_loss',  # but log the loss to wandb after every step\n",
    "        ('callbacks.MetricCollectingCallback', # this thing will help us collect metrics and log images to wandb\n",
    "             {'metric_collector':'metrics.MetricCollector'}\n",
    "        ),\n",
    "        'callbacks.raise_error_on_nan'  # stop training if the loss becomes NaN\n",
    "    ],\n",
    "    'show_logs': False\n",
    "}\n",
    "# config.after_step_callback = 'callbacks.ComposedCallback'\n",
    "# config.after_step_callback_config = {\n",
    "#     'callbacks':[\n",
    "#         ('callbacks.print_loss', {'after_every':400}),  # only print the loss every 400th step\n",
    "#         'callbacks.report_loss',  # but log the loss to wandb after every step\n",
    "#         ('callbacks.MetricCollectingCallback', # this thing will help us collect metrics and log images to wandb\n",
    "#              {'metric_collector':'metrics.MetricCollector'}\n",
    "#         ),\n",
    "#         'callbacks.raise_error_on_nan'  # stop training if the loss becomes NaN\n",
    "#     ],\n",
    "#     'show_logs': False\n",
    "# }\n",
    "\n",
    "config.after_training_callback = ('state_test_objects.py', 'after_training_callback')\n",
    "\n",
    "config.metric_collector_config = {  # the metrics for MetricCollectingCallback / metrics.MetricCollector\n",
    "    'metrics':[\n",
    "        ('metrics.JaccardIndexSDF', {\n",
    "            'frequency':'every_n_batches',\n",
    "            'grid_resolution': 100,\n",
    "            'num_dims': 3,\n",
    "            'batch_size': 10000\n",
    "        }),\n",
    "        (\"metrics.SDFReconstructor\",\n",
    "         {\n",
    "            'frequency':'every_n_batches',\n",
    "            'grid_resolution': 100,\n",
    "            'batch_size': 10000,\n",
    "        }),\n",
    "        # todo add view rendering here\n",
    "\n",
    "    ],\n",
    "    'batch_frequency': 4,  # compute all of these metrics every 400 batches\n",
    "    'epoch_frequency': 1  # not actually used\n",
    "}\n",
    "\n",
    "#config.after_training_callback = None  # don't care for one now, but you could have this e.g. store some nice loss plots if you're not using wandb \n",
    "config.optimizer_state = None  # we're starting from scratch"
   ]
  },
  {
   "cell_type": "code",
   "execution_count": 3,
   "metadata": {
    "ExecuteTime": {
     "end_time": "2025-01-30T12:42:11.464582941Z",
     "start_time": "2025-01-30T12:42:10.197258003Z"
    }
   },
   "outputs": [],
   "source": [
    "# let's first see if we get the correct model\n",
    "try:\n",
    "    inr = cju.run_utils.get_model_from_config_and_key(\n",
    "        prng_key=next(key_gen),\n",
    "        config=config,\n",
    "        model_sub_config_name_base='model',\n",
    "        add_model_module_to_architecture_default_module=False, # since the model is already in the default module specified by 'architecture',\n",
    "    )\n",
    "except Exception as e:\n",
    "    traceback.print_exc()\n",
    "    print(e)\n",
    "    print('\\n')\n",
    "    pdb.post_mortem()"
   ]
  },
  {
   "cell_type": "code",
   "execution_count": 4,
   "metadata": {
    "ExecuteTime": {
     "end_time": "2025-01-30T12:42:11.465269211Z",
     "start_time": "2025-01-30T12:42:11.384587169Z"
    }
   },
   "outputs": [
    {
     "data": {
      "text/plain": [
       "CombinedINR(\n",
       "  terms=(\n",
       "    MLPINR(\n",
       "      layers=(\n",
       "        CountingIdentity(\n",
       "          _embedding_matrix=f32[3],\n",
       "          state_index=StateIndex(\n",
       "            marker=<object object at 0x7d935391bdf0>,\n",
       "            init=i32[]\n",
       "          )\n",
       "        ),\n",
       "        SirenLayer(\n",
       "          weights=f32[256,3],\n",
       "          biases=f32[256],\n",
       "          activation_kwargs={'w0': 12.0}\n",
       "        ),\n",
       "        SirenLayer(\n",
       "          weights=f32[256,256],\n",
       "          biases=f32[256],\n",
       "          activation_kwargs={'w0': 12.0}\n",
       "        ),\n",
       "        SirenLayer(\n",
       "          weights=f32[256,256],\n",
       "          biases=f32[256],\n",
       "          activation_kwargs={'w0': 12.0}\n",
       "        ),\n",
       "        Linear(weights=f32[1,256], biases=f32[1], activation_kwargs={})\n",
       "      )\n",
       "    ),\n",
       "  ),\n",
       "  post_processor=<function real_part>\n",
       ")"
      ]
     },
     "execution_count": 4,
     "metadata": {},
     "output_type": "execute_result"
    }
   ],
   "source": [
    "inr"
   ]
  },
  {
   "cell_type": "code",
   "execution_count": 5,
   "metadata": {
    "ExecuteTime": {
     "end_time": "2025-01-30T12:42:11.741031476Z",
     "start_time": "2025-01-30T12:42:11.389193643Z"
    }
   },
   "outputs": [],
   "source": [
    "# check that it works properly\n",
    "try:\n",
    "    inr(jnp.zeros(3))\n",
    "except Exception as e:\n",
    "    traceback.print_exc()\n",
    "    print(e)\n",
    "    print('\\n')\n",
    "    pdb.post_mortem()"
   ]
  },
  {
   "cell_type": "code",
   "execution_count": 6,
   "metadata": {
    "ExecuteTime": {
     "end_time": "2025-01-30T12:42:11.741653457Z",
     "start_time": "2025-01-30T12:42:11.666015300Z"
    }
   },
   "outputs": [
    {
     "data": {
      "text/plain": [
       "(Array([0.99375975], dtype=float32), None)"
      ]
     },
     "execution_count": 6,
     "metadata": {},
     "output_type": "execute_result"
    }
   ],
   "source": [
    "inr(jnp.zeros(3))\n"
   ]
  },
  {
   "cell_type": "code",
   "execution_count": 6,
   "metadata": {
    "ExecuteTime": {
     "end_time": "2025-01-30T12:42:11.741817267Z",
     "start_time": "2025-01-30T12:42:11.708522769Z"
    }
   },
   "outputs": [],
   "source": []
  },
  {
   "cell_type": "code",
   "execution_count": 7,
   "metadata": {
    "ExecuteTime": {
     "end_time": "2025-01-30T12:42:12.580775980Z",
     "start_time": "2025-01-30T12:42:11.713174021Z"
    }
   },
   "outputs": [],
   "source": [
    "# next we get the experiment from the config using common_jax_utils.run_utils.get_experiment_from_config_and_key\n",
    "experiment = cju.run_utils.get_experiment_from_config_and_key(\n",
    "    prng_key=next(key_gen),\n",
    "    config=config,\n",
    "    model_kwarg_in_trainer='inr',\n",
    "    model_sub_config_name_base='model',  # so it looks for \"model_config\" in config\n",
    "    trainer_default_module_key='trainer_module',  # so it knows to get the module specified by config.trainer_module\n",
    "    additional_trainer_default_modules=[optax],  # remember the don't forget to add optax to the default modules? This is that \n",
    "    add_model_module_to_architecture_default_module=False,\n",
    "    initialize=False  # don't run the experiment yet, we want to use wandb\n",
    ")"
   ]
  },
  {
   "cell_type": "code",
   "execution_count": 8,
   "metadata": {
    "ExecuteTime": {
     "end_time": "2025-01-30T12:42:12.585634123Z",
     "start_time": "2025-01-30T12:42:12.581143135Z"
    }
   },
   "outputs": [
    {
     "data": {
      "text/plain": [
       "PostponedInitialization(cls=train_with_dataloader_scan, kwargs={'loss_evaluator': PostponedInitialization(cls=SDFLossEvaluator, kwargs={'state_update_function': <function counter_updater at 0x7d92f1761510>}, missing_args=[]), 'dataloader': PostponedInitialization(cls=SDFDataLoader, kwargs={'sdf_name': 'Armadillo', 'batch_size': 20000, 'keep_aspect_ratio': True, 'key': Array([1786414058, 1458264990], dtype=uint32)}, missing_args=[]), 'optimizer': PostponedInitialization(cls=single_optimizer, kwargs={'optimizer_type': <function adamw at 0x7d935d13e200>, 'optimizer_config': {'learning_rate': 1e-05, 'weight_decay': 0.0001}, 'optimizer_mask': <function array_mask at 0x7d9346b228c0>, 'learning_rate_schedule': None, 'schedule_boundaries': None}, missing_args=[]), 'steps_per_cycle': 200, 'num_cycles': 40, 'use_wandb': True, 'after_cycle_callback': PostponedInitialization(cls=ComposedCallback, kwargs={'callbacks': [functools.partial(<function print_loss at 0x7d92f171b1c0>, after_every=1), <function report_loss at 0x7d92f1736ef0>, PostponedInitialization(cls=MetricCollectingCallback, kwargs={'metric_collector': PostponedInitialization(cls=MetricCollector, kwargs={'metrics': [PostponedInitialization(cls=JaccardIndexSDF, kwargs={'grid_resolution': 100, 'batch_size': 10000, 'num_dims': 3, 'frequency': 'every_n_batches', 'target_function': PostponedInitialization(cls=SDFDataLoader, kwargs={'sdf_name': 'Armadillo', 'batch_size': 10000, 'keep_aspect_ratio': True, 'key': Array([3322333273, 3038886829], dtype=uint32)}, missing_args=[])}, missing_args=[]), PostponedInitialization(cls=SDFReconstructor, kwargs={'grid_resolution': 100, 'batch_size': 10000, 'frequency': 'every_n_batches'}, missing_args=[])], 'batch_frequency': 2, 'epoch_frequency': 1}, missing_args=[])}, missing_args=[]), <function raise_error_on_nan at 0x7d92f17370a0>], 'show_logs': False, 'use_wandb': True, 'display_func': <function pprint at 0x7d938ed0d120>}, missing_args=[]), 'after_training_callback': <function after_training_callback at 0x7d92f17617e0>, 'optimizer_state': None, 'state_initialization_function': <function initialize_state at 0x7d92f17376d0>, 'state': None, 'inr': PostponedInitialization(cls=CombinedINR, kwargs={'terms': [PostponedInitialization(cls=from_config, kwargs={'hidden_size': 256, 'num_layers': 5, 'layer_type': <class 'model_components.inr_layers.SirenLayer'>, 'activation_kwargs': {'w0': 12.0}, 'positional_encoding_layer': PostponedInitialization(cls=CountingIdentity, kwargs={}, missing_args=[]), 'num_splits': 3, 'initialization_scheme': None, 'initialization_scheme_kwargs': None, 'post_processor': None, 'in_size': 3, 'out_size': 1, 'key': Array([4177750840, 1613599438], dtype=uint32)}, missing_args=[])], 'post_processor': <function real_part at 0x7d93810e97e0>}, missing_args=[])}, missing_args=[])"
      ]
     },
     "execution_count": 8,
     "metadata": {},
     "output_type": "execute_result"
    }
   ],
   "source": [
    "experiment"
   ]
  },
  {
   "cell_type": "code",
   "execution_count": 9,
   "metadata": {
    "ExecuteTime": {
     "start_time": "2025-01-30T12:42:12.587342722Z"
    },
    "is_executing": true
   },
   "outputs": [
    {
     "data": {
      "text/html": [
       "Tracking run with wandb version 0.18.1"
      ],
      "text/plain": [
       "<IPython.core.display.HTML object>"
      ]
     },
     "metadata": {},
     "output_type": "display_data"
    },
    {
     "data": {
      "text/html": [
       "Run data is saved locally in <code>/home/simon/Documents/INR_BEP/wandb/run-20250130_180722-gw03sf06</code>"
      ],
      "text/plain": [
       "<IPython.core.display.HTML object>"
      ]
     },
     "metadata": {},
     "output_type": "display_data"
    },
    {
     "data": {
      "text/html": [
       "Syncing run <strong><a href='https://wandb.ai/nld/inr_edu_24/runs/gw03sf06' target=\"_blank\">colorful-eon-229</a></strong> to <a href='https://wandb.ai/nld/inr_edu_24' target=\"_blank\">Weights & Biases</a> (<a href='https://wandb.me/run' target=\"_blank\">docs</a>)<br/>"
      ],
      "text/plain": [
       "<IPython.core.display.HTML object>"
      ]
     },
     "metadata": {},
     "output_type": "display_data"
    },
    {
     "data": {
      "text/html": [
       " View project at <a href='https://wandb.ai/nld/inr_edu_24' target=\"_blank\">https://wandb.ai/nld/inr_edu_24</a>"
      ],
      "text/plain": [
       "<IPython.core.display.HTML object>"
      ]
     },
     "metadata": {},
     "output_type": "display_data"
    },
    {
     "data": {
      "text/html": [
       " View run at <a href='https://wandb.ai/nld/inr_edu_24/runs/gw03sf06' target=\"_blank\">https://wandb.ai/nld/inr_edu_24/runs/gw03sf06</a>"
      ],
      "text/plain": [
       "<IPython.core.display.HTML object>"
      ]
     },
     "metadata": {},
     "output_type": "display_data"
    },
    {
     "name": "stdout",
     "output_type": "stream",
     "text": [
      "Loss at step 1 is 503.4261474609375.\n",
      "Loss at step 2 is 151.2399139404297.\n",
      "Loss at step 3 is 158.7724609375.\n",
      "Loss at step 4 is 153.7262725830078.\n",
      "Loss at step 5 is 148.79888916015625.\n",
      "Loss at step 6 is 154.47230529785156.\n",
      "Loss at step 7 is 140.12860107421875.\n",
      "Loss at step 8 is 144.83226013183594.\n",
      "Loss at step 9 is 142.53469848632812.\n",
      "Loss at step 10 is 142.410400390625.\n",
      "Loss at step 11 is 144.37510681152344.\n",
      "Loss at step 12 is 144.6142120361328.\n",
      "Loss at step 13 is 142.5659942626953.\n",
      "Loss at step 14 is 144.45936584472656.\n",
      "Loss at step 15 is 148.80271911621094.\n",
      "Loss at step 16 is 142.94775390625.\n",
      "Loss at step 17 is 141.3892364501953.\n",
      "Loss at step 18 is 142.63316345214844.\n",
      "Loss at step 19 is 142.49746704101562.\n",
      "Loss at step 20 is 139.62646484375.\n",
      "Loss at step 21 is 136.5791015625.\n",
      "Loss at step 22 is 142.61839294433594.\n",
      "Loss at step 23 is 144.36602783203125.\n",
      "Loss at step 24 is 147.67250061035156.\n",
      "Loss at step 25 is 139.03599548339844.\n",
      "Loss at step 26 is 142.9278106689453.\n",
      "Loss at step 27 is 141.47320556640625.\n",
      "Loss at step 28 is 142.55931091308594.\n",
      "Loss at step 29 is 137.64599609375.\n",
      "Loss at step 30 is 140.3170928955078.\n",
      "Loss at step 31 is 142.35797119140625.\n",
      "Loss at step 32 is 146.64427185058594.\n",
      "Loss at step 33 is 139.32582092285156.\n",
      "Loss at step 34 is 145.40850830078125.\n",
      "Loss at step 35 is 143.9984130859375.\n",
      "Loss at step 36 is 136.34359741210938.\n",
      "Loss at step 37 is 140.08192443847656.\n",
      "Loss at step 38 is 141.01693725585938.\n",
      "Loss at step 39 is 135.44921875.\n",
      "Loss at step 40 is 140.49887084960938.\n",
      "Checking model and state for CountingIdentity layers\n",
      "Found a CountingIdentity layer with counter value 8000 in final state after training.\n"
     ]
    },
    {
     "data": {
      "application/vnd.jupyter.widget-view+json": {
       "model_id": "8fec9c417e764f71869219638ee55264",
       "version_major": 2,
       "version_minor": 0
      },
      "text/plain": [
       "VBox(children=(Label(value='1507.252 MB of 1576.874 MB uploaded\\r'), FloatProgress(value=0.9558483567113274, m…"
      ]
     },
     "metadata": {},
     "output_type": "display_data"
    },
    {
     "data": {
      "text/html": [
       "<style>\n",
       "    table.wandb td:nth-child(1) { padding: 0 10px; text-align: left ; width: auto;} td:nth-child(2) {text-align: left ; width: 100%}\n",
       "    .wandb-row { display: flex; flex-direction: row; flex-wrap: wrap; justify-content: flex-start; width: 100% }\n",
       "    .wandb-col { display: flex; flex-direction: column; flex-basis: 100%; flex: 1; padding: 10px; }\n",
       "    </style>\n",
       "<div class=\"wandb-row\"><div class=\"wandb-col\"><h3>Run history:</h3><br/><table class=\"wandb\"><tr><td>batch_within_epoch</td><td>▁▁▁▂▂▂▂▂▂▃▃▃▃▃▄▄▄▄▄▄▅▅▅▅▅▅▆▆▆▆▆▇▇▇▇▇▇███</td></tr><tr><td>epoch</td><td>▁▁▁▁▁▁▁▁▁▁▁▁▁▁▁▁▁▁▁▁▁▁▁▁▁▁▁▁▁▁▁▁▁▁▁▁▁▁▁▁</td></tr><tr><td>jaccard_index</td><td>▁▁▁▁▁▁▁▁▁▁▁▁▁▁▁▁▁▁▁▁</td></tr><tr><td>loss</td><td>█▁▁▁▁▁▁▁▁▁▁▁▁▁▁▁▁▁▁▁▁▁▁▁▁▁▁▁▁▁▁▁▁▁▁▁▁▁▁▁</td></tr></table><br/></div><div class=\"wandb-col\"><h3>Run summary:</h3><br/><table class=\"wandb\"><tr><td>batch_within_epoch</td><td>40</td></tr><tr><td>epoch</td><td>1</td></tr><tr><td>jaccard_index</td><td>0</td></tr><tr><td>loss</td><td>140.49887</td></tr></table><br/></div></div>"
      ],
      "text/plain": [
       "<IPython.core.display.HTML object>"
      ]
     },
     "metadata": {},
     "output_type": "display_data"
    },
    {
     "data": {
      "text/html": [
       " View run <strong style=\"color:#cdcd00\">colorful-eon-229</strong> at: <a href='https://wandb.ai/nld/inr_edu_24/runs/gw03sf06' target=\"_blank\">https://wandb.ai/nld/inr_edu_24/runs/gw03sf06</a><br/> View project at: <a href='https://wandb.ai/nld/inr_edu_24' target=\"_blank\">https://wandb.ai/nld/inr_edu_24</a><br/>Synced 5 W&B file(s), 0 media file(s), 2 artifact file(s) and 20 other file(s)"
      ],
      "text/plain": [
       "<IPython.core.display.HTML object>"
      ]
     },
     "metadata": {},
     "output_type": "display_data"
    },
    {
     "data": {
      "text/html": [
       "Find logs at: <code>./wandb/run-20250130_180722-gw03sf06/logs</code>"
      ],
      "text/plain": [
       "<IPython.core.display.HTML object>"
      ]
     },
     "metadata": {},
     "output_type": "display_data"
    }
   ],
   "source": [
    "# and we run the experiment while logging things to wandb\n",
    "try:\n",
    "    with wandb.init(\n",
    "        project='inr_edu_24',\n",
    "        notes='test',\n",
    "        tags=['test']\n",
    "    ) as run:\n",
    "        results = experiment.initialize()\n",
    "except Exception as e:\n",
    "    traceback.print_exc()\n",
    "    print(e)\n",
    "    print('\\n')\n",
    "    pdb.post_mortem()\n"
   ]
  },
  {
   "cell_type": "code",
   "execution_count": 10,
   "metadata": {},
   "outputs": [
    {
     "data": {
      "text/plain": [
       "CombinedINR(\n",
       "  terms=(\n",
       "    MLPINR(\n",
       "      layers=(\n",
       "        CountingIdentity(\n",
       "          _embedding_matrix=True,\n",
       "          state_index=StateIndex(\n",
       "            marker=<object object at 0x7d935391bdf0>,\n",
       "            init=True\n",
       "          )\n",
       "        ),\n",
       "        SirenLayer(weights=True, biases=True, activation_kwargs={'w0': False}),\n",
       "        SirenLayer(weights=True, biases=True, activation_kwargs={'w0': False}),\n",
       "        SirenLayer(weights=True, biases=True, activation_kwargs={'w0': False}),\n",
       "        Linear(weights=True, biases=True, activation_kwargs={})\n",
       "      )\n",
       "    ),\n",
       "  ),\n",
       "  post_processor=False\n",
       ")"
      ]
     },
     "execution_count": 10,
     "metadata": {},
     "output_type": "execute_result"
    }
   ],
   "source": [
    "import equinox as eqx\n",
    "from inr_utils.masking import array_mask\n",
    "array_mask(inr)"
   ]
  },
  {
   "cell_type": "code",
   "execution_count": 11,
   "metadata": {},
   "outputs": [
    {
     "name": "stdout",
     "output_type": "stream",
     "text": [
      "leaf=None\n",
      "leaf=Array([0., 0., 0.], dtype=float32)\n",
      "leaf=<function <lambda> at 0x7d938d057130>\n"
     ]
    },
    {
     "data": {
      "text/plain": [
       "[False, True, False]"
      ]
     },
     "execution_count": 11,
     "metadata": {},
     "output_type": "execute_result"
    }
   ],
   "source": [
    "def is_array(leaf):\n",
    "    print(f\"{leaf=}\")\n",
    "    return eqx.is_array(leaf)\n",
    "jax.tree_util.tree_map(is_array, [None, jnp.zeros(3), lambda x: x], is_leaf=lambda x: x is None or eqx.is_array(x))"
   ]
  },
  {
   "cell_type": "code",
   "execution_count": 12,
   "metadata": {},
   "outputs": [
    {
     "name": "stderr",
     "output_type": "stream",
     "text": [
      "/tmp/ipykernel_2601660/2208892696.py:1: DeprecationWarning:\n",
      "\n",
      "jax.tree_flatten is deprecated: use jax.tree.flatten (jax v0.4.25 or newer) or jax.tree_util.tree_flatten (any JAX version).\n",
      "\n"
     ]
    },
    {
     "data": {
      "text/plain": [
       "([Array([0., 0., 0.], dtype=float32)], PyTreeDef([None, *]))"
      ]
     },
     "execution_count": 12,
     "metadata": {},
     "output_type": "execute_result"
    }
   ],
   "source": [
    "jax.tree_flatten([None, jnp.zeros(3)])"
   ]
  },
  {
   "cell_type": "code",
   "execution_count": 13,
   "metadata": {
    "is_executing": true
   },
   "outputs": [
    {
     "data": {
      "text/plain": [
       "CombinedINR(\n",
       "  terms=(\n",
       "    MLPINR(\n",
       "      layers=(\n",
       "        CountingIdentity(\n",
       "          _embedding_matrix=f32[3],\n",
       "          state_index=StateIndex(marker=0, init=_Sentinel())\n",
       "        ),\n",
       "        SirenLayer(\n",
       "          weights=f32[256,3],\n",
       "          biases=f32[256],\n",
       "          activation_kwargs={'w0': 12.0}\n",
       "        ),\n",
       "        SirenLayer(\n",
       "          weights=f32[256,256],\n",
       "          biases=f32[256],\n",
       "          activation_kwargs={'w0': 12.0}\n",
       "        ),\n",
       "        SirenLayer(\n",
       "          weights=f32[256,256],\n",
       "          biases=f32[256],\n",
       "          activation_kwargs={'w0': 12.0}\n",
       "        ),\n",
       "        Linear(weights=f32[1,256], biases=f32[1], activation_kwargs={})\n",
       "      )\n",
       "    ),\n",
       "  ),\n",
       "  post_processor=<function real_part>\n",
       ")"
      ]
     },
     "execution_count": 13,
     "metadata": {},
     "output_type": "execute_result"
    }
   ],
   "source": [
    "inr, losses, optimizer_state, state, loss_evaluator, additional_output = results\n",
    "inr"
   ]
  },
  {
   "cell_type": "code",
   "execution_count": 14,
   "metadata": {
    "is_executing": true
   },
   "outputs": [
    {
     "name": "stdout",
     "output_type": "stream",
     "text": [
      "Checking model and state for CountingIdentity layers\n",
      "Found a CountingIdentity layer with counter value 8000 in final state after training.\n"
     ]
    }
   ],
   "source": [
    "from state_test_objects import after_training_callback, CountingIdentity\n",
    "after_training_callback(losses, inr, state)"
   ]
  },
  {
   "cell_type": "code",
   "execution_count": 15,
   "metadata": {
    "is_executing": true
   },
   "outputs": [
    {
     "data": {
      "text/plain": [
       "Array([[-0.9475113 ,  0.51643044, -0.732251  ],\n",
       "       [-0.03327261, -0.5643355 ,  0.07955802],\n",
       "       [-0.03956697,  0.89269453, -0.5453213 ],\n",
       "       ...,\n",
       "       [ 0.40899348, -0.77576375,  0.21623659],\n",
       "       [ 0.35770416,  0.64567757, -0.31344652],\n",
       "       [-0.03441858, -0.5913744 ,  0.3327012 ]], dtype=float32)"
      ]
     },
     "execution_count": 15,
     "metadata": {},
     "output_type": "execute_result"
    }
   ],
   "source": [
    "from inr_utils.sdf import SDFDataLoader\n",
    "data_loader = SDFDataLoader(**config.dataloader_config, key=jax.random.PRNGKey(0))\n",
    "\n",
    "batch = next(iter(data_loader))\n",
    "batch[0]"
   ]
  },
  {
   "cell_type": "code",
   "execution_count": 16,
   "metadata": {},
   "outputs": [
    {
     "data": {
      "text/plain": [
       "Array(0.99999994, dtype=float32)"
      ]
     },
     "execution_count": 16,
     "metadata": {},
     "output_type": "execute_result"
    }
   ],
   "source": [
    "jax.numpy.linalg.norm(batch[1], axis=-1).min()"
   ]
  },
  {
   "cell_type": "code",
   "execution_count": 17,
   "metadata": {},
   "outputs": [
    {
     "data": {
      "text/plain": [
       "Array(1.7320508, dtype=float32)"
      ]
     },
     "execution_count": 17,
     "metadata": {},
     "output_type": "execute_result"
    }
   ],
   "source": [
    "jax.numpy.linalg.norm(batch[1], axis=-1).max()"
   ]
  },
  {
   "cell_type": "code",
   "execution_count": 18,
   "metadata": {},
   "outputs": [
    {
     "data": {
      "text/plain": [
       "(CudaDevice(id=0), CudaDevice(id=0), CudaDevice(id=0))"
      ]
     },
     "execution_count": 18,
     "metadata": {},
     "output_type": "execute_result"
    }
   ],
   "source": [
    "jax.tree.map(lambda x: x.device, batch)"
   ]
  },
  {
   "cell_type": "code",
   "execution_count": 19,
   "metadata": {},
   "outputs": [
    {
     "data": {
      "text/plain": [
       "(20000, 3)"
      ]
     },
     "execution_count": 19,
     "metadata": {},
     "output_type": "execute_result"
    }
   ],
   "source": [
    "batch[1].shape"
   ]
  },
  {
   "cell_type": "code",
   "execution_count": 20,
   "metadata": {},
   "outputs": [
    {
     "data": {
      "text/plain": [
       "CudaDevice(id=0)"
      ]
     },
     "execution_count": 20,
     "metadata": {},
     "output_type": "execute_result"
    }
   ],
   "source": [
    "def get_default_device():\n",
    "  return jax.config.jax_default_device or jax.local_devices()[0]\n",
    "get_default_device()"
   ]
  },
  {
   "cell_type": "code",
   "execution_count": 21,
   "metadata": {},
   "outputs": [
    {
     "data": {
      "text/plain": [
       "PostponedInitialization(cls=train_with_dataloader_scan, kwargs={'loss_evaluator': PostponedInitialization(cls=SDFLossEvaluator, kwargs={'state_update_function': <function counter_updater at 0x7d92f1761510>}, missing_args=[]), 'dataloader': PostponedInitialization(cls=SDFDataLoader, kwargs={'sdf_name': 'Armadillo', 'batch_size': 20000, 'keep_aspect_ratio': True, 'key': Array([1786414058, 1458264990], dtype=uint32)}, missing_args=[]), 'optimizer': PostponedInitialization(cls=single_optimizer, kwargs={'optimizer_type': <function adamw at 0x7d935d13e200>, 'optimizer_config': {'learning_rate': 1e-05, 'weight_decay': 0.0001}, 'optimizer_mask': <function array_mask at 0x7d9346b228c0>, 'learning_rate_schedule': None, 'schedule_boundaries': None}, missing_args=[]), 'steps_per_cycle': 200, 'num_cycles': 40, 'use_wandb': True, 'after_cycle_callback': PostponedInitialization(cls=ComposedCallback, kwargs={'callbacks': [functools.partial(<function print_loss at 0x7d92f171b1c0>, after_every=1), <function report_loss at 0x7d92f1736ef0>, PostponedInitialization(cls=MetricCollectingCallback, kwargs={'metric_collector': PostponedInitialization(cls=MetricCollector, kwargs={'metrics': [PostponedInitialization(cls=JaccardIndexSDF, kwargs={'grid_resolution': 100, 'batch_size': 10000, 'num_dims': 3, 'frequency': 'every_n_batches', 'target_function': PostponedInitialization(cls=SDFDataLoader, kwargs={'sdf_name': 'Armadillo', 'batch_size': 10000, 'keep_aspect_ratio': True, 'key': Array([3322333273, 3038886829], dtype=uint32)}, missing_args=[])}, missing_args=[]), PostponedInitialization(cls=SDFReconstructor, kwargs={'grid_resolution': 100, 'batch_size': 10000, 'frequency': 'every_n_batches'}, missing_args=[])], 'batch_frequency': 2, 'epoch_frequency': 1}, missing_args=[])}, missing_args=[]), <function raise_error_on_nan at 0x7d92f17370a0>], 'show_logs': False, 'use_wandb': True, 'display_func': <function pprint at 0x7d938ed0d120>}, missing_args=[]), 'after_training_callback': <function after_training_callback at 0x7d92f17617e0>, 'optimizer_state': None, 'state_initialization_function': <function initialize_state at 0x7d92f17376d0>, 'state': None, 'inr': PostponedInitialization(cls=CombinedINR, kwargs={'terms': [PostponedInitialization(cls=from_config, kwargs={'hidden_size': 256, 'num_layers': 5, 'layer_type': <class 'model_components.inr_layers.SirenLayer'>, 'activation_kwargs': {'w0': 12.0}, 'positional_encoding_layer': PostponedInitialization(cls=CountingIdentity, kwargs={}, missing_args=[]), 'num_splits': 3, 'initialization_scheme': None, 'initialization_scheme_kwargs': None, 'post_processor': None, 'in_size': 3, 'out_size': 1, 'key': Array([4177750840, 1613599438], dtype=uint32)}, missing_args=[])], 'post_processor': <function real_part at 0x7d93810e97e0>}, missing_args=[])}, missing_args=[])"
      ]
     },
     "execution_count": 21,
     "metadata": {},
     "output_type": "execute_result"
    }
   ],
   "source": [
    "experiment"
   ]
  },
  {
   "cell_type": "code",
   "execution_count": 22,
   "metadata": {},
   "outputs": [],
   "source": [
    "loss_evaluator = experiment.kwargs['loss_evaluator'].initialize()\n",
    "data_loader = experiment.kwargs['dataloader'].initialize()\n",
    "optimizer = experiment.kwargs['optimizer'].initialize()"
   ]
  },
  {
   "cell_type": "code",
   "execution_count": 23,
   "metadata": {},
   "outputs": [
    {
     "data": {
      "text/plain": [
       "{CudaDevice(id=0)}"
      ]
     },
     "execution_count": 23,
     "metadata": {},
     "output_type": "execute_result"
    }
   ],
   "source": [
    "import inr_utils\n",
    "import equinox as eqx\n",
    "\n",
    "train_step = inr_utils.training.make_sampler_free_train_step(loss_evaluator=loss_evaluator, optimizer=optimizer)\n",
    "\n",
    "set(leaf.device for leaf in jax.tree.leaves(inr) if eqx.is_array(leaf))"
   ]
  },
  {
   "cell_type": "code",
   "execution_count": 24,
   "metadata": {},
   "outputs": [
    {
     "name": "stdout",
     "output_type": "stream",
     "text": [
      "{CudaDevice(id=0)}\n"
     ]
    }
   ],
   "source": [
    "print(set(leaf.device for leaf in jax.tree.leaves(state) if eqx.is_array(leaf)))"
   ]
  },
  {
   "cell_type": "code",
   "execution_count": 25,
   "metadata": {},
   "outputs": [
    {
     "name": "stdout",
     "output_type": "stream",
     "text": [
      "{CudaDevice(id=0)}\n"
     ]
    }
   ],
   "source": [
    "print(set(leaf.device for leaf in jax.tree.leaves(optimizer_state) if eqx.is_array(leaf)))"
   ]
  },
  {
   "cell_type": "code",
   "execution_count": 26,
   "metadata": {},
   "outputs": [],
   "source": [
    "batch = next(iter(data_loader))"
   ]
  },
  {
   "cell_type": "code",
   "execution_count": 27,
   "metadata": {},
   "outputs": [
    {
     "name": "stdout",
     "output_type": "stream",
     "text": [
      "{CudaDevice(id=0)}\n"
     ]
    }
   ],
   "source": [
    "print(set(leaf.device for leaf in jax.tree.leaves(batch) if eqx.is_array(leaf)))"
   ]
  },
  {
   "cell_type": "code",
   "execution_count": 28,
   "metadata": {},
   "outputs": [
    {
     "name": "stderr",
     "output_type": "stream",
     "text": [
      "E0130 18:11:39.454519 2601660 buffer_comparator.cc:157] Difference at 2007: -0.0535316, expected -0.618668\n",
      "E0130 18:11:39.454545 2601660 buffer_comparator.cc:157] Difference at 3466: 3.75414, expected 4.34357\n",
      "E0130 18:11:39.454552 2601660 buffer_comparator.cc:157] Difference at 5808: 1.5179, expected 2.07677\n",
      "E0130 18:11:39.454554 2601660 buffer_comparator.cc:157] Difference at 5875: 0.961105, expected 1.66135\n",
      "E0130 18:11:39.454557 2601660 buffer_comparator.cc:157] Difference at 6446: 5.06743, expected 4.17685\n",
      "E0130 18:11:39.454559 2601660 buffer_comparator.cc:157] Difference at 6663: -0.518723, expected -0.749084\n",
      "E0130 18:11:39.454561 2601660 buffer_comparator.cc:157] Difference at 6794: 1.70668, expected 2.22054\n",
      "E0130 18:11:39.454566 2601660 buffer_comparator.cc:157] Difference at 8168: 1.41833, expected 0.894318\n",
      "E0130 18:11:39.454577 2601660 buffer_comparator.cc:157] Difference at 12705: 1.84048, expected 2.29286\n",
      "E0130 18:11:39.454578 2601660 buffer_comparator.cc:157] Difference at 12720: -0.320306, expected 0.221405\n",
      "2025-01-30 18:11:39.454583: E external/xla/xla/service/gpu/autotuning/gemm_fusion_autotuner.cc:982] Results do not match the reference. This is likely a bug/unexpected loss of precision.\n",
      "E0130 18:11:39.456878 2601660 buffer_comparator.cc:157] Difference at 2007: -0.0535316, expected -0.618668\n",
      "E0130 18:11:39.456892 2601660 buffer_comparator.cc:157] Difference at 3466: 3.75414, expected 4.34357\n",
      "E0130 18:11:39.456899 2601660 buffer_comparator.cc:157] Difference at 5808: 1.5179, expected 2.07677\n",
      "E0130 18:11:39.456901 2601660 buffer_comparator.cc:157] Difference at 5875: 0.961105, expected 1.66135\n",
      "E0130 18:11:39.456904 2601660 buffer_comparator.cc:157] Difference at 6446: 5.06743, expected 4.17685\n",
      "E0130 18:11:39.456906 2601660 buffer_comparator.cc:157] Difference at 6663: -0.518723, expected -0.749084\n",
      "E0130 18:11:39.456908 2601660 buffer_comparator.cc:157] Difference at 6794: 1.70668, expected 2.22054\n",
      "E0130 18:11:39.456913 2601660 buffer_comparator.cc:157] Difference at 8168: 1.41833, expected 0.894318\n",
      "E0130 18:11:39.456924 2601660 buffer_comparator.cc:157] Difference at 12705: 1.84048, expected 2.29286\n",
      "E0130 18:11:39.456926 2601660 buffer_comparator.cc:157] Difference at 12720: -0.320306, expected 0.221405\n",
      "2025-01-30 18:11:39.456930: E external/xla/xla/service/gpu/autotuning/gemm_fusion_autotuner.cc:982] Results do not match the reference. This is likely a bug/unexpected loss of precision.\n",
      "E0130 18:11:39.458763 2601660 buffer_comparator.cc:157] Difference at 2007: -0.0522842, expected -0.618668\n",
      "E0130 18:11:39.458777 2601660 buffer_comparator.cc:157] Difference at 3466: 3.76985, expected 4.34357\n",
      "E0130 18:11:39.458784 2601660 buffer_comparator.cc:157] Difference at 5808: 1.5155, expected 2.07677\n",
      "E0130 18:11:39.458786 2601660 buffer_comparator.cc:157] Difference at 5875: 0.972187, expected 1.66135\n",
      "E0130 18:11:39.458788 2601660 buffer_comparator.cc:157] Difference at 6446: 5.07782, expected 4.17685\n",
      "E0130 18:11:39.458791 2601660 buffer_comparator.cc:157] Difference at 6663: -0.509399, expected -0.749084\n",
      "E0130 18:11:39.458793 2601660 buffer_comparator.cc:157] Difference at 6794: 1.74046, expected 2.22054\n",
      "E0130 18:11:39.458797 2601660 buffer_comparator.cc:157] Difference at 8168: 1.42235, expected 0.894318\n",
      "E0130 18:11:39.458808 2601660 buffer_comparator.cc:157] Difference at 12705: 1.83153, expected 2.29286\n",
      "E0130 18:11:39.458810 2601660 buffer_comparator.cc:157] Difference at 12720: -0.329475, expected 0.221405\n",
      "2025-01-30 18:11:39.458813: E external/xla/xla/service/gpu/autotuning/gemm_fusion_autotuner.cc:982] Results do not match the reference. This is likely a bug/unexpected loss of precision.\n",
      "E0130 18:11:39.460278 2601660 buffer_comparator.cc:157] Difference at 2007: -0.052887, expected -0.618668\n",
      "E0130 18:11:39.460291 2601660 buffer_comparator.cc:157] Difference at 3466: 3.76767, expected 4.34357\n",
      "E0130 18:11:39.460298 2601660 buffer_comparator.cc:157] Difference at 5808: 1.51242, expected 2.07677\n",
      "E0130 18:11:39.460300 2601660 buffer_comparator.cc:157] Difference at 5875: 0.969238, expected 1.66135\n",
      "E0130 18:11:39.460303 2601660 buffer_comparator.cc:157] Difference at 6446: 5.07597, expected 4.17685\n",
      "E0130 18:11:39.460305 2601660 buffer_comparator.cc:157] Difference at 6663: -0.511147, expected -0.749084\n",
      "E0130 18:11:39.460307 2601660 buffer_comparator.cc:157] Difference at 6794: 1.73555, expected 2.22054\n",
      "E0130 18:11:39.460311 2601660 buffer_comparator.cc:157] Difference at 8168: 1.42212, expected 0.894318\n",
      "E0130 18:11:39.460324 2601660 buffer_comparator.cc:157] Difference at 12705: 1.83311, expected 2.29286\n",
      "E0130 18:11:39.460326 2601660 buffer_comparator.cc:157] Difference at 12720: -0.330162, expected 0.221405\n",
      "2025-01-30 18:11:39.460329: E external/xla/xla/service/gpu/autotuning/gemm_fusion_autotuner.cc:982] Results do not match the reference. This is likely a bug/unexpected loss of precision.\n",
      "E0130 18:11:39.464901 2601660 buffer_comparator.cc:157] Difference at 2007: -0.0535316, expected -0.618668\n",
      "E0130 18:11:39.464935 2601660 buffer_comparator.cc:157] Difference at 3466: 3.75414, expected 4.34357\n",
      "E0130 18:11:39.464944 2601660 buffer_comparator.cc:157] Difference at 5808: 1.5179, expected 2.07677\n",
      "E0130 18:11:39.464946 2601660 buffer_comparator.cc:157] Difference at 5875: 0.961105, expected 1.66135\n",
      "E0130 18:11:39.464948 2601660 buffer_comparator.cc:157] Difference at 6446: 5.06743, expected 4.17685\n",
      "E0130 18:11:39.464951 2601660 buffer_comparator.cc:157] Difference at 6663: -0.518723, expected -0.749084\n",
      "E0130 18:11:39.464953 2601660 buffer_comparator.cc:157] Difference at 6794: 1.70668, expected 2.22054\n",
      "E0130 18:11:39.464957 2601660 buffer_comparator.cc:157] Difference at 8168: 1.41833, expected 0.894318\n",
      "E0130 18:11:39.464968 2601660 buffer_comparator.cc:157] Difference at 12705: 1.84048, expected 2.29286\n",
      "E0130 18:11:39.464970 2601660 buffer_comparator.cc:157] Difference at 12720: -0.320306, expected 0.221405\n",
      "2025-01-30 18:11:39.464973: E external/xla/xla/service/gpu/autotuning/gemm_fusion_autotuner.cc:982] Results do not match the reference. This is likely a bug/unexpected loss of precision.\n",
      "E0130 18:11:39.466105 2601660 buffer_comparator.cc:157] Difference at 2007: -0.0522842, expected -0.618668\n",
      "E0130 18:11:39.466121 2601660 buffer_comparator.cc:157] Difference at 3466: 3.76985, expected 4.34357\n",
      "E0130 18:11:39.466131 2601660 buffer_comparator.cc:157] Difference at 5808: 1.5155, expected 2.07677\n",
      "E0130 18:11:39.466134 2601660 buffer_comparator.cc:157] Difference at 5875: 0.972187, expected 1.66135\n",
      "E0130 18:11:39.466138 2601660 buffer_comparator.cc:157] Difference at 6446: 5.07782, expected 4.17685\n",
      "E0130 18:11:39.466141 2601660 buffer_comparator.cc:157] Difference at 6663: -0.509399, expected -0.749084\n",
      "E0130 18:11:39.466144 2601660 buffer_comparator.cc:157] Difference at 6794: 1.74046, expected 2.22054\n",
      "E0130 18:11:39.466150 2601660 buffer_comparator.cc:157] Difference at 8168: 1.42235, expected 0.894318\n",
      "E0130 18:11:39.466167 2601660 buffer_comparator.cc:157] Difference at 12705: 1.83153, expected 2.29286\n",
      "E0130 18:11:39.466170 2601660 buffer_comparator.cc:157] Difference at 12720: -0.329475, expected 0.221405\n",
      "2025-01-30 18:11:39.466174: E external/xla/xla/service/gpu/autotuning/gemm_fusion_autotuner.cc:982] Results do not match the reference. This is likely a bug/unexpected loss of precision.\n",
      "E0130 18:11:39.468087 2601660 buffer_comparator.cc:157] Difference at 2007: -0.0535316, expected -0.618668\n",
      "E0130 18:11:39.468100 2601660 buffer_comparator.cc:157] Difference at 3466: 3.75414, expected 4.34357\n",
      "E0130 18:11:39.468111 2601660 buffer_comparator.cc:157] Difference at 5808: 1.5179, expected 2.07677\n",
      "E0130 18:11:39.468113 2601660 buffer_comparator.cc:157] Difference at 5875: 0.961105, expected 1.66135\n",
      "E0130 18:11:39.468118 2601660 buffer_comparator.cc:157] Difference at 6446: 5.06743, expected 4.17685\n",
      "E0130 18:11:39.468121 2601660 buffer_comparator.cc:157] Difference at 6663: -0.518723, expected -0.749084\n",
      "E0130 18:11:39.468123 2601660 buffer_comparator.cc:157] Difference at 6794: 1.70668, expected 2.22054\n",
      "E0130 18:11:39.468130 2601660 buffer_comparator.cc:157] Difference at 8168: 1.41833, expected 0.894318\n",
      "E0130 18:11:39.468148 2601660 buffer_comparator.cc:157] Difference at 12705: 1.84048, expected 2.29286\n",
      "E0130 18:11:39.468151 2601660 buffer_comparator.cc:157] Difference at 12720: -0.320306, expected 0.221405\n",
      "2025-01-30 18:11:39.468155: E external/xla/xla/service/gpu/autotuning/gemm_fusion_autotuner.cc:982] Results do not match the reference. This is likely a bug/unexpected loss of precision.\n",
      "E0130 18:11:39.470478 2601660 buffer_comparator.cc:157] Difference at 2007: -0.0535316, expected -0.618668\n",
      "E0130 18:11:39.470490 2601660 buffer_comparator.cc:157] Difference at 3466: 3.75414, expected 4.34357\n",
      "E0130 18:11:39.470496 2601660 buffer_comparator.cc:157] Difference at 5808: 1.5179, expected 2.07677\n",
      "E0130 18:11:39.470498 2601660 buffer_comparator.cc:157] Difference at 5875: 0.961105, expected 1.66135\n",
      "E0130 18:11:39.470501 2601660 buffer_comparator.cc:157] Difference at 6446: 5.06743, expected 4.17685\n",
      "E0130 18:11:39.470503 2601660 buffer_comparator.cc:157] Difference at 6663: -0.518723, expected -0.749084\n",
      "E0130 18:11:39.470505 2601660 buffer_comparator.cc:157] Difference at 6794: 1.70668, expected 2.22054\n",
      "E0130 18:11:39.470510 2601660 buffer_comparator.cc:157] Difference at 8168: 1.41833, expected 0.894318\n",
      "E0130 18:11:39.470521 2601660 buffer_comparator.cc:157] Difference at 12705: 1.84048, expected 2.29286\n",
      "E0130 18:11:39.470523 2601660 buffer_comparator.cc:157] Difference at 12720: -0.320306, expected 0.221405\n",
      "2025-01-30 18:11:39.470526: E external/xla/xla/service/gpu/autotuning/gemm_fusion_autotuner.cc:982] Results do not match the reference. This is likely a bug/unexpected loss of precision.\n",
      "E0130 18:11:39.473911 2601660 buffer_comparator.cc:157] Difference at 2007: -0.0535316, expected -0.618668\n",
      "E0130 18:11:39.473922 2601660 buffer_comparator.cc:157] Difference at 3466: 3.75414, expected 4.34357\n",
      "E0130 18:11:39.473930 2601660 buffer_comparator.cc:157] Difference at 5808: 1.5179, expected 2.07677\n",
      "E0130 18:11:39.473932 2601660 buffer_comparator.cc:157] Difference at 5875: 0.961105, expected 1.66135\n",
      "E0130 18:11:39.473934 2601660 buffer_comparator.cc:157] Difference at 6446: 5.06743, expected 4.17685\n",
      "E0130 18:11:39.473936 2601660 buffer_comparator.cc:157] Difference at 6663: -0.518723, expected -0.749084\n",
      "E0130 18:11:39.473938 2601660 buffer_comparator.cc:157] Difference at 6794: 1.70668, expected 2.22054\n",
      "E0130 18:11:39.473943 2601660 buffer_comparator.cc:157] Difference at 8168: 1.41833, expected 0.894318\n",
      "E0130 18:11:39.473954 2601660 buffer_comparator.cc:157] Difference at 12705: 1.84048, expected 2.29286\n",
      "E0130 18:11:39.473956 2601660 buffer_comparator.cc:157] Difference at 12720: -0.320306, expected 0.221405\n",
      "2025-01-30 18:11:39.473959: E external/xla/xla/service/gpu/autotuning/gemm_fusion_autotuner.cc:982] Results do not match the reference. This is likely a bug/unexpected loss of precision.\n",
      "E0130 18:11:39.479173 2601660 buffer_comparator.cc:157] Difference at 2007: -0.0535316, expected -0.618668\n",
      "E0130 18:11:39.479185 2601660 buffer_comparator.cc:157] Difference at 3466: 3.75414, expected 4.34357\n",
      "E0130 18:11:39.479192 2601660 buffer_comparator.cc:157] Difference at 5808: 1.5179, expected 2.07677\n",
      "E0130 18:11:39.479194 2601660 buffer_comparator.cc:157] Difference at 5875: 0.961105, expected 1.66135\n",
      "E0130 18:11:39.479197 2601660 buffer_comparator.cc:157] Difference at 6446: 5.06743, expected 4.17685\n",
      "E0130 18:11:39.479199 2601660 buffer_comparator.cc:157] Difference at 6663: -0.518723, expected -0.749084\n",
      "E0130 18:11:39.479201 2601660 buffer_comparator.cc:157] Difference at 6794: 1.70668, expected 2.22054\n",
      "E0130 18:11:39.479205 2601660 buffer_comparator.cc:157] Difference at 8168: 1.41833, expected 0.894318\n",
      "E0130 18:11:39.479216 2601660 buffer_comparator.cc:157] Difference at 12705: 1.84048, expected 2.29286\n",
      "E0130 18:11:39.479218 2601660 buffer_comparator.cc:157] Difference at 12720: -0.320306, expected 0.221405\n",
      "2025-01-30 18:11:39.479221: E external/xla/xla/service/gpu/autotuning/gemm_fusion_autotuner.cc:982] Results do not match the reference. This is likely a bug/unexpected loss of precision.\n",
      "E0130 18:11:39.482203 2601660 buffer_comparator.cc:157] Difference at 2007: -0.0535316, expected -0.618668\n",
      "E0130 18:11:39.482215 2601660 buffer_comparator.cc:157] Difference at 3466: 3.75414, expected 4.34357\n",
      "E0130 18:11:39.482222 2601660 buffer_comparator.cc:157] Difference at 5808: 1.5179, expected 2.07677\n",
      "E0130 18:11:39.482224 2601660 buffer_comparator.cc:157] Difference at 5875: 0.961105, expected 1.66135\n",
      "E0130 18:11:39.482227 2601660 buffer_comparator.cc:157] Difference at 6446: 5.06743, expected 4.17685\n",
      "E0130 18:11:39.482229 2601660 buffer_comparator.cc:157] Difference at 6663: -0.518723, expected -0.749084\n",
      "E0130 18:11:39.482231 2601660 buffer_comparator.cc:157] Difference at 6794: 1.70668, expected 2.22054\n",
      "E0130 18:11:39.482235 2601660 buffer_comparator.cc:157] Difference at 8168: 1.41833, expected 0.894318\n",
      "E0130 18:11:39.482246 2601660 buffer_comparator.cc:157] Difference at 12705: 1.84048, expected 2.29286\n",
      "E0130 18:11:39.482249 2601660 buffer_comparator.cc:157] Difference at 12720: -0.320306, expected 0.221405\n",
      "2025-01-30 18:11:39.482251: E external/xla/xla/service/gpu/autotuning/gemm_fusion_autotuner.cc:982] Results do not match the reference. This is likely a bug/unexpected loss of precision.\n",
      "E0130 18:11:39.485759 2601660 buffer_comparator.cc:157] Difference at 2007: -0.0535316, expected -0.618668\n",
      "E0130 18:11:39.485770 2601660 buffer_comparator.cc:157] Difference at 3466: 3.75414, expected 4.34357\n",
      "E0130 18:11:39.485776 2601660 buffer_comparator.cc:157] Difference at 5808: 1.5179, expected 2.07677\n",
      "E0130 18:11:39.485778 2601660 buffer_comparator.cc:157] Difference at 5875: 0.961105, expected 1.66135\n",
      "E0130 18:11:39.485781 2601660 buffer_comparator.cc:157] Difference at 6446: 5.06743, expected 4.17685\n",
      "E0130 18:11:39.485783 2601660 buffer_comparator.cc:157] Difference at 6663: -0.518723, expected -0.749084\n",
      "E0130 18:11:39.485785 2601660 buffer_comparator.cc:157] Difference at 6794: 1.70668, expected 2.22054\n",
      "E0130 18:11:39.485789 2601660 buffer_comparator.cc:157] Difference at 8168: 1.41833, expected 0.894318\n",
      "E0130 18:11:39.485800 2601660 buffer_comparator.cc:157] Difference at 12705: 1.84048, expected 2.29286\n",
      "E0130 18:11:39.485803 2601660 buffer_comparator.cc:157] Difference at 12720: -0.320306, expected 0.221405\n",
      "2025-01-30 18:11:39.485805: E external/xla/xla/service/gpu/autotuning/gemm_fusion_autotuner.cc:982] Results do not match the reference. This is likely a bug/unexpected loss of precision.\n",
      "E0130 18:11:39.489212 2601660 buffer_comparator.cc:157] Difference at 2007: -0.0527763, expected -0.618668\n",
      "E0130 18:11:39.489223 2601660 buffer_comparator.cc:157] Difference at 3466: 3.76367, expected 4.34357\n",
      "E0130 18:11:39.489230 2601660 buffer_comparator.cc:157] Difference at 5808: 1.51389, expected 2.07677\n",
      "E0130 18:11:39.489231 2601660 buffer_comparator.cc:157] Difference at 5875: 0.964783, expected 1.66135\n",
      "E0130 18:11:39.489234 2601660 buffer_comparator.cc:157] Difference at 6446: 5.07288, expected 4.17685\n",
      "E0130 18:11:39.489236 2601660 buffer_comparator.cc:157] Difference at 6663: -0.513474, expected -0.749084\n",
      "E0130 18:11:39.489238 2601660 buffer_comparator.cc:157] Difference at 6794: 1.72568, expected 2.22054\n",
      "E0130 18:11:39.489243 2601660 buffer_comparator.cc:157] Difference at 8168: 1.42047, expected 0.894318\n",
      "E0130 18:11:39.489254 2601660 buffer_comparator.cc:157] Difference at 12705: 1.83643, expected 2.29286\n",
      "E0130 18:11:39.489256 2601660 buffer_comparator.cc:157] Difference at 12720: -0.327911, expected 0.221405\n",
      "2025-01-30 18:11:39.489259: E external/xla/xla/service/gpu/autotuning/gemm_fusion_autotuner.cc:982] Results do not match the reference. This is likely a bug/unexpected loss of precision.\n"
     ]
    }
   ],
   "source": [
    "out = train_step(inr, batch, optimizer_state, state)"
   ]
  },
  {
   "cell_type": "code",
   "execution_count": 29,
   "metadata": {},
   "outputs": [
    {
     "name": "stdout",
     "output_type": "stream",
     "text": [
      "{CudaDevice(id=0)}\n"
     ]
    }
   ],
   "source": [
    "print(set(leaf.device for leaf in jax.tree.leaves(out) if eqx.is_array(leaf)))"
   ]
  },
  {
   "cell_type": "code",
   "execution_count": 30,
   "metadata": {},
   "outputs": [
    {
     "name": "stdout",
     "output_type": "stream",
     "text": [
      "13.7 ms ± 115 μs per loop (mean ± std. dev. of 7 runs, 100 loops each)\n"
     ]
    }
   ],
   "source": [
    "%%timeit\n",
    "# this does run on the gpu\n",
    "out = train_step(inr, batch, optimizer_state, state)\n",
    "jax.block_until_ready(out)"
   ]
  },
  {
   "cell_type": "code",
   "execution_count": 31,
   "metadata": {},
   "outputs": [],
   "source": [
    "data_iter = iter(data_loader)"
   ]
  },
  {
   "cell_type": "code",
   "execution_count": 32,
   "metadata": {},
   "outputs": [
    {
     "name": "stdout",
     "output_type": "stream",
     "text": [
      "750 μs ± 7.65 μs per loop (mean ± std. dev. of 7 runs, 1,000 loops each)\n"
     ]
    }
   ],
   "source": [
    "%%timeit\n",
    "next(data_iter)"
   ]
  },
  {
   "cell_type": "code",
   "execution_count": null,
   "metadata": {},
   "outputs": [],
   "source": []
  }
 ],
 "metadata": {
  "kernelspec": {
   "display_name": "inr_edu_24",
   "language": "python",
   "name": "python3"
  },
  "language_info": {
   "codemirror_mode": {
    "name": "ipython",
    "version": 3
   },
   "file_extension": ".py",
   "mimetype": "text/x-python",
   "name": "python",
   "nbconvert_exporter": "python",
   "pygments_lexer": "ipython3",
   "version": "3.10.14"
  }
 },
 "nbformat": 4,
 "nbformat_minor": 2
}
