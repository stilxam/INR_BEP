{
 "cells": [
  {
   "cell_type": "markdown",
   "metadata": {},
   "source": [
    "# Example of training an INR locally\n",
    "This notebook provides an example of how to create an INR and train it locally using the tools in this repo."
   ]
  },
  {
   "cell_type": "code",
   "metadata": {
    "ExecuteTime": {
     "end_time": "2025-02-12T10:26:49.845231Z",
     "start_time": "2025-02-12T10:26:46.746146Z"
    }
   },
   "source": [
    "import pdb\n",
    "import traceback\n",
    "\n",
    "import jax\n",
    "import optax\n",
    "import wandb\n",
    "\n",
    "from common_dl_utils.config_creation import Config\n",
    "import common_jax_utils as cju\n",
    "\n",
    "wandb.login()\n",
    "\n",
    "key = jax.random.PRNGKey(12398)\n",
    "key_gen = cju.key_generator(key)"
   ],
   "outputs": [
    {
     "name": "stderr",
     "output_type": "stream",
     "text": [
      "\u001B[34m\u001B[1mwandb\u001B[0m: Currently logged in as: \u001B[33mmaxwell_litsios\u001B[0m (\u001B[33mINR_NTK\u001B[0m). Use \u001B[1m`wandb login --relogin`\u001B[0m to force relogin\n"
     ]
    }
   ],
   "execution_count": 1
  },
  {
   "cell_type": "markdown",
   "metadata": {},
   "source": [
    "# Note\n",
    "It seems to work, but we might want to implement gradient accumulation into the training loop so we can use larger batch sizes.\n",
    "\n",
    "Also, it would be good to implement metrics."
   ]
  },
  {
   "cell_type": "markdown",
   "metadata": {},
   "source": [
    "We want to train a single INR on `example_data/parrot.png`. We'll use the `CombinedINR` clas from `model_components.inr_modules` together with the `SirenLayer` and `GaussianINRLayer` from `model_components.inr_layers` for the model, and we'll train it using the tools from `inr_utils`.\n",
    "\n",
    "To do all of this, basically we only need to create a config. We'll use the `common_dl_utils.config_creation.Config` class for this, but this is basically just a dictionary that allows for attribute access-like acces of its elements (so we can do `config.model_type = \"CombinedINR\"` instead of `config[\"model_type\"] = \"CombinedINR\"`). You can also just use a dictionary instead.\n",
    "\n",
    "Then we'll use the tools from `common_jax_utils` to first get a model from this config so we can inspect it, and then just run the experiment specified by the config.\n",
    "\n",
    "Doing this in a config instead of hard coded might seem like extra work, but consider this:\n",
    "1. you can serialize this config as a json file or a yaml file to later get the same model and experimental settings back \n",
    "   so when you are experimenting with different architectures, if you just store the configs you've used, you can easily recreate previous results\n",
    "2. when we get to running hyper parameter sweeps, you can easily get these configs (with a pick for the varying hyper parameters) from wandb\n",
    "   and then run an experiment specified by that config on any machine you want, e.g. on Snellius"
   ]
  },
  {
   "cell_type": "code",
   "metadata": {
    "ExecuteTime": {
     "end_time": "2025-02-12T10:26:49.989956Z",
     "start_time": "2025-02-12T10:26:49.980601Z"
    }
   },
   "source": [
    "config = Config()\n",
    "\n",
    "# first we specify what the model should look like\n",
    "config.architecture = './model_components'  # module containing all relevant classes for architectures\n",
    "# NB if the classes relevant for creating the model are spread over multiple modules, this is no problem\n",
    "# let config.architecture be the module that contains the \"main\" model class, and for all other components just specify the module\n",
    "# or specify the other modules as default modules to the tools in common_jax_utils.run_utils\n",
    "config.model_type = 'inr_modules.NeRF.from_config'\n",
    "\n",
    "config.model_config = dict(\n",
    "    in_size=(3, 3),\n",
    "    out_size=(1, 3),\n",
    "    bottle_size=256,\n",
    "    block_length=4, \n",
    "    block_width=256,\n",
    "    num_blocks=2,\n",
    "    condition_length=1,\n",
    "    condition_width=256,\n",
    "    layer_type='inr_layers.SirenLayer',\n",
    "    activation_kwargs={'w0': 30.},\n",
    "    initialization_scheme=None,\n",
    "    initialization_scheme_kwargs=None,\n",
    "    positional_encoding_layer=('inr_layers.ClassicalPositionalEncoding.from_config', {'num_frequencies':6}),\n",
    "    direction_encoding_layer=('inr_layers.ClassicalPositionalEncoding.from_config', {'num_frequencies':6}),\n",
    ")\n",
    "\n",
    "\n",
    "# next, we set up the training loop, including the 'target_function' that we want to mimic\n",
    "config.trainer_module = './inr_utils/'  # similarly to config.architecture above, here we just specify in what module to look for objects by default\n",
    "# config.trainer_type = 'training.train_inr'\n",
    "# config.trainer_type = 'training.train_inr_with_dataloader'\n",
    "config.trainer_type = 'training.train_with_dataloader_scan'\n",
    "\n",
    "config.num_cycles = 50\n",
    "config.steps_per_cycle = 1000\n",
    "\n",
    "config.loss_evaluator = 'losses.NeRFLossEvaluator'\n",
    "config.loss_evaluator_config = dict(\n",
    "    #state_update_function = ('state_test_objects.py', 'counter_updater'),\n",
    "    num_coarse_samples=128,\n",
    "    num_fine_samples=512,\n",
    "    near=-1.,\n",
    "    far=1.,\n",
    "    noise_std=1.,  # this seems to be a reasonable value, based on https://github.com/bmild/nerf/blob/18b8aebda6700ed659cb27a0c348b737a5f6ab60/config_fern.txt#L14\n",
    "    white_bkgd=True,\n",
    "    lindisp=False,\n",
    "    randomized=True,\n",
    "    parallel_batch_size=50, # was 500\n",
    ")\n",
    "\n",
    "\n",
    "\n",
    "# config.sampler = ('sampling.NeRFSyntheticScenesSampler',{\n",
    "#     'split': 'train', \n",
    "#     'name': 'vase',\n",
    "#     'batch_size': 10,\n",
    "#     'poses_per_batch': 10,\n",
    "#     'base_path': 'synthetic_scenes',\n",
    "#     'size_limit': 100\n",
    "# })\n",
    "config.dataloader = 'nerf_utils.SyntheticScenesDataLoader'\n",
    "config.dataloader_config = {\n",
    "    'split': 'train', \n",
    "    'name': 'vase',\n",
    "    'batch_size': 50, # was 500\n",
    "    'poses_per_batch': 10, # was 100\n",
    "    'base_path': 'example_data/synthetic_scenes',\n",
    "    'size_limit': -1\n",
    "}\n",
    "\n",
    "config.optimizer = 'adamw'  # we'll have to add optax to the additional default modules later\n",
    "config.optimizer = 'training.OptimizerFactory.single_optimizer'#'adamw'  # we'll have to add optax to the additional default modules later\n",
    "config.optimizer_type = 'adamw'\n",
    "config.optimizer_config = {\n",
    "    'learning_rate': 5e-4,#1.5e-4\n",
    "    'weight_decay': 1e-5,\n",
    "}\n",
    "config.optimizer_mask = 'masking.array_mask'\n",
    "# config.steps = 20000 #changed from 40000\n",
    "config.use_wandb = True\n",
    "\n",
    "# now we want some extra things, like logging, to happen during training\n",
    "# the inr_utils.training.train_inr function allows for this through callbacks.\n",
    "# The callbacks we want to use can be found in inr_utils.callbacks\n",
    "# config.after_step_callback = 'callbacks.ComposedCallback'\n",
    "# config.after_step_callback_config = {\n",
    "#     'callbacks':[\n",
    "#         ('callbacks.print_loss', {'after_every':100}),  # only print the loss every 400th step\n",
    "#         'callbacks.report_loss',  # but log the loss to wandb after every step\n",
    "#         # ('callbacks.MetricCollectingCallback', # this thing will help us collect metrics and log images to wandb\n",
    "#         #      {'metric_collector':'metrics.MetricCollector'}\n",
    "#         # ),\n",
    "#         'callbacks.raise_error_on_nan'  # stop training if the loss becomes NaN\n",
    "#     ],\n",
    "#     'show_logs': False\n",
    "# }\n",
    "\n",
    "config.after_cycle_callback = 'callbacks.ComposedCallback'\n",
    "config.after_cycle_callback_config = {\n",
    "    'callbacks':[\n",
    "        ('callbacks.print_loss', {'after_every':1}),  # only print the loss every 400th step\n",
    "        'callbacks.report_loss',  # but log the loss to wandb after every step\n",
    "        # ('callbacks.MetricCollectingCallback', # this thing will help us collect metrics and log images to wandb\n",
    "        #      {'metric_collector':'metrics.MetricCollector'}\n",
    "        # ),\n",
    "        'callbacks.raise_error_on_nan'  # stop training if the loss becomes NaN\n",
    "    ],\n",
    "    'show_logs': False\n",
    "}\n",
    "\n",
    "config.after_training_callback = None\n",
    "\n",
    "    # num_coarse_samples=128,\n",
    "    # num_fine_samples=512,\n",
    "    # near=-1.,\n",
    "    # far=1.,\n",
    "    # noise_std=1.,  # this seems to be a reasonable value, based on https://github.com/bmild/nerf/blob/18b8aebda6700ed659cb27a0c348b737a5f6ab60/config_fern.txt#L14\n",
    "    # white_bkgd=True,\n",
    "    # lindisp=False,\n",
    "    # randomized=True,\n",
    "    # parallel_batch_size=500,\n",
    "\n",
    "config.metric_collector_config = {  # the metrics for MetricCollectingCallback / metrics.MetricCollector\n",
    "    'metrics':[\n",
    "        ('metrics.ViewSynthesisComparison', {\n",
    "            'frequency':'every_n_batches',\n",
    "            'split':'train',\n",
    "            'name':'vase',\n",
    "            'num_coarse_samples':128,\n",
    "            'num_fine_samples':512,\n",
    "            'near':-1.,\n",
    "            'far':1.,\n",
    "            'noise_std':1.,\n",
    "            'white_bkgd':True,\n",
    "            'lindisp':False,\n",
    "            'randomized':True,\n",
    "            'folder':'synthetic_scenes',\n",
    "        })\n",
    "\n",
    "\n",
    "    ],\n",
    "    'batch_frequency': 1,  # compute all of these metrics every 400 batches\n",
    "    'epoch_frequency': 1  # not actually used\n",
    "}\n",
    "\n",
    "\n",
    "#config.after_training_callback = ('state_test_objects.py', 'after_training_callback')\n",
    "\n",
    "# config.metric_collector_config = {  # the metrics for MetricCollectingCallback / metrics.MetricCollector\n",
    "#     'metrics':[\n",
    "#         ('metrics.PlotOnGrid2D', {'grid': 256, 'batch_size':8*256, 'frequency':'every_n_batches'}),  \n",
    "#         # ^ plots the image on this fixed grid so we can visually inspect the inr on wandb\n",
    "#         ('metrics.MSEOnFixedGrid', {'grid': [2040, 1356], 'batch_size':2040, 'frequency': 'every_n_batches'})\n",
    "#         # ^ compute the MSE with the actual image pixels\n",
    "#     ],\n",
    "#     'batch_frequency': 400,  # compute all of these metrics every 400 batches\n",
    "#     'epoch_frequency': 1  # not actually used\n",
    "# }\n",
    "\n",
    "#config.after_training_callback = None  # don't care for one now, but you could have this e.g. store some nice loss plots if you're not using wandb \n",
    "config.optimizer_state = None  # we're starting from scratch"
   ],
   "outputs": [],
   "execution_count": 2
  },
  {
   "cell_type": "code",
   "metadata": {
    "ExecuteTime": {
     "end_time": "2025-02-12T10:26:52.136501Z",
     "start_time": "2025-02-12T10:26:50.027634Z"
    }
   },
   "source": [
    "# let's first see if we get the correct model\n",
    "try:\n",
    "    inr = cju.run_utils.get_model_from_config_and_key(\n",
    "        prng_key=next(key_gen),\n",
    "        config=config,\n",
    "        model_sub_config_name_base='model',\n",
    "        add_model_module_to_architecture_default_module=False, # since the model is already in the default module specified by 'architecture',\n",
    "    )\n",
    "except Exception as e:\n",
    "    traceback.print_exc()\n",
    "    print(e)\n",
    "    print('\\n')\n",
    "    pdb.post_mortem()"
   ],
   "outputs": [],
   "execution_count": 3
  },
  {
   "cell_type": "code",
   "metadata": {
    "ExecuteTime": {
     "end_time": "2025-02-12T10:26:52.183434Z",
     "start_time": "2025-02-12T10:26:52.161314Z"
    }
   },
   "source": [
    "inr"
   ],
   "outputs": [
    {
     "data": {
      "text/plain": [
       "NeRF(\n",
       "  coarse_model=NeRFComponent(\n",
       "    block_pos_enc=ClassicalPositionalEncoding(_embedding_matrix=f32[6]),\n",
       "    blocks=Sequential(\n",
       "      layers=(\n",
       "        NeRFBlock(\n",
       "          net=Sequential(\n",
       "            layers=(\n",
       "              SirenLayer(\n",
       "                weights=f32[256,39],\n",
       "                biases=f32[256],\n",
       "                activation_kwargs={'w0': 30.0},\n",
       "                learnable_kwarg_keys=()\n",
       "              ),\n",
       "              SirenLayer(\n",
       "                weights=f32[256,256],\n",
       "                biases=f32[256],\n",
       "                activation_kwargs={'w0': 30.0},\n",
       "                learnable_kwarg_keys=()\n",
       "              ),\n",
       "              SirenLayer(\n",
       "                weights=f32[256,256],\n",
       "                biases=f32[256],\n",
       "                activation_kwargs={'w0': 30.0},\n",
       "                learnable_kwarg_keys=()\n",
       "              ),\n",
       "              SirenLayer(\n",
       "                weights=f32[256,256],\n",
       "                biases=f32[256],\n",
       "                activation_kwargs={'w0': 30.0},\n",
       "                learnable_kwarg_keys=()\n",
       "              )\n",
       "            )\n",
       "          )\n",
       "        ),\n",
       "        NeRFBlock(\n",
       "          net=Sequential(\n",
       "            layers=(\n",
       "              SirenLayer(\n",
       "                weights=f32[256,295],\n",
       "                biases=f32[256],\n",
       "                activation_kwargs={'w0': 30.0},\n",
       "                learnable_kwarg_keys=()\n",
       "              ),\n",
       "              SirenLayer(\n",
       "                weights=f32[256,256],\n",
       "                biases=f32[256],\n",
       "                activation_kwargs={'w0': 30.0},\n",
       "                learnable_kwarg_keys=()\n",
       "              ),\n",
       "              SirenLayer(\n",
       "                weights=f32[256,256],\n",
       "                biases=f32[256],\n",
       "                activation_kwargs={'w0': 30.0},\n",
       "                learnable_kwarg_keys=()\n",
       "              ),\n",
       "              SirenLayer(\n",
       "                weights=f32[256,256],\n",
       "                biases=f32[256],\n",
       "                activation_kwargs={'w0': 30.0},\n",
       "                learnable_kwarg_keys=()\n",
       "              )\n",
       "            )\n",
       "          )\n",
       "        )\n",
       "      )\n",
       "    ),\n",
       "    to_sigma=Linear(\n",
       "      weights=f32[1,256],\n",
       "      biases=f32[1],\n",
       "      activation_kwargs={},\n",
       "      learnable_kwarg_keys=()\n",
       "    ),\n",
       "    to_rgb=Linear(\n",
       "      weights=f32[3,256],\n",
       "      biases=f32[3],\n",
       "      activation_kwargs={},\n",
       "      learnable_kwarg_keys=()\n",
       "    ),\n",
       "    conditional_pos_enc=ClassicalPositionalEncoding(_embedding_matrix=f32[6]),\n",
       "    condition=Sequential(\n",
       "      layers=(\n",
       "        MLPINR(\n",
       "          layers=(\n",
       "            SirenLayer(\n",
       "              weights=f32[256,295],\n",
       "              biases=f32[256],\n",
       "              activation_kwargs={'w0': 30.0},\n",
       "              learnable_kwarg_keys=()\n",
       "            ),\n",
       "            Linear(\n",
       "              weights=f32[256,256],\n",
       "              biases=f32[256],\n",
       "              activation_kwargs={},\n",
       "              learnable_kwarg_keys=()\n",
       "            )\n",
       "          )\n",
       "        ),\n",
       "      )\n",
       "    )\n",
       "  ),\n",
       "  fine_model=NeRFComponent(\n",
       "    block_pos_enc=ClassicalPositionalEncoding(_embedding_matrix=f32[6]),\n",
       "    blocks=Sequential(\n",
       "      layers=(\n",
       "        NeRFBlock(\n",
       "          net=Sequential(\n",
       "            layers=(\n",
       "              SirenLayer(\n",
       "                weights=f32[256,39],\n",
       "                biases=f32[256],\n",
       "                activation_kwargs={'w0': 30.0},\n",
       "                learnable_kwarg_keys=()\n",
       "              ),\n",
       "              SirenLayer(\n",
       "                weights=f32[256,256],\n",
       "                biases=f32[256],\n",
       "                activation_kwargs={'w0': 30.0},\n",
       "                learnable_kwarg_keys=()\n",
       "              ),\n",
       "              SirenLayer(\n",
       "                weights=f32[256,256],\n",
       "                biases=f32[256],\n",
       "                activation_kwargs={'w0': 30.0},\n",
       "                learnable_kwarg_keys=()\n",
       "              ),\n",
       "              SirenLayer(\n",
       "                weights=f32[256,256],\n",
       "                biases=f32[256],\n",
       "                activation_kwargs={'w0': 30.0},\n",
       "                learnable_kwarg_keys=()\n",
       "              )\n",
       "            )\n",
       "          )\n",
       "        ),\n",
       "        NeRFBlock(\n",
       "          net=Sequential(\n",
       "            layers=(\n",
       "              SirenLayer(\n",
       "                weights=f32[256,295],\n",
       "                biases=f32[256],\n",
       "                activation_kwargs={'w0': 30.0},\n",
       "                learnable_kwarg_keys=()\n",
       "              ),\n",
       "              SirenLayer(\n",
       "                weights=f32[256,256],\n",
       "                biases=f32[256],\n",
       "                activation_kwargs={'w0': 30.0},\n",
       "                learnable_kwarg_keys=()\n",
       "              ),\n",
       "              SirenLayer(\n",
       "                weights=f32[256,256],\n",
       "                biases=f32[256],\n",
       "                activation_kwargs={'w0': 30.0},\n",
       "                learnable_kwarg_keys=()\n",
       "              ),\n",
       "              SirenLayer(\n",
       "                weights=f32[256,256],\n",
       "                biases=f32[256],\n",
       "                activation_kwargs={'w0': 30.0},\n",
       "                learnable_kwarg_keys=()\n",
       "              )\n",
       "            )\n",
       "          )\n",
       "        )\n",
       "      )\n",
       "    ),\n",
       "    to_sigma=Linear(\n",
       "      weights=f32[1,256],\n",
       "      biases=f32[1],\n",
       "      activation_kwargs={},\n",
       "      learnable_kwarg_keys=()\n",
       "    ),\n",
       "    to_rgb=Linear(\n",
       "      weights=f32[3,256],\n",
       "      biases=f32[3],\n",
       "      activation_kwargs={},\n",
       "      learnable_kwarg_keys=()\n",
       "    ),\n",
       "    conditional_pos_enc=ClassicalPositionalEncoding(_embedding_matrix=f32[6]),\n",
       "    condition=Sequential(\n",
       "      layers=(\n",
       "        MLPINR(\n",
       "          layers=(\n",
       "            SirenLayer(\n",
       "              weights=f32[256,295],\n",
       "              biases=f32[256],\n",
       "              activation_kwargs={'w0': 30.0},\n",
       "              learnable_kwarg_keys=()\n",
       "            ),\n",
       "            Linear(\n",
       "              weights=f32[256,256],\n",
       "              biases=f32[256],\n",
       "              activation_kwargs={},\n",
       "              learnable_kwarg_keys=()\n",
       "            )\n",
       "          )\n",
       "        ),\n",
       "      )\n",
       "    )\n",
       "  )\n",
       ")"
      ]
     },
     "execution_count": 4,
     "metadata": {},
     "output_type": "execute_result"
    }
   ],
   "execution_count": 4
  },
  {
   "cell_type": "code",
   "metadata": {
    "ExecuteTime": {
     "end_time": "2025-02-12T10:26:53.215839Z",
     "start_time": "2025-02-12T10:26:52.207440Z"
    }
   },
   "source": [
    "# next we get the experiment from the config using common_jax_utils.run_utils.get_experiment_from_config_and_key\n",
    "experiment = cju.run_utils.get_experiment_from_config_and_key(\n",
    "    prng_key=next(key_gen),\n",
    "    config=config,\n",
    "    model_kwarg_in_trainer='inr',\n",
    "    model_sub_config_name_base='model',  # so it looks for \"model_config\" in config\n",
    "    trainer_default_module_key='trainer_module',  # so it knows to get the module specified by config.trainer_module\n",
    "    additional_trainer_default_modules=[optax],  # remember the don't forget to add optax to the default modules? This is that \n",
    "    add_model_module_to_architecture_default_module=False,\n",
    "    initialize=False  # don't run the experiment yet, we want to use wandb\n",
    ")"
   ],
   "outputs": [],
   "execution_count": 5
  },
  {
   "cell_type": "code",
   "metadata": {
    "ExecuteTime": {
     "end_time": "2025-02-12T10:26:53.243447Z",
     "start_time": "2025-02-12T10:26:53.240109Z"
    }
   },
   "source": [
    "experiment"
   ],
   "outputs": [
    {
     "data": {
      "text/plain": [
       "PostponedInitialization(cls=train_with_dataloader_scan, kwargs={'loss_evaluator': PostponedInitialization(cls=NeRFLossEvaluator, kwargs={'num_coarse_samples': 128, 'num_fine_samples': 512, 'near': -1.0, 'far': 1.0, 'noise_std': 1.0, 'white_bkgd': True, 'lindisp': False, 'randomized': True, 'parallel_batch_size': 50, 'state_update_function': None}, missing_args=[]), 'dataloader': PostponedInitialization(cls=SyntheticScenesDataLoader, kwargs={'split': 'train', 'name': 'vase', 'batch_size': 50, 'poses_per_batch': 10, 'base_path': 'example_data/synthetic_scenes', 'size_limit': -1, 'key': Array([1722811570, 3826931003], dtype=uint32)}, missing_args=[]), 'optimizer': PostponedInitialization(cls=single_optimizer, kwargs={'optimizer_type': <function adamw at 0x7fdf0651ee60>, 'optimizer_config': {'learning_rate': 0.0005, 'weight_decay': 1e-05}, 'optimizer_mask': <function array_mask at 0x7fdeec515f30>, 'learning_rate_schedule': None, 'schedule_boundaries': None}, missing_args=[]), 'steps_per_cycle': 1000, 'num_cycles': 50, 'use_wandb': True, 'after_cycle_callback': PostponedInitialization(cls=ComposedCallback, kwargs={'callbacks': [functools.partial(<function print_loss at 0x7fdd2f306cb0>, after_every=1), <function report_loss at 0x7fdd2f306e60>, <function raise_error_on_nan at 0x7fdd2f307010>], 'show_logs': False, 'use_wandb': True, 'display_func': <function pprint at 0x7fdf62001e10>}, missing_args=[]), 'after_training_callback': None, 'optimizer_state': None, 'state_initialization_function': <function initialize_state at 0x7fdd2f3076d0>, 'state': None, 'inr': PostponedInitialization(cls=from_config, kwargs={'in_size': (3, 3), 'out_size': (1, 3), 'bottle_size': 256, 'block_length': 4, 'block_width': 256, 'num_blocks': 2, 'condition_length': 1, 'condition_width': 256, 'layer_type': <class 'model_components.inr_layers.SirenLayer'>, 'activation_kwargs': {'w0': 30.0}, 'initialization_scheme': None, 'initialization_scheme_kwargs': None, 'positional_encoding_layer': PostponedInitialization(cls=from_config, kwargs={'num_frequencies': 6, 'frequency_scaling': 2.0}, missing_args=[]), 'direction_encoding_layer': PostponedInitialization(cls=from_config, kwargs={'num_frequencies': 6, 'frequency_scaling': 2.0}, missing_args=[]), 'num_splits': 1, 'post_processor': None, 'shared_initialization': False, 'key': Array([  17552753, 4132388792], dtype=uint32)}, missing_args=[])}, missing_args=[])"
      ]
     },
     "execution_count": 6,
     "metadata": {},
     "output_type": "execute_result"
    }
   ],
   "execution_count": 6
  },
  {
   "cell_type": "code",
   "metadata": {
    "jupyter": {
     "is_executing": true
    },
    "ExecuteTime": {
     "start_time": "2025-02-12T10:26:53.338604Z"
    }
   },
   "source": [
    "# and we run the experiment while logging things to wandb\n",
    "try:\n",
    "    with wandb.init(\n",
    "        project='inr_edu_24',\n",
    "        notes='test',\n",
    "        tags=['test']\n",
    "    ) as run:\n",
    "        results = experiment.initialize()\n",
    "except Exception as e:\n",
    "    print(e)\n",
    "    print()\n",
    "    traceback.print_exc()\n",
    "    pdb.post_mortem()"
   ],
   "outputs": [
    {
     "name": "stderr",
     "output_type": "stream",
     "text": [
      "\u001B[34m\u001B[1mwandb\u001B[0m: Using wandb-core as the SDK backend.  Please refer to https://wandb.me/wandb-core for more information.\n"
     ]
    },
    {
     "data": {
      "text/plain": [
       "<IPython.core.display.HTML object>"
      ],
      "text/html": [
       "Tracking run with wandb version 0.19.4"
      ]
     },
     "metadata": {},
     "output_type": "display_data"
    },
    {
     "data": {
      "text/plain": [
       "<IPython.core.display.HTML object>"
      ],
      "text/html": [
       "Run data is saved locally in <code>/home/ovindar/PycharmProjects/INR_BEP/wandb/run-20250212_112653-lyxldh0i</code>"
      ]
     },
     "metadata": {},
     "output_type": "display_data"
    },
    {
     "data": {
      "text/plain": [
       "<IPython.core.display.HTML object>"
      ],
      "text/html": [
       "Syncing run <strong><a href='https://wandb.ai/INR_NTK/inr_edu_24/runs/lyxldh0i' target=\"_blank\">still-grass-17</a></strong> to <a href='https://wandb.ai/INR_NTK/inr_edu_24' target=\"_blank\">Weights & Biases</a> (<a href='https://wandb.me/developer-guide' target=\"_blank\">docs</a>)<br>"
      ]
     },
     "metadata": {},
     "output_type": "display_data"
    },
    {
     "data": {
      "text/plain": [
       "<IPython.core.display.HTML object>"
      ],
      "text/html": [
       " View project at <a href='https://wandb.ai/INR_NTK/inr_edu_24' target=\"_blank\">https://wandb.ai/INR_NTK/inr_edu_24</a>"
      ]
     },
     "metadata": {},
     "output_type": "display_data"
    },
    {
     "data": {
      "text/plain": [
       "<IPython.core.display.HTML object>"
      ],
      "text/html": [
       " View run at <a href='https://wandb.ai/INR_NTK/inr_edu_24/runs/lyxldh0i' target=\"_blank\">https://wandb.ai/INR_NTK/inr_edu_24/runs/lyxldh0i</a>"
      ]
     },
     "metadata": {},
     "output_type": "display_data"
    }
   ],
   "execution_count": null
  },
  {
   "cell_type": "code",
   "execution_count": 8,
   "metadata": {},
   "outputs": [
    {
     "ename": "NameError",
     "evalue": "name 'results' is not defined",
     "output_type": "error",
     "traceback": [
      "\u001B[0;31m---------------------------------------------------------------------------\u001B[0m",
      "\u001B[0;31mNameError\u001B[0m                                 Traceback (most recent call last)",
      "Cell \u001B[0;32mIn[8], line 1\u001B[0m\n\u001B[0;32m----> 1\u001B[0m inr, losses, optimizer_state, state, loss_evaluator, additional_output \u001B[38;5;241m=\u001B[39m \u001B[43mresults\u001B[49m\n\u001B[1;32m      2\u001B[0m inr\n",
      "\u001B[0;31mNameError\u001B[0m: name 'results' is not defined"
     ]
    }
   ],
   "source": [
    "inr, losses, optimizer_state, state, loss_evaluator, additional_output = results\n",
    "inr"
   ]
  },
  {
   "cell_type": "code",
   "execution_count": null,
   "metadata": {},
   "outputs": [],
   "source": [
    "from state_test_objects import after_training_callback, CountingIdentity\n",
    "after_training_callback(losses, inr, state)"
   ]
  },
  {
   "cell_type": "code",
   "execution_count": null,
   "metadata": {},
   "outputs": [],
   "source": [
    "inr.terms[0].layers[0]"
   ]
  },
  {
   "cell_type": "code",
   "execution_count": null,
   "metadata": {},
   "outputs": [],
   "source": [
    "isinstance(inr.terms[0].layers[0], CountingIdentity)"
   ]
  },
  {
   "cell_type": "code",
   "execution_count": null,
   "metadata": {},
   "outputs": [],
   "source": [
    "type(inr.terms[0].layers[0])"
   ]
  },
  {
   "cell_type": "code",
   "execution_count": null,
   "metadata": {},
   "outputs": [],
   "source": []
  }
 ],
 "metadata": {
  "kernelspec": {
   "display_name": "inr_edu_24",
   "language": "python",
   "name": "python3"
  },
  "language_info": {
   "codemirror_mode": {
    "name": "ipython",
    "version": 3
   },
   "file_extension": ".py",
   "mimetype": "text/x-python",
   "name": "python",
   "nbconvert_exporter": "python",
   "pygments_lexer": "ipython3",
   "version": "3.10.14"
  }
 },
 "nbformat": 4,
 "nbformat_minor": 2
}
