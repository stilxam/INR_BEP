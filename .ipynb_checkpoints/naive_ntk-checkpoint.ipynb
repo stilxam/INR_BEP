{
 "cells": [
  {
   "cell_type": "code",
   "execution_count": 2,
   "id": "initial_id",
   "metadata": {
    "collapsed": true,
    "ExecuteTime": {
     "end_time": "2024-12-19T13:16:04.238018788Z",
     "start_time": "2024-12-19T13:16:03.525864982Z"
    }
   },
   "outputs": [],
   "source": [
    "import pdb\n",
    "import traceback\n",
    "\n",
    "import jax\n",
    "import numpy as np\n",
    "from jax import numpy as jnp\n",
    "import optax\n",
    "import wandb\n",
    "import equinox as eqx\n",
    "\n",
    "from common_dl_utils.config_creation import Config\n",
    "import common_jax_utils as cju\n",
    "\n",
    "key = jax.random.PRNGKey(12398)\n",
    "key_gen = cju.key_generator(key)"
   ]
  },
  {
   "cell_type": "code",
   "execution_count": 3,
   "outputs": [],
   "source": [
    "config = Config()\n",
    "\n",
    "# first we specify what the model should look like\n",
    "config.architecture = './model_components'  # module containing all relevant classes for architectures\n",
    "# NB if the classes relevant for creating the model are spread over multiple modules, this is no problem\n",
    "# let config.architecture be the module that contains the \"main\" model class, and for all other components just specify the module\n",
    "# or specify the other modules as default modules to the tools in common_jax_utils.run_utils\n",
    "config.model_type = 'inr_modules.CombinedINR'\n",
    "\n",
    "config.model_config = Config()\n",
    "config.model_config.in_size = 2\n",
    "config.model_config.out_size = 2\n",
    "config.model_config.terms = [  # CombinedINR uses multiple MLPs and returns the sum of their outputs. These 'terms' are the MLPs\n",
    "    ('inr_modules.MLPINR.from_config',{\n",
    "        'hidden_size': 1028,\n",
    "        'num_layers': 50,\n",
    "        'layer_type': 'inr_layers.GaussianINRLayer',\n",
    "        'num_splits': 3,\n",
    "        'activation_kwargs': {'inverse_scale': 5.},\n",
    "        'initialization_scheme':'initialization_schemes.siren_scheme',\n",
    "        'initialization_scheme_kwargs': {'w0': 12.}\n",
    "        #'positional_encoding_layer': ('inr_layers.ClassicalPositionalEncoding.from_config', {'num_frequencies': 10}),\n",
    "    }),\n",
    "    # ('inr_modules.MLPINR.from_config',{\n",
    "    #     'hidden_size': 1024,\n",
    "    #     'num_layers': 2,\n",
    "    #     'num_splits': 1,\n",
    "    #     'layer_type': 'inr_layers.GaussianINRLayer',\n",
    "    #     'use_complex': False,\n",
    "    #     'activation_kwargs': {'inverse_scale': 1},\n",
    "    # })\n",
    "]\n",
    "config.model_config.post_processor = lambda x: x[0]"
   ],
   "metadata": {
    "collapsed": false,
    "ExecuteTime": {
     "end_time": "2024-12-19T13:16:04.263943173Z",
     "start_time": "2024-12-19T13:16:04.241342316Z"
    }
   },
   "id": "c76ede141b8e5a6"
  },
  {
   "cell_type": "code",
   "execution_count": 4,
   "outputs": [],
   "source": [
    "try:\n",
    "    inr = cju.run_utils.get_model_from_config_and_key(\n",
    "        prng_key=next(key_gen),\n",
    "        config=config,\n",
    "        model_sub_config_name_base='model',\n",
    "        add_model_module_to_architecture_default_module=False, # since the model is already in the default module specified by 'architecture',\n",
    "    )\n",
    "except Exception as e:\n",
    "    traceback.print_exc()\n",
    "    print(e)\n",
    "    print('\\n')\n",
    "    pdb.post_mortem()"
   ],
   "metadata": {
    "collapsed": false,
    "ExecuteTime": {
     "end_time": "2024-12-19T13:16:06.057424133Z",
     "start_time": "2024-12-19T13:16:04.245468211Z"
    }
   },
   "id": "345c010cc6bebcb2"
  },
  {
   "cell_type": "code",
   "execution_count": 5,
   "outputs": [],
   "source": [
    "def apply_inr(inr, location):\n",
    "    return inr(location)\n",
    "\n",
    "inr_grad = eqx.filter_grad(apply_inr)"
   ],
   "metadata": {
    "collapsed": false,
    "ExecuteTime": {
     "end_time": "2024-12-19T13:16:06.097546182Z",
     "start_time": "2024-12-19T13:16:06.062350234Z"
    }
   },
   "id": "5bf960e0d4001bd0"
  },
  {
   "cell_type": "code",
   "execution_count": 6,
   "outputs": [
    {
     "data": {
      "text/plain": "CombinedINR(\n  terms=(\n    MLPINR(\n      layers=(\n        GaussianINRLayer(\n          weights=f32[1028,2],\n          biases=f32[1028],\n          activation_kwargs={'inverse_scale': 5.0}\n        ),\n        GaussianINRLayer(\n          weights=f32[1028,1028],\n          biases=f32[1028],\n          activation_kwargs={'inverse_scale': 5.0}\n        ),\n        GaussianINRLayer(\n          weights=f32[1028,1028],\n          biases=f32[1028],\n          activation_kwargs={'inverse_scale': 5.0}\n        ),\n        GaussianINRLayer(\n          weights=f32[1028,1028],\n          biases=f32[1028],\n          activation_kwargs={'inverse_scale': 5.0}\n        ),\n        GaussianINRLayer(\n          weights=f32[1028,1028],\n          biases=f32[1028],\n          activation_kwargs={'inverse_scale': 5.0}\n        ),\n        GaussianINRLayer(\n          weights=f32[1028,1028],\n          biases=f32[1028],\n          activation_kwargs={'inverse_scale': 5.0}\n        ),\n        GaussianINRLayer(\n          weights=f32[1028,1028],\n          biases=f32[1028],\n          activation_kwargs={'inverse_scale': 5.0}\n        ),\n        GaussianINRLayer(\n          weights=f32[1028,1028],\n          biases=f32[1028],\n          activation_kwargs={'inverse_scale': 5.0}\n        ),\n        GaussianINRLayer(\n          weights=f32[1028,1028],\n          biases=f32[1028],\n          activation_kwargs={'inverse_scale': 5.0}\n        ),\n        GaussianINRLayer(\n          weights=f32[1028,1028],\n          biases=f32[1028],\n          activation_kwargs={'inverse_scale': 5.0}\n        ),\n        GaussianINRLayer(\n          weights=f32[1028,1028],\n          biases=f32[1028],\n          activation_kwargs={'inverse_scale': 5.0}\n        ),\n        GaussianINRLayer(\n          weights=f32[1028,1028],\n          biases=f32[1028],\n          activation_kwargs={'inverse_scale': 5.0}\n        ),\n        GaussianINRLayer(\n          weights=f32[1028,1028],\n          biases=f32[1028],\n          activation_kwargs={'inverse_scale': 5.0}\n        ),\n        GaussianINRLayer(\n          weights=f32[1028,1028],\n          biases=f32[1028],\n          activation_kwargs={'inverse_scale': 5.0}\n        ),\n        GaussianINRLayer(\n          weights=f32[1028,1028],\n          biases=f32[1028],\n          activation_kwargs={'inverse_scale': 5.0}\n        ),\n        GaussianINRLayer(\n          weights=f32[1028,1028],\n          biases=f32[1028],\n          activation_kwargs={'inverse_scale': 5.0}\n        ),\n        GaussianINRLayer(\n          weights=f32[1028,1028],\n          biases=f32[1028],\n          activation_kwargs={'inverse_scale': 5.0}\n        ),\n        GaussianINRLayer(\n          weights=f32[1028,1028],\n          biases=f32[1028],\n          activation_kwargs={'inverse_scale': 5.0}\n        ),\n        GaussianINRLayer(\n          weights=f32[1028,1028],\n          biases=f32[1028],\n          activation_kwargs={'inverse_scale': 5.0}\n        ),\n        GaussianINRLayer(\n          weights=f32[1028,1028],\n          biases=f32[1028],\n          activation_kwargs={'inverse_scale': 5.0}\n        ),\n        GaussianINRLayer(\n          weights=f32[1028,1028],\n          biases=f32[1028],\n          activation_kwargs={'inverse_scale': 5.0}\n        ),\n        GaussianINRLayer(\n          weights=f32[1028,1028],\n          biases=f32[1028],\n          activation_kwargs={'inverse_scale': 5.0}\n        ),\n        GaussianINRLayer(\n          weights=f32[1028,1028],\n          biases=f32[1028],\n          activation_kwargs={'inverse_scale': 5.0}\n        ),\n        GaussianINRLayer(\n          weights=f32[1028,1028],\n          biases=f32[1028],\n          activation_kwargs={'inverse_scale': 5.0}\n        ),\n        GaussianINRLayer(\n          weights=f32[1028,1028],\n          biases=f32[1028],\n          activation_kwargs={'inverse_scale': 5.0}\n        ),\n        GaussianINRLayer(\n          weights=f32[1028,1028],\n          biases=f32[1028],\n          activation_kwargs={'inverse_scale': 5.0}\n        ),\n        GaussianINRLayer(\n          weights=f32[1028,1028],\n          biases=f32[1028],\n          activation_kwargs={'inverse_scale': 5.0}\n        ),\n        GaussianINRLayer(\n          weights=f32[1028,1028],\n          biases=f32[1028],\n          activation_kwargs={'inverse_scale': 5.0}\n        ),\n        GaussianINRLayer(\n          weights=f32[1028,1028],\n          biases=f32[1028],\n          activation_kwargs={'inverse_scale': 5.0}\n        ),\n        GaussianINRLayer(\n          weights=f32[1028,1028],\n          biases=f32[1028],\n          activation_kwargs={'inverse_scale': 5.0}\n        ),\n        GaussianINRLayer(\n          weights=f32[1028,1028],\n          biases=f32[1028],\n          activation_kwargs={'inverse_scale': 5.0}\n        ),\n        GaussianINRLayer(\n          weights=f32[1028,1028],\n          biases=f32[1028],\n          activation_kwargs={'inverse_scale': 5.0}\n        ),\n        GaussianINRLayer(\n          weights=f32[1028,1028],\n          biases=f32[1028],\n          activation_kwargs={'inverse_scale': 5.0}\n        ),\n        GaussianINRLayer(\n          weights=f32[1028,1028],\n          biases=f32[1028],\n          activation_kwargs={'inverse_scale': 5.0}\n        ),\n        GaussianINRLayer(\n          weights=f32[1028,1028],\n          biases=f32[1028],\n          activation_kwargs={'inverse_scale': 5.0}\n        ),\n        GaussianINRLayer(\n          weights=f32[1028,1028],\n          biases=f32[1028],\n          activation_kwargs={'inverse_scale': 5.0}\n        ),\n        GaussianINRLayer(\n          weights=f32[1028,1028],\n          biases=f32[1028],\n          activation_kwargs={'inverse_scale': 5.0}\n        ),\n        GaussianINRLayer(\n          weights=f32[1028,1028],\n          biases=f32[1028],\n          activation_kwargs={'inverse_scale': 5.0}\n        ),\n        GaussianINRLayer(\n          weights=f32[1028,1028],\n          biases=f32[1028],\n          activation_kwargs={'inverse_scale': 5.0}\n        ),\n        GaussianINRLayer(\n          weights=f32[1028,1028],\n          biases=f32[1028],\n          activation_kwargs={'inverse_scale': 5.0}\n        ),\n        GaussianINRLayer(\n          weights=f32[1028,1028],\n          biases=f32[1028],\n          activation_kwargs={'inverse_scale': 5.0}\n        ),\n        GaussianINRLayer(\n          weights=f32[1028,1028],\n          biases=f32[1028],\n          activation_kwargs={'inverse_scale': 5.0}\n        ),\n        GaussianINRLayer(\n          weights=f32[1028,1028],\n          biases=f32[1028],\n          activation_kwargs={'inverse_scale': 5.0}\n        ),\n        GaussianINRLayer(\n          weights=f32[1028,1028],\n          biases=f32[1028],\n          activation_kwargs={'inverse_scale': 5.0}\n        ),\n        GaussianINRLayer(\n          weights=f32[1028,1028],\n          biases=f32[1028],\n          activation_kwargs={'inverse_scale': 5.0}\n        ),\n        GaussianINRLayer(\n          weights=f32[1028,1028],\n          biases=f32[1028],\n          activation_kwargs={'inverse_scale': 5.0}\n        ),\n        GaussianINRLayer(\n          weights=f32[1028,1028],\n          biases=f32[1028],\n          activation_kwargs={'inverse_scale': 5.0}\n        ),\n        GaussianINRLayer(\n          weights=f32[1028,1028],\n          biases=f32[1028],\n          activation_kwargs={'inverse_scale': 5.0}\n        ),\n        GaussianINRLayer(\n          weights=f32[1028,1028],\n          biases=f32[1028],\n          activation_kwargs={'inverse_scale': 5.0}\n        ),\n        Linear(weights=f32[2,1028], biases=f32[2], activation_kwargs={})\n      )\n    ),\n  ),\n  post_processor=None\n)"
     },
     "execution_count": 6,
     "metadata": {},
     "output_type": "execute_result"
    }
   ],
   "source": [
    "inr_grad(inr, jnp.array([0.1, 0.75]))"
   ],
   "metadata": {
    "collapsed": false,
    "ExecuteTime": {
     "end_time": "2024-12-19T13:16:07.131175043Z",
     "start_time": "2024-12-19T13:16:06.065424680Z"
    }
   },
   "id": "afba95839a8ac68a"
  },
  {
   "cell_type": "code",
   "execution_count": 7,
   "outputs": [
    {
     "data": {
      "text/plain": "Array(9.915762, dtype=float32)"
     },
     "execution_count": 7,
     "metadata": {},
     "output_type": "execute_result"
    }
   ],
   "source": [
    "def tree_inner_product(tree_1, tree_2):\n",
    "    component_wise = jax.tree.map(lambda x, y: jnp.sum(x*y), tree_1, tree_2)\n",
    "    return sum(jax.tree.leaves(component_wise))\n",
    "\n",
    "tree_inner_product(inr_grad(inr, jnp.array([0.1, 0.75])), inr_grad(inr, jnp.array([0.1, 0.75])))"
   ],
   "metadata": {
    "collapsed": false,
    "ExecuteTime": {
     "end_time": "2024-12-19T13:16:08.267513112Z",
     "start_time": "2024-12-19T13:16:07.226451701Z"
    }
   },
   "id": "eadff3e8ecea5a26"
  },
  {
   "cell_type": "code",
   "execution_count": 8,
   "outputs": [],
   "source": [
    "def ntk_single(inr, loc_1, loc_2):\n",
    "    return tree_inner_product(\n",
    "    inr_grad(inr, loc_1),\n",
    "    inr_grad(inr, loc_2)\n",
    ")\n",
    "\n",
    "def _ntk_single(inr, loc1loc2):\n",
    "    channels = loc1loc2.shape[-1]//2\n",
    "    loc_1 = loc1loc2[:channels]\n",
    "    loc_2 = loc1loc2[channels:]\n",
    "    return ntk_single(inr, loc_1, loc_2)\n",
    "\n",
    "def ntk_array(inr, locations, batch_size):\n",
    "    channels = locations.shape[-1]\n",
    "    locations = locations.reshape(-1, channels)\n",
    "\n",
    "    #first on the lower triangle\n",
    "    loc_1_indices, loc_2_indices = jnp.tril_indices(locations.shape[0], k=-1)\n",
    "    loc_1 = locations[loc_1_indices]\n",
    "    loc_2 = locations[loc_2_indices]\n",
    "    loc_1_loc_2 = jnp.concatenate([loc_1, loc_2], -1)\n",
    "    \n",
    "    apply_ntk_single_batch = lambda batch: jax.vmap(_ntk_single, (None, 0))(inr, batch)\n",
    "    batches = loc_1_loc_2.reshape((-1, batch_size, 2*channels))\n",
    "    print(f\"{batches.shape=}\")\n",
    "    num_batches = batches.shape[0]\n",
    "    resulting_batches = jax.lax.map(apply_ntk_single_batch, batches)\n",
    "    results_flat = resulting_batches.reshape(num_batches*batch_size)\n",
    "    return results_flat, loc_1_loc_2"
   ],
   "metadata": {
    "collapsed": false,
    "ExecuteTime": {
     "end_time": "2024-12-19T13:16:09.591197638Z",
     "start_time": "2024-12-19T13:16:09.577037689Z"
    }
   },
   "id": "9b459c2bac947c6"
  },
  {
   "cell_type": "code",
   "execution_count": 9,
   "outputs": [
    {
     "name": "stdout",
     "output_type": "stream",
     "text": [
      "locations.shape=(20, 20, 2)\n",
      "dims=2\n",
      "lis.shape=(400, 2)\n"
     ]
    }
   ],
   "source": [
    "from inr_utils.images import make_lin_grid\n",
    "n_points = 20\n",
    "locations = make_lin_grid(0., 1., (n_points, n_points))\n",
    "dims = locations.shape[-1]\n",
    "lis= make_lin_grid(0, n_points-1, (n_points, n_points)).astype(int).reshape(-1, dims)\n",
    "\n",
    "print(f\"{locations.shape=}\")\n",
    "print(f\"{dims=}\")\n",
    "print(f\"{lis.shape=}\")\n",
    "\n"
   ],
   "metadata": {
    "collapsed": false,
    "ExecuteTime": {
     "end_time": "2024-12-19T13:16:20.273368383Z",
     "start_time": "2024-12-19T13:16:20.250854355Z"
    }
   },
   "id": "e07eb4595efd8e30"
  },
  {
   "cell_type": "code",
   "execution_count": null,
   "outputs": [
    {
     "name": "stdout",
     "output_type": "stream",
     "text": [
      "batches.shape=(26600, 3, 4)\n"
     ]
    }
   ],
   "source": [
    "kernel, loc = ntk_array(inr, locations, 3)\n"
   ],
   "metadata": {
    "collapsed": false,
    "is_executing": true,
    "ExecuteTime": {
     "start_time": "2024-12-19T13:16:22.986085605Z"
    }
   },
   "id": "18ac934905c6adac"
  },
  {
   "cell_type": "code",
   "execution_count": 27,
   "outputs": [
    {
     "data": {
      "text/plain": "(36,)"
     },
     "execution_count": 27,
     "metadata": {},
     "output_type": "execute_result"
    }
   ],
   "source": [
    "kernel.shape"
   ],
   "metadata": {
    "collapsed": false,
    "ExecuteTime": {
     "end_time": "2024-12-19T13:00:47.771933825Z",
     "start_time": "2024-12-19T13:00:47.760873459Z"
    }
   },
   "id": "16ad41c18dc3ca22"
  },
  {
   "cell_type": "code",
   "execution_count": 28,
   "outputs": [
    {
     "data": {
      "text/plain": "Array([[0. , 0.5, 0. , 0. ],\n       [0. , 1. , 0. , 0. ],\n       [0. , 1. , 0. , 0.5],\n       [0.5, 0. , 0. , 0. ],\n       [0.5, 0. , 0. , 0.5],\n       [0.5, 0. , 0. , 1. ],\n       [0.5, 0.5, 0. , 0. ],\n       [0.5, 0.5, 0. , 0.5],\n       [0.5, 0.5, 0. , 1. ],\n       [0.5, 0.5, 0.5, 0. ],\n       [0.5, 1. , 0. , 0. ],\n       [0.5, 1. , 0. , 0.5],\n       [0.5, 1. , 0. , 1. ],\n       [0.5, 1. , 0.5, 0. ],\n       [0.5, 1. , 0.5, 0.5],\n       [1. , 0. , 0. , 0. ],\n       [1. , 0. , 0. , 0.5],\n       [1. , 0. , 0. , 1. ],\n       [1. , 0. , 0.5, 0. ],\n       [1. , 0. , 0.5, 0.5],\n       [1. , 0. , 0.5, 1. ],\n       [1. , 0.5, 0. , 0. ],\n       [1. , 0.5, 0. , 0.5],\n       [1. , 0.5, 0. , 1. ],\n       [1. , 0.5, 0.5, 0. ],\n       [1. , 0.5, 0.5, 0.5],\n       [1. , 0.5, 0.5, 1. ],\n       [1. , 0.5, 1. , 0. ],\n       [1. , 1. , 0. , 0. ],\n       [1. , 1. , 0. , 0.5],\n       [1. , 1. , 0. , 1. ],\n       [1. , 1. , 0.5, 0. ],\n       [1. , 1. , 0.5, 0.5],\n       [1. , 1. , 0.5, 1. ],\n       [1. , 1. , 1. , 0. ],\n       [1. , 1. , 1. , 0.5]], dtype=float32)"
     },
     "execution_count": 28,
     "metadata": {},
     "output_type": "execute_result"
    }
   ],
   "source": [
    "loc"
   ],
   "metadata": {
    "collapsed": false,
    "ExecuteTime": {
     "end_time": "2024-12-19T13:00:48.472189522Z",
     "start_time": "2024-12-19T13:00:48.443696002Z"
    }
   },
   "id": "b92b479e2703b5b"
  },
  {
   "cell_type": "code",
   "execution_count": 29,
   "outputs": [
    {
     "data": {
      "text/plain": "Array([[5.947997, 0.      , 0.      , 0.      , 0.      , 0.      ,\n        0.      , 0.      ],\n       [5.947997, 5.947997, 0.      , 0.      , 0.      , 0.      ,\n        0.      , 0.      ],\n       [5.947997, 5.947997, 5.947997, 0.      , 0.      , 0.      ,\n        0.      , 0.      ],\n       [5.947997, 5.947997, 5.947997, 5.947997, 0.      , 0.      ,\n        0.      , 0.      ],\n       [5.947997, 5.947997, 5.947997, 5.947997, 5.947997, 0.      ,\n        0.      , 0.      ],\n       [5.947997, 5.947997, 5.947997, 5.947997, 5.947997, 5.947997,\n        0.      , 0.      ],\n       [5.947997, 5.947997, 5.947997, 5.947997, 5.947997, 5.947997,\n        5.947997, 0.      ],\n       [5.947997, 5.947997, 5.947997, 5.947997, 5.947997, 5.947997,\n        5.947997, 5.947997]], dtype=float32)"
     },
     "execution_count": 29,
     "metadata": {},
     "output_type": "execute_result"
    }
   ],
   "source": [
    "def fill_lower_diag(a):\n",
    "    n = 2*dims**2\n",
    "    mask = jnp.tri(n,dtype=bool, k=0) # or np.arange(n)[:,None] > np.arange(n)\n",
    "    out = jnp.zeros((n,n),dtype=a.dtype)\n",
    "    out = out.at[mask].set(a)\n",
    "    return out\n",
    "\n",
    "\n",
    "K = fill_lower_diag(kernel)\n",
    "K"
   ],
   "metadata": {
    "collapsed": false,
    "ExecuteTime": {
     "end_time": "2024-12-19T13:00:49.107732113Z",
     "start_time": "2024-12-19T13:00:49.098458982Z"
    }
   },
   "id": "550ba71c712f6f9e"
  },
  {
   "cell_type": "code",
   "execution_count": 30,
   "outputs": [
    {
     "data": {
      "text/plain": "<Figure size 640x480 with 2 Axes>",
      "image/png": "[encoded data removed]"
     },
     "metadata": {},
     "output_type": "display_data"
    }
   ],
   "source": [
    "import matplotlib.pyplot as plt\n",
    "plt.imshow(K)\n",
    "plt.colorbar()\n",
    "plt.show()"
   ],
   "metadata": {
    "collapsed": false,
    "ExecuteTime": {
     "end_time": "2024-12-19T13:00:49.996397438Z",
     "start_time": "2024-12-19T13:00:49.847617690Z"
    }
   },
   "id": "8593d300a189b374"
  },
  {
   "cell_type": "code",
   "execution_count": 31,
   "outputs": [],
   "source": [
    "eigvals, eigvects = jnp.linalg.eigh(K)"
   ],
   "metadata": {
    "collapsed": false,
    "ExecuteTime": {
     "end_time": "2024-12-19T13:00:50.597034749Z",
     "start_time": "2024-12-19T13:00:50.589436989Z"
    }
   },
   "id": "90ea7de1021ad7cd"
  },
  {
   "cell_type": "code",
   "execution_count": 32,
   "outputs": [
    {
     "data": {
      "text/plain": "Array([ 2.973998 ,  2.973998 ,  2.973998 ,  2.9739983,  2.9739983,\n        2.9739983,  2.9739983, 26.765982 ], dtype=float32)"
     },
     "execution_count": 32,
     "metadata": {},
     "output_type": "execute_result"
    }
   ],
   "source": [
    "eigvals"
   ],
   "metadata": {
    "collapsed": false,
    "ExecuteTime": {
     "end_time": "2024-12-19T13:00:51.199790922Z",
     "start_time": "2024-12-19T13:00:51.192400014Z"
    }
   },
   "id": "fd9b1d1ea51c500e"
  },
  {
   "cell_type": "code",
   "execution_count": 33,
   "outputs": [
    {
     "data": {
      "text/plain": "Array([[ 0.49999997,  0.        ,  0.35355335,  0.70710677,  0.        ,\n         0.        ,  0.        ,  0.35355335],\n       [ 0.49999997,  0.        ,  0.35355335, -0.70710677,  0.        ,\n         0.        ,  0.        ,  0.35355335],\n       [ 0.        ,  0.49999997, -0.35355335,  0.        ,  0.        ,\n         0.70710677,  0.        ,  0.35355335],\n       [ 0.        ,  0.49999997, -0.35355335,  0.        ,  0.        ,\n        -0.70710677,  0.        ,  0.35355335],\n       [-0.49999997,  0.        ,  0.35355335,  0.        ,  0.70710677,\n         0.        ,  0.        ,  0.35355335],\n       [-0.49999997,  0.        ,  0.35355335,  0.        , -0.70710677,\n         0.        ,  0.        ,  0.35355335],\n       [ 0.        , -0.49999997, -0.35355335,  0.        ,  0.        ,\n         0.        ,  0.70710677,  0.35355335],\n       [ 0.        , -0.49999997, -0.35355335,  0.        ,  0.        ,\n         0.        , -0.70710677,  0.35355335]], dtype=float32)"
     },
     "execution_count": 33,
     "metadata": {},
     "output_type": "execute_result"
    }
   ],
   "source": [
    "eigvects"
   ],
   "metadata": {
    "collapsed": false,
    "ExecuteTime": {
     "end_time": "2024-12-19T13:00:52.160368920Z",
     "start_time": "2024-12-19T13:00:52.139509999Z"
    }
   },
   "id": "8e051b2e13805919"
  },
  {
   "cell_type": "code",
   "execution_count": 34,
   "outputs": [],
   "source": [
    "rescaled_eigvals = jnp.abs(eigvals)/jnp.min(jnp.abs(eigvals))"
   ],
   "metadata": {
    "collapsed": false,
    "ExecuteTime": {
     "end_time": "2024-12-19T13:00:52.828202790Z",
     "start_time": "2024-12-19T13:00:52.817671678Z"
    }
   },
   "id": "4c0cc8985e04718b"
  },
  {
   "cell_type": "code",
   "execution_count": 37,
   "outputs": [
    {
     "data": {
      "text/plain": "<Figure size 640x480 with 1 Axes>",
      "image/png": "[encoded data removed]"
     },
     "metadata": {},
     "output_type": "display_data"
    }
   ],
   "source": [
    "plt.hist(rescaled_eigvals, bins=100);"
   ],
   "metadata": {
    "collapsed": false,
    "ExecuteTime": {
     "end_time": "2024-12-19T13:01:16.298504213Z",
     "start_time": "2024-12-19T13:01:16.045613026Z"
    }
   },
   "id": "6e397331d6424e00"
  },
  {
   "cell_type": "code",
   "execution_count": 18,
   "outputs": [],
   "source": [],
   "metadata": {
    "collapsed": false,
    "ExecuteTime": {
     "end_time": "2024-12-19T12:58:45.946124333Z",
     "start_time": "2024-12-19T12:58:45.868998366Z"
    }
   },
   "id": "b75184e715be164"
  }
 ],
 "metadata": {
  "kernelspec": {
   "display_name": "Python 3",
   "language": "python",
   "name": "python3"
  },
  "language_info": {
   "codemirror_mode": {
    "name": "ipython",
    "version": 2
   },
   "file_extension": ".py",
   "mimetype": "text/x-python",
   "name": "python",
   "nbconvert_exporter": "python",
   "pygments_lexer": "ipython2",
   "version": "2.7.6"
  }
 },
 "nbformat": 4,
 "nbformat_minor": 5
}
