{
 "cells": [
  {
   "cell_type": "code",
   "execution_count": 8,
   "id": "initial_id",
   "metadata": {
    "collapsed": true,
    "ExecuteTime": {
     "end_time": "2024-12-04T15:26:00.130293884Z",
     "start_time": "2024-12-04T15:26:00.114466230Z"
    }
   },
   "outputs": [],
   "source": [
    "import trimesh\n",
    "import numpy as np\n"
   ]
  },
  {
   "cell_type": "code",
   "execution_count": 9,
   "outputs": [],
   "source": [
    "# load the ply file\n",
    "mesh = trimesh.load_mesh('example_data/xyzrgb_statuette.ply')"
   ],
   "metadata": {
    "collapsed": false,
    "ExecuteTime": {
     "end_time": "2024-12-04T15:26:09.277482919Z",
     "start_time": "2024-12-04T15:26:03.610540501Z"
    }
   },
   "id": "6e103679f83e05ab"
  },
  {
   "cell_type": "code",
   "execution_count": 10,
   "outputs": [],
   "source": [
    "\n",
    "points = mesh.bounding_box_oriented.sample_volume(count=100)"
   ],
   "metadata": {
    "collapsed": false,
    "ExecuteTime": {
     "end_time": "2024-12-04T15:26:10.427431725Z",
     "start_time": "2024-12-04T15:26:09.270074816Z"
    }
   },
   "id": "1cb76c67376ebad9"
  },
  {
   "cell_type": "code",
   "execution_count": null,
   "outputs": [],
   "source": [
    "closest_point, distance, triangle_id = mesh.nearest.on_surface(points)"
   ],
   "metadata": {
    "collapsed": false,
    "is_executing": true,
    "ExecuteTime": {
     "start_time": "2024-12-04T15:26:10.428785696Z"
    }
   },
   "id": "e9235376f61e55ba"
  },
  {
   "cell_type": "code",
   "execution_count": null,
   "outputs": [],
   "source": [
    "cloud_original = trimesh.points.PointCloud(points)\n",
    "cloud_close = trimesh.points.PointCloud(closest_point)\n",
    "\n",
    "cloud_colors = np.array([trimesh.visual.random_color() for _ in points])\n",
    "cloud_original.vertices_color = cloud_colors\n",
    "cloud_close.vertices_color = cloud_colors\n",
    "\n",
    "scene = trimesh.Scene([mesh, cloud_original, cloud_close])\n"
   ],
   "metadata": {
    "collapsed": false,
    "is_executing": true
   },
   "id": "be1648ddddf5b274"
  },
  {
   "cell_type": "code",
   "execution_count": null,
   "outputs": [],
   "source": [
    "scene.show()"
   ],
   "metadata": {
    "collapsed": false,
    "is_executing": true
   },
   "id": "664d3a0506596ccf"
  },
  {
   "cell_type": "code",
   "execution_count": 7,
   "outputs": [],
   "source": [
    "# plot the close_points\n",
    "\n",
    "close_scene = trimesh.Scene([mesh, cloud_close])\n",
    "close_scene.show()"
   ],
   "metadata": {
    "collapsed": false,
    "ExecuteTime": {
     "end_time": "2024-12-04T15:25:05.843591814Z",
     "start_time": "2024-12-04T15:25:01.978549413Z"
    }
   },
   "id": "9bbff43fe58b1714"
  },
  {
   "cell_type": "code",
   "execution_count": null,
   "outputs": [],
   "source": [],
   "metadata": {
    "collapsed": false
   },
   "id": "bbf89ad60fcdb7b"
  }
 ],
 "metadata": {
  "kernelspec": {
   "display_name": "Python 3",
   "language": "python",
   "name": "python3"
  },
  "language_info": {
   "codemirror_mode": {
    "name": "ipython",
    "version": 2
   },
   "file_extension": ".py",
   "mimetype": "text/x-python",
   "name": "python",
   "nbconvert_exporter": "python",
   "pygments_lexer": "ipython2",
   "version": "2.7.6"
  }
 },
 "nbformat": 4,
 "nbformat_minor": 5
}
