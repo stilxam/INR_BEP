{
 "cells": [
  {
   "cell_type": "code",
   "execution_count": 1,
   "id": "initial_id",
   "metadata": {
    "collapsed": true,
    "ExecuteTime": {
     "end_time": "2024-12-04T16:07:01.796343644Z",
     "start_time": "2024-12-04T16:07:01.140364399Z"
    }
   },
   "outputs": [],
   "source": [
    "import trimesh\n",
    "import numpy as np\n",
    "#  https://trimesh.org/trimesh.primitives.html#trimesh.primitives.Box.sample_volume\n",
    "# i guess we can use this to sample points from the mesh \n"
   ]
  },
  {
   "cell_type": "code",
   "execution_count": 2,
   "outputs": [],
   "source": [
    "# load the ply file\n",
    "mesh = trimesh.load_mesh('example_data/xyzrgb_statuette.ply')\n",
    "\n",
    "bounds = mesh.bounding_box.bounds\n"
   ],
   "metadata": {
    "collapsed": false,
    "ExecuteTime": {
     "end_time": "2024-12-04T16:07:06.987877598Z",
     "start_time": "2024-12-04T16:07:02.522434014Z"
    }
   },
   "id": "6e103679f83e05ab"
  },
  {
   "cell_type": "code",
   "execution_count": 15,
   "outputs": [],
   "source": [
    "point_we_will_compute = np.array([[-117.973335,-190.473831,-99.822350]])\n"
   ],
   "metadata": {
    "collapsed": false,
    "ExecuteTime": {
     "end_time": "2024-12-04T16:03:08.710744104Z",
     "start_time": "2024-12-04T16:03:08.696781030Z"
    }
   },
   "id": "7280478699663b95"
  },
  {
   "cell_type": "code",
   "execution_count": 16,
   "outputs": [],
   "source": [
    "cl, dist, tri = mesh.nearest.on_surface(point_we_will_compute)"
   ],
   "metadata": {
    "collapsed": false,
    "ExecuteTime": {
     "end_time": "2024-12-04T16:03:10.900894975Z",
     "start_time": "2024-12-04T16:03:09.112003552Z"
    }
   },
   "id": "bbf89ad60fcdb7b"
  },
  {
   "cell_type": "code",
   "execution_count": 17,
   "outputs": [
    {
     "name": "stdout",
     "output_type": "stream",
     "text": [
      "Closest point: [[-101.27983785 -188.94746568  -88.76893051]]\n",
      "Distance: [20.07936056]\n",
      "Triangle id: [4763040]\n"
     ]
    }
   ],
   "source": [
    "print(f\"Closest point: {cl}\")\n",
    "print(f\"Distance: {dist}\")\n",
    "print(f\"Triangle id: {tri}\")\n"
   ],
   "metadata": {
    "collapsed": false,
    "ExecuteTime": {
     "end_time": "2024-12-04T16:03:25.314579686Z",
     "start_time": "2024-12-04T16:03:25.287935638Z"
    }
   },
   "id": "6ef8a5745f9602b0"
  },
  {
   "cell_type": "code",
   "execution_count": 18,
   "outputs": [
    {
     "name": "stdout",
     "output_type": "stream",
     "text": [
      "Normal: [[[-0.8322328  -0.07211909 -0.54971575]\n",
      "  [-0.86727743 -0.07256815 -0.49250759]\n",
      "  [-0.8239695  -0.06668347 -0.5626967 ]]]\n"
     ]
    }
   ],
   "source": [
    "normals = mesh.vertex_normals[mesh.faces[tri]]\n",
    "\n",
    "print(f\"Normal: {normals}\")"
   ],
   "metadata": {
    "collapsed": false,
    "ExecuteTime": {
     "end_time": "2024-12-04T16:03:26.163379612Z",
     "start_time": "2024-12-04T16:03:26.159263900Z"
    }
   },
   "id": "d63c084aefc195be"
  },
  {
   "cell_type": "code",
   "execution_count": 19,
   "outputs": [
    {
     "name": "stdout",
     "output_type": "stream",
     "text": [
      "Is inside: [False]\n"
     ]
    }
   ],
   "source": [
    "inside = mesh.contains(point_we_will_compute)\n",
    "print(f\"Is inside: {inside}\")"
   ],
   "metadata": {
    "collapsed": false,
    "ExecuteTime": {
     "end_time": "2024-12-04T16:03:30.401311118Z",
     "start_time": "2024-12-04T16:03:30.396917971Z"
    }
   },
   "id": "d384d7a7efa18bdc"
  },
  {
   "cell_type": "code",
   "execution_count": 20,
   "outputs": [
    {
     "data": {
      "text/plain": "array([[-117.97333527, -190.47383118,  -99.82234955],\n       [ 117.25061035,  205.56738281,  103.33892059]])"
     },
     "execution_count": 20,
     "metadata": {},
     "output_type": "execute_result"
    }
   ],
   "source": [
    "mesh.bounds"
   ],
   "metadata": {
    "collapsed": false,
    "ExecuteTime": {
     "end_time": "2024-12-04T16:03:32.365693360Z",
     "start_time": "2024-12-04T16:03:32.357262362Z"
    }
   },
   "id": "1794cf7089ebdb7a"
  },
  {
   "cell_type": "code",
   "execution_count": 11,
   "outputs": [
    {
     "name": "stdout",
     "output_type": "stream",
     "text": [
      "[[-117.97333527 -190.47383118  -99.82234955]\n",
      " [ 117.25061035  205.56738281  103.33892059]]\n"
     ]
    }
   ],
   "source": [
    "# get the bounding box\n",
    "bbox = mesh.bounding_box\n",
    "print(bbox.bounds)"
   ],
   "metadata": {
    "collapsed": false,
    "ExecuteTime": {
     "end_time": "2024-12-04T15:53:22.074540246Z",
     "start_time": "2024-12-04T15:53:22.028074924Z"
    }
   },
   "id": "dd7591c53deb6591"
  },
  {
   "cell_type": "code",
   "execution_count": null,
   "outputs": [],
   "source": [],
   "metadata": {
    "collapsed": false
   },
   "id": "ea36c23e2da9e043"
  }
 ],
 "metadata": {
  "kernelspec": {
   "display_name": "Python 3",
   "language": "python",
   "name": "python3"
  },
  "language_info": {
   "codemirror_mode": {
    "name": "ipython",
    "version": 2
   },
   "file_extension": ".py",
   "mimetype": "text/x-python",
   "name": "python",
   "nbconvert_exporter": "python",
   "pygments_lexer": "ipython2",
   "version": "2.7.6"
  }
 },
 "nbformat": 4,
 "nbformat_minor": 5
}
