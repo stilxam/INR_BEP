{
 "cells": [
  {
   "cell_type": "code",
   "execution_count": 1,
   "id": "initial_id",
   "metadata": {
    "collapsed": true,
    "ExecuteTime": {
     "end_time": "2024-11-28T15:59:58.201104356Z",
     "start_time": "2024-11-28T15:59:57.044237995Z"
    }
   },
   "outputs": [
    {
     "name": "stderr",
     "output_type": "stream",
     "text": [
      "2024-11-28 16:59:58.025024: W external/xla/xla/service/gpu/nvptx_compiler.cc:930] The NVIDIA driver's CUDA version is 12.3 which is older than the PTX compiler version 12.6.77. Because the driver is older than the PTX compiler version, XLA is disabling parallel compilation, which may slow down compilation. You should update your NVIDIA driver or use the NVIDIA-provided CUDA forward compatibility packages.\n"
     ]
    }
   ],
   "source": [
    "import numpy as np\n",
    "import matplotlib.pyplot as plt\n",
    "import jax.numpy as jnp\n",
    "import jax\n",
    "from jax import random\n",
    "from scipy.linalg import expm\n",
    "from typing import Callable\n",
    "\n",
    "key = random.PRNGKey(0)\n"
   ]
  },
  {
   "cell_type": "code",
   "execution_count": 2,
   "outputs": [],
   "source": [
    "# define the input\n",
    "\n",
    "key, subkey = random.split(key)\n",
    "# X = jnp.array([[0.2, 0.4, 0.8],[1,1,1]])\n",
    "\n",
    "# X = jnp.array([[0.2, 1],[0.4, 1],[0.8, 1]])\n",
    "X = jnp.array([[0.2],[0.4],[0.8]])\n",
    "X_test = jnp.array([0.3, 0.5, 0.7])\n",
    "y = jnp.array([[-0.05],[-0.2],[0.3]])\n",
    "\n",
    "D_in = X.shape[1]\n",
    "D_out = y.shape[1]\n",
    "N = X.shape[0]\n",
    "n_hidden = 1\n",
    "D_hidden = 3"
   ],
   "metadata": {
    "collapsed": false,
    "ExecuteTime": {
     "end_time": "2024-11-28T15:59:58.307578365Z",
     "start_time": "2024-11-28T15:59:58.095856757Z"
    }
   },
   "id": "ad6c85d529bf649d"
  },
  {
   "cell_type": "code",
   "execution_count": 3,
   "outputs": [
    {
     "data": {
      "text/plain": "(1, 1, 3)"
     },
     "execution_count": 3,
     "metadata": {},
     "output_type": "execute_result"
    }
   ],
   "source": [
    "D_in, D_out, N"
   ],
   "metadata": {
    "collapsed": false,
    "ExecuteTime": {
     "end_time": "2024-11-28T15:59:58.488564845Z",
     "start_time": "2024-11-28T15:59:58.446269514Z"
    }
   },
   "id": "877463ca07dc4f64"
  },
  {
   "cell_type": "code",
   "execution_count": 4,
   "outputs": [
    {
     "data": {
      "text/plain": "<Figure size 640x480 with 1 Axes>",
      "image/png": "[encoded data removed]"
     },
     "metadata": {},
     "output_type": "display_data"
    }
   ],
   "source": [
    "fig, ax = plt.subplots()\n",
    "ax.plot(X[:], y, 'o')\n",
    "ax.set_xlim(0,1)\n",
    "ax.set_ylim(-1,1)\n",
    "ax.set_xlabel('x')\n",
    "ax.set_ylabel('y');\n",
    "plt.show()\n"
   ],
   "metadata": {
    "collapsed": false,
    "ExecuteTime": {
     "end_time": "2024-11-28T15:59:59.704060850Z",
     "start_time": "2024-11-28T15:59:59.576308192Z"
    }
   },
   "id": "b721fd1bddf7c9ea"
  },
  {
   "cell_type": "code",
   "execution_count": 5,
   "outputs": [],
   "source": [
    "\n",
    "def deriv_of_activation(foo: Callable) -> Callable:\n",
    "    \"\"\"\n",
    "    Returns the derivative of the activation function `foo`.\n",
    "    \"\"\"\n",
    "    return jax.grad(foo)\n",
    "\n",
    "\n",
    "\n",
    "def use_derivative_of_activation(foo: Callable) -> Callable:\n",
    "    \"\"\"\n",
    "    Returns the derivative of the activation function `foo`.\n",
    "    \"\"\"\n",
    "    return jax.vmap(jax.grad(foo))"
   ],
   "metadata": {
    "collapsed": false,
    "ExecuteTime": {
     "end_time": "2024-11-28T16:00:00.361013307Z",
     "start_time": "2024-11-28T16:00:00.338462826Z"
    }
   },
   "id": "28cefc26b2b80f78"
  },
  {
   "cell_type": "code",
   "execution_count": 6,
   "outputs": [
    {
     "data": {
      "text/plain": "Array([[[-1.5149397]],\n\n       [[-1.8384994]],\n\n       [[-2.4856193]]], dtype=float32)"
     },
     "execution_count": 6,
     "metadata": {},
     "output_type": "execute_result"
    }
   ],
   "source": [
    "def shallow_network(X, params, activation):\n",
    "    \"\"\"\n",
    "    A simple shallow neural network with one hidden layer.\n",
    "    \"\"\"    \n",
    "    # linear transformation\n",
    "    \n",
    "    for w, b in params:\n",
    "\n",
    "        # linear transformation\n",
    "        if len(X.shape) == 1:\n",
    "            X = w*X + b\n",
    "        else:\n",
    "            X = w@X + b\n",
    "\n",
    "        \n",
    "        \n",
    "        h_x_1 = activation(X[0])/jnp.sqrt(X.shape[0])\n",
    "    return X\n",
    "\n",
    "\n",
    "def init_params(key, D_in, D_out, n_hidden, D_hidden):\n",
    "    \"\"\"\n",
    "    Initialize the parameters of the shallow network.\n",
    "    \"\"\"\n",
    "    params = []\n",
    "    key, subkey = random.split(key)\n",
    "    omega0 = random.normal(key, (D_hidden, D_in))\n",
    "    key, subkey = random.split(key)\n",
    "    bias0 = random.normal(key, (D_hidden, 1))\n",
    "    params += [(omega0, bias0)]\n",
    "    \n",
    "    for i in range(n_hidden):\n",
    "        key, subkey = random.split(key)\n",
    "        omega = random.normal(key, (D_hidden, D_hidden))\n",
    "        key, subkey = random.split(key)\n",
    "        bias = random.normal(key, (D_hidden, 1))\n",
    "        params += [(omega, bias)]\n",
    "        \n",
    "    key, subkey = random.split(key)\n",
    "    output_omega = random.normal(key, (D_out, D_hidden))\n",
    "    output_bias = random.normal(key, (D_out, 1))\n",
    "    params += [(output_omega, output_bias)]\n",
    "    return params\n",
    "        \n",
    "\n",
    "    \n",
    "params = init_params(\n",
    "    key=key, D_in=D_in, D_out=D_out, n_hidden=n_hidden, D_hidden=D_hidden\n",
    ")\n",
    "    \n",
    "    \n",
    "\n",
    "\n",
    "y_pred = jax.vmap(shallow_network, in_axes=(0, None,None))(X, params, jnp.sin)\n",
    "y_pred\n",
    "# shallow_network(jnp.array([0]), params, jnp.sin)"
   ],
   "metadata": {
    "collapsed": false,
    "ExecuteTime": {
     "end_time": "2024-11-28T16:00:01.970157672Z",
     "start_time": "2024-11-28T16:00:00.887641760Z"
    }
   },
   "id": "3899e39e55df2533"
  },
  {
   "cell_type": "code",
   "execution_count": 7,
   "outputs": [],
   "source": [
    "\n",
    "\n",
    "\n",
    "def alt_compute_empirical_ntk(X_1, X_2, params, activation):\n",
    "    \n",
    "    \n",
    "    N_1 = X_1.shape[1]\n",
    "    N_2 = X_2.shape[1]\n",
    "    K = np.zeros((N_1, N_2))\n",
    "    \n",
    "    \n",
    "    if isinstance(X_1.shape,int):\n",
    "        preactivation_1 = params[0][0]*X_1 + params[0][1]\n",
    "        preactivation_2 = params[0][0]*X_2 + params[0][1]\n",
    "    else:\n",
    "        preactivation_1 = params[0][0]@X_1 + params[0][1]\n",
    "        preactivation_2 = params[0][0]@X_2 + params[0][1]\n",
    "    \n",
    "    for i in range(N_1):\n",
    "        for j in range(N_2):\n",
    "            K[i, j] = jnp.mean(activation(preactivation_1[:, i])*activation(preactivation_2[:, j]))+1\n",
    "            K[i, j] += X_1[:, i]@X_2[:, j].T*jnp.mean(\n",
    "                jnp.square(params[1][0])\n",
    "                *use_derivative_of_activation(activation)(preactivation_1[:, i])\n",
    "                *use_derivative_of_activation(activation)(preactivation_2[:, j])\n",
    "            )\n",
    "    return K"
   ],
   "metadata": {
    "collapsed": false,
    "ExecuteTime": {
     "end_time": "2024-11-28T16:00:01.970380657Z",
     "start_time": "2024-11-28T16:00:01.943493719Z"
    }
   },
   "id": "996001b0a5d35520"
  },
  {
   "cell_type": "code",
   "execution_count": 8,
   "outputs": [],
   "source": [
    "\n",
    "def k_null(X_1, X_2):\n",
    "    return X_1.T@X_2 +1\n",
    "\n",
    "def k_prime_null(X_1, X_2):\n",
    "    return X_1.T@X_2\n",
    "\n",
    "def next_layer_K(X_1, X_2, l,  params, f: Callable):\n",
    "    \n",
    "    h_x_1 =X_1\n",
    "    h_x_2 = X_2\n",
    "    for w, b in params[:l]:\n",
    "        # linear transformation\n",
    "        if len(h_x_1.shape) == 1:\n",
    "            h_x_1 = w*h_x_1 + b\n",
    "            h_x_2 = w*h_x_2 + b\n",
    "        else:\n",
    "            h_x_1 = w@h_x_1 + b\n",
    "            h_x_2 = w@h_x_2 + b\n",
    "\n",
    "        h_x_1 = f(h_x_1)/jnp.sqrt(h_x_1.shape[0])\n",
    "        h_x_2 = f(h_x_2)/jnp.sqrt(h_x_2.shape[0])\n",
    " \n",
    "    return jnp.mean(h_x_1.T@h_x_2)\n",
    "\n",
    "\n",
    "def next_layer_K_prime(X_1, X_2, l,  params, f: Callable):\n",
    "    \n",
    "    f_prime = jax.vmap(jax.grad(f))\n",
    "    \n",
    "    \n",
    "    h_x_1 =X_1\n",
    "    h_x_2 = X_2\n",
    "\n",
    "    for w, b in params[:l]:\n",
    "        # linear transformation\n",
    "        if len(h_x_1.shape) == 1:\n",
    "            h_x_1 = w*h_x_1 + b\n",
    "            h_x_2 = w*h_x_2 + b\n",
    "        else:\n",
    "            h_x_1 = w@h_x_1 + b\n",
    "            h_x_2 = w@h_x_2 + b\n",
    "\n",
    "        \n",
    "        \n",
    "        h_x_1 = f_prime(h_x_1[0])/jnp.sqrt(h_x_1.shape[0])\n",
    "        h_x_2 = f_prime(h_x_2[0])/jnp.sqrt(h_x_2.shape[0])\n",
    " \n",
    "    return jnp.mean(h_x_1.T@h_x_2)\n",
    "    \n",
    "    \n",
    "def analytical_NTK(X_1, X_2, params, activation):\n",
    "    \"\"\"\n",
    "    Compute the analytical NTK for the shallow network.\n",
    "    \"\"\"\n",
    "    K = np.zeros((N, N))\n",
    "    for i in range(N):\n",
    "        for j in range(N):\n",
    "            for h in range(len(params)):\n",
    "                if h == 0:\n",
    "                    K[i, j] = jnp.mean(activation(X_1[:, i])*activation(X_2[:, j]))+1\n",
    "                else:\n",
    "                    k_h = next_layer_K(X_1[i], X_2[j], h, params, activation)\n",
    "                    k_h_prime = next_layer_K_prime(X_1[i], X_2[j], h, params, activation)\n",
    "                    mult = jnp.multiply(k_h_prime, K[i, j])\n",
    "                    K[i, j] = k_h + mult + 1\n",
    "    return K\n",
    "                    \n",
    "    \n"
   ],
   "metadata": {
    "collapsed": false,
    "ExecuteTime": {
     "end_time": "2024-11-28T16:00:01.986815671Z",
     "start_time": "2024-11-28T16:00:01.965133343Z"
    }
   },
   "id": "27e052419fad6c57"
  },
  {
   "cell_type": "code",
   "execution_count": 9,
   "outputs": [
    {
     "data": {
      "text/plain": "array([[2.55400085, 2.48130178, 2.26969242],\n       [2.48130178, 2.50177932, 2.44701076],\n       [2.26969242, 2.44701076, 2.68728256]])"
     },
     "execution_count": 9,
     "metadata": {},
     "output_type": "execute_result"
    }
   ],
   "source": [
    "analytical_NTK(X, X, params, jnp.sin)"
   ],
   "metadata": {
    "collapsed": false,
    "ExecuteTime": {
     "end_time": "2024-11-28T16:00:03.815020965Z",
     "start_time": "2024-11-28T16:00:02.844492582Z"
    }
   },
   "id": "4013f12e9d3b61f2"
  },
  {
   "cell_type": "code",
   "execution_count": 12,
   "outputs": [
    {
     "data": {
      "text/plain": "Array([[[[-1.6178, -1.6178, -1.6178]]]], dtype=float32)"
     },
     "execution_count": 12,
     "metadata": {},
     "output_type": "execute_result"
    }
   ],
   "source": [
    "\n",
    "\n",
    "\n",
    "# im not sure if i should be differentiating the network wrt the parameters or the inputs\n",
    "def derivative_of_networks_wrt_params(X, params, activation):\n",
    "    \"\"\"\n",
    "    Compute the derivative of the network with respect to the parameters.\n",
    "    \"\"\"\n",
    "    return jax.vmap(lambda x: jax.jacobian(shallow_network, argnums=0)(x, params, activation))(X).T\n",
    "\n",
    "\n",
    "derivative_of_networks_wrt_params(X, params, jnp.sin)"
   ],
   "metadata": {
    "collapsed": false,
    "ExecuteTime": {
     "end_time": "2024-11-28T16:01:40.879543430Z",
     "start_time": "2024-11-28T16:01:40.825730Z"
    }
   },
   "id": "2d0b417343898825"
  },
  {
   "cell_type": "code",
   "execution_count": 13,
   "outputs": [
    {
     "data": {
      "text/plain": "[Array([[[[ 622.6655 , -966.14746,  347.57178]],\n \n         [[ 622.7124 , -966.1006 ,  347.61902]],\n \n         [[ 622.8069 , -966.00586,  347.71338]]]], dtype=float32)]"
     },
     "execution_count": 13,
     "metadata": {},
     "output_type": "execute_result"
    }
   ],
   "source": [
    "\n",
    "\n",
    "# def moore_penrose_inverse(A)\n",
    "def phi_t(X, y, act, t):\n",
    "    \"\"\"\n",
    "    estimate of params at time t\n",
    "    \"\"\"\n",
    "    params = init_params(key=random.PRNGKey(0), D_in=D_in, D_out=D_out, n_hidden=n_hidden, D_hidden=D_hidden)\n",
    "    \n",
    "    first_pred = jax.vmap(shallow_network, in_axes=(0, None, None))(X, params, act)\n",
    "    phi_ts = []\n",
    "    ntk = analytical_NTK(X, X, params, act)\n",
    "    df_dphi = derivative_of_networks_wrt_params(X, params, act)\n",
    "    \n",
    "    for i in range(t):\n",
    "        v = jnp.linalg.inv(ntk)*(jnp.identity(N) - expm(-t*ntk) )*(first_pred - y)\n",
    "        phi_t = df_dphi@v\n",
    "        phi_ts.append(phi_t)\n",
    "    return phi_ts\n",
    "\n",
    "\n",
    "\n",
    "phi_t(X, y, jnp.sin, 1)\n",
    "\n",
    "    \n",
    "    "
   ],
   "metadata": {
    "collapsed": false,
    "ExecuteTime": {
     "end_time": "2024-11-28T16:01:41.798705771Z",
     "start_time": "2024-11-28T16:01:41.522177799Z"
    }
   },
   "id": "23daffa5ecedc78c"
  },
  {
   "cell_type": "code",
   "execution_count": null,
   "outputs": [],
   "source": [],
   "metadata": {
    "collapsed": false,
    "ExecuteTime": {
     "start_time": "2024-11-28T15:40:29.820819444Z"
    }
   },
   "id": "4505f121c552ab02"
  }
 ],
 "metadata": {
  "kernelspec": {
   "display_name": "Python 3",
   "language": "python",
   "name": "python3"
  },
  "language_info": {
   "codemirror_mode": {
    "name": "ipython",
    "version": 2
   },
   "file_extension": ".py",
   "mimetype": "text/x-python",
   "name": "python",
   "nbconvert_exporter": "python",
   "pygments_lexer": "ipython2",
   "version": "2.7.6"
  }
 },
 "nbformat": 4,
 "nbformat_minor": 5
}
