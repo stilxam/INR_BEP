{
 "cells": [
  {
   "cell_type": "code",
   "execution_count": 1,
   "id": "initial_id",
   "metadata": {
    "collapsed": true,
    "ExecuteTime": {
     "end_time": "2024-11-20T13:37:20.599599097Z",
     "start_time": "2024-11-20T13:37:18.877375501Z"
    }
   },
   "outputs": [
    {
     "name": "stdout",
     "output_type": "stream",
     "text": [
      "/home/ovindar/PycharmProjects/INR_BEP/flax_exp\n"
     ]
    },
    {
     "name": "stderr",
     "output_type": "stream",
     "text": [
      "2024-11-20 14:37:20.536771: W external/xla/xla/service/gpu/nvptx_compiler.cc:930] The NVIDIA driver's CUDA version is 12.3 which is older than the PTX compiler version 12.6.77. Because the driver is older than the PTX compiler version, XLA is disabling parallel compilation, which may slow down compilation. You should update your NVIDIA driver or use the NVIDIA-provided CUDA forward compatibility packages.\n"
     ]
    }
   ],
   "source": [
    "import jax\n",
    "import jax.numpy as jnp\n",
    "import numpy as np\n",
    "from flax import linen as nn\n",
    "import optax\n",
    "import matplotlib.pyplot as plt\n",
    "from pathlib import Path\n",
    "import common_jax_utils as cju\n",
    "from typing import Union\n",
    "from tqdm import tqdm\n",
    "import wandb\n",
    "import ml_collections\n",
    "key = jax.random.PRNGKey(12398)\n",
    "key_gen = cju.key_generator(key)\n",
    "\n",
    "print(Path.cwd())"
   ]
  },
  {
   "cell_type": "code",
   "execution_count": 2,
   "outputs": [],
   "source": [
    "def set_config():\n",
    "    config = ml_collections.ConfigDict()\n",
    "    config.lr = 1e-3\n",
    "    config.num_epochs = 10\n",
    "    config.batch_size = 256\n",
    "\n",
    "\n",
    "    config.in_features = 2\n",
    "    config.out_features = 3\n",
    "    \n",
    "    config.num_layers = 4\n",
    "    config.hidden_features = 256\n",
    "    \n",
    "    \n",
    "    config.s0 = 12\n",
    "    config.w0 = 1\n",
    "    return config"
   ],
   "metadata": {
    "collapsed": false,
    "ExecuteTime": {
     "end_time": "2024-11-20T13:37:20.642232326Z",
     "start_time": "2024-11-20T13:37:20.602113835Z"
    }
   },
   "id": "2b539433e6573dc5"
  },
  {
   "cell_type": "code",
   "execution_count": 3,
   "outputs": [],
   "source": [
    "def image_loader():\n",
    "    parent = Path.cwd().parent\n",
    "    parrot = parent / 'example_data' / 'parrot.png'\n",
    "    parrot = plt.imread(parrot)\n",
    "    parrot = jnp.array(parrot)\n",
    "    return parrot\n",
    "\n",
    "def data_format():\n",
    "    y = image_loader()\n",
    "    x = jnp.array(np.meshgrid(np.arange(y.shape[0]), np.arange(y.shape[1]), indexing='ij')).T.reshape(-1, 2)\n",
    "    y = y.reshape(-1, 3)\n",
    "    return x, y\n",
    "\n",
    "\n",
    "def data_loader(batch_size, key):\n",
    "    x, y = data_format()\n",
    "    together = jnp.concatenate([x, y], axis=1)\n",
    "    key, subkey = jax.random.split(key)\n",
    "    shuffled = jax.random.permutation(subkey, together)\n",
    "    x, y = jnp.split(shuffled, [2], axis=1)\n",
    "    x = jnp.array(x, dtype=jnp.int16)\n",
    "    for i in range(0, len(x), batch_size):\n",
    "        yield x[i:i+batch_size], y[i:i+batch_size]\n",
    "    \n",
    "\n",
    "\n",
    "sh = data_format()[1].shape\n",
    "length = sh[0]*sh[1]\n"
   ],
   "metadata": {
    "collapsed": false,
    "ExecuteTime": {
     "end_time": "2024-11-20T13:37:20.783508686Z",
     "start_time": "2024-11-20T13:37:20.605182437Z"
    }
   },
   "id": "bd9945ef718d0ac6"
  },
  {
   "cell_type": "code",
   "execution_count": 4,
   "outputs": [],
   "source": [
    "def complex_kernel_initialization(rng, shape, dtype):\n",
    "    key, subkey = jax.random.split(rng)\n",
    "    real = jax.random.normal(key, shape, dtype=dtype)\n",
    "    key, subkey = jax.random.split(key)\n",
    "    imag = jax.random.normal(key, shape, dtype=dtype)\n",
    "    return real + jnp.imag(imag/np.sqrt(shape[0]))\n",
    "\n",
    "def complex_wire(x: jax.Array, s0:Union[float, jax.Array], w0:Union[float, jax.Array]):\n",
    "    \"\"\"\n",
    "    Implements a complex version of WIRE\n",
    "    that is exp(j*w0*x)*exp(-|s0*x'|^2)\n",
    "    from https://arxiv.org/pdf/2301.05187\n",
    "\n",
    "    :parameter x: a bunch of `jax.Array`s to be fed to this activation function\n",
    "        var positional\n",
    "    :parameter s0: inverse scale used in the radial part of the wavelet (s_0 in the paper)\n",
    "        keyword only\n",
    "    :parameter w0: w0 parameter used in the rotational art of the wavelet (\\omega_0 in the paper)\n",
    "        keyword only\n",
    "    :return: a `jax.Array` with a shape determined by broadcasting all elements of x to tha same shape\n",
    "    \"\"\"\n",
    "    radial_part = jnp.exp(\n",
    "        -jnp.square(\n",
    "            jnp.abs(\n",
    "                s0 * x\n",
    "            )\n",
    "        )\n",
    "    )\n",
    "    rotational_part = jnp.exp(jnp.imag(w0 * x))\n",
    "\n",
    "\n",
    "    return rotational_part*radial_part\n",
    "\n",
    "def unscaled_gaussian_bump(*x:jax.Array, inverse_scale:Union[float, jax.Array]):\n",
    "    \"\"\" \n",
    "    e^(sum_{x' in x}-|inverse_scale*x'|^2)\n",
    "\n",
    "    :param x: sequence of arrays for which to calculate the gaussian bump\n",
    "    :returns: the product of the gaussian bumps (computed as a sum in log-space)\n",
    "    \"\"\"\n",
    "    x = jnp.stack(x, axis=0)\n",
    "    if jnp.isrealobj(x):\n",
    "        scaled_x = inverse_scale*x\n",
    "    else:\n",
    "        scaled_x = jnp.abs(inverse_scale*x)\n",
    "    return jnp.exp(-jnp.sum(jnp.square(scaled_x), axis=0))\n",
    "\n",
    "\n",
    "def real_wire(*x: jax.Array, s0:Union[float, jax.Array], w0:Union[float, jax.Array]):\n",
    "    \"\"\" \n",
    "    Implements a real version of WIRE-nD\n",
    "    that is sin(w0*x[0])*exp(-\\sum_{x' in x}|inverse_scale*x'|^2)\n",
    "    from https://arxiv.org/pdf/2301.05187\n",
    "\n",
    "    :parameter x: a bunch of `jax.Array`s to be fed to this activation function\n",
    "        var positional\n",
    "    :parameter s0: inverse scale used in the radial part of the wavelet (s_0 in the paper)\n",
    "        keyword only\n",
    "    :parameter w0: w0 parameter used in the rotational art of the wavelet (\\omega_0 in the paper)\n",
    "        keyword only\n",
    "    :return: a `jax.Array` with a shape determined by broadcasting all elements of x to tha same shape\n",
    "    \"\"\"\n",
    "    radial_part = unscaled_gaussian_bump(*x, inverse_scale=s0)\n",
    "    rotational_part = jnp.sin(w0*x[0])\n",
    "    return rotational_part*radial_part"
   ],
   "metadata": {
    "collapsed": false,
    "ExecuteTime": {
     "end_time": "2024-11-20T13:37:20.820409759Z",
     "start_time": "2024-11-20T13:37:20.787032321Z"
    }
   },
   "id": "25f88334869eb0b8"
  },
  {
   "cell_type": "code",
   "execution_count": 5,
   "outputs": [],
   "source": [
    "\n",
    "class ComplexDense(nn.Module):\n",
    "    \n",
    "    in_features: int = 2\n",
    "    hidden_features: int =32\n",
    "    out_features: int = 3\n",
    "    num_layers: int = 1\n",
    "    s0: float = 1\n",
    "    w0: float = 1\n",
    "    \n",
    "    @nn.compact\n",
    "    def __call__(self, x):\n",
    "        x = nn.Dense(\n",
    "            features=self.hidden_features,\n",
    "            kernel_init=complex_kernel_initialization,\n",
    "            bias_init=complex_kernel_initialization,\n",
    "            name='input_layer'\n",
    "        )(x)\n",
    "        x = complex_wire(x, self.s0, self.w0)\n",
    "        for i in range(self.num_layers-1):\n",
    "            x = nn.Dense(\n",
    "                features=self.hidden_features,\n",
    "                kernel_init=complex_kernel_initialization,\n",
    "                bias_init=complex_kernel_initialization,\n",
    "                name=f'fc{i}'\n",
    "            )(x)\n",
    "            x = complex_wire(x, self.s0, self.w0)\n",
    "        \n",
    "        x = nn.Dense(\n",
    "            features=self.out_features,\n",
    "            kernel_init=complex_kernel_initialization,\n",
    "            bias_init=complex_kernel_initialization,\n",
    "            name='output_layer'\n",
    "        )(x)\n",
    "        # x = real_wire(x, s0=self.s0, w0=self.w0)\n",
    "        x = complex_wire(x, s0=self.s0, w0=self.w0)\n",
    "        \n",
    "        \n",
    "        return x\n",
    "    \n",
    "    \n",
    "config = set_config()\n",
    "model = ComplexDense(\n",
    "    in_features=config.in_features,\n",
    "    hidden_features=config.hidden_features,\n",
    "    out_features=config.out_features,\n",
    "    num_layers=config.num_layers,\n",
    "    s0=config.s0,\n",
    "    w0=config.w0\n",
    ")\n",
    "\n"
   ],
   "metadata": {
    "collapsed": false,
    "ExecuteTime": {
     "end_time": "2024-11-20T13:37:20.862864864Z",
     "start_time": "2024-11-20T13:37:20.793724881Z"
    }
   },
   "id": "417bf3550f7cedf4"
  },
  {
   "cell_type": "code",
   "execution_count": 6,
   "outputs": [],
   "source": [
    "def loss_fn(params, x, y):\n",
    "    \"\"\"Mean squared error loss.\"\"\"\n",
    "    y_pred = model.apply(params, x)\n",
    "    return jnp.mean(jnp.square(y - y_pred)) + 1e-8\n",
    "\n",
    "\n",
    "def update(params, x, y, opt, opt_state):\n",
    "    \"\"\"\n",
    "    Compute the gradient for a batch and update the parameters.\n",
    "    \"\"\"\n",
    "    loss, grads = jax.value_and_grad(loss_fn)(params, x, y)\n",
    "\n",
    "\n",
    "    \n",
    "    # jax.tree.map(lambda g: print(g), grads)\n",
    "    # loss, vjp_fn = jax.vjp(loss_fn, params, x, y)\n",
    "    # grads = vjp_fn(jnp.ones_like(loss))[0]\n",
    "    \n",
    "    # grads = jax.tree.map(lambda g: jnp.clip(g, -1.0, 1.0), grads)\n",
    "\n",
    "    \n",
    "    updates, opt_state = opt.update(grads, opt_state)\n",
    "    new_params = optax.apply_updates(params, updates)\n",
    "    return new_params, opt_state, loss\n",
    "\n",
    "def render_and_save_image(params, epoch):\n",
    "    path = Path.cwd() / f'epoch_{epoch}.png'\n",
    "    pred_ys, _ = test(params, 512)\n",
    "    pred_ys = pred_ys.reshape(sh)\n",
    "    plt.imsave(path, pred_ys)\n",
    "    return pred_ys\n",
    "    \n",
    "\n",
    "def train(params, opt, opt_state, num_epochs, batch_size, key):\n",
    "    \"\"\"\n",
    "    Train the model for a number of epochs.\n",
    "    \"\"\"\n",
    "    for epoch in tqdm(range(num_epochs)):\n",
    "        key, subkey = jax.random.split(key)\n",
    "        dl = data_loader(batch_size, key)\n",
    "        for x, y in dl:\n",
    "            params, opt_state, loss = update(params, x, y, opt, opt_state)\n",
    "            \n",
    "            if jnp.isnan(loss):\n",
    "                raise ValueError('Loss is NaN')\n",
    "        \n",
    "        render_and_save_image(params, epoch)\n",
    "        \n",
    "        print(f'Epoch: {epoch}, Loss: {loss}')\n",
    "        wandb.log({'loss': loss, 'epoch': epoch})\n",
    "    return params\n",
    "\n",
    "\n",
    "def test(params, batch_size):\n",
    "    x, y = data_format()\n",
    "    pred_ys = jnp.array([])\n",
    "    for i in range(0, len(x), batch_size):\n",
    "        x_batch, y_batch = x[i:i+batch_size], y[i:i+batch_size]\n",
    "        y_pred = model.apply(params, x_batch)\n",
    "        if pred_ys.shape[0] == 0:\n",
    "            pred_ys = y_pred\n",
    "        else:\n",
    "            pred_ys = jnp.concatenate([pred_ys, y_pred], axis=0)\n",
    "    loss = jnp.mean(jnp.square(y - pred_ys))\n",
    "    return pred_ys, loss\n",
    "    \n",
    "        \n",
    "\n",
    "def main():\n",
    "    wandb.init(project='flax_wire')\n",
    "    \n",
    "    \n",
    "    config = set_config()\n",
    "    key = jax.random.PRNGKey(0)\n",
    "    lr = config.lr\n",
    "    num_epochs = config.num_epochs\n",
    "    batch_size = config.batch_size\n",
    "    \n",
    "    \n",
    "    wandb.config.update(config)\n",
    "\n",
    "    \n",
    "    params = model.init(next(key_gen), jnp.ones((1, 2)))\n",
    "    \n",
    "    \n",
    "    opt = optax.adam(lr)\n",
    "    \n",
    "    opt_state = opt.init(params)\n",
    "    data = data_loader(batch_size, key)\n",
    "    \n",
    "    trained_params = train(\n",
    "        params=params,\n",
    "        opt=opt,\n",
    "        opt_state=opt_state,\n",
    "        num_epochs=num_epochs,\n",
    "        batch_size=batch_size,\n",
    "        key=key\n",
    "    )\n",
    "        \n",
    "    pred_ys, test_loss = test(\n",
    "        params=trained_params,\n",
    "        batch_size=batch_size\n",
    "    )\n",
    "    print(f'Training Done, Test Loss: {test_loss}')\n",
    "    wandb.log({'test_loss': test_loss})\n",
    "    \n",
    "    \n",
    "    \n",
    "    fig, ax = plt.subplots(1, 2, figsize=(10, 5))\n",
    "    img = image_loader()[1]\n",
    "    ax[0].imshow(img)\n",
    "    ax[0].set_title('Original Image')\n",
    "    ax[1].imshow(pred_ys.reshape(img.shape))\n",
    "    ax[1].set_title('Reconstructed Image')\n",
    "    return pred_ys"
   ],
   "metadata": {
    "collapsed": false,
    "ExecuteTime": {
     "end_time": "2024-11-20T13:37:20.897933832Z",
     "start_time": "2024-11-20T13:37:20.814317295Z"
    }
   },
   "id": "e63ac0926ec510c8"
  },
  {
   "cell_type": "code",
   "execution_count": null,
   "outputs": [
    {
     "name": "stderr",
     "output_type": "stream",
     "text": [
      "\u001B[34m\u001B[1mwandb\u001B[0m: Using wandb-core as the SDK backend. Please refer to https://wandb.me/wandb-core for more information.\n",
      "\u001B[34m\u001B[1mwandb\u001B[0m: Currently logged in as: \u001B[33mmaxwell_litsios\u001B[0m (\u001B[33mbep-circle\u001B[0m). Use \u001B[1m`wandb login --relogin`\u001B[0m to force relogin\n"
     ]
    },
    {
     "data": {
      "text/plain": "<IPython.core.display.HTML object>",
      "text/html": "Tracking run with wandb version 0.18.3"
     },
     "metadata": {},
     "output_type": "display_data"
    },
    {
     "data": {
      "text/plain": "<IPython.core.display.HTML object>",
      "text/html": "Run data is saved locally in <code>/home/ovindar/PycharmProjects/INR_BEP/flax_exp/wandb/run-20241120_143721-igiwdpjp</code>"
     },
     "metadata": {},
     "output_type": "display_data"
    },
    {
     "data": {
      "text/plain": "<IPython.core.display.HTML object>",
      "text/html": "Syncing run <strong><a href='https://wandb.ai/bep-circle/flax_wire/runs/igiwdpjp' target=\"_blank\">efficient-blaze-7</a></strong> to <a href='https://wandb.ai/bep-circle/flax_wire' target=\"_blank\">Weights & Biases</a> (<a href='https://wandb.me/run' target=\"_blank\">docs</a>)<br/>"
     },
     "metadata": {},
     "output_type": "display_data"
    },
    {
     "data": {
      "text/plain": "<IPython.core.display.HTML object>",
      "text/html": " View project at <a href='https://wandb.ai/bep-circle/flax_wire' target=\"_blank\">https://wandb.ai/bep-circle/flax_wire</a>"
     },
     "metadata": {},
     "output_type": "display_data"
    },
    {
     "data": {
      "text/plain": "<IPython.core.display.HTML object>",
      "text/html": " View run at <a href='https://wandb.ai/bep-circle/flax_wire/runs/igiwdpjp' target=\"_blank\">https://wandb.ai/bep-circle/flax_wire/runs/igiwdpjp</a>"
     },
     "metadata": {},
     "output_type": "display_data"
    },
    {
     "name": "stderr",
     "output_type": "stream",
     "text": [
      "  0%|          | 0/10 [00:00<?, ?it/s]"
     ]
    }
   ],
   "source": [
    "main()"
   ],
   "metadata": {
    "collapsed": false,
    "is_executing": true,
    "ExecuteTime": {
     "start_time": "2024-11-20T13:37:20.890623556Z"
    }
   },
   "id": "64ba911958e1f0fe"
  },
  {
   "cell_type": "code",
   "execution_count": null,
   "outputs": [],
   "source": [],
   "metadata": {
    "collapsed": false,
    "ExecuteTime": {
     "start_time": "2024-11-20T11:54:13.365164146Z"
    }
   },
   "id": "a3ffc3a84e9b2525"
  },
  {
   "cell_type": "code",
   "execution_count": null,
   "outputs": [],
   "source": [],
   "metadata": {
    "collapsed": false,
    "ExecuteTime": {
     "start_time": "2024-11-20T11:34:35.552495396Z"
    }
   },
   "id": "bea68c227161a4a5"
  }
 ],
 "metadata": {
  "kernelspec": {
   "display_name": "Python 3",
   "language": "python",
   "name": "python3"
  },
  "language_info": {
   "codemirror_mode": {
    "name": "ipython",
    "version": 2
   },
   "file_extension": ".py",
   "mimetype": "text/x-python",
   "name": "python",
   "nbconvert_exporter": "python",
   "pygments_lexer": "ipython2",
   "version": "2.7.6"
  }
 },
 "nbformat": 4,
 "nbformat_minor": 5
}
