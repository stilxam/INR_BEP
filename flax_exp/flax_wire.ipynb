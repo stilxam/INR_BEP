{
 "cells": [
  {
   "cell_type": "code",
   "execution_count": 8,
   "id": "initial_id",
   "metadata": {
    "collapsed": true,
    "ExecuteTime": {
     "end_time": "2024-11-21T11:12:45.811320062Z",
     "start_time": "2024-11-21T11:12:45.765994103Z"
    }
   },
   "outputs": [
    {
     "name": "stdout",
     "output_type": "stream",
     "text": [
      "/home/ovindar/PycharmProjects/INR_BEP/flax_exp\n"
     ]
    }
   ],
   "source": [
    "import jax\n",
    "import jax.numpy as jnp\n",
    "import numpy as np\n",
    "from flax import linen as nn\n",
    "import optax\n",
    "import matplotlib.pyplot as plt\n",
    "from pathlib import Path\n",
    "import common_jax_utils as cju\n",
    "from typing import Union\n",
    "from tqdm import tqdm\n",
    "import wandb\n",
    "import ml_collections\n",
    "key = jax.random.PRNGKey(12398)\n",
    "key_gen = cju.key_generator(key)\n",
    "\n",
    "print(Path.cwd())"
   ]
  },
  {
   "cell_type": "code",
   "execution_count": 72,
   "outputs": [],
   "source": [
    "def set_config():\n",
    "    config = ml_collections.ConfigDict()\n",
    "    config.lr = 0.0005\n",
    "    config.num_epochs = 3\n",
    "    config.batch_size = 1024\n",
    "\n",
    "\n",
    "    config.in_features = 2\n",
    "    config.out_features = 3\n",
    "    \n",
    "    config.num_layers = 3\n",
    "    config.hidden_features = 1024\n",
    "    \n",
    "    \n",
    "    config.s0 = 5\n",
    "    config.w0 = 5\n",
    "    return config"
   ],
   "metadata": {
    "collapsed": false,
    "ExecuteTime": {
     "end_time": "2024-11-21T11:23:56.308625912Z",
     "start_time": "2024-11-21T11:23:56.249794907Z"
    }
   },
   "id": "2b539433e6573dc5"
  },
  {
   "cell_type": "code",
   "execution_count": 73,
   "outputs": [],
   "source": [
    "def image_loader():\n",
    "    parent = Path.cwd().parent\n",
    "    parrot = parent / 'example_data' / 'parrot.png'\n",
    "    parrot = plt.imread(parrot)\n",
    "    parrot = jnp.array(parrot)\n",
    "    return parrot\n",
    "\n",
    "\n",
    "def kirby():\n",
    "    parent = Path.cwd().parent\n",
    "    kirby = parent / 'example_data' / 'kirby.png'\n",
    "    kirby = plt.imread(kirby)\n",
    "    kirby = jnp.array(kirby)\n",
    "    return kirby\n",
    "\n",
    "def data_format():\n",
    "    # y = image_loader()\n",
    "    y = kirby()\n",
    "    dims = y.shape\n",
    "    x = jnp.array(np.meshgrid(np.arange(y.shape[0]), np.arange(y.shape[1]), indexing='ij')).T.reshape(-1, 2)\n",
    "    y = y.reshape(-1, 3)\n",
    "    return x, y, dims\n",
    "\n",
    "\n",
    "# def data_loader(batch_size, key):\n",
    "#     x, y, _= data_format()\n",
    "#     together = jnp.concatenate([x, y], axis=1)\n",
    "#     key, subkey = jax.random.split(key)\n",
    "#     shuffled = jax.random.permutation(subkey, together)\n",
    "#     x, y = jnp.split(shuffled, [2], axis=1)\n",
    "#     for i in range(0, len(x), batch_size):\n",
    "#         yield x[i:i+batch_size], y[i:i+batch_size]\n",
    "    \n",
    "def data_loader(batch_size, key):\n",
    "    x, y, _= data_format()\n",
    "    key, subkey = jax.random.split(key)\n",
    "    shuffled = jax.random.permutation(subkey, jnp.arange(x.shape[0]))\n",
    "    x = x[shuffled]\n",
    "    y = y[shuffled]\n",
    "    for i in range(0, len(x), batch_size):\n",
    "        yield x[i:i+batch_size], y[i:i+batch_size]\n",
    "    \n",
    "\n"
   ],
   "metadata": {
    "collapsed": false,
    "ExecuteTime": {
     "end_time": "2024-11-21T11:23:56.581779353Z",
     "start_time": "2024-11-21T11:23:56.439498666Z"
    }
   },
   "id": "bd9945ef718d0ac6"
  },
  {
   "cell_type": "code",
   "execution_count": 73,
   "outputs": [],
   "source": [],
   "metadata": {
    "collapsed": false,
    "ExecuteTime": {
     "end_time": "2024-11-21T11:23:56.619984624Z",
     "start_time": "2024-11-21T11:23:56.583726994Z"
    }
   },
   "id": "cefdcc621cccbaf5"
  },
  {
   "cell_type": "code",
   "execution_count": 74,
   "outputs": [],
   "source": [
    "def complex_kernel_initialization(rng, shape, dtype):\n",
    "    key, subkey = jax.random.split(rng)\n",
    "    real = jax.random.normal(key, shape, dtype=dtype)\n",
    "    key, subkey = jax.random.split(key)\n",
    "    imag = jax.random.normal(key, shape, dtype=dtype)\n",
    "    return (real + jnp.imag(imag))/jnp.sqrt(shape[0])\n",
    "\n",
    "def complex_input_kernel_initialization(rng, shape, dtype):\n",
    "    key, w_key = jax.random.split(rng)\n",
    "    in_size = shape[0]\n",
    "    lim = 1./in_size# from https://github.com/vsitzmann/siren/blob/4df34baee3f0f9c8f351630992c1fe1f69114b5f/modules.py#L630\n",
    "\n",
    "    \n",
    "    real = jax.random.uniform(\n",
    "        key=w_key,\n",
    "        shape=shape,\n",
    "        minval=-lim, \n",
    "        maxval=lim,\n",
    "        dtype=dtype\n",
    "        )\n",
    "    imag = jax.random.uniform(\n",
    "        key=w_key,\n",
    "        shape=shape,\n",
    "        minval=-lim, \n",
    "        maxval=lim,\n",
    "        dtype=dtype\n",
    "        )\n",
    "    \n",
    "    return real + jnp.imag(imag)\n",
    "    \n",
    "\n",
    "def complex_kernel_initialization2(rng, shape, dtype):\n",
    "    key, w_key = jax.random.split(rng)\n",
    "    in_size = shape[0]\n",
    "    lim = jnp.sqrt(6./in_size)/config.w0  # from https://arxiv.org/pdf/2006.09661.pdf subsection.3.2 and appendix 1.5 and https://github.com/vsitzmann/siren/blob/4df34baee3f0f9c8f351630992c1fe1f69114b5f/modules.py#L627\n",
    "    \n",
    "    real = jax.random.uniform(\n",
    "        key=w_key,\n",
    "        shape=shape,\n",
    "        minval=-lim, \n",
    "        maxval=lim,\n",
    "        dtype=dtype\n",
    "        )\n",
    "    imag = jax.random.uniform(\n",
    "        key=w_key,\n",
    "        shape=shape,\n",
    "        minval=-lim, \n",
    "        maxval=lim,\n",
    "        dtype=dtype\n",
    "        )\n",
    "    \n",
    "    return real + jnp.imag(imag)\n",
    "    \n",
    "            \n",
    "\n",
    "def complex_wire(x: jax.Array, s0:Union[float, jax.Array], w0:Union[float, jax.Array]):\n",
    "    \"\"\"\n",
    "    Implements a complex version of WIRE\n",
    "    that is exp(j*w0*x)*exp(-|s0*x'|^2)\n",
    "    from https://arxiv.org/pdf/2301.05187\n",
    "\n",
    "    :parameter x: a bunch of `jax.Array`s to be fed to this activation function\n",
    "        var positional\n",
    "    :parameter s0: inverse scale used in the radial part of the wavelet (s_0 in the paper)\n",
    "        keyword only\n",
    "    :parameter w0: w0 parameter used in the rotational art of the wavelet (\\omega_0 in the paper)\n",
    "        keyword only\n",
    "    :return: a `jax.Array` with a shape determined by broadcasting all elements of x to tha same shape\n",
    "    \"\"\"\n",
    "    radial_part = jnp.exp(\n",
    "        -jnp.square(\n",
    "            jnp.abs(\n",
    "                s0 * x\n",
    "            )\n",
    "        )\n",
    "    )\n",
    "    rotational_part = jnp.exp(jnp.imag(w0 * x))\n",
    "\n",
    "    return rotational_part*radial_part\n",
    "\n",
    "def unscaled_gaussian_bump(*x:jax.Array, inverse_scale:Union[float, jax.Array]):\n",
    "    \"\"\" \n",
    "    e^(sum_{x' in x}-|inverse_scale*x'|^2)\n",
    "\n",
    "    :param x: sequence of arrays for which to calculate the gaussian bump\n",
    "    :returns: the product of the gaussian bumps (computed as a sum in log-space)\n",
    "    \"\"\"\n",
    "    x = jnp.stack(x, axis=0)\n",
    "    if jnp.isrealobj(x):\n",
    "        scaled_x = inverse_scale*x\n",
    "    else:\n",
    "        scaled_x = jnp.abs(inverse_scale*x)\n",
    "    return jnp.exp(-jnp.sum(jnp.square(scaled_x), axis=0))\n",
    "\n",
    "\n",
    "def real_wire(*x: jax.Array, s0:Union[float, jax.Array], w0:Union[float, jax.Array]):\n",
    "    \"\"\" \n",
    "    Implements a real version of WIRE-nD\n",
    "    that is sin(w0*x[0])*exp(-\\sum_{x' in x}|inverse_scale*x'|^2)\n",
    "    from https://arxiv.org/pdf/2301.05187\n",
    "\n",
    "    :parameter x: a bunch of `jax.Array`s to be fed to this activation function\n",
    "        var positional\n",
    "    :parameter s0: inverse scale used in the radial part of the wavelet (s_0 in the paper)\n",
    "        keyword only\n",
    "    :parameter w0: w0 parameter used in the rotational art of the wavelet (\\omega_0 in the paper)\n",
    "        keyword only\n",
    "    :return: a `jax.Array` with a shape determined by broadcasting all elements of x to tha same shape\n",
    "    \"\"\"\n",
    "    radial_part = unscaled_gaussian_bump(*x, inverse_scale=s0)\n",
    "    rotational_part = jnp.sin(w0*x[0])\n",
    "    return rotational_part*radial_part"
   ],
   "metadata": {
    "collapsed": false,
    "ExecuteTime": {
     "end_time": "2024-11-21T11:23:56.718431761Z",
     "start_time": "2024-11-21T11:23:56.702084731Z"
    }
   },
   "id": "25f88334869eb0b8"
  },
  {
   "cell_type": "code",
   "execution_count": 75,
   "outputs": [],
   "source": [
    "\n",
    "class ComplexDense(nn.Module):\n",
    "    \n",
    "    in_features: int = 2\n",
    "    hidden_features: int = 256\n",
    "    out_features: int = 3\n",
    "    num_layers: int = 5\n",
    "    s0: float = 12\n",
    "    w0: float = 10\n",
    "    \n",
    "    @nn.compact\n",
    "    def __call__(self, x):\n",
    "        x = nn.Dense(\n",
    "            features=self.hidden_features,\n",
    "            kernel_init=complex_input_kernel_initialization,\n",
    "            bias_init=complex_input_kernel_initialization,\n",
    "            name='input_layer'\n",
    "        )(x)\n",
    "        x = complex_wire(x, self.s0, self.w0)\n",
    "        for i in range(self.num_layers-1):\n",
    "            x = nn.Dense(\n",
    "                features=self.hidden_features,\n",
    "                kernel_init=complex_kernel_initialization2,\n",
    "                bias_init=complex_kernel_initialization2,\n",
    "                name=f'fc{i}'\n",
    "            )(x)\n",
    "            x = complex_wire(x, self.s0, self.w0)\n",
    "        \n",
    "        x = nn.Dense(\n",
    "            features=self.out_features,\n",
    "            kernel_init=complex_kernel_initialization2,\n",
    "            bias_init=complex_kernel_initialization2,\n",
    "            name='output_layer'\n",
    "        )(x)\n",
    "        # x = real_wire(x, s0=self.s0, w0=self.w0)\n",
    "        x = complex_wire(x, s0=self.s0, w0=self.w0)\n",
    "        \n",
    "        \n",
    "        return x\n",
    "    \n",
    "    \n",
    "config = set_config()\n",
    "model = ComplexDense(\n",
    "    in_features=config.in_features,\n",
    "    hidden_features=config.hidden_features,\n",
    "    out_features=config.out_features,\n",
    "    num_layers=config.num_layers,\n",
    "    s0=config.s0,\n",
    "    w0=config.w0\n",
    ")\n",
    "\n"
   ],
   "metadata": {
    "collapsed": false,
    "ExecuteTime": {
     "end_time": "2024-11-21T11:23:56.845943372Z",
     "start_time": "2024-11-21T11:23:56.839463504Z"
    }
   },
   "id": "417bf3550f7cedf4"
  },
  {
   "cell_type": "code",
   "execution_count": 76,
   "outputs": [],
   "source": [
    "\n",
    "def mse_loss(pred, true):\n",
    "    return jnp.mean(jnp.square(pred - true))\n",
    "    \n",
    "\n",
    "def loss_fn(params, x, true_val, eps=1e-6):\n",
    "    \"\"\"Mean squared error loss.\"\"\"\n",
    "    pred_val = model.apply(params, x)\n",
    "    mse = mse_loss(pred_val, true_val)\n",
    "    # mean_true_val = true_val.mean(axis=0, keepdims=True)\n",
    "    # scaling = mse_loss(mean_true_val, true_val)\n",
    "    # return mse/(scaling + eps)\n",
    "    return mse\n",
    "\n",
    "\n",
    "\n",
    "def update(params, x, y, opt, opt_state):\n",
    "    \"\"\"\n",
    "    Compute the gradient for a batch and update the parameters.\n",
    "    \"\"\"\n",
    "    loss, grads = jax.value_and_grad(loss_fn)(params, x, y)   \n",
    "    updates, opt_state = opt.update(grads, opt_state)\n",
    "    new_params = optax.apply_updates(params, updates)\n",
    "    return new_params, opt_state, loss\n",
    "\n",
    "def render_and_save_image(params, epoch):\n",
    "    path = Path.cwd() / f'epoch_{epoch}.png'\n",
    "    pred_ys, _ = test(params, 1)\n",
    "    sh = data_format()[2]\n",
    "    pred_ys = pred_ys.reshape(sh)\n",
    "    plt.imsave(path, pred_ys)\n",
    "    return pred_ys\n",
    "    \n",
    "\n",
    "def train(params, opt, opt_state, num_epochs, batch_size, key):\n",
    "    \"\"\"\n",
    "    Train the model for a number of epochs.\n",
    "    \"\"\"\n",
    "    \n",
    "    for epoch in tqdm(range(num_epochs)):\n",
    "        \n",
    "        key, subkey = jax.random.split(key)\n",
    "        dl = data_loader(batch_size, key)\n",
    "        \n",
    "        for x, y in dl:\n",
    "            params, opt_state, loss = update(params, x, y, opt, opt_state)\n",
    "            \n",
    "            if jnp.isnan(loss):\n",
    "                raise ValueError('Loss is NaN')\n",
    "            if loss <0.05:\n",
    "                break\n",
    "        \n",
    "        render_and_save_image(params, epoch)\n",
    "        if epoch % 10 == 0:\n",
    "            print(f'Epoch: {epoch}, Loss: {loss}')\n",
    "        wandb.log({'loss': loss, 'epoch': epoch})\n",
    "        \n",
    "    return params\n",
    "\n",
    "def train_max_steps(params, opt, opt_state, num_steps, batch_size, key):\n",
    "    \"\"\"\n",
    "    Train the model for a number of epochs.\n",
    "    \"\"\"\n",
    "    \n",
    "    dl = data_loader(batch_size, key)\n",
    "    for i in tqdm(range(num_steps)):\n",
    "        key, subkey = jax.random.split(key)\n",
    "        x, y = next(dl)\n",
    "        if x is None:\n",
    "            dl = data_loader(batch_size, key)\n",
    "            x, y = next(dl)\n",
    "            \n",
    "        \n",
    "        params, opt_state, loss = update(params, x, y, opt, opt_state)\n",
    "        if jnp.isnan(loss):\n",
    "            raise ValueError('Loss is NaN')\n",
    "        if i % 1000 == 0:\n",
    "            print(f'Step: {i}, Loss: {loss}')\n",
    "        wandb.log({'loss': loss, 'step': i})\n",
    "        \n",
    "    return params\n",
    "\n",
    "\n",
    "def test(params, batch_size):\n",
    "    x, y, _ = data_format()\n",
    " \n",
    "    \n",
    "    pred_ys = model.apply(params, x)\n",
    "    loss = loss_fn(params, x, y)\n",
    "    return pred_ys, loss\n",
    "    \n",
    "        \n",
    "\n",
    "def main():\n",
    "    wandb.init(project='flax_wire')\n",
    "    \n",
    "    config = set_config()\n",
    "    key = jax.random.PRNGKey(0)\n",
    "    lr = config.lr\n",
    "    num_epochs = config.num_epochs\n",
    "    batch_size = config.batch_size\n",
    "    \n",
    "    \n",
    "    wandb.config.update(config)\n",
    "\n",
    "    \n",
    "    params = model.init(next(key_gen), jnp.ones((1, 2)))\n",
    "    \n",
    "    print(model)\n",
    "    \n",
    "    # print the model summary\n",
    "    \n",
    "    \n",
    "    \n",
    "    opt = optax.adam(lr)\n",
    "    \n",
    "    opt_state = opt.init(params)\n",
    "    \n",
    "    trained_params = train(\n",
    "        params=params,\n",
    "        opt=opt,\n",
    "        opt_state=opt_state,\n",
    "        num_epochs=num_epochs,\n",
    "        batch_size=batch_size,\n",
    "        key=key\n",
    "    )\n",
    "\n",
    "        \n",
    "    pred_ys, test_loss = test(\n",
    "        params=trained_params,\n",
    "        batch_size=batch_size\n",
    "    )\n",
    "    print(f'Training Done, Test Loss: {test_loss}')\n",
    "    wandb.log({'test_loss': test_loss})\n",
    "    pred_ys = pred_ys.reshape(data_format()[2])\n",
    "    \n",
    "    fig, ax = plt.subplots(1, 2)\n",
    "    ax[0].imshow(pred_ys)\n",
    "    ax[1].imshow(kirby())\n",
    "    plt.show()\n",
    "    \n",
    "    \n",
    "    \n",
    "    \n",
    "\n",
    "    return pred_ys"
   ],
   "metadata": {
    "collapsed": false,
    "ExecuteTime": {
     "end_time": "2024-11-21T11:23:57.008094058Z",
     "start_time": "2024-11-21T11:23:56.985854156Z"
    }
   },
   "id": "e63ac0926ec510c8"
  },
  {
   "cell_type": "code",
   "execution_count": 77,
   "outputs": [
    {
     "data": {
      "text/plain": "<IPython.core.display.HTML object>",
      "text/html": "Finishing last run (ID:2rvshveu) before initializing another..."
     },
     "metadata": {},
     "output_type": "display_data"
    },
    {
     "data": {
      "text/plain": "VBox(children=(Label(value='0.018 MB of 0.018 MB uploaded\\r'), FloatProgress(value=1.0, max=1.0)))",
      "application/vnd.jupyter.widget-view+json": {
       "version_major": 2,
       "version_minor": 0,
       "model_id": "e2e63f1a1d6c49a2bc37892671209108"
      }
     },
     "metadata": {},
     "output_type": "display_data"
    },
    {
     "data": {
      "text/plain": "<IPython.core.display.HTML object>",
      "text/html": "<style>\n    table.wandb td:nth-child(1) { padding: 0 10px; text-align: left ; width: auto;} td:nth-child(2) {text-align: left ; width: 100%}\n    .wandb-row { display: flex; flex-direction: row; flex-wrap: wrap; justify-content: flex-start; width: 100% }\n    .wandb-col { display: flex; flex-direction: column; flex-basis: 100%; flex: 1; padding: 10px; }\n    </style>\n<div class=\"wandb-row\"><div class=\"wandb-col\"><h3>Run history:</h3><br/><table class=\"wandb\"><tr><td>epoch</td><td>▁▅█</td></tr><tr><td>loss</td><td>▁▆█</td></tr><tr><td>test_loss</td><td>▁</td></tr></table><br/></div><div class=\"wandb-col\"><h3>Run summary:</h3><br/><table class=\"wandb\"><tr><td>epoch</td><td>2</td></tr><tr><td>loss</td><td>0.1415</td></tr><tr><td>test_loss</td><td>0.13721</td></tr></table><br/></div></div>"
     },
     "metadata": {},
     "output_type": "display_data"
    },
    {
     "data": {
      "text/plain": "<IPython.core.display.HTML object>",
      "text/html": " View run <strong style=\"color:#cdcd00\">true-jazz-48</strong> at: <a href='https://wandb.ai/bep-circle/flax_wire/runs/2rvshveu' target=\"_blank\">https://wandb.ai/bep-circle/flax_wire/runs/2rvshveu</a><br/> View project at: <a href='https://wandb.ai/bep-circle/flax_wire' target=\"_blank\">https://wandb.ai/bep-circle/flax_wire</a><br/>Synced 5 W&B file(s), 0 media file(s), 0 artifact file(s) and 0 other file(s)"
     },
     "metadata": {},
     "output_type": "display_data"
    },
    {
     "data": {
      "text/plain": "<IPython.core.display.HTML object>",
      "text/html": "Find logs at: <code>./wandb/run-20241121_122255-2rvshveu/logs</code>"
     },
     "metadata": {},
     "output_type": "display_data"
    },
    {
     "data": {
      "text/plain": "<IPython.core.display.HTML object>",
      "text/html": "Successfully finished last run (ID:2rvshveu). Initializing new run:<br/>"
     },
     "metadata": {},
     "output_type": "display_data"
    },
    {
     "data": {
      "text/plain": "<IPython.core.display.HTML object>",
      "text/html": "Tracking run with wandb version 0.18.3"
     },
     "metadata": {},
     "output_type": "display_data"
    },
    {
     "data": {
      "text/plain": "<IPython.core.display.HTML object>",
      "text/html": "Run data is saved locally in <code>/home/ovindar/PycharmProjects/INR_BEP/flax_exp/wandb/run-20241121_122358-iobb0fp3</code>"
     },
     "metadata": {},
     "output_type": "display_data"
    },
    {
     "data": {
      "text/plain": "<IPython.core.display.HTML object>",
      "text/html": "Syncing run <strong><a href='https://wandb.ai/bep-circle/flax_wire/runs/iobb0fp3' target=\"_blank\">comfy-totem-49</a></strong> to <a href='https://wandb.ai/bep-circle/flax_wire' target=\"_blank\">Weights & Biases</a> (<a href='https://wandb.me/run' target=\"_blank\">docs</a>)<br/>"
     },
     "metadata": {},
     "output_type": "display_data"
    },
    {
     "data": {
      "text/plain": "<IPython.core.display.HTML object>",
      "text/html": " View project at <a href='https://wandb.ai/bep-circle/flax_wire' target=\"_blank\">https://wandb.ai/bep-circle/flax_wire</a>"
     },
     "metadata": {},
     "output_type": "display_data"
    },
    {
     "data": {
      "text/plain": "<IPython.core.display.HTML object>",
      "text/html": " View run at <a href='https://wandb.ai/bep-circle/flax_wire/runs/iobb0fp3' target=\"_blank\">https://wandb.ai/bep-circle/flax_wire/runs/iobb0fp3</a>"
     },
     "metadata": {},
     "output_type": "display_data"
    },
    {
     "name": "stdout",
     "output_type": "stream",
     "text": [
      "ComplexDense(\n",
      "    # attributes\n",
      "    in_features = 2\n",
      "    hidden_features = 1024\n",
      "    out_features = 3\n",
      "    num_layers = 3\n",
      "    s0 = 5\n",
      "    w0 = 5\n",
      ")\n"
     ]
    },
    {
     "name": "stderr",
     "output_type": "stream",
     "text": [
      " 33%|███▎      | 1/3 [00:04<00:08,  4.27s/it]"
     ]
    },
    {
     "name": "stdout",
     "output_type": "stream",
     "text": [
      "Epoch: 0, Loss: 0.23510637879371643\n"
     ]
    },
    {
     "name": "stderr",
     "output_type": "stream",
     "text": [
      "100%|██████████| 3/3 [00:08<00:00,  2.93s/it]\n"
     ]
    },
    {
     "name": "stdout",
     "output_type": "stream",
     "text": [
      "Training Done, Test Loss: 0.144795224070549\n"
     ]
    },
    {
     "data": {
      "text/plain": "<Figure size 640x480 with 2 Axes>",
      "image/png": "[encoded data removed]"
     },
     "metadata": {},
     "output_type": "display_data"
    }
   ],
   "source": [
    "pys = main()"
   ],
   "metadata": {
    "collapsed": false,
    "ExecuteTime": {
     "end_time": "2024-11-21T11:24:10.333265632Z",
     "start_time": "2024-11-21T11:23:58.354918044Z"
    }
   },
   "id": "64ba911958e1f0fe"
  },
  {
   "cell_type": "code",
   "execution_count": 69,
   "outputs": [],
   "source": [],
   "metadata": {
    "collapsed": false,
    "ExecuteTime": {
     "end_time": "2024-11-21T11:22:13.859501193Z",
     "start_time": "2024-11-21T11:22:13.815139195Z"
    }
   },
   "id": "ec50a06141e90623"
  },
  {
   "cell_type": "code",
   "execution_count": 69,
   "outputs": [],
   "source": [],
   "metadata": {
    "collapsed": false,
    "ExecuteTime": {
     "end_time": "2024-11-21T11:22:13.859604520Z",
     "start_time": "2024-11-21T11:22:13.815252015Z"
    }
   },
   "id": "33350a415727b22f"
  },
  {
   "cell_type": "code",
   "execution_count": 69,
   "outputs": [],
   "source": [],
   "metadata": {
    "collapsed": false,
    "ExecuteTime": {
     "end_time": "2024-11-21T11:22:13.859696820Z",
     "start_time": "2024-11-21T11:22:13.815318317Z"
    }
   },
   "id": "37ec9af8d516f52c"
  },
  {
   "cell_type": "code",
   "execution_count": null,
   "outputs": [],
   "source": [],
   "metadata": {
    "collapsed": false
   },
   "id": "4f0eaa04049b2879"
  }
 ],
 "metadata": {
  "kernelspec": {
   "display_name": "Python 3",
   "language": "python",
   "name": "python3"
  },
  "language_info": {
   "codemirror_mode": {
    "name": "ipython",
    "version": 2
   },
   "file_extension": ".py",
   "mimetype": "text/x-python",
   "name": "python",
   "nbconvert_exporter": "python",
   "pygments_lexer": "ipython2",
   "version": "2.7.6"
  }
 },
 "nbformat": 4,
 "nbformat_minor": 5
}
