{
 "cells": [
  {
   "cell_type": "markdown",
   "metadata": {},
   "source": [
    "# Example of training an INR locally\n",
    "This notebook provides an example of how to create an INR and train it locally using the tools in this repo."
   ]
  },
  {
   "cell_type": "code",
   "execution_count": 1,
   "metadata": {},
   "outputs": [
    {
     "name": "stderr",
     "output_type": "stream",
     "text": [
      "\u001B[34m\u001B[1mwandb\u001B[0m: Using wandb-core as the SDK backend. Please refer to https://wandb.me/wandb-core for more information.\n",
      "\u001B[34m\u001B[1mwandb\u001B[0m: Currently logged in as: \u001B[33msimon-martinus-koop\u001B[0m (\u001B[33mnld\u001B[0m). Use \u001B[1m`wandb login --relogin`\u001B[0m to force relogin\n",
      "2024-10-08 16:21:29.122432: W external/xla/xla/service/gpu/nvptx_compiler.cc:893] The NVIDIA driver's CUDA version is 12.4 which is older than the PTX compiler version 12.6.68. Because the driver is older than the PTX compiler version, XLA is disabling parallel compilation, which may slow down compilation. You should update your NVIDIA driver or use the NVIDIA-provided CUDA forward compatibility packages.\n"
     ]
    }
   ],
   "source": [
    "import pdb\n",
    "import traceback\n",
    "\n",
    "import jax\n",
    "from jax import numpy as jnp\n",
    "import optax\n",
    "import wandb\n",
    "\n",
    "from common_dl_utils.config_creation import Config\n",
    "import common_jax_utils as cju\n",
    "\n",
    "# wandb.login()\n",
    "\n",
    "key = jax.random.PRNGKey(12398)\n",
    "key_gen = cju.key_generator(key)"
   ]
  },
  {
   "cell_type": "markdown",
   "metadata": {},
   "source": [
    "We want to train a single INR on `example_data/parrot.png`. We'll use the `CombinedINR` class from `model_components.inr_modules` together with the `SirenLayer` and `GaussianINRLayer` from `model_components.inr_layers` for the model, and we'll train it using the tools from `inr_utils`.\n",
    "\n",
    "To do all of this, basically we only need to create a config. We'll use the `common_dl_utils.config_creation.Config` class for this, but this is basically just a dictionary that allows for attribute access-like acces of its elements (so we can do `config.model_type = \"CombinedINR\"` instead of `config[\"model_type\"] = \"CombinedINR\"`). You can also just use a dictionary instead.\n",
    "\n",
    "Then we'll use the tools from `common_jax_utils` to first get a model from this config so we can inspect it, and then just run the experiment specified by the config.\n",
    "\n",
    "Doing this in a config instead of hard coded might seem like extra work, but consider this:\n",
    "1. you can serialize this config as a json file or a yaml file to later get the same model and experimental settings back \n",
    "   so when you are experimenting with different architectures, if you just store the configs you've used, you can easily recreate previous results\n",
    "2. when we get to running hyper parameter sweeps, you can easily get these configs (with a pick for the varying hyper parameters) from wandb\n",
    "   and then run an experiment specified by that config on any machine you want, e.g. on Snellius"
   ]
  },
  {
   "cell_type": "code",
   "execution_count": 2,
   "metadata": {},
   "outputs": [],
   "source": [
    "config = Config()\n",
    "\n",
    "# first we specify what the model should look like\n",
    "config.architecture = './model_components'  # module containing all relevant classes for architectures\n",
    "# NB if the classes relevant for creating the model are spread over multiple modules, this is no problem\n",
    "# let config.architecture be the module that contains the \"main\" model class, and for all other components just specify the module\n",
    "# or specify the other modules as default modules to the tools in common_jax_utils.run_utils\n",
    "config.model_type = 'inr_modules.CombinedINR'\n",
    "\n",
    "config.model_config = Config()\n",
    "config.model_config.in_size = 2\n",
    "config.model_config.out_size = 3\n",
    "config.model_config.terms = [  # CombinedINR uses multiple MLPs and returns the sum of their outputs. These 'terms' are the MLPs\n",
    "    ('inr_modules.MLPINR.from_config',{\n",
    "        'hidden_size': 256,\n",
    "        'num_layers': 5,\n",
    "        'layer_type': 'inr_layers.RealWire',\n",
    "        'num_splits': 1,\n",
    "        'use_complex': False,\n",
    "        'activation_kwargs': {'w0': 12, 'inverse_scale':1.}\n",
    "    }),\n",
    "    ('inr_modules.MLPINR.from_config',{\n",
    "        'hidden_size': 1024,\n",
    "        'num_layers': 2,\n",
    "        'num_splits': 1,\n",
    "        'layer_type': 'inr_layers.GaussianINRLayer',\n",
    "        'use_complex': False,\n",
    "        'activation_kwargs': {'inverse_scale': 1},\n",
    "    })\n",
    "]\n",
    "\n",
    "# next, we set up the training loop, including the 'target_function' that we want to mimic\n",
    "config.trainer_module = './inr_utils/'  # similarly to config.architecture above, here we just specify in what module to look for objects by default\n",
    "config.trainer_type = 'training.train_inr'\n",
    "config.target_function = 'images.ContinuousImage'\n",
    "config.target_function_config = {\n",
    "    'image': './example_data/parrot.png',\n",
    "    'scale_to_01': True,\n",
    "    'interpolation_method': 'images.make_piece_wise_constant_interpolation'\n",
    "}\n",
    "config.loss_function = 'losses.scaled_mse_loss'\n",
    "config.sampler = ('sampling.GridSubsetSampler',{  # samples coordinates in a fixed grid, that should in this case coincide with the pixel locations in the image\n",
    "    'size': [2040, 1356],\n",
    "    'batch_size': 2000,\n",
    "    'allow_duplicates': False,\n",
    "})\n",
    "\n",
    "config.optimizer = 'adam'  # we'll have to add optax to the additional default modules later\n",
    "config.optimizer_config = {\n",
    "    'learning_rate': 1.5e-4\n",
    "}\n",
    "config.steps = 40000\n",
    "config.use_wandb = True\n",
    "\n",
    "# now we want some extra things, like logging, to happen during training\n",
    "# the inr_utils.training.train_inr function allows for this through callbacks.\n",
    "# The callbacks we want to use can be found in inr_utils.callbacks\n",
    "config.after_step_callback = 'callbacks.ComposedCallback'\n",
    "config.after_step_callback_config = {\n",
    "    'callbacks':[\n",
    "        ('callbacks.print_loss', {'after_every':400}),  # only print the loss every 400th step\n",
    "        'callbacks.report_loss',  # but log the loss to wandb after every step\n",
    "        ('callbacks.MetricCollectingCallback', # this thing will help us collect metrics and log images to wandb\n",
    "             {'metric_collector':'metrics.MetricCollector'}\n",
    "        ),\n",
    "        'callbacks.raise_error_on_nan'  # stop training if the loss becomes NaN\n",
    "    ],\n",
    "    'show_logs': False\n",
    "}\n",
    "\n",
    "config.metric_collector_config = {  # the metrics for MetricCollectingCallback / metrics.MetricCollector\n",
    "    'metrics':[\n",
    "        ('metrics.PlotOnGrid2D', {'grid': 256, 'batch_size':8*256, 'frequency':'every_n_batches'}),  \n",
    "        # ^ plots the image on this fixed grid so we can visually inspect the inr on wandb\n",
    "        ('metrics.MSEOnFixedGrid', {'grid': [2040, 1356], 'batch_size':2040, 'frequency': 'every_n_batches'})\n",
    "        # ^ compute the MSE with the actual image pixels\n",
    "    ],\n",
    "    'batch_frequency': 400,  # compute all of these metrics every 400 batches\n",
    "    'epoch_frequency': 1  # not actually used\n",
    "}\n",
    "\n",
    "config.after_training_callback = None  # don't care for one now, but you could have this e.g. store some nice loss plots if you're not using wandb \n",
    "config.optimizer_state = None  # we're starting from scratch"
   ]
  },
  {
   "cell_type": "code",
   "execution_count": 3,
   "metadata": {},
   "outputs": [],
   "source": [
    "# let's first see if we get the correct model\n",
    "try:\n",
    "    inr = cju.run_utils.get_model_from_config_and_key(\n",
    "        prng_key=next(key_gen),\n",
    "        config=config,\n",
    "        model_sub_config_name_base='model',\n",
    "        add_model_module_to_architecture_default_module=False, # since the model is already in the default module specified by 'architecture',\n",
    "    )\n",
    "except Exception as e:\n",
    "    traceback.print_exc()\n",
    "    print(e)\n",
    "    print('\\n')\n",
    "    pdb.post_mortem()"
   ]
  },
  {
   "cell_type": "code",
   "execution_count": 4,
   "metadata": {},
   "outputs": [
    {
     "data": {
      "text/plain": [
       "CombinedINR(\n",
       "  terms=(\n",
       "    MLPINR(\n",
       "      input_layer=RealWire(\n",
       "        weights=f32[256,2],\n",
       "        biases=f32[256],\n",
       "        activation_kwargs={'w0': 15.0, 's0': 1.0}\n",
       "      ),\n",
       "      hidden_layers=[\n",
       "        RealWire(\n",
       "          weights=f32[256,256],\n",
       "          biases=f32[256],\n",
       "          activation_kwargs={'w0': 15.0, 's0': 1.0}\n",
       "        ),\n",
       "        RealWire(\n",
       "          weights=f32[256,256],\n",
       "          biases=f32[256],\n",
       "          activation_kwargs={'w0': 15.0, 's0': 1.0}\n",
       "        ),\n",
       "        RealWire(\n",
       "          weights=f32[256,256],\n",
       "          biases=f32[256],\n",
       "          activation_kwargs={'w0': 15.0, 's0': 1.0}\n",
       "        )\n",
       "      ],\n",
       "      output_layer=Linear(\n",
       "        weights=f32[3,256],\n",
       "        biases=f32[3],\n",
       "        activation_kwargs={}\n",
       "      ),\n",
       "      post_processor=<function real_part>\n",
       "    ),\n",
       "  ),\n",
       "  post_processor=<function real_part>\n",
       ")"
      ]
     },
     "execution_count": 4,
     "metadata": {},
     "output_type": "execute_result"
    }
   ],
   "source": [
    "inr"
   ]
  },
  {
   "cell_type": "code",
   "execution_count": 5,
   "metadata": {},
   "outputs": [
    {
     "data": {
      "text/plain": [
       "Array([ 0.8958965 , -0.07858553, -0.7460597 ], dtype=float32)"
      ]
     },
     "execution_count": 5,
     "metadata": {},
     "output_type": "execute_result"
    }
   ],
   "source": [
    "# check that it works properly\n",
    "inr(jnp.zeros(2))"
   ]
  },
  {
   "cell_type": "code",
   "execution_count": 6,
   "metadata": {},
   "outputs": [],
   "source": [
    "# next we get the experiment from the config using common_jax_utils.run_utils.get_experiment_from_config_and_key\n",
    "experiment = cju.run_utils.get_experiment_from_config_and_key(\n",
    "    prng_key=next(key_gen),\n",
    "    config=config,\n",
    "    model_kwarg_in_trainer='inr',\n",
    "    model_sub_config_name_base='model',  # so it looks for \"model_config\" in config\n",
    "    trainer_default_module_key='trainer_module',  # so it knows to get the module specified by config.trainer_module\n",
    "    additional_trainer_default_modules=[optax],  # remember the don't forget to add optax to the default modules? This is that \n",
    "    add_model_module_to_architecture_default_module=False,\n",
    "    initialize=False  # don't run the experiment yet, we want to use wandb\n",
    ")"
   ]
  },
  {
   "cell_type": "code",
   "execution_count": 7,
   "metadata": {},
   "outputs": [
    {
     "data": {
      "text/html": [
       "Tracking run with wandb version 0.18.1"
      ],
      "text/plain": [
       "<IPython.core.display.HTML object>"
      ]
     },
     "metadata": {},
     "output_type": "display_data"
    },
    {
     "data": {
      "text/html": [
       "Run data is saved locally in <code>/home/simon/Documents/INR_BEP/wandb/run-20241008_162130-tabbvond</code>"
      ],
      "text/plain": [
       "<IPython.core.display.HTML object>"
      ]
     },
     "metadata": {},
     "output_type": "display_data"
    },
    {
     "data": {
      "text/html": [
       "Syncing run <strong><a href='https://wandb.ai/nld/inr_edu_24/runs/tabbvond' target=\"_blank\">genial-haze-16</a></strong> to <a href='https://wandb.ai/nld/inr_edu_24' target=\"_blank\">Weights & Biases</a> (<a href='https://wandb.me/run' target=\"_blank\">docs</a>)<br/>"
      ],
      "text/plain": [
       "<IPython.core.display.HTML object>"
      ]
     },
     "metadata": {},
     "output_type": "display_data"
    },
    {
     "data": {
      "text/html": [
       " View project at <a href='https://wandb.ai/nld/inr_edu_24' target=\"_blank\">https://wandb.ai/nld/inr_edu_24</a>"
      ],
      "text/plain": [
       "<IPython.core.display.HTML object>"
      ]
     },
     "metadata": {},
     "output_type": "display_data"
    },
    {
     "data": {
      "text/html": [
       " View run at <a href='https://wandb.ai/nld/inr_edu_24/runs/tabbvond' target=\"_blank\">https://wandb.ai/nld/inr_edu_24/runs/tabbvond</a>"
      ],
      "text/plain": [
       "<IPython.core.display.HTML object>"
      ]
     },
     "metadata": {},
     "output_type": "display_data"
    },
    {
     "name": "stdout",
     "output_type": "stream",
     "text": [
      "Loss at step 400 is 2.1012423038482666.\n",
      "Loss at step 800 is 1.0896542072296143.\n",
      "Loss at step 1200 is 1.0031388998031616.\n",
      "Loss at step 1600 is 1.0001829862594604.\n",
      "Loss at step 2000 is 0.6031345129013062.\n",
      "Loss at step 2400 is 0.3887167274951935.\n",
      "Loss at step 2800 is 0.32623130083084106.\n",
      "Loss at step 3200 is 0.3021368086338043.\n",
      "Loss at step 3600 is 0.26685553789138794.\n",
      "Loss at step 4000 is 0.2521321475505829.\n",
      "Loss at step 4400 is 0.21642638742923737.\n",
      "Loss at step 4800 is 0.23383545875549316.\n",
      "Loss at step 5200 is 0.2025209218263626.\n",
      "Loss at step 5600 is 0.16315628588199615.\n",
      "Loss at step 6000 is 0.19422653317451477.\n",
      "Loss at step 6400 is 0.1691511571407318.\n",
      "Loss at step 6800 is 0.18999449908733368.\n",
      "Loss at step 7200 is 0.18008027970790863.\n",
      "Loss at step 7600 is 0.1629355549812317.\n",
      "Loss at step 8000 is 0.15973100066184998.\n",
      "Loss at step 8400 is 0.16911402344703674.\n",
      "Loss at step 8800 is 0.16780808568000793.\n",
      "Loss at step 9200 is 0.15527811646461487.\n",
      "Loss at step 9600 is 0.17705532908439636.\n",
      "Loss at step 10000 is 0.160833477973938.\n",
      "Loss at step 10400 is 0.16188083589076996.\n",
      "Loss at step 10800 is 0.1541208028793335.\n",
      "Loss at step 11200 is 0.16026262938976288.\n",
      "Loss at step 11600 is 0.14046749472618103.\n",
      "Loss at step 12000 is 0.1504947543144226.\n",
      "Loss at step 12400 is 0.157506063580513.\n",
      "Loss at step 12800 is 0.12472265213727951.\n",
      "Loss at step 13200 is 0.161815345287323.\n",
      "Loss at step 13600 is 0.1511439085006714.\n",
      "Loss at step 14000 is 0.1486010104417801.\n",
      "Loss at step 14400 is 0.15071189403533936.\n",
      "Loss at step 14800 is 0.13878190517425537.\n",
      "Loss at step 15200 is 0.1497836410999298.\n",
      "Loss at step 15600 is 0.15044018626213074.\n",
      "Loss at step 16000 is 0.1358090341091156.\n",
      "Loss at step 16400 is 0.13057120144367218.\n",
      "Loss at step 16800 is 0.1235341802239418.\n",
      "Loss at step 17200 is 0.1346418261528015.\n",
      "Loss at step 17600 is 0.13381370902061462.\n",
      "Loss at step 18000 is 0.13207130134105682.\n",
      "Loss at step 18400 is 0.13560886681079865.\n",
      "Loss at step 18800 is 0.1258590817451477.\n",
      "Loss at step 19200 is 0.14022262394428253.\n",
      "Loss at step 19600 is 0.1475035846233368.\n",
      "Loss at step 20000 is 0.14103738963603973.\n",
      "Loss at step 20400 is 0.12438434362411499.\n",
      "Loss at step 20800 is 0.13432537019252777.\n",
      "Loss at step 21200 is 0.12383519113063812.\n",
      "Loss at step 21600 is 0.1344214379787445.\n",
      "Loss at step 22000 is 0.14798909425735474.\n",
      "Loss at step 22400 is 0.1441548615694046.\n",
      "Loss at step 22800 is 0.12688519060611725.\n",
      "Loss at step 23200 is 0.12594980001449585.\n",
      "Loss at step 23600 is 0.12966887652873993.\n",
      "Loss at step 24000 is 0.1483081728219986.\n",
      "Loss at step 24400 is 0.12965792417526245.\n",
      "Loss at step 24800 is 0.12432146072387695.\n",
      "Loss at step 25200 is 0.12627838551998138.\n",
      "Loss at step 25600 is 0.12109923362731934.\n",
      "Loss at step 26000 is 0.12968407571315765.\n",
      "Loss at step 26400 is 0.14427892863750458.\n",
      "Loss at step 26800 is 0.1253095269203186.\n",
      "Loss at step 27200 is 0.11982181668281555.\n",
      "Loss at step 27600 is 0.11921948194503784.\n",
      "Loss at step 28000 is 0.11922483891248703.\n",
      "Loss at step 28400 is 0.13014206290245056.\n",
      "Loss at step 28800 is 0.13177888095378876.\n",
      "Loss at step 29200 is 0.1318744570016861.\n",
      "Loss at step 29600 is 0.13275131583213806.\n",
      "Loss at step 30000 is 0.14101889729499817.\n",
      "Loss at step 30400 is 0.133322075009346.\n",
      "Loss at step 30800 is 0.11954615265130997.\n",
      "Loss at step 31200 is 0.12553884088993073.\n",
      "Loss at step 31600 is 0.13394255936145782.\n",
      "Loss at step 32000 is 0.12749037146568298.\n",
      "Loss at step 32400 is 0.11456530541181564.\n",
      "Loss at step 32800 is 0.0982847809791565.\n",
      "Loss at step 33200 is 0.11885323375463486.\n",
      "Loss at step 33600 is 0.12047161161899567.\n",
      "Loss at step 34000 is 0.11517862230539322.\n",
      "Loss at step 34400 is 0.11718440800905228.\n",
      "Loss at step 34800 is 0.13558095693588257.\n",
      "Loss at step 35200 is 0.11913957446813583.\n",
      "Loss at step 35600 is 0.11390651762485504.\n",
      "Loss at step 36000 is 0.10748928040266037.\n",
      "Loss at step 36400 is 0.12443473190069199.\n",
      "Loss at step 36800 is 0.13596002757549286.\n",
      "Loss at step 37200 is 0.11899068206548691.\n",
      "Loss at step 37600 is 0.12183433026075363.\n",
      "Loss at step 38000 is 0.11701032519340515.\n",
      "Loss at step 38400 is 0.10807736963033676.\n",
      "Loss at step 38800 is 0.12222640961408615.\n",
      "Loss at step 39200 is 0.11844389140605927.\n",
      "Loss at step 39600 is 0.12002109736204147.\n",
      "Loss at step 40000 is 0.12350301444530487.\n"
     ]
    },
    {
     "data": {
      "image/png": "[encoded data removed]",
      "text/plain": [
       "<Figure size 640x480 with 1 Axes>"
      ]
     },
     "metadata": {},
     "output_type": "display_data"
    },
    {
     "data": {
      "application/vnd.jupyter.widget-view+json": {
       "model_id": "7bad94555e8e4af8a23d69a2f0c614da",
       "version_major": 2,
       "version_minor": 0
      },
      "text/plain": [
       "VBox(children=(Label(value='7.814 MB of 7.814 MB uploaded\\r'), FloatProgress(value=1.0, max=1.0)))"
      ]
     },
     "metadata": {},
     "output_type": "display_data"
    },
    {
     "data": {
      "text/html": [
       "<style>\n",
       "    table.wandb td:nth-child(1) { padding: 0 10px; text-align: left ; width: auto;} td:nth-child(2) {text-align: left ; width: 100%}\n",
       "    .wandb-row { display: flex; flex-direction: row; flex-wrap: wrap; justify-content: flex-start; width: 100% }\n",
       "    .wandb-col { display: flex; flex-direction: column; flex-basis: 100%; flex: 1; padding: 10px; }\n",
       "    </style>\n",
       "<div class=\"wandb-row\"><div class=\"wandb-col\"><h3>Run history:</h3><br/><table class=\"wandb\"><tr><td>MSE_on_fixed_grid</td><td>█▄▄▂▂▁▁▁▁▁▁▁▁▁▁▁▁▁▁▁▁▁▁▁▁▁▁▁▁▁▁▁▁▁▁▁▁▁▁▁</td></tr><tr><td>batch_within_epoch</td><td>▁▁▁▂▂▂▂▃▃▃▃▃▃▃▄▄▄▄▄▄▅▅▅▅▅▅▅▅▅▅▆▆▆▆▇▇▇▇██</td></tr><tr><td>epoch</td><td>▁▁▁▁▁▁▁▁▁▁▁▁▁▁▁▁▁▁▁▁▁▁▁▁▁▁▁▁▁▁▁▁▁▁▁▁▁▁▁▁</td></tr><tr><td>loss</td><td>█▆▂▂▁▁▁▁▁▁▁▁▁▁▁▁▁▁▁▁▁▁▁▁▁▁▁▁▁▁▁▁▁▁▁▁▁▁▁▁</td></tr></table><br/></div><div class=\"wandb-col\"><h3>Run summary:</h3><br/><table class=\"wandb\"><tr><td>MSE_on_fixed_grid</td><td>0.01761</td></tr><tr><td>batch_within_epoch</td><td>40000</td></tr><tr><td>epoch</td><td>1</td></tr><tr><td>loss</td><td>0.1235</td></tr></table><br/></div></div>"
      ],
      "text/plain": [
       "<IPython.core.display.HTML object>"
      ]
     },
     "metadata": {},
     "output_type": "display_data"
    },
    {
     "data": {
      "text/html": [
       " View run <strong style=\"color:#cdcd00\">genial-haze-16</strong> at: <a href='https://wandb.ai/nld/inr_edu_24/runs/tabbvond' target=\"_blank\">https://wandb.ai/nld/inr_edu_24/runs/tabbvond</a><br/> View project at: <a href='https://wandb.ai/nld/inr_edu_24' target=\"_blank\">https://wandb.ai/nld/inr_edu_24</a><br/>Synced 5 W&B file(s), 0 media file(s), 2 artifact file(s) and 100 other file(s)"
      ],
      "text/plain": [
       "<IPython.core.display.HTML object>"
      ]
     },
     "metadata": {},
     "output_type": "display_data"
    },
    {
     "data": {
      "text/html": [
       "Find logs at: <code>./wandb/run-20241008_162130-tabbvond/logs</code>"
      ],
      "text/plain": [
       "<IPython.core.display.HTML object>"
      ]
     },
     "metadata": {},
     "output_type": "display_data"
    }
   ],
   "source": [
    "# and we run the experiment while logging things to wandb\n",
    "with wandb.init(\n",
    "    project='inr_edu_24',\n",
    "    notes='test',\n",
    "    tags=['test']\n",
    ") as run:\n",
    "    results = experiment.initialize()"
   ]
  },
  {
   "cell_type": "code",
   "execution_count": null,
   "metadata": {},
   "outputs": [],
   "source": []
  },
  {
   "cell_type": "code",
   "execution_count": null,
   "outputs": [],
   "source": [],
   "metadata": {
    "collapsed": false
   }
  },
  {
   "cell_type": "code",
   "execution_count": null,
   "outputs": [],
   "source": [
    "1"
   ],
   "metadata": {
    "collapsed": false
   }
  }
 ],
 "metadata": {
  "kernelspec": {
   "display_name": "inr_edu_24",
   "language": "python",
   "name": "python3"
  },
  "language_info": {
   "codemirror_mode": {
    "name": "ipython",
    "version": 3
   },
   "file_extension": ".py",
   "mimetype": "text/x-python",
   "name": "python",
   "nbconvert_exporter": "python",
   "pygments_lexer": "ipython3",
   "version": "3.10.14"
  }
 },
 "nbformat": 4,
 "nbformat_minor": 2
}
