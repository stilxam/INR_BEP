{
 "cells": [
  {
   "cell_type": "markdown",
   "metadata": {},
   "source": [
    "# Example of training an INR locally\n",
    "This notebook provides an example of how to create an INR and train it locally using the tools in this repo."
   ]
  },
  {
   "cell_type": "code",
   "execution_count": 1,
   "metadata": {
    "ExecuteTime": {
     "end_time": "2025-01-06T14:55:22.968569596Z",
     "start_time": "2025-01-06T14:55:22.925237450Z"
    }
   },
   "outputs": [
    {
     "name": "stderr",
     "output_type": "stream",
     "text": [
      "\u001b[34m\u001b[1mwandb\u001b[0m: Using wandb-core as the SDK backend. Please refer to https://wandb.me/wandb-core for more information.\n",
      "\u001b[34m\u001b[1mwandb\u001b[0m: Currently logged in as: \u001b[33mglukanov2000\u001b[0m (\u001b[33mglukanov2000-eindhoven-university-of-technology\u001b[0m). Use \u001b[1m`wandb login --relogin`\u001b[0m to force relogin\n"
     ]
    }
   ],
   "source": [
    "import pdb\n",
    "import traceback\n",
    "\n",
    "import jax\n",
    "from jax import numpy as jnp\n",
    "import optax\n",
    "import wandb\n",
    "\n",
    "from common_dl_utils.config_creation import Config\n",
    "import common_jax_utils as cju\n",
    "\n",
    "wandb.login()\n",
    "\n",
    "key = jax.random.PRNGKey(12398)\n",
    "key_gen = cju.key_generator(key)"
   ]
  },
  {
   "cell_type": "code",
   "execution_count": 2,
   "metadata": {
    "ExecuteTime": {
     "end_time": "2025-01-06T14:55:23.553170506Z",
     "start_time": "2025-01-06T14:55:23.447043302Z"
    }
   },
   "outputs": [],
   "source": [
    "# import PIL\n",
    "# from PIL import Image\n",
    "# import numpy as np\n",
    "\n",
    "# def load_image_as_array(path:str)->jax.Array:\n",
    "#     file_extension = path.split('.')[-1]\n",
    "#     if file_extension == 'npy':\n",
    "#         return jnp.load(path)\n",
    "#     # it's ostensibly not just a numpy array so let's use PIL\n",
    "#     with PIL.Image.open(path) as pil_image:\n",
    "#         output = jnp.asarray(pil_image)\n",
    "#     return output\n",
    "\n",
    "# p=load_image_as_array('./example_data/parrot.png')\n",
    "# gp=load_image_as_array('./example_data/gray_parrot.png')\n",
    "# type(p), type(gp)\n",
    "\n",
    "# def rgb_to_grayscale(rgb_image:jax.Array):\n",
    "#     gray_image = 0.299*rgb_image[:,:,0] + 0.587*rgb_image[:,:,1] + 0.114*rgb_image[:,:,2]\n",
    "#     gray_image = gray_image.astype(jnp.uint8)  \n",
    "#     return gray_image\n",
    "\n",
    "# gray_parrot = rgb_to_grayscale(load_image_as_array('./example_data/parrot.png'))\n",
    "# gray_parrot_np = Image.fromarray(np.array(gray_parrot))\n",
    "# gray_parrot_np.save('example_data/gray_parrot.png')"
   ]
  },
  {
   "cell_type": "markdown",
   "metadata": {},
   "source": [
    "We want to train a single INR on `example_data/parrot.png`. We'll use the `CombinedINR` clas from `model_components.inr_modules` together with the `SirenLayer` and `GaussianINRLayer` from `model_components.inr_layers` for the model, and we'll train it using the tools from `inr_utils`.\n",
    "\n",
    "To do all of this, basically we only need to create a config. We'll use the `common_dl_utils.config_creation.Config` class for this, but this is basically just a dictionary that allows for attribute access-like acces of its elements (so we can do `config.model_type = \"CombinedINR\"` instead of `config[\"model_type\"] = \"CombinedINR\"`). You can also just use a dictionary instead.\n",
    "\n",
    "Then we'll use the tools from `common_jax_utils` to first get a model from this config so we can inspect it, and then just run the experiment specified by the config.\n",
    "\n",
    "Doing this in a config instead of hard coded might seem like extra work, but consider this:\n",
    "1. you can serialize this config as a json file or a yaml file to later get the same model and experimental settings back \n",
    "   so when you are experimenting with different architectures, if you just store the configs you've used, you can easily recreate previous results\n",
    "2. when we get to running hyper parameter sweeps, you can easily get these configs (with a pick for the varying hyper parameters) from wandb\n",
    "   and then run an experiment specified by that config on any machine you want, e.g. on Snellius"
   ]
  },
  {
   "cell_type": "code",
   "execution_count": 3,
   "metadata": {
    "ExecuteTime": {
     "end_time": "2025-01-06T14:55:24.410408058Z",
     "start_time": "2025-01-06T14:55:24.393999841Z"
    }
   },
   "outputs": [],
   "source": [
    "config = Config()\n",
    "\n",
    "# first we specify what the model should look like\n",
    "config.architecture = './model_components'  # module containing all relevant classes for architectures\n",
    "# NB if the classes relevant for creating the model are spread over multiple modules, this is no problem\n",
    "# let config.architecture be the module that contains the \"main\" model class, and for all other components just specify the module\n",
    "# or specify the other modules as default modules to the tools in common_jax_utils.run_utils\n",
    "config.model_type = 'inr_modules.CombinedINR'\n",
    "\n",
    "config.model_config = Config()\n",
    "config.model_config.in_size = 2\n",
    "config.model_config.out_size = 1\n",
    "config.model_config.terms = [  # CombinedINR uses multiple MLPs and returns the sum of their outputs. These 'terms' are the MLPs\n",
    "    ('inr_modules.MLPINR.from_config',{\n",
    "        'hidden_size': 256,\n",
    "        'num_layers': 5,\n",
    "        'layer_type': 'inr_layers.SirenLayer',\n",
    "        'num_splits': 3,\n",
    "        'activation_kwargs': {'w0':12.},#{'inverse_scale': 5.},\n",
    "        'initialization_scheme':'initialization_schemes.siren_scheme',\n",
    "        'initialization_scheme_kwargs': {'w0': 30.},\n",
    "        'positional_encoding_layer': ('state_test_objects.py', 'CountingIdentity'),\n",
    "    }),\n",
    "    # ('inr_modules.MLPINR.from_config',{\n",
    "    #     'hidden_size': 1024,\n",
    "    #     'num_layers': 2,\n",
    "    #     'num_splits': 1,\n",
    "    #     'layer_type': 'inr_layers.GaussianINRLayer',\n",
    "    #     'use_complex': False,\n",
    "    #     'activation_kwargs': {'inverse_scale': 1},\n",
    "    # })\n",
    "]\n",
    "\n",
    "# next, we set up the training loop, including the 'target_function' that we want to mimic\n",
    "config.trainer_module = './inr_utils/'  # similarly to config.architecture above, here we just specify in what module to look for objects by default\n",
    "config.trainer_type = 'training.train_inr'\n",
    "config.loss_evaluator = 'losses.PointWiseGradLossEvaluator'\n",
    "config.target_function = 'images.ContinuousImage'\n",
    "config.target_function_config = {\n",
    "    'image': './example_data/gray_parrot.png',\n",
    "    'scale_to_01': True,\n",
    "    'interpolation_method': 'images.make_piece_wise_constant_interpolation'\n",
    "}   \n",
    "config.loss_function = 'losses.scaled_mse_loss'\n",
    "config.take_grad_of_target_function = True\n",
    "config.state_update_function = ('state_test_objects.py', 'counter_updater')\n",
    "config.sampler = ('sampling.GridSubsetSampler',{  # samples coordinates in a fixed grid, that should in this case coincide with the pixel locations in the image\n",
    "    'size': [2040, 1356],\n",
    "    'batch_size': 2000,\n",
    "    'allow_duplicates': False,\n",
    "})\n",
    "\n",
    "config.optimizer = 'adam'  # we'll have to add optax to the additional default modules later\n",
    "config.optimizer_config = {\n",
    "    'learning_rate': 1.5e-4\n",
    "}\n",
    "config.steps = 20000 #changed from 40000\n",
    "config.use_wandb = True\n",
    "\n",
    "# now we want some extra things, like logging, to happen during training\n",
    "# the inr_utils.training.train_inr function allows for this through callbacks.\n",
    "# The callbacks we want to use can be found in inr_utils.callbacks\n",
    "config.after_step_callback = 'callbacks.ComposedCallback'\n",
    "config.after_step_callback_config = {\n",
    "    'callbacks':[\n",
    "        ('callbacks.print_loss', {'after_every':400}),  # only print the loss every 400th step\n",
    "        'callbacks.report_loss',  # but log the loss to wandb after every step\n",
    "        ('callbacks.MetricCollectingCallback', # this thing will help us collect metrics and log images to wandb\n",
    "             {'metric_collector':'metrics.MetricCollector'}\n",
    "        ),\n",
    "        'callbacks.raise_error_on_nan'  # stop training if the loss becomes NaN\n",
    "    ],\n",
    "    'show_logs': False\n",
    "}\n",
    "\n",
    "config.after_training_callback = ('state_test_objects.py', 'after_training_callback')\n",
    "\n",
    "config.metric_collector_config = {  # the metrics for MetricCollectingCallback / metrics.MetricCollector\n",
    "    'metrics':[\n",
    "        ('metrics.PlotOnGrid2D', {'grid': 256, 'batch_size':8*256, 'frequency':'every_n_batches'}),  \n",
    "        # ^ plots the image on this fixed grid so we can visually inspect the inr on wandb\n",
    "        ('metrics.MSEOnFixedGrid', {'grid': [2040, 1356], 'batch_size':2040, 'frequency': 'every_n_batches'})\n",
    "        # ^ compute the MSE with the actual image pixels\n",
    "    ],\n",
    "    'batch_frequency': 400,  # compute all of these metrics every 400 batches\n",
    "    'epoch_frequency': 1  # not actually used\n",
    "}\n",
    "\n",
    "#config.after_training_callback = None  # don't care for one now, but you could have this e.g. store some nice loss plots if you're not using wandb \n",
    "config.optimizer_state = None  # we're starting from scratch"
   ]
  },
  {
   "cell_type": "code",
   "execution_count": 4,
   "metadata": {},
   "outputs": [],
   "source": [
    "# let's first see if we get the correct model\n",
    "try:\n",
    "    inr = cju.run_utils.get_model_from_config_and_key(\n",
    "        prng_key=next(key_gen),\n",
    "        config=config,\n",
    "        model_sub_config_name_base='model',\n",
    "        add_model_module_to_architecture_default_module=False, # since the model is already in the default module specified by 'architecture',\n",
    "    )\n",
    "except Exception as e:\n",
    "    traceback.print_exc()\n",
    "    print(e)\n",
    "    print('\\n')\n",
    "    pdb.post_mortem()"
   ]
  },
  {
   "cell_type": "code",
   "execution_count": 5,
   "metadata": {
    "ExecuteTime": {
     "end_time": "2024-11-27T13:11:48.290828912Z",
     "start_time": "2024-11-27T13:11:48.207796154Z"
    }
   },
   "outputs": [
    {
     "data": {
      "text/plain": [
       "CombinedINR(\n",
       "  terms=(\n",
       "    MLPINR(\n",
       "      layers=(\n",
       "        CountingIdentity(\n",
       "          _embedding_matrix=i32[],\n",
       "          state_index=StateIndex(\n",
       "            marker=<object object at 0x7fbf97703e10>,\n",
       "            init=i32[]\n",
       "          )\n",
       "        ),\n",
       "        SirenLayer(\n",
       "          weights=f32[256,2],\n",
       "          biases=f32[256],\n",
       "          activation_kwargs={'w0': 12.0}\n",
       "        ),\n",
       "        SirenLayer(\n",
       "          weights=f32[256,256],\n",
       "          biases=f32[256],\n",
       "          activation_kwargs={'w0': 12.0}\n",
       "        ),\n",
       "        SirenLayer(\n",
       "          weights=f32[256,256],\n",
       "          biases=f32[256],\n",
       "          activation_kwargs={'w0': 12.0}\n",
       "        ),\n",
       "        Linear(weights=f32[1,256], biases=f32[1], activation_kwargs={})\n",
       "      )\n",
       "    ),\n",
       "  ),\n",
       "  post_processor=<function scalar_from_array_output>\n",
       ")"
      ]
     },
     "execution_count": 5,
     "metadata": {},
     "output_type": "execute_result"
    }
   ],
   "source": [
    "inr"
   ]
  },
  {
   "cell_type": "code",
   "execution_count": 6,
   "metadata": {},
   "outputs": [],
   "source": [
    "# check that it works properly\n",
    "try:\n",
    "    inr(jnp.zeros(2))\n",
    "except Exception as e:\n",
    "    traceback.print_exc()\n",
    "    print(e)\n",
    "    print('\\n')\n",
    "    pdb.post_mortem()"
   ]
  },
  {
   "cell_type": "code",
   "execution_count": 7,
   "metadata": {},
   "outputs": [],
   "source": [
    "# next we get the experiment from the config using common_jax_utils.run_utils.get_experiment_from_config_and_key\n",
    "experiment = cju.run_utils.get_experiment_from_config_and_key(\n",
    "    prng_key=next(key_gen),\n",
    "    config=config,\n",
    "    model_kwarg_in_trainer='inr',\n",
    "    model_sub_config_name_base='model',  # so it looks for \"model_config\" in config\n",
    "    trainer_default_module_key='trainer_module',  # so it knows to get the module specified by config.trainer_module\n",
    "    additional_trainer_default_modules=[optax],  # remember the don't forget to add optax to the default modules? This is that \n",
    "    add_model_module_to_architecture_default_module=False,\n",
    "    initialize=False  # don't run the experiment yet, we want to use wandb\n",
    ")"
   ]
  },
  {
   "cell_type": "code",
   "execution_count": 8,
   "metadata": {},
   "outputs": [
    {
     "data": {
      "text/plain": [
       "PostponedInitialization(cls=train_inr, kwargs={'loss_evaluator': PostponedInitialization(cls=PointWiseGradLossEvaluator, kwargs={'target_function': <class 'inr_utils.images.ContinuousImage'>, 'loss_function': <function scaled_mse_loss at 0x7fbf14f2aa70>, 'take_grad_of_target_function': True, 'state_update_function': <function counter_updater at 0x7fbf14f456c0>}, missing_args=[]), 'sampler': PostponedInitialization(cls=GridSubsetSampler, kwargs={'size': [2040, 1356], 'batch_size': 2000, 'allow_duplicates': False, 'min': 0.0, 'max': 1.0, 'num_dimensions': None, 'indexing': 'ij'}, missing_args=[]), 'optimizer': PostponedInitialization(cls=adam, kwargs={'learning_rate': 0.00015, 'b1': 0.9, 'b2': 0.999, 'eps': 1e-08, 'eps_root': 0.0, 'mu_dtype': None, 'nesterov': False}, missing_args=[]), 'steps': 20000, 'use_wandb': True, 'after_step_callback': PostponedInitialization(cls=ComposedCallback, kwargs={'callbacks': [functools.partial(<function print_loss at 0x7fbf14f2b0a0>, after_every=400), <function report_loss at 0x7fbf14f2bd00>, PostponedInitialization(cls=MetricCollectingCallback, kwargs={'metric_collector': PostponedInitialization(cls=MetricCollector, kwargs={'metrics': [PostponedInitialization(cls=PlotOnGrid2D, kwargs={'grid': 256, 'batch_size': 2048, 'frequency': 'every_n_batches', 'use_wandb': True}, missing_args=[]), PostponedInitialization(cls=MSEOnFixedGrid, kwargs={'grid': [2040, 1356], 'batch_size': 2040, 'frequency': 'every_n_batches', 'num_dims': None, 'target_function': PostponedInitialization(cls=ContinuousImage, kwargs={'image': './example_data/gray_parrot.png', 'scale_to_01': True, 'interpolation_method': <function make_piece_wise_constant_interpolation at 0x7fbf14f29510>}, missing_args=[])}, missing_args=[])], 'batch_frequency': 400, 'epoch_frequency': 1}, missing_args=[])}, missing_args=[]), <function raise_error_on_nan at 0x7fbf14f2beb0>], 'show_logs': False, 'use_wandb': True, 'display_func': <function pprint at 0x7fbfdc954dc0>}, missing_args=[]), 'after_training_callback': <function after_training_callback at 0x7fbf14f45990>, 'optimizer_state': None, 'state_initialization_function': <function initialize_state at 0x7fbf14f44280>, 'state': None, 'inr': PostponedInitialization(cls=CombinedINR, kwargs={'terms': [PostponedInitialization(cls=from_config, kwargs={'hidden_size': 256, 'num_layers': 5, 'layer_type': <class 'model_components.inr_layers.SirenLayer'>, 'activation_kwargs': {'w0': 12.0}, 'initialization_scheme': <function siren_scheme at 0x7fbf940e7c70>, 'initialization_scheme_kwargs': {'w0': 30.0}, 'positional_encoding_layer': PostponedInitialization(cls=CountingIdentity, kwargs={}, missing_args=[]), 'num_splits': 3, 'post_processor': None, 'in_size': 2, 'out_size': 1, 'key': Array([4177750840, 1613599438], dtype=uint32)}, missing_args=[])], 'post_processor': <function scalar_from_array_output at 0x7fbf940e4ee0>}, missing_args=[]), 'key': Array([ 793826064, 3381256178], dtype=uint32)}, missing_args=[])"
      ]
     },
     "execution_count": 8,
     "metadata": {},
     "output_type": "execute_result"
    }
   ],
   "source": [
    "experiment"
   ]
  },
  {
   "cell_type": "code",
   "execution_count": 10,
   "metadata": {},
   "outputs": [
    {
     "data": {
      "application/vnd.jupyter.widget-view+json": {
       "model_id": "585ede1ea4564317bddd3f3279f9dcd7",
       "version_major": 2,
       "version_minor": 0
      },
      "text/plain": [
       "VBox(children=(Label(value='Waiting for wandb.init()...\\r'), FloatProgress(value=0.011113972390174039, max=1.0…"
      ]
     },
     "metadata": {},
     "output_type": "display_data"
    },
    {
     "data": {
      "text/html": [
       "Tracking run with wandb version 0.18.5"
      ],
      "text/plain": [
       "<IPython.core.display.HTML object>"
      ]
     },
     "metadata": {},
     "output_type": "display_data"
    },
    {
     "data": {
      "text/html": [
       "Run data is saved locally in <code>/home/goshko/INR_BEP/wandb/run-20250116_220124-8dcqcx69</code>"
      ],
      "text/plain": [
       "<IPython.core.display.HTML object>"
      ]
     },
     "metadata": {},
     "output_type": "display_data"
    },
    {
     "data": {
      "text/html": [
       "Syncing run <strong><a href='https://wandb.ai/glukanov2000-eindhoven-university-of-technology/inr_edu_24/runs/8dcqcx69' target=\"_blank\">prime-glitter-91</a></strong> to <a href='https://wandb.ai/glukanov2000-eindhoven-university-of-technology/inr_edu_24' target=\"_blank\">Weights & Biases</a> (<a href='https://wandb.me/run' target=\"_blank\">docs</a>)<br/>"
      ],
      "text/plain": [
       "<IPython.core.display.HTML object>"
      ]
     },
     "metadata": {},
     "output_type": "display_data"
    },
    {
     "data": {
      "text/html": [
       " View project at <a href='https://wandb.ai/glukanov2000-eindhoven-university-of-technology/inr_edu_24' target=\"_blank\">https://wandb.ai/glukanov2000-eindhoven-university-of-technology/inr_edu_24</a>"
      ],
      "text/plain": [
       "<IPython.core.display.HTML object>"
      ]
     },
     "metadata": {},
     "output_type": "display_data"
    },
    {
     "data": {
      "text/html": [
       " View run at <a href='https://wandb.ai/glukanov2000-eindhoven-university-of-technology/inr_edu_24/runs/8dcqcx69' target=\"_blank\">https://wandb.ai/glukanov2000-eindhoven-university-of-technology/inr_edu_24/runs/8dcqcx69</a>"
      ],
      "text/plain": [
       "<IPython.core.display.HTML object>"
      ]
     },
     "metadata": {},
     "output_type": "display_data"
    },
    {
     "name": "stderr",
     "output_type": "stream",
     "text": [
      "Traceback (most recent call last):\n",
      "  File \"/tmp/ipykernel_926746/4160894630.py\", line 7, in <module>\n",
      "    results = experiment.initialize()\n",
      "  File \"/home/goshko/miniconda3/envs/goshko_bep/lib/python3.10/site-packages/common_dl_utils/config_realization.py\", line 195, in initialize\n",
      "    return cls(**processed_self_kwargs)\n",
      "  File \"/home/goshko/INR_BEP/inr_utils/training.py\", line 192, in train_inr\n",
      "    inr, optimizer_state, loss, state = train_step(inr, optimizer_state, next(key_gen), state)\n",
      "  File \"/home/goshko/miniconda3/envs/goshko_bep/lib/python3.10/site-packages/equinox/_jit.py\", line 242, in __call__\n",
      "    return self._call(False, args, kwargs)\n",
      "  File \"/home/goshko/miniconda3/envs/goshko_bep/lib/python3.10/site-packages/equinox/_module.py\", line 1078, in __call__\n",
      "    return self.__func__(self.__self__, *args, **kwargs)\n",
      "  File \"/home/goshko/miniconda3/envs/goshko_bep/lib/python3.10/site-packages/equinox/_jit.py\", line 215, in _call\n",
      "    out = self._cached(dynamic_donate, dynamic_nodonate, static)\n",
      "  File \"/home/goshko/miniconda3/envs/goshko_bep/lib/python3.10/site-packages/jax/_src/traceback_util.py\", line 180, in reraise_with_filtered_traceback\n",
      "    return fun(*args, **kwargs)\n",
      "  File \"/home/goshko/miniconda3/envs/goshko_bep/lib/python3.10/site-packages/jax/_src/pjit.py\", line 356, in cache_miss\n",
      "    outs, out_flat, out_tree, args_flat, jaxpr, attrs_tracked = _python_pjit_helper(\n",
      "  File \"/home/goshko/miniconda3/envs/goshko_bep/lib/python3.10/site-packages/jax/_src/pjit.py\", line 179, in _python_pjit_helper\n",
      "    p, args_flat = _infer_params(fun, jit_info, args, kwargs)\n",
      "  File \"/home/goshko/miniconda3/envs/goshko_bep/lib/python3.10/site-packages/jax/_src/pjit.py\", line 773, in _infer_params\n",
      "    p, args_flat = _infer_params_impl(\n",
      "  File \"/home/goshko/miniconda3/envs/goshko_bep/lib/python3.10/site-packages/jax/_src/pjit.py\", line 670, in _infer_params_impl\n",
      "    jaxpr, consts, out_avals, attrs_tracked = _create_pjit_jaxpr(\n",
      "  File \"/home/goshko/miniconda3/envs/goshko_bep/lib/python3.10/site-packages/jax/_src/linear_util.py\", line 352, in memoized_fun\n",
      "    ans = call(fun, *args)\n",
      "  File \"/home/goshko/miniconda3/envs/goshko_bep/lib/python3.10/site-packages/jax/_src/pjit.py\", line 1314, in _create_pjit_jaxpr\n",
      "    jaxpr, global_out_avals, consts, attrs_tracked = pe.trace_to_jaxpr_dynamic(\n",
      "  File \"/home/goshko/miniconda3/envs/goshko_bep/lib/python3.10/site-packages/jax/_src/profiler.py\", line 333, in wrapper\n",
      "    return func(*args, **kwargs)\n",
      "  File \"/home/goshko/miniconda3/envs/goshko_bep/lib/python3.10/site-packages/jax/_src/interpreters/partial_eval.py\", line 2278, in trace_to_jaxpr_dynamic\n",
      "    jaxpr, out_avals, consts, attrs_tracked = trace_to_subjaxpr_dynamic(\n",
      "  File \"/home/goshko/miniconda3/envs/goshko_bep/lib/python3.10/site-packages/jax/_src/interpreters/partial_eval.py\", line 2301, in trace_to_subjaxpr_dynamic\n",
      "    ans = fun.call_wrapped(*in_tracers_)\n",
      "  File \"/home/goshko/miniconda3/envs/goshko_bep/lib/python3.10/site-packages/jax/_src/linear_util.py\", line 193, in call_wrapped\n",
      "    ans = self.f(*args, **dict(self.params, **kwargs))\n",
      "  File \"/home/goshko/miniconda3/envs/goshko_bep/lib/python3.10/site-packages/equinox/_jit.py\", line 51, in fun_wrapped\n",
      "    out = fun(*args, **kwargs)\n",
      "  File \"/home/goshko/INR_BEP/inr_utils/training.py\", line 67, in train_step\n",
      "    (loss, state), grad = eqx.filter_value_and_grad(loss_evaluator, has_aux=True)(inr, locations, state)\n",
      "  File \"/home/goshko/miniconda3/envs/goshko_bep/lib/python3.10/site-packages/equinox/_ad.py\", line 79, in __call__\n",
      "    return fun_value_and_grad(diff_x, nondiff_x, *args, **kwargs)\n",
      "  File \"/home/goshko/miniconda3/envs/goshko_bep/lib/python3.10/site-packages/jax/_src/traceback_util.py\", line 180, in reraise_with_filtered_traceback\n",
      "    return fun(*args, **kwargs)\n",
      "  File \"/home/goshko/miniconda3/envs/goshko_bep/lib/python3.10/site-packages/jax/_src/api.py\", line 464, in value_and_grad_f\n",
      "    ans, vjp_py, aux = _vjp(\n",
      "  File \"/home/goshko/miniconda3/envs/goshko_bep/lib/python3.10/site-packages/jax/_src/api.py\", line 1966, in _vjp\n",
      "    out_primals, vjp, aux = ad.vjp(flat_fun, primals_flat, has_aux=True)\n",
      "  File \"/home/goshko/miniconda3/envs/goshko_bep/lib/python3.10/site-packages/jax/_src/interpreters/ad.py\", line 144, in vjp\n",
      "    out_primals, pvals, jaxpr, consts, aux = linearize(traceable, *primals, has_aux=True)\n",
      "  File \"/home/goshko/miniconda3/envs/goshko_bep/lib/python3.10/site-packages/jax/_src/interpreters/ad.py\", line 131, in linearize\n",
      "    jaxpr, out_pvals, consts = pe.trace_to_jaxpr_nounits(jvpfun_flat, in_pvals)\n",
      "  File \"/home/goshko/miniconda3/envs/goshko_bep/lib/python3.10/site-packages/jax/_src/profiler.py\", line 333, in wrapper\n",
      "    return func(*args, **kwargs)\n",
      "  File \"/home/goshko/miniconda3/envs/goshko_bep/lib/python3.10/site-packages/jax/_src/interpreters/partial_eval.py\", line 681, in trace_to_jaxpr_nounits\n",
      "    jaxpr, (out_pvals, consts, env) = fun.call_wrapped(pvals)\n",
      "  File \"/home/goshko/miniconda3/envs/goshko_bep/lib/python3.10/site-packages/jax/_src/linear_util.py\", line 193, in call_wrapped\n",
      "    ans = self.f(*args, **dict(self.params, **kwargs))\n",
      "  File \"/home/goshko/miniconda3/envs/goshko_bep/lib/python3.10/site-packages/equinox/_ad.py\", line 62, in fun_value_and_grad\n",
      "    return self._fun(_x, *_args, **_kwargs)\n",
      "  File \"/home/goshko/INR_BEP/inr_utils/losses.py\", line 121, in __call__\n",
      "    true_val = jax.vmap(self.target_function)(locations)\n",
      "  File \"/home/goshko/miniconda3/envs/goshko_bep/lib/python3.10/site-packages/jax/_src/traceback_util.py\", line 180, in reraise_with_filtered_traceback\n",
      "    return fun(*args, **kwargs)\n",
      "  File \"/home/goshko/miniconda3/envs/goshko_bep/lib/python3.10/site-packages/jax/_src/api.py\", line 992, in vmap_f\n",
      "    out_flat = batching.batch(\n",
      "  File \"/home/goshko/miniconda3/envs/goshko_bep/lib/python3.10/site-packages/jax/_src/linear_util.py\", line 193, in call_wrapped\n",
      "    ans = self.f(*args, **dict(self.params, **kwargs))\n",
      "  File \"/home/goshko/miniconda3/envs/goshko_bep/lib/python3.10/site-packages/equinox/_ad.py\", line 96, in __call__\n",
      "    value, grad = self._fun_value_and_grad(*args, **kwargs)\n",
      "  File \"/home/goshko/miniconda3/envs/goshko_bep/lib/python3.10/site-packages/equinox/_ad.py\", line 79, in __call__\n",
      "    return fun_value_and_grad(diff_x, nondiff_x, *args, **kwargs)\n",
      "  File \"/home/goshko/miniconda3/envs/goshko_bep/lib/python3.10/site-packages/jax/_src/traceback_util.py\", line 180, in reraise_with_filtered_traceback\n",
      "    return fun(*args, **kwargs)\n",
      "  File \"/home/goshko/miniconda3/envs/goshko_bep/lib/python3.10/site-packages/jax/_src/api.py\", line 462, in value_and_grad_f\n",
      "    ans, vjp_py = _vjp(f_partial, *dyn_args)\n",
      "  File \"/home/goshko/miniconda3/envs/goshko_bep/lib/python3.10/site-packages/jax/_src/api.py\", line 1962, in _vjp\n",
      "    out_primals, vjp = ad.vjp(flat_fun, primals_flat)\n",
      "  File \"/home/goshko/miniconda3/envs/goshko_bep/lib/python3.10/site-packages/jax/_src/interpreters/ad.py\", line 142, in vjp\n",
      "    out_primals, pvals, jaxpr, consts = linearize(traceable, *primals)\n",
      "  File \"/home/goshko/miniconda3/envs/goshko_bep/lib/python3.10/site-packages/jax/_src/interpreters/ad.py\", line 131, in linearize\n",
      "    jaxpr, out_pvals, consts = pe.trace_to_jaxpr_nounits(jvpfun_flat, in_pvals)\n",
      "  File \"/home/goshko/miniconda3/envs/goshko_bep/lib/python3.10/site-packages/jax/_src/profiler.py\", line 333, in wrapper\n",
      "    return func(*args, **kwargs)\n",
      "  File \"/home/goshko/miniconda3/envs/goshko_bep/lib/python3.10/site-packages/jax/_src/interpreters/partial_eval.py\", line 681, in trace_to_jaxpr_nounits\n",
      "    jaxpr, (out_pvals, consts, env) = fun.call_wrapped(pvals)\n",
      "  File \"/home/goshko/miniconda3/envs/goshko_bep/lib/python3.10/site-packages/jax/_src/linear_util.py\", line 193, in call_wrapped\n",
      "    ans = self.f(*args, **dict(self.params, **kwargs))\n",
      "  File \"/home/goshko/miniconda3/envs/goshko_bep/lib/python3.10/site-packages/equinox/_ad.py\", line 62, in fun_value_and_grad\n",
      "    return self._fun(_x, *_args, **_kwargs)\n",
      "  File \"/home/goshko/miniconda3/envs/goshko_bep/lib/python3.10/site-packages/equinox/_module.py\", line 572, in __call__\n",
      "    self = super(_ModuleMeta, initable_cls).__call__(*args, **kwargs)\n",
      "  File \"/home/goshko/miniconda3/envs/goshko_bep/lib/python3.10/site-packages/equinox/_better_abstract.py\", line 227, in __call__\n",
      "    self = super().__call__(*args, **kwargs)\n",
      "  File \"/home/goshko/miniconda3/envs/goshko_bep/lib/python3.10/site-packages/equinox/_module.py\", line 378, in __init__\n",
      "    init(self, *args, **kwargs)\n",
      "TypeError: ContinuousImage.__init__() missing 2 required positional arguments: 'scale_to_01' and 'interpolation_method'\n"
     ]
    },
    {
     "data": {
      "text/html": [
       " View run <strong style=\"color:#cdcd00\">prime-glitter-91</strong> at: <a href='https://wandb.ai/glukanov2000-eindhoven-university-of-technology/inr_edu_24/runs/8dcqcx69' target=\"_blank\">https://wandb.ai/glukanov2000-eindhoven-university-of-technology/inr_edu_24/runs/8dcqcx69</a><br/> View project at: <a href='https://wandb.ai/glukanov2000-eindhoven-university-of-technology/inr_edu_24' target=\"_blank\">https://wandb.ai/glukanov2000-eindhoven-university-of-technology/inr_edu_24</a><br/>Synced 5 W&B file(s), 0 media file(s), 0 artifact file(s) and 0 other file(s)"
      ],
      "text/plain": [
       "<IPython.core.display.HTML object>"
      ]
     },
     "metadata": {},
     "output_type": "display_data"
    },
    {
     "data": {
      "text/html": [
       "Find logs at: <code>./wandb/run-20250116_220124-8dcqcx69/logs</code>"
      ],
      "text/plain": [
       "<IPython.core.display.HTML object>"
      ]
     },
     "metadata": {},
     "output_type": "display_data"
    },
    {
     "ename": "TypeError",
     "evalue": "ContinuousImage.__init__() missing 2 required positional arguments: 'scale_to_01' and 'interpolation_method'",
     "output_type": "error",
     "traceback": [
      "\u001b[0;31m---------------------------------------------------------------------------\u001b[0m",
      "\u001b[0;31mTypeError\u001b[0m                                 Traceback (most recent call last)",
      "Cell \u001b[0;32mIn[10], line 7\u001b[0m\n\u001b[1;32m      1\u001b[0m \u001b[38;5;66;03m# and we run the experiment while logging things to wandb\u001b[39;00m\n\u001b[1;32m      2\u001b[0m \u001b[38;5;28;01mwith\u001b[39;00m wandb\u001b[38;5;241m.\u001b[39minit(\n\u001b[1;32m      3\u001b[0m     project\u001b[38;5;241m=\u001b[39m\u001b[38;5;124m'\u001b[39m\u001b[38;5;124minr_edu_24\u001b[39m\u001b[38;5;124m'\u001b[39m,\n\u001b[1;32m      4\u001b[0m     notes\u001b[38;5;241m=\u001b[39m\u001b[38;5;124m'\u001b[39m\u001b[38;5;124mtest\u001b[39m\u001b[38;5;124m'\u001b[39m,\n\u001b[1;32m      5\u001b[0m     tags\u001b[38;5;241m=\u001b[39m[\u001b[38;5;124m'\u001b[39m\u001b[38;5;124mtest\u001b[39m\u001b[38;5;124m'\u001b[39m]\n\u001b[1;32m      6\u001b[0m ) \u001b[38;5;28;01mas\u001b[39;00m run:\n\u001b[0;32m----> 7\u001b[0m     results \u001b[38;5;241m=\u001b[39m \u001b[43mexperiment\u001b[49m\u001b[38;5;241;43m.\u001b[39;49m\u001b[43minitialize\u001b[49m\u001b[43m(\u001b[49m\u001b[43m)\u001b[49m\n",
      "File \u001b[0;32m~/miniconda3/envs/goshko_bep/lib/python3.10/site-packages/common_dl_utils/config_realization.py:195\u001b[0m, in \u001b[0;36mPostponedInitialization.initialize\u001b[0;34m(self, **kwargs)\u001b[0m\n\u001b[1;32m    193\u001b[0m processed_self_kwargs\u001b[38;5;241m.\u001b[39mupdate(processed_kwargs)\n\u001b[1;32m    194\u001b[0m \u001b[38;5;28mcls\u001b[39m \u001b[38;5;241m=\u001b[39m _internal_utils\u001b[38;5;241m.\u001b[39msignature_to_var_keyword(\u001b[38;5;28mself\u001b[39m\u001b[38;5;241m.\u001b[39mcls, \u001b[38;5;28mself\u001b[39m\u001b[38;5;241m.\u001b[39msignature) \u001b[38;5;28;01mif\u001b[39;00m \u001b[38;5;28mself\u001b[39m\u001b[38;5;241m.\u001b[39mneeds_wrapping \u001b[38;5;28;01melse\u001b[39;00m \u001b[38;5;28mself\u001b[39m\u001b[38;5;241m.\u001b[39mcls\n\u001b[0;32m--> 195\u001b[0m \u001b[38;5;28;01mreturn\u001b[39;00m \u001b[38;5;28;43mcls\u001b[39;49m\u001b[43m(\u001b[49m\u001b[38;5;241;43m*\u001b[39;49m\u001b[38;5;241;43m*\u001b[39;49m\u001b[43mprocessed_self_kwargs\u001b[49m\u001b[43m)\u001b[49m\n",
      "File \u001b[0;32m~/INR_BEP/inr_utils/training.py:192\u001b[0m, in \u001b[0;36mtrain_inr\u001b[0;34m(inr, loss_evaluator, sampler, optimizer, steps, key, use_wandb, after_step_callback, after_training_callback, optimizer_state, state_initialization_function, state)\u001b[0m\n\u001b[1;32m    189\u001b[0m losses \u001b[38;5;241m=\u001b[39m np\u001b[38;5;241m.\u001b[39mempty(steps, dtype\u001b[38;5;241m=\u001b[39mnp\u001b[38;5;241m.\u001b[39mfloat32)\n\u001b[1;32m    191\u001b[0m \u001b[38;5;28;01mfor\u001b[39;00m step \u001b[38;5;129;01min\u001b[39;00m \u001b[38;5;28mrange\u001b[39m(steps):  \u001b[38;5;66;03m# the actual training loop\u001b[39;00m\n\u001b[0;32m--> 192\u001b[0m     inr, optimizer_state, loss, state \u001b[38;5;241m=\u001b[39m \u001b[43mtrain_step\u001b[49m\u001b[43m(\u001b[49m\u001b[43minr\u001b[49m\u001b[43m,\u001b[49m\u001b[43m \u001b[49m\u001b[43moptimizer_state\u001b[49m\u001b[43m,\u001b[49m\u001b[43m \u001b[49m\u001b[38;5;28;43mnext\u001b[39;49m\u001b[43m(\u001b[49m\u001b[43mkey_gen\u001b[49m\u001b[43m)\u001b[49m\u001b[43m,\u001b[49m\u001b[43m \u001b[49m\u001b[43mstate\u001b[49m\u001b[43m)\u001b[49m\n\u001b[1;32m    193\u001b[0m     losses[step] \u001b[38;5;241m=\u001b[39m loss\n\u001b[1;32m    194\u001b[0m     after_step_callback(step, loss, inr, state, optimizer_state)\n",
      "    \u001b[0;31m[... skipping hidden 15 frame]\u001b[0m\n",
      "File \u001b[0;32m~/INR_BEP/inr_utils/training.py:67\u001b[0m, in \u001b[0;36mmake_inr_train_step_function.<locals>.train_step\u001b[0;34m(inr, optimizer_state, key, state)\u001b[0m\n\u001b[1;32m     56\u001b[0m \u001b[38;5;250m\u001b[39m\u001b[38;5;124;03m\"\"\"take one train step with the inr model and optimizer\u001b[39;00m\n\u001b[1;32m     57\u001b[0m \n\u001b[1;32m     58\u001b[0m \u001b[38;5;124;03m:param inr: inr model to be optimized\u001b[39;00m\n\u001b[0;32m   (...)\u001b[0m\n\u001b[1;32m     64\u001b[0m \u001b[38;5;124;03mNB this function is decorated with eqx.filter_jit\u001b[39;00m\n\u001b[1;32m     65\u001b[0m \u001b[38;5;124;03m\"\"\"\u001b[39;00m\n\u001b[1;32m     66\u001b[0m locations \u001b[38;5;241m=\u001b[39m sampler(key)  \u001b[38;5;66;03m# think of an array of coordinates, although this can in general be any PyTree containing the relevant information for the loss_evaluator\u001b[39;00m\n\u001b[0;32m---> 67\u001b[0m (loss, state), grad \u001b[38;5;241m=\u001b[39m \u001b[43meqx\u001b[49m\u001b[38;5;241;43m.\u001b[39;49m\u001b[43mfilter_value_and_grad\u001b[49m\u001b[43m(\u001b[49m\u001b[43mloss_evaluator\u001b[49m\u001b[43m,\u001b[49m\u001b[43m \u001b[49m\u001b[43mhas_aux\u001b[49m\u001b[38;5;241;43m=\u001b[39;49m\u001b[38;5;28;43;01mTrue\u001b[39;49;00m\u001b[43m)\u001b[49m\u001b[43m(\u001b[49m\u001b[43minr\u001b[49m\u001b[43m,\u001b[49m\u001b[43m \u001b[49m\u001b[43mlocations\u001b[49m\u001b[43m,\u001b[49m\u001b[43m \u001b[49m\u001b[43mstate\u001b[49m\u001b[43m)\u001b[49m\n\u001b[1;32m     68\u001b[0m grad \u001b[38;5;241m=\u001b[39m jax\u001b[38;5;241m.\u001b[39mtree\u001b[38;5;241m.\u001b[39mmap(\n\u001b[1;32m     69\u001b[0m     \u001b[38;5;28;01mlambda\u001b[39;00m x: jnp\u001b[38;5;241m.\u001b[39mconjugate(x) \u001b[38;5;28;01mif\u001b[39;00m jnp\u001b[38;5;241m.\u001b[39miscomplexobj(x) \u001b[38;5;28;01melse\u001b[39;00m x,\n\u001b[1;32m     70\u001b[0m     grad\n\u001b[1;32m     71\u001b[0m )\n\u001b[1;32m     72\u001b[0m updates, optimizer_state \u001b[38;5;241m=\u001b[39m optimizer\u001b[38;5;241m.\u001b[39mupdate(grad, optimizer_state, inr)\n",
      "    \u001b[0;31m[... skipping hidden 10 frame]\u001b[0m\n",
      "File \u001b[0;32m~/INR_BEP/inr_utils/losses.py:121\u001b[0m, in \u001b[0;36mPointWiseGradLossEvaluator.__call__\u001b[0;34m(self, inr, locations, state)\u001b[0m\n\u001b[1;32m    118\u001b[0m     inr_grad \u001b[38;5;241m=\u001b[39m eqx\u001b[38;5;241m.\u001b[39mfilter_grad(inr)\n\u001b[1;32m    119\u001b[0m     pred_val \u001b[38;5;241m=\u001b[39m jax\u001b[38;5;241m.\u001b[39mvmap(inr_grad)(locations)\n\u001b[0;32m--> 121\u001b[0m true_val \u001b[38;5;241m=\u001b[39m \u001b[43mjax\u001b[49m\u001b[38;5;241;43m.\u001b[39;49m\u001b[43mvmap\u001b[49m\u001b[43m(\u001b[49m\u001b[38;5;28;43mself\u001b[39;49m\u001b[38;5;241;43m.\u001b[39;49m\u001b[43mtarget_function\u001b[49m\u001b[43m)\u001b[49m\u001b[43m(\u001b[49m\u001b[43mlocations\u001b[49m\u001b[43m)\u001b[49m\n\u001b[1;32m    123\u001b[0m \u001b[38;5;28;01mif\u001b[39;00m \u001b[38;5;28mself\u001b[39m\u001b[38;5;241m.\u001b[39mstate_update_function \u001b[38;5;129;01mis\u001b[39;00m \u001b[38;5;129;01mnot\u001b[39;00m \u001b[38;5;28;01mNone\u001b[39;00m:  \u001b[38;5;66;03m# update state if necessary\u001b[39;00m\n\u001b[1;32m    124\u001b[0m     \u001b[38;5;66;03m# this is e.g. for the progressive training in the integer lattice mapping\u001b[39;00m\n\u001b[1;32m    125\u001b[0m     state \u001b[38;5;241m=\u001b[39m \u001b[38;5;28mself\u001b[39m\u001b[38;5;241m.\u001b[39mstate_update_function(state, inr)\n",
      "    \u001b[0;31m[... skipping hidden 16 frame]\u001b[0m\n",
      "File \u001b[0;32m~/miniconda3/envs/goshko_bep/lib/python3.10/site-packages/equinox/_module.py:378\u001b[0m, in \u001b[0;36m_ModuleMeta.__new__.<locals>.__init__\u001b[0;34m(self, *args, **kwargs)\u001b[0m\n\u001b[1;32m    375\u001b[0m \u001b[38;5;129m@ft\u001b[39m\u001b[38;5;241m.\u001b[39mwraps(init)  \u001b[38;5;66;03m# pyright: ignore\u001b[39;00m\n\u001b[1;32m    376\u001b[0m \u001b[38;5;28;01mdef\u001b[39;00m \u001b[38;5;21m__init__\u001b[39m(\u001b[38;5;28mself\u001b[39m, \u001b[38;5;241m*\u001b[39margs, \u001b[38;5;241m*\u001b[39m\u001b[38;5;241m*\u001b[39mkwargs):\n\u001b[1;32m    377\u001b[0m     __tracebackhide__ \u001b[38;5;241m=\u001b[39m \u001b[38;5;28;01mTrue\u001b[39;00m\n\u001b[0;32m--> 378\u001b[0m     \u001b[43minit\u001b[49m\u001b[43m(\u001b[49m\u001b[38;5;28;43mself\u001b[39;49m\u001b[43m,\u001b[49m\u001b[43m \u001b[49m\u001b[38;5;241;43m*\u001b[39;49m\u001b[43margs\u001b[49m\u001b[43m,\u001b[49m\u001b[43m \u001b[49m\u001b[38;5;241;43m*\u001b[39;49m\u001b[38;5;241;43m*\u001b[39;49m\u001b[43mkwargs\u001b[49m\u001b[43m)\u001b[49m\n\u001b[1;32m    379\u001b[0m     \u001b[38;5;66;03m# Same `if` trick as with `__post_init__`.\u001b[39;00m\n\u001b[1;32m    380\u001b[0m     \u001b[38;5;28;01mif\u001b[39;00m \u001b[38;5;28mself\u001b[39m\u001b[38;5;241m.\u001b[39m\u001b[38;5;18m__class__\u001b[39m\u001b[38;5;241m.\u001b[39m\u001b[38;5;21m__init__\u001b[39m \u001b[38;5;129;01mis\u001b[39;00m \u001b[38;5;28mcls\u001b[39m\u001b[38;5;241m.\u001b[39m\u001b[38;5;21m__init__\u001b[39m:\n",
      "\u001b[0;31mTypeError\u001b[0m: ContinuousImage.__init__() missing 2 required positional arguments: 'scale_to_01' and 'interpolation_method'"
     ]
    }
   ],
   "source": [
    "# and we run the experiment while logging things to wandb\n",
    "with wandb.init(\n",
    "    project='inr_edu_24',\n",
    "    notes='test',\n",
    "    tags=['test']\n",
    ") as run:\n",
    "    results = experiment.initialize()"
   ]
  },
  {
   "cell_type": "code",
   "execution_count": null,
   "metadata": {},
   "outputs": [],
   "source": [
    "inr, losses, optimizer_state, state, loss_evaluator, additional_output = results\n",
    "inr"
   ]
  },
  {
   "cell_type": "code",
   "execution_count": null,
   "metadata": {},
   "outputs": [],
   "source": [
    "from state_test_objects import after_training_callback, CountingIdentity\n",
    "after_training_callback(losses, inr, state)"
   ]
  },
  {
   "cell_type": "code",
   "execution_count": null,
   "metadata": {},
   "outputs": [],
   "source": [
    "inr.terms[0].layers[0]"
   ]
  },
  {
   "cell_type": "code",
   "execution_count": null,
   "metadata": {},
   "outputs": [],
   "source": [
    "isinstance(inr.terms[0].layers[0], CountingIdentity)"
   ]
  },
  {
   "cell_type": "code",
   "execution_count": null,
   "metadata": {},
   "outputs": [],
   "source": [
    "type(inr.terms[0].layers[0])"
   ]
  },
  {
   "cell_type": "code",
   "execution_count": null,
   "metadata": {},
   "outputs": [],
   "source": []
  }
 ],
 "metadata": {
  "kernelspec": {
   "display_name": "goshko_bep",
   "language": "python",
   "name": "python3"
  },
  "language_info": {
   "codemirror_mode": {
    "name": "ipython",
    "version": 3
   },
   "file_extension": ".py",
   "mimetype": "text/x-python",
   "name": "python",
   "nbconvert_exporter": "python",
   "pygments_lexer": "ipython3",
   "version": "3.10.14"
  }
 },
 "nbformat": 4,
 "nbformat_minor": 2
}
