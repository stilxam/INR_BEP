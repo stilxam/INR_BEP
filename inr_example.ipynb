{
 "cells": [
  {
   "cell_type": "markdown",
   "metadata": {},
   "source": [
    "# Example of training an INR locally\n",
    "This notebook provides an example of how to create an INR and train it locally using the tools in this repo."
   ]
  },
  {
   "cell_type": "code",
   "execution_count": 1,
   "metadata": {},
   "outputs": [
    {
     "name": "stderr",
     "output_type": "stream",
     "text": [
      "\u001b[34m\u001b[1mwandb\u001b[0m: Using wandb-core as the SDK backend. Please refer to https://wandb.me/wandb-core for more information.\n",
      "\u001b[34m\u001b[1mwandb\u001b[0m: Currently logged in as: \u001b[33mabdtab\u001b[0m (\u001b[33mabdtab-tue\u001b[0m). Use \u001b[1m`wandb login --relogin`\u001b[0m to force relogin\n"
     ]
    }
   ],
   "source": [
    "import pdb\n",
    "import traceback\n",
    "\n",
    "import jax\n",
    "from jax import numpy as jnp\n",
    "import optax\n",
    "import wandb\n",
    "\n",
    "from common_dl_utils.config_creation import Config\n",
    "import common_jax_utils as cju\n",
    "\n",
    "wandb.login()\n",
    "\n",
    "key = jax.random.PRNGKey(12398)\n",
    "key_gen = cju.key_generator(key)"
   ]
  },
  {
   "cell_type": "code",
   "execution_count": null,
   "metadata": {},
   "outputs": [],
   "source": []
  },
  {
   "cell_type": "markdown",
   "metadata": {},
   "source": [
    "We want to train a single INR on `example_data/parrot.png`. We'll use the `CombinedINR` clas from `model_components.inr_modules` together with the `SirenLayer` and `GaussianINRLayer` from `model_components.inr_layers` for the model, and we'll train it using the tools from `inr_utils`.\n",
    "\n",
    "To do all of this, basically we only need to create a config. We'll use the `common_dl_utils.config_creation.Config` class for this, but this is basically just a dictionary that allows for attribute access-like acces of its elements (so we can do `config.model_type = \"CombinedINR\"` instead of `config[\"model_type\"] = \"CombinedINR\"`). You can also just use a dictionary instead.\n",
    "\n",
    "Then we'll use the tools from `common_jax_utils` to first get a model from this config so we can inspect it, and then just run the experiment specified by the config.\n",
    "\n",
    "Doing this in a config instead of hard coded might seem like extra work, but consider this:\n",
    "1. you can serialize this config as a json file or a yaml file to later get the same model and experimental settings back \n",
    "   so when you are experimenting with different architectures, if you just store the configs you've used, you can easily recreate previous results\n",
    "2. when we get to running hyper parameter sweeps, you can easily get these configs (with a pick for the varying hyper parameters) from wandb\n",
    "   and then run an experiment specified by that config on any machine you want, e.g. on Snellius"
   ]
  },
  {
   "cell_type": "code",
   "execution_count": 2,
   "metadata": {},
   "outputs": [],
   "source": [
    "config = Config()\n",
    "\n",
    "# first we specify what the model should look like\n",
    "config.architecture = './model_components'  # module containing all relevant classes for architectures\n",
    "# NB if the classes relevant for creating the model are spread over multiple modules, this is no problem\n",
    "# let config.architecture be the module that contains the \"main\" model class, and for all other components just specify the module\n",
    "# or specify the other modules as default modules to the tools in common_jax_utils.run_utils\n",
    "config.model_type = 'inr_modules.CombinedINR'\n",
    "\n",
    "config.model_config = Config()\n",
    "config.model_config.in_size = 1\n",
    "config.model_config.out_size = 1\n",
    "config.model_config.terms = [  # CombinedINR uses multiple MLPs and returns the sum of their outputs. These 'terms' are the MLPs\n",
    "    # ('inr_modules.MLPINR.new_from_config',{\n",
    "    #     'hidden_size': 256,\n",
    "    #     'num_layers': 5,\n",
    "    #     'layer_type': 'inr_layers.SirenLayer',\n",
    "    #     'num_splits': 1,\n",
    "    #     'use_complex': False,\n",
    "    #     'activation_kwargs': {'w0': 30.},\n",
    "    #     'initialization_scheme':'initialization_schemes.siren_scheme',\n",
    "    #     'positional_encoding_layer': ('inr_layers.ClassicalPositionalEncoding.from_config', {'num_frequencies': 10}),\n",
    "    # }),\n",
    "    # ('inr_modules.MLPINR.from_config',{\n",
    "    #     'hidden_size': 1024,\n",
    "    #     'num_layers': 2,\n",
    "    #     'num_splits': 1,\n",
    "    #     'layer_type': 'inr_layers.GaussianINRLayer',\n",
    "    #     'use_complex': False,\n",
    "    #     'activation_kwargs': {'inverse_scale': 1},\n",
    "    # })\n",
    "    ('inr_modules.MLPINR.new_from_config',{\n",
    "        'hidden_size': 256,\n",
    "        'num_layers': 5,\n",
    "        'layer_type': 'inr_layers.FinerLayer',\n",
    "        'num_splits': 1,\n",
    "        'use_complex': False,\n",
    "        'activation_kwargs': {'w0': 30},\n",
    "        'initialization_scheme':'initialization_schemes.finer_scheme',\n",
    "        'initialization_scheme_kwargs':{'bias_k' : 10}\n",
    "        # 'initialization_scheme_k' : {'k': 20}\n",
    "        #'positional_encoding_layer': ('inr_layers.ClassicalPositionalEncoding.from_config', {'num_frequencies': 10}),\n",
    "    })\n",
    "]\n",
    "\n",
    "# next, we set up the training loop, including the 'target_function' that we want to mimic\n",
    "config.trainer_module = './inr_utils/'  # similarly to config.architecture above, here we just specify in what module to look for objects by default\n",
    "config.trainer_type = 'training.train_inr'\n",
    "config.target_function = 'images.ContinuousImage'\n",
    "config.target_function_config = {\n",
    "    'image': './example_data/parrot.png',\n",
    "    'scale_to_01': True,\n",
    "    'interpolation_method': 'images.make_piece_wise_constant_interpolation'\n",
    "}\n",
    "config.loss_function = 'losses.scaled_mse_loss'\n",
    "config.sampler = ('sampling.GridSubsetSampler',{  # samples coordinates in a fixed grid, that should in this case coincide with the pixel locations in the image\n",
    "    'size': [2040, 1356],\n",
    "    'batch_size': 2000,\n",
    "    'allow_duplicates': False,\n",
    "})\n",
    "\n",
    "config.optimizer = 'adam'  # we'll have to add optax to the additional default modules later\n",
    "config.optimizer_config = {\n",
    "    'learning_rate': 1.5e-4\n",
    "}\n",
    "config.steps = 40000\n",
    "config.use_wandb = True\n",
    "\n",
    "# now we want some extra things, like logging, to happen during training\n",
    "# the inr_utils.training.train_inr function allows for this through callbacks.\n",
    "# The callbacks we want to use can be found in inr_utils.callbacks\n",
    "config.after_step_callback = 'callbacks.ComposedCallback'\n",
    "config.after_step_callback_config = {\n",
    "    'callbacks':[\n",
    "        ('callbacks.print_loss', {'after_every':400}),  # only print the loss every 400th step\n",
    "        'callbacks.report_loss',  # but log the loss to wandb after every step\n",
    "        ('callbacks.MetricCollectingCallback', # this thing will help us collect metrics and log images to wandb\n",
    "            {'metric_collector':'metrics.MetricCollector'}\n",
    "        ),\n",
    "        'callbacks.raise_error_on_nan'  # stop training if the loss becomes NaN\n",
    "    ],\n",
    "    'show_logs': False\n",
    "}\n",
    "\n",
    "config.metric_collector_config = {  # the metrics for MetricCollectingCallback / metrics.MetricCollector\n",
    "    'metrics':[\n",
    "        ('metrics.PlotOnGrid2D', {'grid': 256, 'batch_size':8*256, 'frequency':'every_n_batches'}),  \n",
    "        # ^ plots the image on this fixed grid so we can visually inspect the inr on wandb\n",
    "        ('metrics.MSEOnFixedGrid', {'grid': [2040, 1356], 'batch_size':2040, 'frequency': 'every_n_batches'})\n",
    "        # ^ compute the MSE with the actual image pixels\n",
    "    ],\n",
    "    'batch_frequency': 400,  # compute all of these metrics every 400 batches\n",
    "    'epoch_frequency': 1  # not actually used\n",
    "}\n",
    "\n",
    "config.after_training_callback = None  # don't care for one now, but you could have this e.g. store some nice loss plots if you're not using wandb \n",
    "config.optimizer_state = None  # we're starting from scratch"
   ]
  },
  {
   "cell_type": "code",
   "execution_count": 3,
   "metadata": {},
   "outputs": [],
   "source": [
    "# let's first see if we get the correct model\n",
    "try:\n",
    "    inr = cju.run_utils.get_model_from_config_and_key(\n",
    "        prng_key=next(key_gen),\n",
    "        config=config,\n",
    "        model_sub_config_name_base='model',\n",
    "        add_model_module_to_architecture_default_module=False, # since the model is already in the default module specified by 'architecture',\n",
    "    )\n",
    "except Exception as e:\n",
    "    traceback.print_exc()\n",
    "    print(e)\n",
    "    print('\\n')\n",
    "    pdb.post_mortem()"
   ]
  },
  {
   "cell_type": "code",
   "execution_count": 4,
   "metadata": {},
   "outputs": [
    {
     "data": {
      "text/plain": [
       "CombinedINR(\n",
       "  terms=(\n",
       "    MLPINR(\n",
       "      input_layer=FinerLayer(\n",
       "        weights=f32[256,2],\n",
       "        biases=f32[256],\n",
       "        activation_kwargs={'w0': 30}\n",
       "      ),\n",
       "      hidden_layers=[\n",
       "        FinerLayer(\n",
       "          weights=f32[256,256],\n",
       "          biases=f32[256],\n",
       "          activation_kwargs={'w0': 30}\n",
       "        ),\n",
       "        FinerLayer(\n",
       "          weights=f32[256,256],\n",
       "          biases=f32[256],\n",
       "          activation_kwargs={'w0': 30}\n",
       "        ),\n",
       "        FinerLayer(\n",
       "          weights=f32[256,256],\n",
       "          biases=f32[256],\n",
       "          activation_kwargs={'w0': 30}\n",
       "        )\n",
       "      ],\n",
       "      output_layer=Linear(\n",
       "        weights=f32[3,256],\n",
       "        biases=f32[3],\n",
       "        activation_kwargs={}\n",
       "      ),\n",
       "      post_processor=<function real_part>\n",
       "    ),\n",
       "  ),\n",
       "  post_processor=<function real_part>\n",
       ")"
      ]
     },
     "execution_count": 4,
     "metadata": {},
     "output_type": "execute_result"
    }
   ],
   "source": [
    "inr"
   ]
  },
  {
   "cell_type": "code",
   "execution_count": 5,
   "metadata": {},
   "outputs": [
    {
     "data": {
      "text/plain": [
       "Array([ 0.57103825,  0.40486848, -0.55767703], dtype=float32)"
      ]
     },
     "execution_count": 5,
     "metadata": {},
     "output_type": "execute_result"
    }
   ],
   "source": [
    "# check that it works properly\n",
    "inr(jnp.zeros(2))"
   ]
  },
  {
   "cell_type": "code",
   "execution_count": 6,
   "metadata": {},
   "outputs": [],
   "source": [
    "# next we get the experiment from the config using common_jax_utils.run_utils.get_experiment_from_config_and_key\n",
    "experiment = cju.run_utils.get_experiment_from_config_and_key(\n",
    "    prng_key=next(key_gen),\n",
    "    config=config,\n",
    "    model_kwarg_in_trainer='inr',\n",
    "    model_sub_config_name_base='model',  # so it looks for \"model_config\" in config\n",
    "    trainer_default_module_key='trainer_module',  # so it knows to get the module specified by config.trainer_module\n",
    "    additional_trainer_default_modules=[optax],  # remember the don't forget to add optax to the default modules? This is that \n",
    "    add_model_module_to_architecture_default_module=False,\n",
    "    initialize=False  # don't run the experiment yet, we want to use wandb\n",
    ")"
   ]
  },
  {
   "cell_type": "code",
   "execution_count": 7,
   "metadata": {},
   "outputs": [
    {
     "data": {
      "text/html": [
       "Tracking run with wandb version 0.18.5"
      ],
      "text/plain": [
       "<IPython.core.display.HTML object>"
      ]
     },
     "metadata": {},
     "output_type": "display_data"
    },
    {
     "data": {
      "text/html": [
       "Run data is saved locally in <code>/home/abdtab/INR_BEP/wandb/run-20241213_153140-92931qke</code>"
      ],
      "text/plain": [
       "<IPython.core.display.HTML object>"
      ]
     },
     "metadata": {},
     "output_type": "display_data"
    },
    {
     "data": {
      "text/html": [
       "Syncing run <strong><a href='https://wandb.ai/abdtab-tue/inr_edu_24/runs/92931qke' target=\"_blank\">daily-donkey-25</a></strong> to <a href='https://wandb.ai/abdtab-tue/inr_edu_24' target=\"_blank\">Weights & Biases</a> (<a href='https://wandb.me/run' target=\"_blank\">docs</a>)<br/>"
      ],
      "text/plain": [
       "<IPython.core.display.HTML object>"
      ]
     },
     "metadata": {},
     "output_type": "display_data"
    },
    {
     "data": {
      "text/html": [
       " View project at <a href='https://wandb.ai/abdtab-tue/inr_edu_24' target=\"_blank\">https://wandb.ai/abdtab-tue/inr_edu_24</a>"
      ],
      "text/plain": [
       "<IPython.core.display.HTML object>"
      ]
     },
     "metadata": {},
     "output_type": "display_data"
    },
    {
     "data": {
      "text/html": [
       " View run at <a href='https://wandb.ai/abdtab-tue/inr_edu_24/runs/92931qke' target=\"_blank\">https://wandb.ai/abdtab-tue/inr_edu_24/runs/92931qke</a>"
      ],
      "text/plain": [
       "<IPython.core.display.HTML object>"
      ]
     },
     "metadata": {},
     "output_type": "display_data"
    },
    {
     "name": "stdout",
     "output_type": "stream",
     "text": [
      "Loss at step 400 is 1.1549979448318481.\n",
      "Loss at step 800 is 1.008363962173462.\n",
      "Loss at step 1200 is 1.0040189027786255.\n",
      "Loss at step 1600 is 1.0072218179702759.\n",
      "Loss at step 2000 is 0.995823323726654.\n",
      "Loss at step 2400 is 0.9711264371871948.\n",
      "Loss at step 2800 is 0.8715367913246155.\n",
      "Loss at step 3200 is 0.7282362580299377.\n",
      "Loss at step 3600 is 0.567753791809082.\n",
      "Loss at step 4000 is 0.5238996148109436.\n",
      "Loss at step 4400 is 0.4568893611431122.\n",
      "Loss at step 4800 is 0.4253138303756714.\n",
      "Loss at step 5200 is 0.3186812698841095.\n",
      "Loss at step 5600 is 0.25750985741615295.\n",
      "Loss at step 6000 is 0.21326062083244324.\n",
      "Loss at step 6400 is 0.20829054713249207.\n",
      "Loss at step 6800 is 0.2073351889848709.\n",
      "Loss at step 7200 is 0.2047569751739502.\n",
      "Loss at step 7600 is 0.2332567572593689.\n",
      "Loss at step 8000 is 0.25047531723976135.\n",
      "Loss at step 8400 is 0.3182867169380188.\n",
      "Loss at step 8800 is 0.3971351087093353.\n",
      "Loss at step 9200 is 0.3803222179412842.\n",
      "Loss at step 9600 is 0.40274107456207275.\n",
      "Loss at step 10000 is 0.481123149394989.\n",
      "Loss at step 10400 is 0.47647902369499207.\n",
      "Loss at step 10800 is 0.5249441266059875.\n",
      "Loss at step 11200 is 0.47352859377861023.\n",
      "Loss at step 11600 is 0.5003368258476257.\n",
      "Loss at step 12000 is 0.7752017974853516.\n",
      "Loss at step 12400 is 0.7696624994277954.\n",
      "Loss at step 12800 is 0.710964560508728.\n",
      "Loss at step 13200 is 0.7499089241027832.\n",
      "Loss at step 13600 is 0.8219606876373291.\n",
      "Loss at step 14000 is 0.7062711715698242.\n",
      "Loss at step 14400 is 0.7666682600975037.\n",
      "Loss at step 14800 is 0.7569000124931335.\n",
      "Loss at step 15200 is 0.7627471685409546.\n",
      "Loss at step 15600 is 0.7706588506698608.\n",
      "Loss at step 16000 is 0.7693563103675842.\n",
      "Loss at step 16400 is 0.7328730225563049.\n",
      "Loss at step 16800 is 0.9218304753303528.\n",
      "Loss at step 17200 is 1.0053112506866455.\n",
      "Loss at step 17600 is 1.0064550638198853.\n",
      "Loss at step 18000 is 1.0063210725784302.\n",
      "Loss at step 18400 is 1.003198504447937.\n",
      "Loss at step 18800 is 1.0035923719406128.\n",
      "Loss at step 19200 is 1.003572702407837.\n",
      "Loss at step 19600 is 1.0064448118209839.\n",
      "Loss at step 20000 is 1.0021103620529175.\n",
      "Loss at step 20400 is 1.0051743984222412.\n",
      "Loss at step 20800 is 1.0022321939468384.\n",
      "Loss at step 21200 is 1.0095254182815552.\n",
      "Loss at step 21600 is 1.0056254863739014.\n",
      "Loss at step 22000 is 1.0022221803665161.\n",
      "Loss at step 22400 is 1.0052675008773804.\n",
      "Loss at step 22800 is 1.005463719367981.\n",
      "Loss at step 23200 is 1.0039269924163818.\n",
      "Loss at step 23600 is 1.0038487911224365.\n",
      "Loss at step 24000 is 1.0053205490112305.\n",
      "Loss at step 24400 is 1.0044435262680054.\n",
      "Loss at step 24800 is 1.002852439880371.\n",
      "Loss at step 25200 is 1.0038737058639526.\n",
      "Loss at step 25600 is 1.0051395893096924.\n",
      "Loss at step 26000 is 1.0074553489685059.\n",
      "Loss at step 26400 is 1.0035054683685303.\n",
      "Loss at step 26800 is 1.0022395849227905.\n",
      "Loss at step 27200 is 1.0024794340133667.\n",
      "Loss at step 27600 is 1.009600281715393.\n",
      "Loss at step 28000 is 1.001575231552124.\n",
      "Loss at step 28400 is 1.0074970722198486.\n",
      "Loss at step 28800 is 1.0032910108566284.\n",
      "Loss at step 29200 is 1.0051007270812988.\n",
      "Loss at step 29600 is 1.0040373802185059.\n",
      "Loss at step 30000 is 1.0005112886428833.\n",
      "Loss at step 30400 is 1.0057692527770996.\n",
      "Loss at step 30800 is 1.0034153461456299.\n",
      "Loss at step 31200 is 1.0040470361709595.\n",
      "Loss at step 31600 is 1.0001968145370483.\n",
      "Loss at step 32000 is 1.007187843322754.\n",
      "Loss at step 32400 is 1.007337212562561.\n",
      "Loss at step 32800 is 1.0035456418991089.\n",
      "Loss at step 33200 is 1.0036540031433105.\n",
      "Loss at step 33600 is 1.0012376308441162.\n",
      "Loss at step 34000 is 1.00247061252594.\n",
      "Loss at step 34400 is 1.0066397190093994.\n",
      "Loss at step 34800 is 1.0031306743621826.\n",
      "Loss at step 35200 is 1.0027464628219604.\n",
      "Loss at step 35600 is 1.002577304840088.\n",
      "Loss at step 36000 is 1.00182044506073.\n",
      "Loss at step 36400 is 1.0017420053482056.\n",
      "Loss at step 36800 is 1.0038249492645264.\n",
      "Loss at step 37200 is 1.0048846006393433.\n",
      "Loss at step 37600 is 1.0028584003448486.\n",
      "Loss at step 38000 is 1.002039909362793.\n",
      "Loss at step 38400 is 1.0023562908172607.\n",
      "Loss at step 38800 is 1.003072738647461.\n",
      "Loss at step 39200 is 1.0000227689743042.\n",
      "Loss at step 39600 is 1.0032215118408203.\n",
      "Loss at step 40000 is 1.002646565437317.\n"
     ]
    },
    {
     "data": {
      "image/png": "[encoded data removed]",
      "text/plain": [
       "<Figure size 640x480 with 1 Axes>"
      ]
     },
     "metadata": {},
     "output_type": "display_data"
    },
    {
     "data": {
      "application/vnd.jupyter.widget-view+json": {
       "model_id": "0904005cfefd4a0fbcecb9960404c85a",
       "version_major": 2,
       "version_minor": 0
      },
      "text/plain": [
       "VBox(children=(Label(value='12.150 MB of 12.150 MB uploaded\\r'), FloatProgress(value=1.0, max=1.0)))"
      ]
     },
     "metadata": {},
     "output_type": "display_data"
    },
    {
     "data": {
      "text/html": [
       "<style>\n",
       "    table.wandb td:nth-child(1) { padding: 0 10px; text-align: left ; width: auto;} td:nth-child(2) {text-align: left ; width: 100%}\n",
       "    .wandb-row { display: flex; flex-direction: row; flex-wrap: wrap; justify-content: flex-start; width: 100% }\n",
       "    .wandb-col { display: flex; flex-direction: column; flex-basis: 100%; flex: 1; padding: 10px; }\n",
       "    </style>\n",
       "<div class=\"wandb-row\"><div class=\"wandb-col\"><h3>Run history:</h3><br/><table class=\"wandb\"><tr><td>MSE_on_fixed_grid</td><td>██▄▂▁▁▃▃▄▆▆▆▆▆▇█████████████████████████</td></tr><tr><td>batch_within_epoch</td><td>▁▁▁▁▁▂▂▂▂▂▂▂▂▃▃▃▃▃▄▄▄▄▅▅▅▆▆▆▆▆▇▇▇▇▇▇▇███</td></tr><tr><td>epoch</td><td>▁▁▁▁▁▁▁▁▁▁▁▁▁▁▁▁▁▁▁▁▁▁▁▁▁▁▁▁▁▁▁▁▁▁▁▁▁▁▁▁</td></tr><tr><td>loss</td><td>█▇▇▇▆▆▃▂▁▁▂▃▃▃▃▄▅▅▅▆▇▇▇▇▇▇▇▇▇▇▇▇▇▇▇▇▇▇▇▇</td></tr></table><br/></div><div class=\"wandb-col\"><h3>Run summary:</h3><br/><table class=\"wandb\"><tr><td>MSE_on_fixed_grid</td><td>0.14759</td></tr><tr><td>batch_within_epoch</td><td>40000</td></tr><tr><td>epoch</td><td>1</td></tr><tr><td>loss</td><td>1.00265</td></tr></table><br/></div></div>"
      ],
      "text/plain": [
       "<IPython.core.display.HTML object>"
      ]
     },
     "metadata": {},
     "output_type": "display_data"
    },
    {
     "data": {
      "text/html": [
       " View run <strong style=\"color:#cdcd00\">daily-donkey-25</strong> at: <a href='https://wandb.ai/abdtab-tue/inr_edu_24/runs/92931qke' target=\"_blank\">https://wandb.ai/abdtab-tue/inr_edu_24/runs/92931qke</a><br/> View project at: <a href='https://wandb.ai/abdtab-tue/inr_edu_24' target=\"_blank\">https://wandb.ai/abdtab-tue/inr_edu_24</a><br/>Synced 5 W&B file(s), 0 media file(s), 2 artifact file(s) and 100 other file(s)"
      ],
      "text/plain": [
       "<IPython.core.display.HTML object>"
      ]
     },
     "metadata": {},
     "output_type": "display_data"
    },
    {
     "data": {
      "text/html": [
       "Find logs at: <code>./wandb/run-20241213_153140-92931qke/logs</code>"
      ],
      "text/plain": [
       "<IPython.core.display.HTML object>"
      ]
     },
     "metadata": {},
     "output_type": "display_data"
    }
   ],
   "source": [
    "# and we run the experiment while logging things to wandb\n",
    "with wandb.init(\n",
    "    project='inr_edu_24',\n",
    "    notes='test',\n",
    "    tags=['test']\n",
    ") as run:\n",
    "    results = experiment.initialize()"
   ]
  },
  {
   "cell_type": "code",
   "execution_count": null,
   "metadata": {},
   "outputs": [],
   "source": []
  }
 ],
 "metadata": {
  "kernelspec": {
   "display_name": "Python (inr_edu_24)",
   "language": "python",
   "name": "inr_edu_24"
  },
  "language_info": {
   "codemirror_mode": {
    "name": "ipython",
    "version": 3
   },
   "file_extension": ".py",
   "mimetype": "text/x-python",
   "name": "python",
   "nbconvert_exporter": "python",
   "pygments_lexer": "ipython3",
   "version": "3.10.15"
  }
 },
 "nbformat": 4,
 "nbformat_minor": 2
}
