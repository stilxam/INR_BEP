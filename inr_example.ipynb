{
 "cells": [
  {
   "cell_type": "markdown",
   "metadata": {},
   "source": [
    "# Example of training an INR locally\n",
    "This notebook provides an example of how to create an INR and train it locally using the tools in this repo."
   ]
  },
  {
   "cell_type": "code",
   "execution_count": 1,
   "metadata": {},
   "outputs": [
    {
     "name": "stderr",
     "output_type": "stream",
     "text": [
      "\u001b[34m\u001b[1mwandb\u001b[0m: Using wandb-core as the SDK backend. Please refer to https://wandb.me/wandb-core for more information.\n",
      "\u001b[34m\u001b[1mwandb\u001b[0m: Currently logged in as: \u001b[33msimon-martinus-koop\u001b[0m (\u001b[33mnld\u001b[0m). Use \u001b[1m`wandb login --relogin`\u001b[0m to force relogin\n",
      "2024-11-08 14:22:29.457272: W external/xla/xla/service/gpu/nvptx_compiler.cc:893] The NVIDIA driver's CUDA version is 12.4 which is older than the PTX compiler version 12.6.68. Because the driver is older than the PTX compiler version, XLA is disabling parallel compilation, which may slow down compilation. You should update your NVIDIA driver or use the NVIDIA-provided CUDA forward compatibility packages.\n"
     ]
    }
   ],
   "source": [
    "import pdb\n",
    "import traceback\n",
    "\n",
    "import jax\n",
    "from jax import numpy as jnp\n",
    "import optax\n",
    "import wandb\n",
    "\n",
    "from common_dl_utils.config_creation import Config\n",
    "import common_jax_utils as cju\n",
    "\n",
    "wandb.login()\n",
    "\n",
    "key = jax.random.PRNGKey(12398)\n",
    "key_gen = cju.key_generator(key)"
   ]
  },
  {
   "cell_type": "code",
   "execution_count": null,
   "metadata": {},
   "outputs": [],
   "source": []
  },
  {
   "cell_type": "markdown",
   "metadata": {},
   "source": [
    "We want to train a single INR on `example_data/parrot.png`. We'll use the `CombinedINR` clas from `model_components.inr_modules` together with the `SirenLayer` and `GaussianINRLayer` from `model_components.inr_layers` for the model, and we'll train it using the tools from `inr_utils`.\n",
    "\n",
    "To do all of this, basically we only need to create a config. We'll use the `common_dl_utils.config_creation.Config` class for this, but this is basically just a dictionary that allows for attribute access-like acces of its elements (so we can do `config.model_type = \"CombinedINR\"` instead of `config[\"model_type\"] = \"CombinedINR\"`). You can also just use a dictionary instead.\n",
    "\n",
    "Then we'll use the tools from `common_jax_utils` to first get a model from this config so we can inspect it, and then just run the experiment specified by the config.\n",
    "\n",
    "Doing this in a config instead of hard coded might seem like extra work, but consider this:\n",
    "1. you can serialize this config as a json file or a yaml file to later get the same model and experimental settings back \n",
    "   so when you are experimenting with different architectures, if you just store the configs you've used, you can easily recreate previous results\n",
    "2. when we get to running hyper parameter sweeps, you can easily get these configs (with a pick for the varying hyper parameters) from wandb\n",
    "   and then run an experiment specified by that config on any machine you want, e.g. on Snellius"
   ]
  },
  {
   "cell_type": "code",
   "execution_count": null,
   "metadata": {},
   "outputs": [],
   "source": [
    "config = Config()\n",
    "\n",
    "# first we specify what the model should look like\n",
    "config.architecture = './model_components'  # module containing all relevant classes for architectures\n",
    "# NB if the classes relevant for creating the model are spread over multiple modules, this is no problem\n",
    "# let config.architecture be the module that contains the \"main\" model class, and for all other components just specify the module\n",
    "# or specify the other modules as default modules to the tools in common_jax_utils.run_utils\n",
    "config.model_type = 'inr_modules.CombinedINR'\n",
    "\n",
    "config.model_config = Config()\n",
    "config.model_config.in_size = 2\n",
    "config.model_config.out_size = 3\n",
    "config.model_config.terms = [  # CombinedINR uses multiple MLPs and returns the sum of their outputs. These 'terms' are the MLPs\n",
    "    ('inr_modules.MLPINR.from_config',{\n",
    "        'hidden_size': 256,\n",
    "        'num_layers': 5,\n",
    "        'layer_type': 'inr_layers.SirenLayer',\n",
    "        'num_splits': 1,\n",
    "        'use_complex': False,\n",
    "        'activation_kwargs': {'w0': 30.},\n",
    "        'initialization_scheme':'initialization_schemes.siren_scheme',\n",
    "        'positional_encoding_layer': ('inr_layers.ClassicalPositionalEncoding.from_config', {'num_frequencies': 10}),\n",
    "    }),\n",
    "    # ('inr_modules.MLPINR.from_config',{\n",
    "    #     'hidden_size': 1024,\n",
    "    #     'num_layers': 2,\n",
    "    #     'num_splits': 1,\n",
    "    #     'layer_type': 'inr_layers.GaussianINRLayer',\n",
    "    #     'use_complex': False,\n",
    "    #     'activation_kwargs': {'inverse_scale': 1},\n",
    "    # })\n",
    "]\n",
    "\n",
    "# next, we set up the training loop, including the 'target_function' that we want to mimic\n",
    "config.trainer_module = './inr_utils/'  # similarly to config.architecture above, here we just specify in what module to look for objects by default\n",
    "config.trainer_type = 'training.train_inr'\n",
    "config.target_function = 'images.ContinuousImage'\n",
    "config.target_function_config = {\n",
    "    'image': './example_data/parrot.png',\n",
    "    'scale_to_01': True,\n",
    "    'interpolation_method': 'images.make_piece_wise_constant_interpolation'\n",
    "}\n",
    "config.loss_function = 'losses.scaled_mse_loss'\n",
    "config.sampler = ('sampling.GridSubsetSampler',{  # samples coordinates in a fixed grid, that should in this case coincide with the pixel locations in the image\n",
    "    'size': [2040, 1356],\n",
    "    'batch_size': 2000,\n",
    "    'allow_duplicates': False,\n",
    "})\n",
    "\n",
    "config.optimizer = 'adam'  # we'll have to add optax to the additional default modules later\n",
    "config.optimizer_config = {\n",
    "    'learning_rate': 1.5e-4\n",
    "}\n",
    "config.steps = 40000\n",
    "config.use_wandb = True\n",
    "\n",
    "# now we want some extra things, like logging, to happen during training\n",
    "# the inr_utils.training.train_inr function allows for this through callbacks.\n",
    "# The callbacks we want to use can be found in inr_utils.callbacks\n",
    "config.after_step_callback = 'callbacks.ComposedCallback'\n",
    "config.after_step_callback_config = {\n",
    "    'callbacks':[\n",
    "        ('callbacks.print_loss', {'after_every':400}),  # only print the loss every 400th step\n",
    "        'callbacks.report_loss',  # but log the loss to wandb after every step\n",
    "        ('callbacks.MetricCollectingCallback', # this thing will help us collect metrics and log images to wandb\n",
    "             {'metric_collector':'metrics.MetricCollector'}\n",
    "        ),\n",
    "        'callbacks.raise_error_on_nan'  # stop training if the loss becomes NaN\n",
    "    ],\n",
    "    'show_logs': False\n",
    "}\n",
    "\n",
    "config.metric_collector_config = {  # the metrics for MetricCollectingCallback / metrics.MetricCollector\n",
    "    'metrics':[\n",
    "        ('metrics.PlotOnGrid2D', {'grid': 256, 'batch_size':8*256, 'frequency':'every_n_batches'}),  \n",
    "        # ^ plots the image on this fixed grid so we can visually inspect the inr on wandb\n",
    "        ('metrics.MSEOnFixedGrid', {'grid': [2040, 1356], 'batch_size':2040, 'frequency': 'every_n_batches'})\n",
    "        # ^ compute the MSE with the actual image pixels\n",
    "    ],\n",
    "    'batch_frequency': 400,  # compute all of these metrics every 400 batches\n",
    "    'epoch_frequency': 1  # not actually used\n",
    "}\n",
    "\n",
    "config.after_training_callback = None  # don't care for one now, but you could have this e.g. store some nice loss plots if you're not using wandb \n",
    "config.optimizer_state = None  # we're starting from scratch"
   ]
  },
  {
   "cell_type": "code",
   "execution_count": 3,
   "metadata": {},
   "outputs": [
    {
     "name": "stderr",
     "output_type": "stream",
     "text": [
      "Traceback (most recent call last):\n",
      "  File \"/home/simon/miniconda3/envs/inr_edu_24/lib/python3.10/site-packages/common_dl_utils/config_realization.py\", line 276, in generalized_getattr\n",
      "    return generalized_getattr(\n",
      "  File \"/home/simon/miniconda3/envs/inr_edu_24/lib/python3.10/site-packages/common_dl_utils/config_realization.py\", line 267, in generalized_getattr\n",
      "    return getattr(obj, dotted_path[0])\n",
      "  File \"/home/simon/miniconda3/envs/inr_edu_24/lib/python3.10/site-packages/equinox/_module.py\", line 606, in __getattribute__\n",
      "    value = super().__getattribute__(item)\n",
      "AttributeError: type object 'MLPINR' has no attribute 'new_from_config'. Did you mean: 'from_config'?\n",
      "\n",
      "During handling of the above exception, another exception occurred:\n",
      "\n",
      "Traceback (most recent call last):\n",
      "  File \"/home/simon/miniconda3/envs/inr_edu_24/lib/python3.10/site-packages/common_dl_utils/config_realization.py\", line 276, in generalized_getattr\n",
      "    return generalized_getattr(\n",
      "  File \"/home/simon/miniconda3/envs/inr_edu_24/lib/python3.10/site-packages/common_dl_utils/config_realization.py\", line 283, in generalized_getattr\n",
      "    raise AttributeError(\n",
      "AttributeError: generalized_getattr cannot get attr=['MLPINR', 'new_from_config'] from obj=<module 'model_components.inr_modules' from '/home/simon/Documents/INR_BEP/model_components/inr_modules.py'> with default=AbsenceToken and strict=False.\n",
      "    Exception raised was: type object 'MLPINR' has no attribute 'new_from_config'\n",
      "\n",
      "During handling of the above exception, another exception occurred:\n",
      "\n",
      "Traceback (most recent call last):\n",
      "  File \"/tmp/ipykernel_54939/1141651026.py\", line 3, in <module>\n",
      "    inr = cju.run_utils.get_model_from_config_and_key(\n",
      "  File \"/home/simon/miniconda3/envs/inr_edu_24/lib/python3.10/site-packages/common_jax_utils/run_utils.py\", line 95, in get_model_from_config_and_key\n",
      "    un_initialized_model = get_model_from_config(\n",
      "  File \"/home/simon/miniconda3/envs/inr_edu_24/lib/python3.10/site-packages/common_dl_utils/config_realization.py\", line 1205, in get_model_from_config\n",
      "    uninitialized_model = prep_class_from_config(\n",
      "  File \"/home/simon/miniconda3/envs/inr_edu_24/lib/python3.10/site-packages/common_dl_utils/config_realization.py\", line 680, in prep_class_from_config\n",
      "    kwargs, missing_args = match_signature_from_config(\n",
      "  File \"/home/simon/miniconda3/envs/inr_edu_24/lib/python3.10/site-packages/common_dl_utils/config_realization.py\", line 949, in match_signature_from_config_new\n",
      "    kwargs_update = _get_kwargs_update(\n",
      "  File \"/home/simon/miniconda3/envs/inr_edu_24/lib/python3.10/site-packages/common_dl_utils/config_realization.py\", line 1126, in _get_kwargs_update\n",
      "    return {\n",
      "  File \"/home/simon/miniconda3/envs/inr_edu_24/lib/python3.10/site-packages/common_dl_utils/config_realization.py\", line 1127, in <dictcomp>\n",
      "    param_name: get_parameter_from_config(\n",
      "  File \"/home/simon/miniconda3/envs/inr_edu_24/lib/python3.10/site-packages/common_dl_utils/config_realization.py\", line 811, in get_parameter_from_config\n",
      "    return handle_registy_element_case(contents, allow_multiple=(is_var_positional or check_result[1]))\n",
      "  File \"/home/simon/miniconda3/envs/inr_edu_24/lib/python3.10/site-packages/common_dl_utils/_internal_utils.py\", line 193, in handler\n",
      "    return handle_multiple_case(contents)\n",
      "  File \"/home/simon/miniconda3/envs/inr_edu_24/lib/python3.10/site-packages/common_dl_utils/_internal_utils.py\", line 182, in handle_multiple_case\n",
      "    return type(contents)(handle_single_case(content) for content in contents)\n",
      "  File \"/home/simon/miniconda3/envs/inr_edu_24/lib/python3.10/site-packages/common_dl_utils/_internal_utils.py\", line 182, in <genexpr>\n",
      "    return type(contents)(handle_single_case(content) for content in contents)\n",
      "  File \"/home/simon/miniconda3/envs/inr_edu_24/lib/python3.10/site-packages/common_dl_utils/config_realization.py\", line 551, in prep_class_from_extended_prompt\n",
      "    postponed_init = prep_class_from_config(\n",
      "  File \"/home/simon/miniconda3/envs/inr_edu_24/lib/python3.10/site-packages/common_dl_utils/config_realization.py\", line 661, in prep_class_from_config\n",
      "    cls, class_name = process_prompt(prompt, default_module=default_module)\n",
      "  File \"/home/simon/miniconda3/envs/inr_edu_24/lib/python3.10/site-packages/common_dl_utils/config_realization.py\", line 329, in process_prompt\n",
      "    cls = generalized_getattr(module, class_name)\n",
      "  File \"/home/simon/miniconda3/envs/inr_edu_24/lib/python3.10/site-packages/common_dl_utils/config_realization.py\", line 283, in generalized_getattr\n",
      "    raise AttributeError(\n",
      "AttributeError: generalized_getattr cannot get attr='inr_modules.MLPINR.new_from_config' from obj=<module 'architecture' from '/home/simon/Documents/INR_BEP/./model_components/__init__.py'> with default=AbsenceToken and strict=False.\n",
      "    Exception raised was: generalized_getattr cannot get attr=['MLPINR', 'new_from_config'] from obj=<module 'model_components.inr_modules' from '/home/simon/Documents/INR_BEP/model_components/inr_modules.py'> with default=AbsenceToken and strict=False.\n",
      "    Exception raised was: type object 'MLPINR' has no attribute 'new_from_config'\n"
     ]
    },
    {
     "name": "stdout",
     "output_type": "stream",
     "text": [
      "generalized_getattr cannot get attr='inr_modules.MLPINR.new_from_config' from obj=<module 'architecture' from '/home/simon/Documents/INR_BEP/./model_components/__init__.py'> with default=AbsenceToken and strict=False.\n",
      "    Exception raised was: generalized_getattr cannot get attr=['MLPINR', 'new_from_config'] from obj=<module 'model_components.inr_modules' from '/home/simon/Documents/INR_BEP/model_components/inr_modules.py'> with default=AbsenceToken and strict=False.\n",
      "    Exception raised was: type object 'MLPINR' has no attribute 'new_from_config'\n",
      "\n",
      "\n",
      "> \u001b[0;32m/home/simon/miniconda3/envs/inr_edu_24/lib/python3.10/site-packages/common_dl_utils/config_realization.py\u001b[0m(283)\u001b[0;36mgeneralized_getattr\u001b[0;34m()\u001b[0m\n",
      "\u001b[0;32m    281 \u001b[0;31m                )\n",
      "\u001b[0m\u001b[0;32m    282 \u001b[0;31m        \u001b[0;32mexcept\u001b[0m \u001b[0mAttributeError\u001b[0m \u001b[0;32mas\u001b[0m \u001b[0me\u001b[0m\u001b[0;34m:\u001b[0m\u001b[0;34m\u001b[0m\u001b[0;34m\u001b[0m\u001b[0m\n",
      "\u001b[0m\u001b[0;32m--> 283 \u001b[0;31m            raise AttributeError(\n",
      "\u001b[0m\u001b[0;32m    284 \u001b[0;31m                \u001b[0;34mf\"generalized_getattr cannot get {attr=} from {obj=} with {default=} and {strict=}.\\n    Exception raised was: {e}\"\u001b[0m\u001b[0;34m\u001b[0m\u001b[0;34m\u001b[0m\u001b[0m\n",
      "\u001b[0m\u001b[0;32m    285 \u001b[0;31m            )\n",
      "\u001b[0m\n"
     ]
    }
   ],
   "source": [
    "# let's first see if we get the correct model\n",
    "try:\n",
    "    inr = cju.run_utils.get_model_from_config_and_key(\n",
    "        prng_key=next(key_gen),\n",
    "        config=config,\n",
    "        model_sub_config_name_base='model',\n",
    "        add_model_module_to_architecture_default_module=False, # since the model is already in the default module specified by 'architecture',\n",
    "    )\n",
    "except Exception as e:\n",
    "    traceback.print_exc()\n",
    "    print(e)\n",
    "    print('\\n')\n",
    "    pdb.post_mortem()"
   ]
  },
  {
   "cell_type": "code",
   "execution_count": 4,
   "metadata": {},
   "outputs": [
    {
     "ename": "NameError",
     "evalue": "name 'inr' is not defined",
     "output_type": "error",
     "traceback": [
      "\u001b[0;31m---------------------------------------------------------------------------\u001b[0m",
      "\u001b[0;31mNameError\u001b[0m                                 Traceback (most recent call last)",
      "Cell \u001b[0;32mIn[4], line 1\u001b[0m\n\u001b[0;32m----> 1\u001b[0m \u001b[43minr\u001b[49m\n",
      "\u001b[0;31mNameError\u001b[0m: name 'inr' is not defined"
     ]
    }
   ],
   "source": [
    "inr"
   ]
  },
  {
   "cell_type": "code",
   "execution_count": null,
   "metadata": {},
   "outputs": [
    {
     "data": {
      "text/plain": [
       "Array([-0.9218863 ,  0.7273055 , -0.04263777], dtype=float32)"
      ]
     },
     "execution_count": 5,
     "metadata": {},
     "output_type": "execute_result"
    }
   ],
   "source": [
    "# check that it works properly\n",
    "inr(jnp.zeros(2))"
   ]
  },
  {
   "cell_type": "code",
   "execution_count": null,
   "metadata": {},
   "outputs": [],
   "source": [
    "# next we get the experiment from the config using common_jax_utils.run_utils.get_experiment_from_config_and_key\n",
    "experiment = cju.run_utils.get_experiment_from_config_and_key(\n",
    "    prng_key=next(key_gen),\n",
    "    config=config,\n",
    "    model_kwarg_in_trainer='inr',\n",
    "    model_sub_config_name_base='model',  # so it looks for \"model_config\" in config\n",
    "    trainer_default_module_key='trainer_module',  # so it knows to get the module specified by config.trainer_module\n",
    "    additional_trainer_default_modules=[optax],  # remember the don't forget to add optax to the default modules? This is that \n",
    "    add_model_module_to_architecture_default_module=False,\n",
    "    initialize=False  # don't run the experiment yet, we want to use wandb\n",
    ")"
   ]
  },
  {
   "cell_type": "code",
   "execution_count": null,
   "metadata": {},
   "outputs": [
    {
     "data": {
      "text/html": [
       "Tracking run with wandb version 0.18.1"
      ],
      "text/plain": [
       "<IPython.core.display.HTML object>"
      ]
     },
     "metadata": {},
     "output_type": "display_data"
    },
    {
     "data": {
      "text/html": [
       "Run data is saved locally in <code>/home/simon/Documents/INR_BEP/wandb/run-20241107_191530-2o1pz01o</code>"
      ],
      "text/plain": [
       "<IPython.core.display.HTML object>"
      ]
     },
     "metadata": {},
     "output_type": "display_data"
    },
    {
     "data": {
      "text/html": [
       "Syncing run <strong><a href='https://wandb.ai/nld/inr_edu_24/runs/2o1pz01o' target=\"_blank\">fallen-plasma-25</a></strong> to <a href='https://wandb.ai/nld/inr_edu_24' target=\"_blank\">Weights & Biases</a> (<a href='https://wandb.me/run' target=\"_blank\">docs</a>)<br/>"
      ],
      "text/plain": [
       "<IPython.core.display.HTML object>"
      ]
     },
     "metadata": {},
     "output_type": "display_data"
    },
    {
     "data": {
      "text/html": [
       " View project at <a href='https://wandb.ai/nld/inr_edu_24' target=\"_blank\">https://wandb.ai/nld/inr_edu_24</a>"
      ],
      "text/plain": [
       "<IPython.core.display.HTML object>"
      ]
     },
     "metadata": {},
     "output_type": "display_data"
    },
    {
     "data": {
      "text/html": [
       " View run at <a href='https://wandb.ai/nld/inr_edu_24/runs/2o1pz01o' target=\"_blank\">https://wandb.ai/nld/inr_edu_24/runs/2o1pz01o</a>"
      ],
      "text/plain": [
       "<IPython.core.display.HTML object>"
      ]
     },
     "metadata": {},
     "output_type": "display_data"
    },
    {
     "name": "stdout",
     "output_type": "stream",
     "text": [
      "Loss at step 400 is 4.414607048034668.\n",
      "Loss at step 800 is 2.917961359024048.\n",
      "Loss at step 1200 is 2.0269720554351807.\n",
      "Loss at step 1600 is 1.5371813774108887.\n",
      "Loss at step 2000 is 1.2364892959594727.\n",
      "Loss at step 2400 is 1.0840846300125122.\n",
      "Loss at step 2800 is 1.0402976274490356.\n",
      "Loss at step 3200 is 1.0066497325897217.\n",
      "Loss at step 3600 is 1.0031604766845703.\n",
      "Loss at step 4000 is 1.0034366846084595.\n",
      "Loss at step 4400 is 1.007033348083496.\n",
      "Loss at step 4800 is 1.0063998699188232.\n",
      "Loss at step 5200 is 1.0017694234848022.\n",
      "Loss at step 5600 is 1.0042920112609863.\n",
      "Loss at step 6000 is 1.0058485269546509.\n",
      "Loss at step 6400 is 1.0037381649017334.\n",
      "Loss at step 6800 is 1.0053571462631226.\n",
      "Loss at step 7200 is 1.0018874406814575.\n",
      "Loss at step 7600 is 1.0028010606765747.\n",
      "Loss at step 8000 is 1.0021946430206299.\n",
      "Loss at step 8400 is 1.0020568370819092.\n",
      "Loss at step 8800 is 1.0037431716918945.\n",
      "Loss at step 9200 is 1.0029011964797974.\n",
      "Loss at step 9600 is 1.005165934562683.\n",
      "Loss at step 10000 is 1.0017788410186768.\n",
      "Loss at step 10400 is 1.0071710348129272.\n",
      "Loss at step 10800 is 1.002545952796936.\n",
      "Loss at step 11200 is 1.0015959739685059.\n",
      "Loss at step 11600 is 1.0048106908798218.\n",
      "Loss at step 12000 is 1.0011098384857178.\n",
      "Loss at step 12400 is 1.0021545886993408.\n",
      "Loss at step 12800 is 1.0017125606536865.\n",
      "Loss at step 13200 is 1.005334496498108.\n",
      "Loss at step 13600 is 1.0039440393447876.\n",
      "Loss at step 14000 is 1.0030688047409058.\n",
      "Loss at step 14400 is 1.0043768882751465.\n",
      "Loss at step 14800 is 1.0031834840774536.\n",
      "Loss at step 15200 is 1.0023999214172363.\n",
      "Loss at step 15600 is 1.0046385526657104.\n",
      "Loss at step 16000 is 1.0051860809326172.\n",
      "Loss at step 16400 is 1.0064538717269897.\n",
      "Loss at step 16800 is 1.0026198625564575.\n",
      "Loss at step 17200 is 1.0023733377456665.\n",
      "Loss at step 17600 is 1.0022588968276978.\n",
      "Loss at step 18000 is 1.006887674331665.\n",
      "Loss at step 18400 is 1.0034064054489136.\n",
      "Loss at step 18800 is 1.0044376850128174.\n",
      "Loss at step 19200 is 1.0021575689315796.\n",
      "Loss at step 19600 is 1.0026791095733643.\n",
      "Loss at step 20000 is 1.0040967464447021.\n",
      "Loss at step 20400 is 1.0035755634307861.\n",
      "Loss at step 20800 is 1.001372218132019.\n",
      "Loss at step 21200 is 1.0025181770324707.\n",
      "Loss at step 21600 is 1.0025113821029663.\n",
      "Loss at step 22000 is 1.0011985301971436.\n",
      "Loss at step 22400 is 1.0036801099777222.\n",
      "Loss at step 22800 is 1.0067026615142822.\n",
      "Loss at step 23200 is 1.0044124126434326.\n",
      "Loss at step 23600 is 1.0020027160644531.\n",
      "Loss at step 24000 is 1.005303978919983.\n",
      "Loss at step 24400 is 1.001659631729126.\n",
      "Loss at step 24800 is 1.0071067810058594.\n",
      "Loss at step 25200 is 1.0028218030929565.\n",
      "Loss at step 25600 is 1.001867651939392.\n",
      "Loss at step 26000 is 1.003190517425537.\n",
      "Loss at step 26400 is 1.0034968852996826.\n",
      "Loss at step 26800 is 1.0005300045013428.\n",
      "Loss at step 27200 is 1.0023696422576904.\n",
      "Loss at step 27600 is 1.00030517578125.\n",
      "Loss at step 28000 is 1.0034788846969604.\n",
      "Loss at step 28400 is 1.0029135942459106.\n",
      "Loss at step 28800 is 1.0043737888336182.\n",
      "Loss at step 29200 is 1.0049989223480225.\n",
      "Loss at step 29600 is 1.0029746294021606.\n",
      "Loss at step 30000 is 1.001955509185791.\n",
      "Loss at step 30400 is 1.0024579763412476.\n",
      "Loss at step 30800 is 1.0029841661453247.\n",
      "Loss at step 31200 is 1.0013699531555176.\n",
      "Loss at step 31600 is 1.0017693042755127.\n",
      "Loss at step 32000 is 1.000344157218933.\n",
      "Loss at step 32400 is 1.0006537437438965.\n",
      "Loss at step 32800 is 1.0013009309768677.\n",
      "Loss at step 33200 is 1.0045493841171265.\n",
      "Loss at step 33600 is 1.0047564506530762.\n",
      "Loss at step 34000 is 1.0018773078918457.\n",
      "Loss at step 34400 is 1.0083868503570557.\n",
      "Loss at step 34800 is 1.0013022422790527.\n",
      "Loss at step 35200 is 1.004120945930481.\n",
      "Loss at step 35600 is 1.002594232559204.\n",
      "Loss at step 36000 is 1.0009835958480835.\n",
      "Loss at step 36400 is 1.0034922361373901.\n",
      "Loss at step 36800 is 1.0009444952011108.\n",
      "Loss at step 37200 is 1.0015263557434082.\n",
      "Loss at step 37600 is 1.0023958683013916.\n",
      "Loss at step 38000 is 1.0022213459014893.\n",
      "Loss at step 38400 is 1.0028949975967407.\n",
      "Loss at step 38800 is 1.004033088684082.\n",
      "Loss at step 39200 is 1.0033931732177734.\n",
      "Loss at step 39600 is 1.0034035444259644.\n",
      "Loss at step 40000 is 1.0042685270309448.\n"
     ]
    },
    {
     "data": {
      "image/png": "[encoded data removed]",
      "text/plain": [
       "<Figure size 640x480 with 1 Axes>"
      ]
     },
     "metadata": {},
     "output_type": "display_data"
    },
    {
     "data": {
      "application/vnd.jupyter.widget-view+json": {
       "model_id": "ade4ed764037480d8fef15afc4790f83",
       "version_major": 2,
       "version_minor": 0
      },
      "text/plain": [
       "VBox(children=(Label(value='10.185 MB of 10.185 MB uploaded\\r'), FloatProgress(value=1.0, max=1.0)))"
      ]
     },
     "metadata": {},
     "output_type": "display_data"
    },
    {
     "data": {
      "text/html": [
       "<style>\n",
       "    table.wandb td:nth-child(1) { padding: 0 10px; text-align: left ; width: auto;} td:nth-child(2) {text-align: left ; width: 100%}\n",
       "    .wandb-row { display: flex; flex-direction: row; flex-wrap: wrap; justify-content: flex-start; width: 100% }\n",
       "    .wandb-col { display: flex; flex-direction: column; flex-basis: 100%; flex: 1; padding: 10px; }\n",
       "    </style>\n",
       "<div class=\"wandb-row\"><div class=\"wandb-col\"><h3>Run history:</h3><br/><table class=\"wandb\"><tr><td>MSE_on_fixed_grid</td><td>█▁▁▁▁▁▁▁▁▁▁▁▁▁▁▁▁▁▁▁▁▁▁▁▁▁▁▁▁▁▁▁▁▁▁▁▁▁▁▁</td></tr><tr><td>batch_within_epoch</td><td>▁▁▁▁▂▂▂▂▂▂▃▃▃▃▄▄▄▄▄▅▅▅▅▅▅▅▅▆▆▆▆▇▇▇▇▇████</td></tr><tr><td>epoch</td><td>▁▁▁▁▁▁▁▁▁▁▁▁▁▁▁▁▁▁▁▁▁▁▁▁▁▁▁▁▁▁▁▁▁▁▁▁▁▁▁▁</td></tr><tr><td>loss</td><td>█▆▄▄▃▂▂▂▁▁▁▁▁▁▁▁▁▁▁▁▁▁▁▁▁▁▁▁▁▁▁▁▁▁▁▁▁▁▁▁</td></tr></table><br/></div><div class=\"wandb-col\"><h3>Run summary:</h3><br/><table class=\"wandb\"><tr><td>MSE_on_fixed_grid</td><td>0.14746</td></tr><tr><td>batch_within_epoch</td><td>40000</td></tr><tr><td>epoch</td><td>1</td></tr><tr><td>loss</td><td>1.00427</td></tr></table><br/></div></div>"
      ],
      "text/plain": [
       "<IPython.core.display.HTML object>"
      ]
     },
     "metadata": {},
     "output_type": "display_data"
    },
    {
     "data": {
      "text/html": [
       " View run <strong style=\"color:#cdcd00\">fallen-plasma-25</strong> at: <a href='https://wandb.ai/nld/inr_edu_24/runs/2o1pz01o' target=\"_blank\">https://wandb.ai/nld/inr_edu_24/runs/2o1pz01o</a><br/> View project at: <a href='https://wandb.ai/nld/inr_edu_24' target=\"_blank\">https://wandb.ai/nld/inr_edu_24</a><br/>Synced 5 W&B file(s), 0 media file(s), 2 artifact file(s) and 100 other file(s)"
      ],
      "text/plain": [
       "<IPython.core.display.HTML object>"
      ]
     },
     "metadata": {},
     "output_type": "display_data"
    },
    {
     "data": {
      "text/html": [
       "Find logs at: <code>./wandb/run-20241107_191530-2o1pz01o/logs</code>"
      ],
      "text/plain": [
       "<IPython.core.display.HTML object>"
      ]
     },
     "metadata": {},
     "output_type": "display_data"
    }
   ],
   "source": [
    "# and we run the experiment while logging things to wandb\n",
    "with wandb.init(\n",
    "    project='inr_edu_24',\n",
    "    notes='test',\n",
    "    tags=['test']\n",
    ") as run:\n",
    "    results = experiment.initialize()"
   ]
  },
  {
   "cell_type": "code",
   "execution_count": null,
   "metadata": {},
   "outputs": [],
   "source": [
    "from common_dl_utils._internal_utils import signature_to_var_keyword\n",
    "\n",
    "from model_components.inr_modules import MLPINR\n",
    "\n",
    "wrapped = signature_to_var_keyword(MLPINR.from_config)"
   ]
  },
  {
   "cell_type": "code",
   "execution_count": null,
   "metadata": {},
   "outputs": [],
   "source": []
  }
 ],
 "metadata": {
  "kernelspec": {
   "display_name": "inr_edu_24",
   "language": "python",
   "name": "python3"
  },
  "language_info": {
   "codemirror_mode": {
    "name": "ipython",
    "version": 3
   },
   "file_extension": ".py",
   "mimetype": "text/x-python",
   "name": "python",
   "nbconvert_exporter": "python",
   "pygments_lexer": "ipython3",
   "version": "3.10.14"
  }
 },
 "nbformat": 4,
 "nbformat_minor": 2
}
