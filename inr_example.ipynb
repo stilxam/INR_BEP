{
 "cells": [
  {
   "cell_type": "markdown",
   "metadata": {},
   "source": [
    "# Example of training an INR locally\n",
    "This notebook provides an example of how to create an INR and train it locally using the tools in this repo."
   ]
  },
  {
   "cell_type": "code",
   "execution_count": 1,
   "metadata": {},
   "outputs": [
    {
     "name": "stderr",
     "output_type": "stream",
     "text": [
      "\u001b[34m\u001b[1mwandb\u001b[0m: Using wandb-core as the SDK backend. Please refer to https://wandb.me/wandb-core for more information.\n",
      "\u001b[34m\u001b[1mwandb\u001b[0m: Currently logged in as: \u001b[33msimon-martinus-koop\u001b[0m (\u001b[33mnld\u001b[0m). Use \u001b[1m`wandb login --relogin`\u001b[0m to force relogin\n",
      "2024-09-13 11:21:10.640596: W external/xla/xla/service/gpu/nvptx_compiler.cc:836] The NVIDIA driver's CUDA version is 12.2 which is older than the PTX compiler version (12.6.20). Because the driver is older than the PTX compiler version, XLA is disabling parallel compilation, which may slow down compilation. You should update your NVIDIA driver or use the NVIDIA-provided CUDA forward compatibility packages.\n"
     ]
    }
   ],
   "source": [
    "import pdb\n",
    "import traceback\n",
    "\n",
    "import jax\n",
    "from jax import numpy as jnp\n",
    "import optax\n",
    "import wandb\n",
    "\n",
    "from common_dl_utils.config_creation import Config\n",
    "import common_jax_utils as cju\n",
    "\n",
    "wandb.login()\n",
    "\n",
    "key = jax.random.PRNGKey(12398)\n",
    "key_gen = cju.key_generator(key)"
   ]
  },
  {
   "cell_type": "markdown",
   "metadata": {},
   "source": [
    "We want to train a single INR on `example_data/parrot.png`. We'll use the `CombinedINR` clas from `model_components.inr_modules` together with the `SirenLayer` and `GaussianINRLayer` from `model_components.inr_layers` for the model, and we'll train it using the tools from `inr_utils`.\n",
    "\n",
    "To do all of this, basically we only need to create a config. We'll use the `common_dl_utils.config_creation.Config` class for this, but this is basically just a dictionary that allows for attribute access-like acces of its elements (so we can do `config.model_type = \"CombinedINR\"` instead of `config[\"model_type\"] = \"CombinedINR\"`). You can also just use a dictionary instead.\n",
    "\n",
    "Then we'll use the tools from `common_jax_utils` to first get a model from this config so we can inspect it, and then just run the experiment specified by the config.\n",
    "\n",
    "Doing this in a config instead of hard coded might seem like extra work, but consider this:\n",
    "1. you can serialize this config as a json file or a yaml file to later get the same model and experimental settings back \n",
    "   so when you are experimenting with different architectures, if you just store the configs you've used, you can easily recreate previous results\n",
    "2. when we get to running hyper parameter sweeps, you can easily get these configs (with a pick for the varying hyper parameters) from wandb\n",
    "   and then run an experiment specified by that config on any machine you want, e.g. on Snellius"
   ]
  },
  {
   "cell_type": "code",
   "execution_count": 2,
   "metadata": {},
   "outputs": [],
   "source": [
    "config = Config()\n",
    "\n",
    "# first we specify what the model should look like\n",
    "config.architecture = './model_components'  # module containing all relevant classes for architectures\n",
    "# NB if the classes relevant for creating the model are spread over multiple modules, this is no problem\n",
    "# let config.architecture be the module that contains the \"main\" model class, and for all other components just specify the module\n",
    "# or specify the other modules as default modules to the tools in common_jax_utils.run_utils\n",
    "config.model_type = 'inr_modules.CombinedINR'\n",
    "\n",
    "config.model_config = Config()\n",
    "config.model_config.in_size = 2\n",
    "config.model_config.out_size = 3\n",
    "config.model_config.terms = [  # CombinedINR uses multiple MLPs and returns the sum of their outputs. These 'terms' are the MLPs\n",
    "    ('inr_modules.MLPINR.from_config',{\n",
    "        'hidden_size': 256,\n",
    "        'num_layers': 5,\n",
    "        'layer_type': 'inr_layers.RealWire',\n",
    "        'num_splits': 1,\n",
    "        'use_complex': False,\n",
    "        'activation_kwargs': {'w0': 12, 'inverse_scale':1.}\n",
    "    }),\n",
    "    ('inr_modules.MLPINR.from_config',{\n",
    "        'hidden_size': 1024,\n",
    "        'num_layers': 2,\n",
    "        'num_splits': 1,\n",
    "        'layer_type': 'inr_layers.GaussianINRLayer',\n",
    "        'use_complex': False,\n",
    "        'activation_kwargs': {'inverse_scale': 1},\n",
    "    })\n",
    "]\n",
    "\n",
    "# next, we set up the training loop, including the 'target_function' that we want to mimic\n",
    "config.trainer_module = './inr_utils/'  # similarly to config.architecture above, here we just specify in what module to look for objects by default\n",
    "config.trainer_type = 'training.train_inr'\n",
    "config.target_function = 'images.ContinuousImage'\n",
    "config.target_function_config = {\n",
    "    'image': './example_data/parrot.png',\n",
    "    'scale_to_01': True,\n",
    "    'interpolation_method': 'images.make_piece_wise_constant_interpolation'\n",
    "}\n",
    "config.loss_function = 'losses.scaled_mse_loss'\n",
    "config.sampler = ('sampling.GridSubsetSampler',{  # samples coordinates in a fixed grid, that should in this case coincide with the pixel locations in the image\n",
    "    'size': [2040, 1356],\n",
    "    'batch_size': 2000,\n",
    "    'allow_duplicates': False,\n",
    "})\n",
    "\n",
    "config.optimizer = 'adam'  # we'll have to add optax to the additional default modules later\n",
    "config.optimizer_config = {\n",
    "    'learning_rate': 1.5e-4\n",
    "}\n",
    "config.steps = 40000\n",
    "config.use_wandb = True\n",
    "\n",
    "# now we want some extra things, like logging, to happen during training\n",
    "# the inr_utils.training.train_inr function allows for this through callbacks.\n",
    "# The callbacks we want to use can be found in inr_utils.callbacks\n",
    "config.after_step_callback = 'callbacks.ComposedCallback'\n",
    "config.after_step_callback_config = {\n",
    "    'callbacks':[\n",
    "        ('callbacks.print_loss', {'after_every':400}),  # only print the loss every 400th step\n",
    "        'callbacks.report_loss',  # but log the loss to wandb after every step\n",
    "        ('callbacks.MetricCollectingCallback', # this thing will help us collect metrics and log images to wandb\n",
    "             {'metric_collector':'metrics.MetricCollector'}\n",
    "        ),\n",
    "        'callbacks.raise_error_on_nan'  # stop training if the loss becomes NaN\n",
    "    ],\n",
    "    'show_logs': False\n",
    "}\n",
    "\n",
    "config.metric_collector_config = {  # the metrics for MetricCollectingCallback / metrics.MetricCollector\n",
    "    'metrics':[\n",
    "        ('metrics.PlotOnGrid2D', {'grid': 256, 'batch_size':8*256, 'frequency':'every_n_batches'}),  \n",
    "        # ^ plots the image on this fixed grid so we can visually inspect the inr on wandb\n",
    "        ('metrics.MSEOnFixedGrid', {'grid': [2040, 1356], 'batch_size':2040, 'frequency': 'every_n_batches'})\n",
    "        # ^ compute the MSE with the actual image pixels\n",
    "    ],\n",
    "    'batch_frequency': 400,  # compute all of these metrics every 400 batches\n",
    "    'epoch_frequency': 1  # not actually used\n",
    "}\n",
    "\n",
    "config.after_training_callback = None  # don't care for one now, but you could have this e.g. store some nice loss plots if you're not using wandb \n",
    "config.optimizer_state = None  # we're starting from scratch"
   ]
  },
  {
   "cell_type": "code",
   "execution_count": 3,
   "metadata": {},
   "outputs": [],
   "source": [
    "# let's first see if we get the correct model\n",
    "try:\n",
    "    inr = cju.run_utils.get_model_from_config_and_key(\n",
    "        prng_key=next(key_gen),\n",
    "        config=config,\n",
    "        model_sub_config_name_base='model',\n",
    "        add_model_module_to_architecture_default_module=False, # since the model is already in the default module specified by 'architecture',\n",
    "    )\n",
    "except Exception as e:\n",
    "    traceback.print_exc()\n",
    "    print(e)\n",
    "    print('\\n')\n",
    "    pdb.post_mortem()"
   ]
  },
  {
   "cell_type": "code",
   "execution_count": 4,
   "metadata": {},
   "outputs": [
    {
     "data": {
      "text/plain": [
       "CombinedINR(\n",
       "  terms=(\n",
       "    MLPINR(\n",
       "      input_layer=SirenLayer(\n",
       "        weights=f32[256,2],\n",
       "        biases=f32[256],\n",
       "        activation_kwargs={'w0': 12}\n",
       "      ),\n",
       "      hidden_layers=[\n",
       "        SirenLayer(\n",
       "          weights=f32[256,256],\n",
       "          biases=f32[256],\n",
       "          activation_kwargs={'w0': 12}\n",
       "        ),\n",
       "        SirenLayer(\n",
       "          weights=f32[256,256],\n",
       "          biases=f32[256],\n",
       "          activation_kwargs={'w0': 12}\n",
       "        ),\n",
       "        SirenLayer(\n",
       "          weights=f32[256,256],\n",
       "          biases=f32[256],\n",
       "          activation_kwargs={'w0': 12}\n",
       "        )\n",
       "      ],\n",
       "      output_layer=Linear(\n",
       "        weights=f32[3,256],\n",
       "        biases=f32[3],\n",
       "        activation_kwargs={}\n",
       "      ),\n",
       "      post_processor=<function real_part>\n",
       "    ),\n",
       "    MLPINR(\n",
       "      input_layer=GaussianINRLayer(\n",
       "        weights=f32[1024,2],\n",
       "        biases=f32[1024],\n",
       "        activation_kwargs={'s0': 1}\n",
       "      ),\n",
       "      hidden_layers=[],\n",
       "      output_layer=Linear(\n",
       "        weights=f32[3,1024],\n",
       "        biases=f32[3],\n",
       "        activation_kwargs={}\n",
       "      ),\n",
       "      post_processor=<function real_part>\n",
       "    )\n",
       "  ),\n",
       "  post_processor=<function real_part>\n",
       ")"
      ]
     },
     "execution_count": 4,
     "metadata": {},
     "output_type": "execute_result"
    }
   ],
   "source": [
    "inr"
   ]
  },
  {
   "cell_type": "code",
   "execution_count": 5,
   "metadata": {},
   "outputs": [
    {
     "data": {
      "text/plain": [
       "Array([ 1.1743951 , -0.33428454, -0.6474606 ], dtype=float32)"
      ]
     },
     "execution_count": 5,
     "metadata": {},
     "output_type": "execute_result"
    }
   ],
   "source": [
    "# check that it works properly\n",
    "inr(jnp.zeros(2))"
   ]
  },
  {
   "cell_type": "code",
   "execution_count": 6,
   "metadata": {},
   "outputs": [],
   "source": [
    "# next we get the experiment from the config using common_jax_utils.run_utils.get_experiment_from_config_and_key\n",
    "experiment = cju.run_utils.get_experiment_from_config_and_key(\n",
    "    prng_key=next(key_gen),\n",
    "    config=config,\n",
    "    model_kwarg_in_trainer='inr',\n",
    "    model_sub_config_name_base='model',  # so it looks for \"model_config\" in config\n",
    "    trainer_default_module_key='trainer_module',  # so it knows to get the module specified by config.trainer_module\n",
    "    additional_trainer_default_modules=[optax],  # remember the don't forget to add optax to the default modules? This is that \n",
    "    add_model_module_to_architecture_default_module=False,\n",
    "    initialize=False  # don't run the experiment yet, we want to use wandb\n",
    ")"
   ]
  },
  {
   "cell_type": "code",
   "execution_count": 7,
   "metadata": {},
   "outputs": [
    {
     "data": {
      "text/html": [
       "Tracking run with wandb version 0.18.0"
      ],
      "text/plain": [
       "<IPython.core.display.HTML object>"
      ]
     },
     "metadata": {},
     "output_type": "display_data"
    },
    {
     "data": {
      "text/html": [
       "Run data is saved locally in <code>/home/simon/Documents/inr_edu_24/wandb/run-20240913_112112-h3vcba3h</code>"
      ],
      "text/plain": [
       "<IPython.core.display.HTML object>"
      ]
     },
     "metadata": {},
     "output_type": "display_data"
    },
    {
     "data": {
      "text/html": [
       "Syncing run <strong><a href='https://wandb.ai/nld/inr_edu_24/runs/h3vcba3h' target=\"_blank\">vocal-vortex-15</a></strong> to <a href='https://wandb.ai/nld/inr_edu_24' target=\"_blank\">Weights & Biases</a> (<a href='https://wandb.me/run' target=\"_blank\">docs</a>)<br/>"
      ],
      "text/plain": [
       "<IPython.core.display.HTML object>"
      ]
     },
     "metadata": {},
     "output_type": "display_data"
    },
    {
     "data": {
      "text/html": [
       " View project at <a href='https://wandb.ai/nld/inr_edu_24' target=\"_blank\">https://wandb.ai/nld/inr_edu_24</a>"
      ],
      "text/plain": [
       "<IPython.core.display.HTML object>"
      ]
     },
     "metadata": {},
     "output_type": "display_data"
    },
    {
     "data": {
      "text/html": [
       " View run at <a href='https://wandb.ai/nld/inr_edu_24/runs/h3vcba3h' target=\"_blank\">https://wandb.ai/nld/inr_edu_24/runs/h3vcba3h</a>"
      ],
      "text/plain": [
       "<IPython.core.display.HTML object>"
      ]
     },
     "metadata": {},
     "output_type": "display_data"
    },
    {
     "name": "stderr",
     "output_type": "stream",
     "text": [
      "E0913 11:21:17.752729  259650 buffer_comparator.cc:157] Difference at 1417: -0.0243073, expected -0.18261\n",
      "E0913 11:21:17.752754  259650 buffer_comparator.cc:157] Difference at 1508: 0.344694, expected 0.513586\n",
      "E0913 11:21:17.752762  259650 buffer_comparator.cc:157] Difference at 2581: -0.593427, expected -0.810047\n",
      "E0913 11:21:17.752776  259650 buffer_comparator.cc:157] Difference at 5564: -0.126866, expected -0.26074\n",
      "E0913 11:21:17.752781  259650 buffer_comparator.cc:157] Difference at 6406: 0.364695, expected 0.127136\n",
      "E0913 11:21:17.752788  259650 buffer_comparator.cc:157] Difference at 7411: 0.273155, expected 0.135361\n",
      "E0913 11:21:17.752849  259650 buffer_comparator.cc:157] Difference at 23116: 0.024056, expected -0.128586\n",
      "E0913 11:21:17.752864  259650 buffer_comparator.cc:157] Difference at 26084: -0.16444, expected 0.0703011\n",
      "E0913 11:21:17.752871  259650 buffer_comparator.cc:157] Difference at 27192: -0.0291781, expected -0.151157\n",
      "E0913 11:21:17.752886  259650 buffer_comparator.cc:157] Difference at 30096: -0.210361, expected -0.355889\n",
      "2024-09-13 11:21:17.752891: E external/xla/xla/service/gpu/gemm_fusion_autotuner.cc:958] Results do not match the reference. This is likely a bug/unexpected loss of precision.\n",
      "E0913 11:21:17.753916  259650 buffer_comparator.cc:157] Difference at 1417: -0.0243073, expected -0.18261\n",
      "E0913 11:21:17.753928  259650 buffer_comparator.cc:157] Difference at 1508: 0.344694, expected 0.513586\n",
      "E0913 11:21:17.753936  259650 buffer_comparator.cc:157] Difference at 2581: -0.593427, expected -0.810047\n",
      "E0913 11:21:17.753953  259650 buffer_comparator.cc:157] Difference at 5564: -0.126866, expected -0.26074\n",
      "E0913 11:21:17.753960  259650 buffer_comparator.cc:157] Difference at 6406: 0.364695, expected 0.127136\n",
      "E0913 11:21:17.753968  259650 buffer_comparator.cc:157] Difference at 7411: 0.273155, expected 0.135361\n",
      "E0913 11:21:17.754035  259650 buffer_comparator.cc:157] Difference at 23116: 0.024056, expected -0.128586\n",
      "E0913 11:21:17.754054  259650 buffer_comparator.cc:157] Difference at 26084: -0.16444, expected 0.0703011\n",
      "E0913 11:21:17.754063  259650 buffer_comparator.cc:157] Difference at 27192: -0.0291781, expected -0.151157\n",
      "E0913 11:21:17.754079  259650 buffer_comparator.cc:157] Difference at 30096: -0.210361, expected -0.355889\n",
      "2024-09-13 11:21:17.754084: E external/xla/xla/service/gpu/gemm_fusion_autotuner.cc:958] Results do not match the reference. This is likely a bug/unexpected loss of precision.\n",
      "E0913 11:21:17.755006  259650 buffer_comparator.cc:157] Difference at 1417: -0.0245552, expected -0.18261\n",
      "E0913 11:21:17.755019  259650 buffer_comparator.cc:157] Difference at 1508: 0.344917, expected 0.513586\n",
      "E0913 11:21:17.755027  259650 buffer_comparator.cc:157] Difference at 2581: -0.593309, expected -0.810047\n",
      "E0913 11:21:17.755044  259650 buffer_comparator.cc:157] Difference at 5564: -0.126198, expected -0.26074\n",
      "E0913 11:21:17.755052  259650 buffer_comparator.cc:157] Difference at 6406: 0.365433, expected 0.127136\n",
      "E0913 11:21:17.755060  259650 buffer_comparator.cc:157] Difference at 7411: 0.272489, expected 0.135361\n",
      "E0913 11:21:17.755120  259650 buffer_comparator.cc:157] Difference at 23116: 0.0235825, expected -0.128586\n",
      "E0913 11:21:17.755138  259650 buffer_comparator.cc:157] Difference at 26084: -0.164776, expected 0.0703011\n",
      "E0913 11:21:17.755147  259650 buffer_comparator.cc:157] Difference at 27192: -0.0297012, expected -0.151157\n",
      "E0913 11:21:17.755163  259650 buffer_comparator.cc:157] Difference at 30096: -0.210636, expected -0.355889\n",
      "2024-09-13 11:21:17.755168: E external/xla/xla/service/gpu/gemm_fusion_autotuner.cc:958] Results do not match the reference. This is likely a bug/unexpected loss of precision.\n",
      "E0913 11:21:17.756041  259650 buffer_comparator.cc:157] Difference at 1417: -0.0245972, expected -0.18261\n",
      "E0913 11:21:17.756052  259650 buffer_comparator.cc:157] Difference at 1508: 0.344833, expected 0.513586\n",
      "E0913 11:21:17.756060  259650 buffer_comparator.cc:157] Difference at 2581: -0.593285, expected -0.810047\n",
      "E0913 11:21:17.756078  259650 buffer_comparator.cc:157] Difference at 5564: -0.126305, expected -0.26074\n",
      "E0913 11:21:17.756085  259650 buffer_comparator.cc:157] Difference at 6406: 0.365238, expected 0.127136\n",
      "E0913 11:21:17.756093  259650 buffer_comparator.cc:157] Difference at 7411: 0.272558, expected 0.135361\n",
      "E0913 11:21:17.756152  259650 buffer_comparator.cc:157] Difference at 23116: 0.0235977, expected -0.128586\n",
      "E0913 11:21:17.756170  259650 buffer_comparator.cc:157] Difference at 26084: -0.164879, expected 0.0703011\n",
      "E0913 11:21:17.756179  259650 buffer_comparator.cc:157] Difference at 27192: -0.02948, expected -0.151157\n",
      "E0913 11:21:17.756202  259650 buffer_comparator.cc:157] Difference at 30096: -0.210617, expected -0.355889\n",
      "2024-09-13 11:21:17.756208: E external/xla/xla/service/gpu/gemm_fusion_autotuner.cc:958] Results do not match the reference. This is likely a bug/unexpected loss of precision.\n",
      "E0913 11:21:17.757334  259650 buffer_comparator.cc:157] Difference at 1417: -0.0243073, expected -0.18261\n",
      "E0913 11:21:17.757345  259650 buffer_comparator.cc:157] Difference at 1508: 0.344694, expected 0.513586\n",
      "E0913 11:21:17.757353  259650 buffer_comparator.cc:157] Difference at 2581: -0.593427, expected -0.810047\n",
      "E0913 11:21:17.757371  259650 buffer_comparator.cc:157] Difference at 5564: -0.126866, expected -0.26074\n",
      "E0913 11:21:17.757379  259650 buffer_comparator.cc:157] Difference at 6406: 0.364695, expected 0.127136\n",
      "E0913 11:21:17.757387  259650 buffer_comparator.cc:157] Difference at 7411: 0.273155, expected 0.135361\n",
      "E0913 11:21:17.757450  259650 buffer_comparator.cc:157] Difference at 23116: 0.024056, expected -0.128586\n",
      "E0913 11:21:17.757468  259650 buffer_comparator.cc:157] Difference at 26084: -0.16444, expected 0.0703011\n",
      "E0913 11:21:17.757477  259650 buffer_comparator.cc:157] Difference at 27192: -0.0291781, expected -0.151157\n",
      "E0913 11:21:17.757493  259650 buffer_comparator.cc:157] Difference at 30096: -0.210361, expected -0.355889\n",
      "2024-09-13 11:21:17.757499: E external/xla/xla/service/gpu/gemm_fusion_autotuner.cc:958] Results do not match the reference. This is likely a bug/unexpected loss of precision.\n",
      "E0913 11:21:17.758342  259650 buffer_comparator.cc:157] Difference at 1417: -0.0245552, expected -0.18261\n",
      "E0913 11:21:17.758356  259650 buffer_comparator.cc:157] Difference at 1508: 0.344917, expected 0.513586\n",
      "E0913 11:21:17.758364  259650 buffer_comparator.cc:157] Difference at 2581: -0.593309, expected -0.810047\n",
      "E0913 11:21:17.758381  259650 buffer_comparator.cc:157] Difference at 5564: -0.126198, expected -0.26074\n",
      "E0913 11:21:17.758389  259650 buffer_comparator.cc:157] Difference at 6406: 0.365433, expected 0.127136\n",
      "E0913 11:21:17.758397  259650 buffer_comparator.cc:157] Difference at 7411: 0.272489, expected 0.135361\n",
      "E0913 11:21:17.758455  259650 buffer_comparator.cc:157] Difference at 23116: 0.0235825, expected -0.128586\n",
      "E0913 11:21:17.758473  259650 buffer_comparator.cc:157] Difference at 26084: -0.164776, expected 0.0703011\n",
      "E0913 11:21:17.758481  259650 buffer_comparator.cc:157] Difference at 27192: -0.0297012, expected -0.151157\n",
      "E0913 11:21:17.758498  259650 buffer_comparator.cc:157] Difference at 30096: -0.210636, expected -0.355889\n",
      "2024-09-13 11:21:17.758503: E external/xla/xla/service/gpu/gemm_fusion_autotuner.cc:958] Results do not match the reference. This is likely a bug/unexpected loss of precision.\n",
      "E0913 11:21:17.759326  259650 buffer_comparator.cc:157] Difference at 1417: -0.0243073, expected -0.18261\n",
      "E0913 11:21:17.759338  259650 buffer_comparator.cc:157] Difference at 1508: 0.344694, expected 0.513586\n",
      "E0913 11:21:17.759346  259650 buffer_comparator.cc:157] Difference at 2581: -0.593427, expected -0.810047\n",
      "E0913 11:21:17.759364  259650 buffer_comparator.cc:157] Difference at 5564: -0.126866, expected -0.26074\n",
      "E0913 11:21:17.759371  259650 buffer_comparator.cc:157] Difference at 6406: 0.364695, expected 0.127136\n",
      "E0913 11:21:17.759379  259650 buffer_comparator.cc:157] Difference at 7411: 0.273155, expected 0.135361\n",
      "E0913 11:21:17.759437  259650 buffer_comparator.cc:157] Difference at 23116: 0.024056, expected -0.128586\n",
      "E0913 11:21:17.759455  259650 buffer_comparator.cc:157] Difference at 26084: -0.16444, expected 0.0703011\n",
      "E0913 11:21:17.759464  259650 buffer_comparator.cc:157] Difference at 27192: -0.0291781, expected -0.151157\n",
      "E0913 11:21:17.759480  259650 buffer_comparator.cc:157] Difference at 30096: -0.210361, expected -0.355889\n",
      "2024-09-13 11:21:17.759485: E external/xla/xla/service/gpu/gemm_fusion_autotuner.cc:958] Results do not match the reference. This is likely a bug/unexpected loss of precision.\n",
      "E0913 11:21:17.760348  259650 buffer_comparator.cc:157] Difference at 1417: -0.0243073, expected -0.18261\n",
      "E0913 11:21:17.760359  259650 buffer_comparator.cc:157] Difference at 1508: 0.344694, expected 0.513586\n",
      "E0913 11:21:17.760367  259650 buffer_comparator.cc:157] Difference at 2581: -0.593427, expected -0.810047\n",
      "E0913 11:21:17.760385  259650 buffer_comparator.cc:157] Difference at 5564: -0.126866, expected -0.26074\n",
      "E0913 11:21:17.760392  259650 buffer_comparator.cc:157] Difference at 6406: 0.364695, expected 0.127136\n",
      "E0913 11:21:17.760400  259650 buffer_comparator.cc:157] Difference at 7411: 0.273155, expected 0.135361\n",
      "E0913 11:21:17.760457  259650 buffer_comparator.cc:157] Difference at 23116: 0.024056, expected -0.128586\n",
      "E0913 11:21:17.760475  259650 buffer_comparator.cc:157] Difference at 26084: -0.16444, expected 0.0703011\n",
      "E0913 11:21:17.760484  259650 buffer_comparator.cc:157] Difference at 27192: -0.0291781, expected -0.151157\n",
      "E0913 11:21:17.760500  259650 buffer_comparator.cc:157] Difference at 30096: -0.210361, expected -0.355889\n",
      "2024-09-13 11:21:17.760505: E external/xla/xla/service/gpu/gemm_fusion_autotuner.cc:958] Results do not match the reference. This is likely a bug/unexpected loss of precision.\n",
      "E0913 11:21:17.761525  259650 buffer_comparator.cc:157] Difference at 1417: -0.0243073, expected -0.18261\n",
      "E0913 11:21:17.761537  259650 buffer_comparator.cc:157] Difference at 1508: 0.344694, expected 0.513586\n",
      "E0913 11:21:17.761545  259650 buffer_comparator.cc:157] Difference at 2581: -0.593427, expected -0.810047\n",
      "E0913 11:21:17.761562  259650 buffer_comparator.cc:157] Difference at 5564: -0.126866, expected -0.26074\n",
      "E0913 11:21:17.761570  259650 buffer_comparator.cc:157] Difference at 6406: 0.364695, expected 0.127136\n",
      "E0913 11:21:17.761577  259650 buffer_comparator.cc:157] Difference at 7411: 0.273155, expected 0.135361\n",
      "E0913 11:21:17.761636  259650 buffer_comparator.cc:157] Difference at 23116: 0.024056, expected -0.128586\n",
      "E0913 11:21:17.761653  259650 buffer_comparator.cc:157] Difference at 26084: -0.16444, expected 0.0703011\n",
      "E0913 11:21:17.761662  259650 buffer_comparator.cc:157] Difference at 27192: -0.0291781, expected -0.151157\n",
      "E0913 11:21:17.761679  259650 buffer_comparator.cc:157] Difference at 30096: -0.210361, expected -0.355889\n",
      "2024-09-13 11:21:17.761684: E external/xla/xla/service/gpu/gemm_fusion_autotuner.cc:958] Results do not match the reference. This is likely a bug/unexpected loss of precision.\n",
      "E0913 11:21:17.762911  259650 buffer_comparator.cc:157] Difference at 1417: -0.0243073, expected -0.18261\n",
      "E0913 11:21:17.762922  259650 buffer_comparator.cc:157] Difference at 1508: 0.344694, expected 0.513586\n",
      "E0913 11:21:17.762940  259650 buffer_comparator.cc:157] Difference at 2581: -0.593427, expected -0.810047\n",
      "E0913 11:21:17.762958  259650 buffer_comparator.cc:157] Difference at 5564: -0.126866, expected -0.26074\n",
      "E0913 11:21:17.762965  259650 buffer_comparator.cc:157] Difference at 6406: 0.364695, expected 0.127136\n",
      "E0913 11:21:17.762973  259650 buffer_comparator.cc:157] Difference at 7411: 0.273155, expected 0.135361\n",
      "E0913 11:21:17.763047  259650 buffer_comparator.cc:157] Difference at 23116: 0.024056, expected -0.128586\n",
      "E0913 11:21:17.763066  259650 buffer_comparator.cc:157] Difference at 26084: -0.16444, expected 0.0703011\n",
      "E0913 11:21:17.763076  259650 buffer_comparator.cc:157] Difference at 27192: -0.0291781, expected -0.151157\n",
      "E0913 11:21:17.763092  259650 buffer_comparator.cc:157] Difference at 30096: -0.210361, expected -0.355889\n",
      "2024-09-13 11:21:17.763097: E external/xla/xla/service/gpu/gemm_fusion_autotuner.cc:958] Results do not match the reference. This is likely a bug/unexpected loss of precision.\n",
      "E0913 11:21:17.764140  259650 buffer_comparator.cc:157] Difference at 1417: -0.0243073, expected -0.18261\n",
      "E0913 11:21:17.764154  259650 buffer_comparator.cc:157] Difference at 1508: 0.344694, expected 0.513586\n",
      "E0913 11:21:17.764163  259650 buffer_comparator.cc:157] Difference at 2581: -0.593427, expected -0.810047\n",
      "E0913 11:21:17.764180  259650 buffer_comparator.cc:157] Difference at 5564: -0.126866, expected -0.26074\n",
      "E0913 11:21:17.764188  259650 buffer_comparator.cc:157] Difference at 6406: 0.364695, expected 0.127136\n",
      "E0913 11:21:17.764196  259650 buffer_comparator.cc:157] Difference at 7411: 0.273155, expected 0.135361\n",
      "E0913 11:21:17.764254  259650 buffer_comparator.cc:157] Difference at 23116: 0.024056, expected -0.128586\n",
      "E0913 11:21:17.764272  259650 buffer_comparator.cc:157] Difference at 26084: -0.16444, expected 0.0703011\n",
      "E0913 11:21:17.764281  259650 buffer_comparator.cc:157] Difference at 27192: -0.0291781, expected -0.151157\n",
      "E0913 11:21:17.764297  259650 buffer_comparator.cc:157] Difference at 30096: -0.210361, expected -0.355889\n",
      "2024-09-13 11:21:17.764302: E external/xla/xla/service/gpu/gemm_fusion_autotuner.cc:958] Results do not match the reference. This is likely a bug/unexpected loss of precision.\n",
      "E0913 11:21:17.765360  259650 buffer_comparator.cc:157] Difference at 1417: -0.0246429, expected -0.18261\n",
      "E0913 11:21:17.765372  259650 buffer_comparator.cc:157] Difference at 1508: 0.344866, expected 0.513586\n",
      "E0913 11:21:17.765380  259650 buffer_comparator.cc:157] Difference at 2581: -0.59333, expected -0.810047\n",
      "E0913 11:21:17.765398  259650 buffer_comparator.cc:157] Difference at 5564: -0.126446, expected -0.26074\n",
      "E0913 11:21:17.765406  259650 buffer_comparator.cc:157] Difference at 6406: 0.365242, expected 0.127136\n",
      "E0913 11:21:17.765413  259650 buffer_comparator.cc:157] Difference at 7411: 0.272873, expected 0.135361\n",
      "E0913 11:21:17.765472  259650 buffer_comparator.cc:157] Difference at 23116: 0.0237923, expected -0.128586\n",
      "E0913 11:21:17.765490  259650 buffer_comparator.cc:157] Difference at 26084: -0.164783, expected 0.0703011\n",
      "E0913 11:21:17.765499  259650 buffer_comparator.cc:157] Difference at 27192: -0.0294781, expected -0.151157\n",
      "E0913 11:21:17.765516  259650 buffer_comparator.cc:157] Difference at 30096: -0.210523, expected -0.355889\n",
      "2024-09-13 11:21:17.765521: E external/xla/xla/service/gpu/gemm_fusion_autotuner.cc:958] Results do not match the reference. This is likely a bug/unexpected loss of precision.\n"
     ]
    },
    {
     "name": "stdout",
     "output_type": "stream",
     "text": [
      "Loss at step 400 is 0.2749616205692291.\n",
      "Loss at step 800 is 0.20188120007514954.\n",
      "Loss at step 1200 is 0.18967083096504211.\n",
      "Loss at step 1600 is 0.15546664595603943.\n",
      "Loss at step 2000 is 0.12456362694501877.\n",
      "Loss at step 2400 is 0.10376457870006561.\n",
      "Loss at step 2800 is 0.12397671490907669.\n",
      "Loss at step 3200 is 0.11398709565401077.\n",
      "Loss at step 3600 is 0.0952405333518982.\n",
      "Loss at step 4000 is 0.13543130457401276.\n",
      "Loss at step 4400 is 0.11176576465368271.\n",
      "Loss at step 4800 is 0.11116640269756317.\n",
      "Loss at step 5200 is 0.0918697640299797.\n",
      "Loss at step 5600 is 0.08386383205652237.\n",
      "Loss at step 6000 is 0.09342482686042786.\n",
      "Loss at step 6400 is 0.09361685067415237.\n",
      "Loss at step 6800 is 0.09929735958576202.\n",
      "Loss at step 7200 is 0.08063504844903946.\n",
      "Loss at step 7600 is 0.07960003614425659.\n",
      "Loss at step 8000 is 0.0819726511836052.\n",
      "Loss at step 8400 is 0.09316844493150711.\n",
      "Loss at step 8800 is 0.08445591479539871.\n",
      "Loss at step 9200 is 0.08628978580236435.\n",
      "Loss at step 9600 is 0.09198738634586334.\n",
      "Loss at step 10000 is 0.07356402277946472.\n",
      "Loss at step 10400 is 0.07747974246740341.\n",
      "Loss at step 10800 is 0.07054078578948975.\n",
      "Loss at step 11200 is 0.08420122414827347.\n",
      "Loss at step 11600 is 0.05909448862075806.\n",
      "Loss at step 12000 is 0.08747906237840652.\n",
      "Loss at step 12400 is 0.07989058643579483.\n",
      "Loss at step 12800 is 0.060484323650598526.\n",
      "Loss at step 13200 is 0.06539489328861237.\n",
      "Loss at step 13600 is 0.07811504602432251.\n",
      "Loss at step 14000 is 0.06251593679189682.\n",
      "Loss at step 14400 is 0.06763940304517746.\n",
      "Loss at step 14800 is 0.0616220124065876.\n",
      "Loss at step 15200 is 0.07409747689962387.\n",
      "Loss at step 15600 is 0.06659528613090515.\n",
      "Loss at step 16000 is 0.05330587550997734.\n",
      "Loss at step 16400 is 0.051651787012815475.\n",
      "Loss at step 16800 is 0.05425548180937767.\n",
      "Loss at step 17200 is 0.051594965159893036.\n",
      "Loss at step 17600 is 0.049559611827135086.\n",
      "Loss at step 18000 is 0.05916241183876991.\n",
      "Loss at step 18400 is 0.05869205296039581.\n",
      "Loss at step 18800 is 0.05610847473144531.\n",
      "Loss at step 19200 is 0.054935891181230545.\n",
      "Loss at step 19600 is 0.05997878313064575.\n",
      "Loss at step 20000 is 0.05984286963939667.\n",
      "Loss at step 20400 is 0.048139311373233795.\n",
      "Loss at step 20800 is 0.05315018445253372.\n",
      "Loss at step 21200 is 0.05170280858874321.\n",
      "Loss at step 21600 is 0.05361928790807724.\n",
      "Loss at step 22000 is 0.07095849514007568.\n",
      "Loss at step 22400 is 0.05703866481781006.\n",
      "Loss at step 22800 is 0.04799143224954605.\n",
      "Loss at step 23200 is 0.04737136885523796.\n",
      "Loss at step 23600 is 0.059096209704875946.\n",
      "Loss at step 24000 is 0.05878853425383568.\n",
      "Loss at step 24400 is 0.05318295955657959.\n",
      "Loss at step 24800 is 0.047485701739788055.\n",
      "Loss at step 25200 is 0.05017006769776344.\n",
      "Loss at step 25600 is 0.04361257329583168.\n",
      "Loss at step 26000 is 0.04541511833667755.\n",
      "Loss at step 26400 is 0.05101647600531578.\n",
      "Loss at step 26800 is 0.05690360069274902.\n",
      "Loss at step 27200 is 0.04453906789422035.\n",
      "Loss at step 27600 is 0.043878842145204544.\n",
      "Loss at step 28000 is 0.04747616872191429.\n",
      "Loss at step 28400 is 0.04595346376299858.\n",
      "Loss at step 28800 is 0.04298153147101402.\n",
      "Loss at step 29200 is 0.04908227548003197.\n",
      "Loss at step 29600 is 0.053585462272167206.\n",
      "Loss at step 30000 is 0.04964600130915642.\n",
      "Loss at step 30400 is 0.05590881407260895.\n",
      "Loss at step 30800 is 0.047296278178691864.\n",
      "Loss at step 31200 is 0.03807881101965904.\n",
      "Loss at step 31600 is 0.046059224754571915.\n",
      "Loss at step 32000 is 0.052977219223976135.\n",
      "Loss at step 32400 is 0.04804574325680733.\n",
      "Loss at step 32800 is 0.039595577865839005.\n",
      "Loss at step 33200 is 0.04029976949095726.\n",
      "Loss at step 33600 is 0.046037279069423676.\n",
      "Loss at step 34000 is 0.039369817823171616.\n",
      "Loss at step 34400 is 0.03994232788681984.\n",
      "Loss at step 34800 is 0.04382619634270668.\n",
      "Loss at step 35200 is 0.042764123529195786.\n",
      "Loss at step 35600 is 0.036175698041915894.\n",
      "Loss at step 36000 is 0.03403773531317711.\n",
      "Loss at step 36400 is 0.03835700824856758.\n",
      "Loss at step 36800 is 0.04154258221387863.\n",
      "Loss at step 37200 is 0.04346593841910362.\n",
      "Loss at step 37600 is 0.03989577665925026.\n",
      "Loss at step 38000 is 0.03906690329313278.\n",
      "Loss at step 38400 is 0.03555241972208023.\n",
      "Loss at step 38800 is 0.042700160294771194.\n",
      "Loss at step 39200 is 0.040800541639328.\n",
      "Loss at step 39600 is 0.04435859993100166.\n",
      "Loss at step 40000 is 0.042069580405950546.\n"
     ]
    },
    {
     "data": {
      "image/png": "[encoded data removed]",
      "text/plain": [
       "<Figure size 640x480 with 1 Axes>"
      ]
     },
     "metadata": {},
     "output_type": "display_data"
    },
    {
     "data": {
      "application/vnd.jupyter.widget-view+json": {
       "model_id": "ed7dfad242834e18b472cb7b737035fd",
       "version_major": 2,
       "version_minor": 0
      },
      "text/plain": [
       "VBox(children=(Label(value='9.175 MB of 9.175 MB uploaded\\r'), FloatProgress(value=1.0, max=1.0)))"
      ]
     },
     "metadata": {},
     "output_type": "display_data"
    },
    {
     "data": {
      "text/html": [
       "<style>\n",
       "    table.wandb td:nth-child(1) { padding: 0 10px; text-align: left ; width: auto;} td:nth-child(2) {text-align: left ; width: 100%}\n",
       "    .wandb-row { display: flex; flex-direction: row; flex-wrap: wrap; justify-content: flex-start; width: 100% }\n",
       "    .wandb-col { display: flex; flex-direction: column; flex-basis: 100%; flex: 1; padding: 10px; }\n",
       "    </style>\n",
       "<div class=\"wandb-row\"><div class=\"wandb-col\"><h3>Run history:</h3><br/><table class=\"wandb\"><tr><td>MSE_on_fixed_grid</td><td>█▇▆▆▄▄▃▃▃▃▃▃▃▂▃▂▂▂▂▂▂▂▂▂▂▂▂▂▁▁▁▂▂▁▂▁▂▁▁▁</td></tr><tr><td>batch_within_epoch</td><td>▁▂▂▂▂▂▂▂▂▂▃▃▃▃▃▄▄▄▄▄▄▅▅▆▆▆▆▆▆▆▆▇▇▇▇▇████</td></tr><tr><td>epoch</td><td>▁▁▁▁▁▁▁▁▁▁▁▁▁▁▁▁▁▁▁▁▁▁▁▁▁▁▁▁▁▁▁▁▁▁▁▁▁▁▁▁</td></tr><tr><td>loss</td><td>█▄▃▃▃▃▃▃▃▃▂▃▂▂▂▂▂▂▂▂▂▂▁▁▂▂▁▁▁▂▁▁▁▁▁▁▁▂▁▁</td></tr></table><br/></div><div class=\"wandb-col\"><h3>Run summary:</h3><br/><table class=\"wandb\"><tr><td>MSE_on_fixed_grid</td><td>0.00655</td></tr><tr><td>batch_within_epoch</td><td>40000</td></tr><tr><td>epoch</td><td>1</td></tr><tr><td>loss</td><td>0.04207</td></tr></table><br/></div></div>"
      ],
      "text/plain": [
       "<IPython.core.display.HTML object>"
      ]
     },
     "metadata": {},
     "output_type": "display_data"
    },
    {
     "data": {
      "text/html": [
       " View run <strong style=\"color:#cdcd00\">vocal-vortex-15</strong> at: <a href='https://wandb.ai/nld/inr_edu_24/runs/h3vcba3h' target=\"_blank\">https://wandb.ai/nld/inr_edu_24/runs/h3vcba3h</a><br/> View project at: <a href='https://wandb.ai/nld/inr_edu_24' target=\"_blank\">https://wandb.ai/nld/inr_edu_24</a><br/>Synced 5 W&B file(s), 0 media file(s), 2 artifact file(s) and 100 other file(s)"
      ],
      "text/plain": [
       "<IPython.core.display.HTML object>"
      ]
     },
     "metadata": {},
     "output_type": "display_data"
    },
    {
     "data": {
      "text/html": [
       "Find logs at: <code>./wandb/run-20240913_112112-h3vcba3h/logs</code>"
      ],
      "text/plain": [
       "<IPython.core.display.HTML object>"
      ]
     },
     "metadata": {},
     "output_type": "display_data"
    }
   ],
   "source": [
    "# and we run the experiment while logging things to wandb\n",
    "with wandb.init(\n",
    "    project='inr_edu_24',\n",
    "    notes='test',\n",
    "    tags=['test']\n",
    ") as run:\n",
    "    results = experiment.initialize()"
   ]
  },
  {
   "cell_type": "code",
   "execution_count": null,
   "metadata": {},
   "outputs": [],
   "source": []
  }
 ],
 "metadata": {
  "kernelspec": {
   "display_name": "inr_edu_24",
   "language": "python",
   "name": "python3"
  },
  "language_info": {
   "codemirror_mode": {
    "name": "ipython",
    "version": 3
   },
   "file_extension": ".py",
   "mimetype": "text/x-python",
   "name": "python",
   "nbconvert_exporter": "python",
   "pygments_lexer": "ipython3",
   "version": "3.10.14"
  }
 },
 "nbformat": 4,
 "nbformat_minor": 2
}
