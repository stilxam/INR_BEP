{
 "cells": [
  {
   "cell_type": "markdown",
   "metadata": {},
   "source": [
    "# Example of a hyperparameter sweep using Weights and Biases (wandb)\n",
    "\n",
    "Often, there are a whole bunch of hyperparameters, such as learning rate, number of layers, width of an MLP, or batch size, that need to be chosen, without it being clear in advance what values will be good picks. \n",
    "\n",
    "A good way of finding good hyper parameter settings, is by just trying a bunch, and seeing what works best according to some pre-defined metric. \n",
    "\n",
    "Ideally, you should try to do this in an automated way. Using [wandb](https://wandb.ai/) helps with this. \n",
    "\n",
    "Additionally the `common_dl_utils` and `common_jax_utils` packages can help with setting such a wandb sweep up (or, if you prefer not to use wandb, they can help you automate things in different ways).\n",
    "\n",
    "## In this notebook\n",
    "In this notebook, we setup a hyperparameter sweep for the same model we saw in `inr_example.ipynb`. Basically, how this works is:\n",
    "* We create a config detailing all hyperparameters (both fixed and varying)\n",
    "* We start a wandb sweep using this config. This results in a sweep id.\n",
    "* We run experiments using this sweep id. \n",
    "\n",
    "This last part can be done by calling `run_from_inr_sweep.py` with the commandline argument `--sweep_id=` followed by the correct id. When doing this locally, you can just do this on the command line. When using Snellius, you'll have to create a script for the job that loads the correct environment, details what resources are needed for how long, and calls `run_from_inr_sweep.py` with the correct sweep_id.\n",
    "\n",
    "The way `run_from_inr_sweep.py` works is that it launches a wandb \"agent\" with a function for running the experiment. This \"agent\" receives a config from wandb with picks for the hyperparameters. From that point on, basically you have a config specifying a single run, and things work very similarly to what is done in `inr_example.ipynb` from the point you have your config there. \n",
    "\n",
    "## Type of sweep\n",
    "Weights and Biases provides three options for doing these sweeps: you can either do a grid search, a random search, or a Bayesian search. Keep in mind that you have limited computational budget, so a grid search easily becomes unfeasible. \n",
    "\n",
    "In most cases, a random search will likely give you the best experience (and the least headaches). When running experiments from sweeps, you have the option to have a single agent perform multiple runs in sequence. However, somehow there seems to be a bug in wandb that causes the gpu memory to not always be freed up after each run, which can lead to OOM errors (both when using JAX and when using Pytorch). The only way I've found to reliably circumvent this, is to just keep `count` set to 1, and create a bunch of agents. \n",
    "\n",
    "However, when doing Bayesian search it seems that each agent still tries to create a new run after its first and single run, which just creates a lot of runs in your sweep that didn't really do anything. So my advice would be: don't waste your compute budget on grid search and don't waste your good mood on Bayesian search, unless you really need to.\n",
    "\n",
    "### Grid search\n",
    "If for some reason you really do need to do grid search, there might be better ways than doing this through a wandb sweep. The tools in `common_dl_utils.config_creation` allow for creating individual run configs (just like wandb does) in a way that some variables can be linked together. \n",
    "\n",
    "E.g. you want to vary the latent size, and you want the hidden size to always be twice the latent size. Or you want to vary what type of activation function you use for your INR, and you want to vary some hyper parameters, such as `w0` for Siren, but only if the corresponding layer is being used. \n",
    "\n",
    "In such cases, you might want to use the tools from `common_dl_utils.config_creation` to just create a folder full of config files for individual runs, and create a script that loops over those configs and runs the corresponding experiment (or ideally do something smarter than this so you can have a bunch of scripts do experiments in parallel on Snellius).\n",
    "\n",
    "### Random seeds\n",
    "If you want to vary only the prng seed (for random number generation) instead of any hyperparameters (or together with those hyper parameters) you can specify a 'prng_seed' in the config (this should be an integer).\n",
    "\n",
    "If you don't specify a prng_seed in the config, the tools used for running the experiments will create a random prng seed and log it to wandb so as to make re-producing results easier.\n"
   ]
  },
  {
   "cell_type": "code",
   "execution_count": 8,
   "metadata": {
    "ExecuteTime": {
     "end_time": "2024-10-09T11:53:46.479121249Z",
     "start_time": "2024-10-09T11:53:45.142746284Z"
    }
   },
   "outputs": [
    {
     "data": {
      "text/plain": [
       "True"
      ]
     },
     "execution_count": 8,
     "metadata": {},
     "output_type": "execute_result"
    }
   ],
   "source": [
    "from pprint import pprint\n",
    "\n",
    "import wandb\n",
    "\n",
    "import common_dl_utils as cdu\n",
    "from common_dl_utils.config_creation import Config, VariableCollector\n",
    "\n",
    "wandb.login()"
   ]
  },
  {
   "cell_type": "code",
   "execution_count": 9,
   "metadata": {
    "ExecuteTime": {
     "end_time": "2024-10-09T11:53:46.479478099Z",
     "start_time": "2024-10-09T11:53:45.185879331Z"
    }
   },
   "outputs": [],
   "source": [
    "config = Config()\n",
    "variable = VariableCollector()  # we'll use this to keep track of all varying hyperparameters\n",
    "# when working with wandb, this is basically just syntactic sugar\n",
    "# but if you want to do hyperparameter optimization without wandb, this can help set things up in other ways too.\n",
    "\n",
    "# first we specify what the model should look like\n",
    "config.architecture = './model_components'  # module containing all relevant classes for architectures\n",
    "# NB if the classes relevant for creating the model are spread over multiple modules, this is no problem\n",
    "# let config.architecture be the module that contains the \"main\" model class, and for all other components just specify the module\n",
    "# or specify the other modules as default modules to the tools in common_jax_utils.run_utils\n",
    "config.model_type = 'inr_modules.CombinedINR'\n",
    "\n",
    "config.model_config = Config()\n",
    "config.model_config.in_size = 2\n",
    "config.model_config.out_size = 3\n",
    "config.model_config.terms = [  \n",
    "    # CombinedINR uses multiple MLPs and returns the sum of their outputs. These 'terms' are the MLPs\n",
    "    ('inr_modules.MLPINR.from_config',{\n",
    "        'hidden_size': 256,  # you can also specify the probability of each option\n",
    "        'num_layers': 5,  # indicate the options that the hyperparameter sweep can choose from\n",
    "        'layer_type': 'inr_layers.SirenLayer', \n",
    "        'num_splits': 1,\n",
    "        'use_complex': False,\n",
    "        'activation_kwargs': {'w0': variable(distribution=\"uniform\", min=10., max=60.)}, # or specify a distribution from https://docs.wandb.ai/guides/sweeps/sweep-config-keys#distribution-options-for-random-and-bayesian-search\n",
    "        'initialization_scheme':'initialization_schemes.siren_scheme',\n",
    "        'positional_encoding_layer': ('inr_layers.ClassicalPositionalEncoding.from_config', {'num_frequencies': 10}),\n",
    "    }),\n",
    "    ('inr_modules.MLPINR.from_config',{\n",
    "        'hidden_size': 1024,  # you can also specify the probability of each option\n",
    "        'num_layers': 2,\n",
    "        'num_splits': 1,\n",
    "        'layer_type': 'inr_layers.GaussianINRLayer',\n",
    "        'use_complex': False,\n",
    "        'activation_kwargs': {'inverse_scale': variable(distribution=\"uniform\", min=1., max=10.)},\n",
    "    }),\n",
    "    ('inr_modules.MLPINR.from_config',{\n",
    "        'hidden_size': 256,  # you can also specify the probability of each option\n",
    "        'num_layers': 5,\n",
    "        'layer_type': 'inr_layers.FinerLayer',\n",
    "        'num_splits': 1,\n",
    "        'use_complex': False,\n",
    "        'activation_kwargs': {'w0': variable(distribution=\"uniform\", min=2., max=40.)},#\n",
    "        'initialization_scheme':'initialization_schemes.finer_scheme',\n",
    "        'initialization_scheme_kwargs':{'bias_k': variable([-1,1], [-5,5], [-10,10], [-20,20], probabilities=[0.25, 0.25, 0.25, 0.25])},\n",
    "        #'initialization_scheme_kwargs':{'scale_factor': variable(distribution=\"uniform\", min=1., max=10.)}\n",
    "    }),\n",
    "    ('inr_modules.MLPINR.from_config',{\n",
    "        'hidden_size': 1024,\n",
    "        'num_layers': 2,\n",
    "        'num_splits': 1,\n",
    "        'layer_type': 'inr_layers.ComplexWIRE',\n",
    "        'activation_kwargs': {'w0': variable(distribution=\"log_uniform_values\", min=5, max=50), 's0': variable(distribution=\"uniform\", min=0.1, max=10.)},\n",
    "        'initialization_scheme':'initialization_schemes.siren_scheme',\n",
    "    }),\n",
    "]\n",
    "\n",
    "# variable(256, 512, 1024, probabilities=[0.33, 0.33, 0.33])\n",
    "# variable(4, 5, 6)\n",
    "# next, we set up the training loop, including the 'target_function' that we want to mimic\n",
    "config.trainer_module = './inr_utils/'  # similarly to config.architecture above, here we just specify in what module to look for objects by default\n",
    "config.trainer_type = 'training.train_inr'\n",
    "config.target_function = 'images.ContinuousImage'\n",
    "config.target_function_config = {\n",
    "    'image': './example_data/parrot.png',\n",
    "    'scale_to_01': True,\n",
    "    'interpolation_method': 'images.make_piece_wise_constant_interpolation'\n",
    "}\n",
    "config.loss_function = 'losses.scaled_mse_loss'\n",
    "config.sampler = ('sampling.GridSubsetSampler',{  # samples coordinates in a fixed grid, that should in this case coincide with the pixel locations in the image\n",
    "    'size': [2040, 1356],\n",
    "    'batch_size': 2000,\n",
    "    'allow_duplicates': False,\n",
    "})\n",
    "\n",
    "config.optimizer = 'adam'  # we'll have to add optax to the additional default modules later\n",
    "config.optimizer_config = {\n",
    "    'learning_rate': variable(distribution=\"log_uniform_values\", min=1e-6, max=1e-4)  # NB specifying a distribution only works for random search and bayesion search, not for grid search\n",
    "}\n",
    "config.steps = 40000\n",
    "config.use_wandb = True\n",
    "\n",
    "# now we want some extra things, like logging, to happen during training\n",
    "# the inr_utils.training.train_inr function allows for this through callbacks.\n",
    "# The callbacks we want to use can be found in inr_utils.callbacks\n",
    "config.after_step_callback = 'callbacks.ComposedCallback'\n",
    "config.after_step_callback_config = {\n",
    "    'callbacks':[\n",
    "        ('callbacks.print_loss', {'after_every':400}),  # only print the loss every 400th step\n",
    "        'callbacks.report_loss',  # but log the loss to wandb after every step\n",
    "        ('callbacks.MetricCollectingCallback', # this thing will help us collect metrics and log images to wandb\n",
    "             {'metric_collector':'metrics.MetricCollector'}\n",
    "        ),\n",
    "        'callbacks.raise_error_on_nan'  # stop training if the loss becomes NaN\n",
    "    ],\n",
    "    'show_logs': False\n",
    "}\n",
    "\n",
    "config.metric_collector_config = {  # the metrics for MetricCollectingCallback / metrics.MetricCollector\n",
    "    'metrics':[\n",
    "        ('metrics.PlotOnGrid2D', {'grid': 256, 'batch_size':8*256, 'frequency':'every_n_batches'}),  \n",
    "        # ^ plots the image on this fixed grid so we can visually inspect the inr on wandb\n",
    "        ('metrics.MSEOnFixedGrid', {'grid': [2040, 1356], 'batch_size':2040, 'frequency': 'every_n_batches'})\n",
    "        # ^ compute the MSE with the actual image pixels\n",
    "    ],\n",
    "    'batch_frequency': 400,  # compute all of these metrics every 400 batches\n",
    "    'epoch_frequency': 1  # not actually used\n",
    "}\n",
    "\n",
    "config.after_training_callback = None  # don't care for one now, but you could have this e.g. store some nice loss plots if you're not using wandb \n",
    "config.optimizer_state = None  # we're starting from scratch"
   ]
  },
  {
   "cell_type": "markdown",
   "metadata": {},
   "source": [
    "Originally, wandb didn't really deal with nested configurations like the one above very well. I think nowadays, the situation might be better, but I don't care to give myself a headache by finding out what the exact caveats to that are. \n",
    "\n",
    "So instead we'll make a flat config out of the nested config above\n",
    "and the `common_jax_utils.wandb_utils.run_from_wandb` function that we use to actually run the experiments, will unflatten it when needed. "
   ]
  },
  {
   "cell_type": "code",
   "execution_count": 10,
   "metadata": {
    "ExecuteTime": {
     "end_time": "2024-10-09T11:53:46.479717985Z",
     "start_time": "2024-10-09T11:53:45.186198908Z"
    }
   },
   "outputs": [],
   "source": [
    "\n",
    "flat_parameter_config = cdu.config_creation.make_flat_config(config)\n",
    "#pprint(flat_parameter_config)  # uncomment to see what the flattened config looks like"
   ]
  },
  {
   "cell_type": "markdown",
   "metadata": {},
   "source": [
    "Finally, we setup a sweep config detailing the method of the sweep (random in this case), the metric that is to be tracked, and the above `flat_parameter_config`."
   ]
  },
  {
   "cell_type": "code",
   "execution_count": 11,
   "metadata": {
    "ExecuteTime": {
     "end_time": "2024-10-09T11:53:46.479969768Z",
     "start_time": "2024-10-09T11:53:45.186418834Z"
    }
   },
   "outputs": [],
   "source": [
    "sweep_config = {\n",
    "    'name': 'inr_example_sweep',\n",
    "    'method': 'random',\n",
    "    'metric': {'name':'MSE_on_fixed_grid', 'goal':'minimize'},\n",
    "    'parameters': flat_parameter_config,\n",
    "    'description': 'An example of a hyperparameter sweep for training an INR'\n",
    "}"
   ]
  },
  {
   "cell_type": "code",
   "execution_count": 12,
   "metadata": {
    "ExecuteTime": {
     "end_time": "2024-10-09T11:53:46.482591691Z",
     "start_time": "2024-10-09T11:53:45.186627274Z"
    }
   },
   "outputs": [
    {
     "name": "stdout",
     "output_type": "stream",
     "text": [
      "Create sweep with ID: laeylk1t\n",
      "Sweep URL: https://wandb.ai/bep-circle/inr_edu_24/sweeps/laeylk1t\n",
      "nohup python run_from_inr_sweep.py --sweep_id=laeylk1t > inr_sweep_example.out\n"
     ]
    }
   ],
   "source": [
    "sweep_id = wandb.sweep(sweep_config, entity=\"bep-circle\", project=\"inr_edu_24\")\n",
    "print(f\"nohup python run_from_inr_sweep.py --sweep_id={sweep_id} > inr_sweep_example.out\")"
   ]
  },
  {
   "cell_type": "markdown",
   "metadata": {},
   "source": [
    "Next up, perform a single run for this sweep locally by typing `nohup python run_from_inr_sweep.py --sweep_id=0t56ux9d > inr_sweep_example.out`\n",
    "\n",
    "Or run it on Snellius by submitting a job script that logs into wandb and runs `run_from_inr_sweep.py` with the correct sweep_id."
   ]
  }
 ],
 "metadata": {
  "kernelspec": {
   "display_name": "inr_edu_24",
   "language": "python",
   "name": "python3"
  },
  "language_info": {
   "codemirror_mode": {
    "name": "ipython",
    "version": 3
   },
   "file_extension": ".py",
   "mimetype": "text/x-python",
   "name": "python",
   "nbconvert_exporter": "python",
   "pygments_lexer": "ipython3",
   "version": "3.10.14"
  }
 },
 "nbformat": 4,
 "nbformat_minor": 2
}
