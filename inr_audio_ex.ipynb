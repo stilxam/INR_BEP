{
 "cells": [
  {
   "cell_type": "code",
   "execution_count": 7,
   "metadata": {
    "ExecuteTime": {
     "end_time": "2025-01-28T15:19:34.097377424Z",
     "start_time": "2025-01-28T15:19:34.043198432Z"
    }
   },
   "outputs": [],
   "source": [
    "\n",
    "import pdb\n",
    "import os\n",
    "import traceback\n",
    "import numpy as np\n",
    "import jax\n",
    "import optax\n",
    "import wandb\n",
    "import librosa\n",
    "\n",
    "from common_dl_utils.config_creation import Config\n",
    "import common_jax_utils as cju\n",
    "\n",
    "wandb.login()\n",
    "\n",
    "key = jax.random.PRNGKey(12398)\n",
    "key_gen = cju.key_generator(key)"
   ]
  },
  {
   "cell_type": "code",
   "execution_count": 8,
   "metadata": {
    "ExecuteTime": {
     "end_time": "2025-01-28T15:19:34.718266998Z",
     "start_time": "2025-01-28T15:19:34.711259284Z"
    }
   },
   "outputs": [],
   "source": [
    "def load_audio_file(file_path, sr=16000, save_npy=True):\n",
    "    \"\"\"\n",
    "    Load an audio file and return it as a normalized numpy array.\n",
    "    Optionally save as .npy file.\n",
    "    \"\"\"\n",
    "    # Load the audio file\n",
    "    audio, _ = librosa.load(file_path, sr=sr)\n",
    "    \n",
    "    # Convert to numpy array and normalize to [-1, 1] range\n",
    "    audio = np.array(audio, dtype=np.float32)\n",
    "    audio = audio / np.max(np.abs(audio))\n",
    "\n",
    "    if save_npy:\n",
    "        # Create npy filename from original audio filename\n",
    "        npy_path = os.path.splitext(file_path)[0] + '.npy'\n",
    "        np.save(npy_path, audio)\n",
    "        return audio, len(audio), npy_path\n",
    "   \n",
    "    return audio, len(audio), None"
   ]
  },
  {
   "cell_type": "code",
   "execution_count": 9,
   "metadata": {
    "ExecuteTime": {
     "end_time": "2025-01-28T15:19:35.411177404Z",
     "start_time": "2025-01-28T15:19:35.389353173Z"
    }
   },
   "outputs": [],
   "source": [
    "# First set up the config properly\n",
    "config = Config()\n",
    "\n",
    "# Model architecture configuration\n",
    "config.architecture = './model_components'  # module containing model classes\n",
    "config.model_type = 'inr_modules.CombinedINR'\n",
    "\n",
    "# Model configuration\n",
    "config.model_config = Config()\n",
    "config.model_config.in_size = 1 # Time dimension input\n",
    "config.model_config.out_size = 1  # Audio amplitude output\n",
    "config.model_config.terms = [\n",
    "    ('inr_modules.MLPINR.from_config',{\n",
    "        'hidden_size': 256,\n",
    "        'num_layers': 5,\n",
    "        'layer_type': 'inr_layers.SirenLayer',\n",
    "        'num_splits': 1,\n",
    "        'use_complex': False,\n",
    "        'activation_kwargs': {'w0': 30.},\n",
    "        'initialization_scheme':'initialization_schemes.siren_scheme',\n",
    "        'positional_encoding_layer': ('inr_layers.ClassicalPositionalEncoding.from_config', {'num_frequencies': 10}),\n",
    "    }),\n",
    "    # ('inr_modules.MLPINR.from_config',{\n",
    "    #     'hidden_size': 1024,\n",
    "    #     'num_layers': 2,\n",
    "    #     'num_splits': 1,\n",
    "    #     'layer_type': 'inr_layers.GaussianINRLayer',\n",
    "    #     'use_complex': False,\n",
    "    #     'activation_kwargs': {'inverse_scale': 1},\n",
    "    # })\n",
    "    # ('inr_modules.MLPINR.from_config',{\n",
    "    #     'hidden_size': 256,\n",
    "    #     'num_layers': 5,\n",
    "    #     'layer_type': 'inr_layers.FinerLayer',\n",
    "    #     'num_splits': 1,\n",
    "    #     'use_complex': False,\n",
    "    #     'activation_kwargs': {'w0': 30},\n",
    "    #     'initialization_scheme':'initialization_schemes.finer_scheme',\n",
    "    #     'initialization_scheme_kwargs': {'bias_k': 10,'scale_factor': 10}\n",
    "    #     # 'initialization_scheme_k' : {'k': 20}\n",
    "    #     #'positional_encoding_layer': ('inr_layers.ClassicalPositionalEncoding.from_config', {'num_frequencies': 10}),\n",
    "    # })\n",
    "]\n",
    "\n",
    "# Training configuration\n",
    "config.trainer_module = './inr_utils'  # module containing training code\n",
    "config.trainer_type = 'training.train_inr'\n",
    "\n",
    "# Loss function configuration\n",
    "config.loss_evaluator = config.loss_function = 'losses.SoundLossEvaluator'\n",
    "config.loss_evaluator_config = config.loss_function_config = {\n",
    "    'time_domain_weight': 1.0,\n",
    "    'frequency_domain_weight': 0.1\n",
    "}\n",
    "\n",
    "# Optimizer configuration\n",
    "config.optimizer = 'adam'  # will use optax.adam\n",
    "config.optimizer_config = {\n",
    "    'learning_rate': 1e-3\n",
    "}\n",
    "\n",
    "# Load and save the audio file\n",
    "audio_path = './example_data/data_gt_bach.wav'  # Make sure this path exists\n",
    "audio_data, fragment_length, npy_path = load_audio_file(audio_path)\n",
    "\n",
    "# Sampler configuration\n",
    "config.sampler = ('sampling.SoundSampler', {\n",
    "    'window_size': 1024,\n",
    "    'batch_size': 32,\n",
    "    'fragment_length': fragment_length,  # Will be set after loading audio\n",
    "    'sound_fragment': npy_path\n",
    "})\n",
    "\n",
    "\n",
    "# Metric collector configuration\n",
    "config.metric_collector_config = {\n",
    "    'metrics': [\n",
    "        ('metrics.AudioMetricsOnGrid', {\n",
    "            'target_audio': audio_data,\n",
    "            'grid_size': fragment_length,\n",
    "            'batch_size': 1024,  # This will be automatically adjusted if needed\n",
    "            'sr': 16000,\n",
    "            'frequency': 'every_n_batches'\n",
    "        })\n",
    "    ],\n",
    "    'batch_frequency': 100,\n",
    "    'epoch_frequency': 1\n",
    "}\n",
    "# Callback configuration for logging\n",
    "config.after_step_callback = 'callbacks.ComposedCallback'  # This line was missing\n",
    "config.after_step_callback_config = {\n",
    "    'callbacks': [\n",
    "        ('callbacks.print_loss', {'after_every': 10}),\n",
    "        'callbacks.report_loss',\n",
    "        'callbacks.raise_error_on_nan',\n",
    "        ('callbacks.AudioMetricsCallback', {\n",
    "            'metric_collector': ('metrics.MetricCollector', config.metric_collector_config),\n",
    "            'print_metrics': True,\n",
    "            'print_frequency': 100\n",
    "        })\n",
    "    ],\n",
    "    'use_wandb': True,  # This was missing\n",
    "    'show_logs': False\n",
    "}\n",
    "\n",
    "# # Callback configuration for logging\n",
    "# config.after_step_callback = 'callbacks.ComposedCallback'\n",
    "# config.after_step_callback_config = {\n",
    "#     'callbacks': [\n",
    "#         ('callbacks.print_loss', {'after_every': 10}),\n",
    "#         'callbacks.report_loss',\n",
    "#         'callbacks.raise_error_on_nan'\n",
    "#     ],\n",
    "#     'show_logs': False\n",
    "# }\n",
    "\n",
    "\n",
    "\n",
    "config.after_training_callback = None\n",
    "config.optimizer_state = None\n",
    "config.steps = 40000\n",
    "config.use_wandb = True\n"
   ]
  },
  {
   "cell_type": "code",
   "execution_count": 10,
   "metadata": {
    "ExecuteTime": {
     "end_time": "2025-01-28T15:19:36.166425593Z",
     "start_time": "2025-01-28T15:19:36.136489867Z"
    }
   },
   "outputs": [],
   "source": [
    "try:\n",
    "    inr = cju.run_utils.get_model_from_config_and_key(\n",
    "        prng_key=next(key_gen),\n",
    "        config=config,\n",
    "        model_sub_config_name_base='model',\n",
    "        add_model_module_to_architecture_default_module=False,\n",
    "    )\n",
    "except Exception as e:\n",
    "    traceback.print_exc()\n",
    "    print(e)\n",
    "    print('\\n')\n",
    "    pdb.post_mortem()\n"
   ]
  },
  {
   "cell_type": "code",
   "execution_count": 11,
   "metadata": {
    "ExecuteTime": {
     "end_time": "2025-01-28T15:19:37.015539529Z",
     "start_time": "2025-01-28T15:19:36.861638375Z"
    }
   },
   "outputs": [],
   "source": [
    "# Then get the experiment\n",
    "experiment = cju.run_utils.get_experiment_from_config_and_key(\n",
    "    prng_key=next(key_gen),\n",
    "    config=config,\n",
    "    model_kwarg_in_trainer='inr',\n",
    "    model_sub_config_name_base='model',\n",
    "    trainer_default_module_key='trainer_module',\n",
    "    additional_trainer_default_modules=[optax],\n",
    "    add_model_module_to_architecture_default_module=False,\n",
    "    initialize=False\n",
    ")"
   ]
  },
  {
   "cell_type": "code",
   "execution_count": 12,
   "metadata": {
    "ExecuteTime": {
     "end_time": "2025-01-28T15:20:00.620915562Z",
     "start_time": "2025-01-28T15:19:37.785714505Z"
    }
   },
   "outputs": [
    {
     "name": "stderr",
     "output_type": "stream",
     "text": [
      "\u001b[34m\u001b[1mwandb\u001b[0m: Using wandb-core as the SDK backend.  Please refer to https://wandb.me/wandb-core for more information.\n"
     ]
    },
    {
     "data": {
      "text/html": "Tracking run with wandb version 0.19.4",
      "text/plain": "<IPython.core.display.HTML object>"
     },
     "metadata": {},
     "output_type": "display_data"
    },
    {
     "data": {
      "text/html": "Run data is saved locally in <code>/home/ovindar/PycharmProjects/INR_BEP/wandb/run-20250128_161937-tl561l5j</code>",
      "text/plain": "<IPython.core.display.HTML object>"
     },
     "metadata": {},
     "output_type": "display_data"
    },
    {
     "data": {
      "text/html": "Syncing run <strong><a href='https://wandb.ai/bep-circle/inr-audio/runs/tl561l5j' target=\"_blank\">crimson-sun-1</a></strong> to <a href='https://wandb.ai/bep-circle/inr-audio' target=\"_blank\">Weights & Biases</a> (<a href='https://wandb.me/developer-guide' target=\"_blank\">docs</a>)<br>",
      "text/plain": "<IPython.core.display.HTML object>"
     },
     "metadata": {},
     "output_type": "display_data"
    },
    {
     "data": {
      "text/html": " View project at <a href='https://wandb.ai/bep-circle/inr-audio' target=\"_blank\">https://wandb.ai/bep-circle/inr-audio</a>",
      "text/plain": "<IPython.core.display.HTML object>"
     },
     "metadata": {},
     "output_type": "display_data"
    },
    {
     "data": {
      "text/html": " View run at <a href='https://wandb.ai/bep-circle/inr-audio/runs/tl561l5j' target=\"_blank\">https://wandb.ai/bep-circle/inr-audio/runs/tl561l5j</a>",
      "text/plain": "<IPython.core.display.HTML object>"
     },
     "metadata": {},
     "output_type": "display_data"
    },
    {
     "name": "stdout",
     "output_type": "stream",
     "text": [
      "\n",
      "Audio Metrics at step 0:\n",
      "Loss at step 10 is 49110.19921875.\n",
      "Loss at step 20 is 30321.6953125.\n",
      "Loss at step 30 is 25111.845703125.\n",
      "Loss at step 40 is 14980.5439453125.\n",
      "Loss at step 50 is 8722.50390625.\n",
      "Loss at step 60 is 5391.98779296875.\n",
      "Loss at step 70 is 4698.75244140625.\n",
      "Loss at step 80 is 2995.6171875.\n",
      "Loss at step 90 is 4098.02490234375.\n",
      "Loss at step 100 is 3059.082763671875.\n",
      "\n",
      "Audio Metrics at step 100:\n",
      "Loss at step 110 is 2348.799072265625.\n",
      "Loss at step 120 is 1561.2381591796875.\n",
      "Loss at step 130 is 1853.829833984375.\n",
      "Loss at step 140 is 1735.5042724609375.\n",
      "Loss at step 150 is 1279.7247314453125.\n",
      "Loss at step 160 is 2193.74609375.\n",
      "Loss at step 170 is 2152.640625.\n",
      "Loss at step 180 is 1535.1761474609375.\n",
      "Loss at step 190 is 1446.7889404296875.\n",
      "Loss at step 200 is 1754.449951171875.\n",
      "\n",
      "Audio Metrics at step 200:\n",
      "Loss at step 210 is 2057.173828125.\n",
      "Loss at step 220 is 1702.3385009765625.\n",
      "Loss at step 230 is 1441.05419921875.\n",
      "Loss at step 240 is 1375.185546875.\n",
      "Loss at step 250 is 1154.6707763671875.\n",
      "Loss at step 260 is 1418.8792724609375.\n",
      "Loss at step 270 is 1097.033935546875.\n",
      "Loss at step 280 is 1012.4318237304688.\n",
      "Loss at step 290 is 1102.03662109375.\n",
      "Loss at step 300 is 1051.37646484375.\n",
      "\n",
      "Audio Metrics at step 300:\n",
      "Loss at step 310 is 1733.209228515625.\n",
      "Loss at step 320 is 1050.753173828125.\n",
      "Loss at step 330 is 885.2025146484375.\n",
      "Loss at step 340 is 1368.51953125.\n",
      "Loss at step 350 is 1003.8093872070312.\n",
      "Loss at step 360 is 1086.9693603515625.\n",
      "Loss at step 370 is 1677.1695556640625.\n",
      "Loss at step 380 is 1101.1810302734375.\n",
      "Loss at step 390 is 1042.8970947265625.\n",
      "Loss at step 400 is 1188.203369140625.\n",
      "\n",
      "Audio Metrics at step 400:\n",
      "Loss at step 410 is 1037.6455078125.\n",
      "Loss at step 420 is 744.181640625.\n",
      "Loss at step 430 is 1430.9102783203125.\n",
      "Loss at step 440 is 1367.6248779296875.\n",
      "Loss at step 450 is 888.4170532226562.\n",
      "Loss at step 460 is 1089.59033203125.\n",
      "Loss at step 470 is 645.4031372070312.\n",
      "Loss at step 480 is 894.0902709960938.\n",
      "Loss at step 490 is 1122.230712890625.\n",
      "Loss at step 500 is 1265.548828125.\n"
     ]
    },
    {
     "name": "stderr",
     "output_type": "stream",
     "text": [
      "Traceback (most recent call last):\n",
      "  File \"/tmp/ipykernel_8368/2655119114.py\", line 14, in <module>\n",
      "    results = experiment.initialize()\n",
      "  File \"/home/ovindar/PycharmProjects/INR_BEP/.venv/lib/python3.10/site-packages/common_dl_utils/config_realization.py\", line 195, in initialize\n",
      "    return cls(**processed_self_kwargs)\n",
      "  File \"/home/ovindar/PycharmProjects/INR_BEP/inr_utils/training.py\", line 212, in train_inr\n",
      "    after_step_callback(step, loss, inr, state, optimizer_state)\n",
      "  File \"/home/ovindar/PycharmProjects/INR_BEP/inr_utils/callbacks.py\", line 69, in __call__\n",
      "    log = callback(step, loss, inr, state, optimizer_state)\n",
      "  File \"/home/ovindar/PycharmProjects/INR_BEP/inr_utils/callbacks.py\", line 105, in __call__\n",
      "    metrics = self.metric_collector.on_batch_end(\n",
      "  File \"/home/ovindar/PycharmProjects/INR_BEP/.venv/lib/python3.10/site-packages/common_dl_utils/metrics.py\", line 110, in on_batch_end\n",
      "    results.update(metric.compute(**kwargs))\n",
      "  File \"/home/ovindar/PycharmProjects/INR_BEP/inr_utils/metrics.py\", line 341, in compute\n",
      "    reconstructed = np.array(self._evaluate_on_grid(inr, self.grid)).squeeze()\n",
      "  File \"/home/ovindar/PycharmProjects/INR_BEP/.venv/lib/python3.10/site-packages/equinox/_jit.py\", line 275, in __call__\n",
      "    return self._call(False, args, kwargs)\n",
      "  File \"/home/ovindar/PycharmProjects/INR_BEP/.venv/lib/python3.10/site-packages/equinox/_module.py\", line 1096, in __call__\n",
      "    return self.__func__(self.__self__, *args, **kwargs)\n",
      "  File \"/home/ovindar/PycharmProjects/INR_BEP/.venv/lib/python3.10/site-packages/equinox/_jit.py\", line 244, in _call\n",
      "    marker, _, _ = out = self._cached(\n",
      "  File \"/home/ovindar/PycharmProjects/INR_BEP/.venv/lib/python3.10/site-packages/equinox/_module.py\", line 953, in _unflatten_module\n",
      "    def _unflatten_module(cls: type[\"Module\"], aux: _FlattenedData, dynamic_field_values):\n",
      "KeyboardInterrupt\n"
     ]
    },
    {
     "data": {
      "text/html": "",
      "text/plain": "<IPython.core.display.HTML object>"
     },
     "metadata": {},
     "output_type": "display_data"
    },
    {
     "data": {
      "text/html": "<br>    <style><br>        .wandb-row {<br>            display: flex;<br>            flex-direction: row;<br>            flex-wrap: wrap;<br>            justify-content: flex-start;<br>            width: 100%;<br>        }<br>        .wandb-col {<br>            display: flex;<br>            flex-direction: column;<br>            flex-basis: 100%;<br>            flex: 1;<br>            padding: 10px;<br>        }<br>    </style><br><div class=\"wandb-row\"><div class=\"wandb-col\"><h3>Run history:</h3><br/><table class=\"wandb\"><tr><td>audio_magnitude_error</td><td>█▃▃▁</td></tr><tr><td>audio_mse</td><td>█▄▄▁</td></tr><tr><td>audio_psnr</td><td>▁▅▅█</td></tr><tr><td>audio_snr</td><td>▁▅▅█</td></tr><tr><td>audio_spectral_convergence</td><td>█▃▂▁</td></tr><tr><td>batch_within_epoch</td><td>▁▁▁▁▁▂▂▂▂▂▂▃▃▃▄▄▄▄▅▅▅▅▆▆▆▆▆▆▆▇▇▇▇▇██████</td></tr><tr><td>epoch</td><td>▁▁▁▁▁▁▁▁▁▁▁▁▁▁▁▁▁▁▁▁▁▁▁▁▁▁▁▁▁▁▁▁▁▁▁▁▁▁▁▁</td></tr><tr><td>loss</td><td>█▇▆▅▅▃▂▁▁▁▁▁▁▁▁▁▁▁▁▁▁▁▁▁▁▁▁▁▁▁▁▁▁▁▁▁▁▁▁▁</td></tr></table><br/></div><div class=\"wandb-col\"><h3>Run summary:</h3><br/><table class=\"wandb\"><tr><td>audio_magnitude_error</td><td>0.91537</td></tr><tr><td>audio_mse</td><td>0.03591</td></tr><tr><td>audio_psnr</td><td>14.44835</td></tr><tr><td>audio_snr</td><td>-1.72146</td></tr><tr><td>audio_spectral_convergence</td><td>0.77428</td></tr><tr><td>batch_within_epoch</td><td>499</td></tr><tr><td>epoch</td><td>1</td></tr><tr><td>loss</td><td>850.29407</td></tr></table><br/></div></div>",
      "text/plain": "<IPython.core.display.HTML object>"
     },
     "metadata": {},
     "output_type": "display_data"
    },
    {
     "data": {
      "text/html": " View run <strong style=\"color:#cdcd00\">crimson-sun-1</strong> at: <a href='https://wandb.ai/bep-circle/inr-audio/runs/tl561l5j' target=\"_blank\">https://wandb.ai/bep-circle/inr-audio/runs/tl561l5j</a><br> View project at: <a href='https://wandb.ai/bep-circle/inr-audio' target=\"_blank\">https://wandb.ai/bep-circle/inr-audio</a><br>Synced 5 W&B file(s), 0 media file(s), 0 artifact file(s) and 0 other file(s)",
      "text/plain": "<IPython.core.display.HTML object>"
     },
     "metadata": {},
     "output_type": "display_data"
    },
    {
     "data": {
      "text/html": "Find logs at: <code>./wandb/run-20250128_161937-tl561l5j/logs</code>",
      "text/plain": "<IPython.core.display.HTML object>"
     },
     "metadata": {},
     "output_type": "display_data"
    },
    {
     "ename": "KeyboardInterrupt",
     "evalue": "",
     "output_type": "error",
     "traceback": [
      "\u001b[0;31m---------------------------------------------------------------------------\u001b[0m",
      "\u001b[0;31mKeyboardInterrupt\u001b[0m                         Traceback (most recent call last)",
      "Cell \u001b[0;32mIn[12], line 14\u001b[0m\n\u001b[1;32m      2\u001b[0m \u001b[38;5;28;01mtry\u001b[39;00m: \n\u001b[1;32m      4\u001b[0m     \u001b[38;5;28;01mwith\u001b[39;00m wandb\u001b[38;5;241m.\u001b[39minit(\n\u001b[1;32m      5\u001b[0m         project\u001b[38;5;241m=\u001b[39m\u001b[38;5;124m'\u001b[39m\u001b[38;5;124minr-audio\u001b[39m\u001b[38;5;124m'\u001b[39m,\n\u001b[1;32m      6\u001b[0m         config\u001b[38;5;241m=\u001b[39m{\n\u001b[0;32m   (...)\u001b[0m\n\u001b[1;32m     12\u001b[0m         }\n\u001b[1;32m     13\u001b[0m     ) \u001b[38;5;28;01mas\u001b[39;00m run:\n\u001b[0;32m---> 14\u001b[0m         results \u001b[38;5;241m=\u001b[39m \u001b[43mexperiment\u001b[49m\u001b[38;5;241;43m.\u001b[39;49m\u001b[43minitialize\u001b[49m\u001b[43m(\u001b[49m\u001b[43m)\u001b[49m\n\u001b[1;32m     16\u001b[0m \u001b[38;5;28;01mexcept\u001b[39;00m \u001b[38;5;167;01mException\u001b[39;00m \u001b[38;5;28;01mas\u001b[39;00m e:\n\u001b[1;32m     17\u001b[0m     traceback\u001b[38;5;241m.\u001b[39mprint_exc()\n",
      "File \u001b[0;32m~/PycharmProjects/INR_BEP/.venv/lib/python3.10/site-packages/common_dl_utils/config_realization.py:195\u001b[0m, in \u001b[0;36mPostponedInitialization.initialize\u001b[0;34m(self, **kwargs)\u001b[0m\n\u001b[1;32m    193\u001b[0m processed_self_kwargs\u001b[38;5;241m.\u001b[39mupdate(processed_kwargs)\n\u001b[1;32m    194\u001b[0m \u001b[38;5;28mcls\u001b[39m \u001b[38;5;241m=\u001b[39m _internal_utils\u001b[38;5;241m.\u001b[39msignature_to_var_keyword(\u001b[38;5;28mself\u001b[39m\u001b[38;5;241m.\u001b[39mcls, \u001b[38;5;28mself\u001b[39m\u001b[38;5;241m.\u001b[39msignature) \u001b[38;5;28;01mif\u001b[39;00m \u001b[38;5;28mself\u001b[39m\u001b[38;5;241m.\u001b[39mneeds_wrapping \u001b[38;5;28;01melse\u001b[39;00m \u001b[38;5;28mself\u001b[39m\u001b[38;5;241m.\u001b[39mcls\n\u001b[0;32m--> 195\u001b[0m \u001b[38;5;28;01mreturn\u001b[39;00m \u001b[38;5;28;43mcls\u001b[39;49m\u001b[43m(\u001b[49m\u001b[38;5;241;43m*\u001b[39;49m\u001b[38;5;241;43m*\u001b[39;49m\u001b[43mprocessed_self_kwargs\u001b[49m\u001b[43m)\u001b[49m\n",
      "File \u001b[0;32m~/PycharmProjects/INR_BEP/inr_utils/training.py:212\u001b[0m, in \u001b[0;36mtrain_inr\u001b[0;34m(inr, loss_evaluator, sampler, optimizer, steps, key, use_wandb, after_step_callback, after_training_callback, optimizer_state, state_initialization_function, state)\u001b[0m\n\u001b[1;32m    210\u001b[0m     inr, optimizer_state, loss, state \u001b[38;5;241m=\u001b[39m train_step(inr, optimizer_state, \u001b[38;5;28mnext\u001b[39m(key_gen), state)\n\u001b[1;32m    211\u001b[0m     losses[step] \u001b[38;5;241m=\u001b[39m loss\n\u001b[0;32m--> 212\u001b[0m     \u001b[43mafter_step_callback\u001b[49m\u001b[43m(\u001b[49m\u001b[43mstep\u001b[49m\u001b[43m,\u001b[49m\u001b[43m \u001b[49m\u001b[43mloss\u001b[49m\u001b[43m,\u001b[49m\u001b[43m \u001b[49m\u001b[43minr\u001b[49m\u001b[43m,\u001b[49m\u001b[43m \u001b[49m\u001b[43mstate\u001b[49m\u001b[43m,\u001b[49m\u001b[43m \u001b[49m\u001b[43moptimizer_state\u001b[49m\u001b[43m)\u001b[49m\n\u001b[1;32m    214\u001b[0m \u001b[38;5;28;01mif\u001b[39;00m after_training_callback \u001b[38;5;129;01mis\u001b[39;00m \u001b[38;5;28;01mNone\u001b[39;00m:\n\u001b[1;32m    215\u001b[0m     \u001b[38;5;28;01mif\u001b[39;00m np\u001b[38;5;241m.\u001b[39mall(losses\u001b[38;5;241m>\u001b[39m\u001b[38;5;241m0\u001b[39m):\n",
      "File \u001b[0;32m~/PycharmProjects/INR_BEP/inr_utils/callbacks.py:69\u001b[0m, in \u001b[0;36mComposedCallback.__call__\u001b[0;34m(self, step, loss, inr, state, optimizer_state)\u001b[0m\n\u001b[1;32m     67\u001b[0m logs \u001b[38;5;241m=\u001b[39m {}\n\u001b[1;32m     68\u001b[0m \u001b[38;5;28;01mfor\u001b[39;00m callback \u001b[38;5;129;01min\u001b[39;00m \u001b[38;5;28mself\u001b[39m\u001b[38;5;241m.\u001b[39mcallbacks:\n\u001b[0;32m---> 69\u001b[0m     log \u001b[38;5;241m=\u001b[39m \u001b[43mcallback\u001b[49m\u001b[43m(\u001b[49m\u001b[43mstep\u001b[49m\u001b[43m,\u001b[49m\u001b[43m \u001b[49m\u001b[43mloss\u001b[49m\u001b[43m,\u001b[49m\u001b[43m \u001b[49m\u001b[43minr\u001b[49m\u001b[43m,\u001b[49m\u001b[43m \u001b[49m\u001b[43mstate\u001b[49m\u001b[43m,\u001b[49m\u001b[43m \u001b[49m\u001b[43moptimizer_state\u001b[49m\u001b[43m)\u001b[49m\n\u001b[1;32m     70\u001b[0m     \u001b[38;5;28;01mif\u001b[39;00m log \u001b[38;5;129;01mis\u001b[39;00m \u001b[38;5;129;01mnot\u001b[39;00m \u001b[38;5;28;01mNone\u001b[39;00m:\n\u001b[1;32m     71\u001b[0m         logs\u001b[38;5;241m.\u001b[39mupdate(log)\n",
      "File \u001b[0;32m~/PycharmProjects/INR_BEP/inr_utils/callbacks.py:105\u001b[0m, in \u001b[0;36mAudioMetricsCallback.__call__\u001b[0;34m(self, step, loss, inr, state, optimizer_state)\u001b[0m\n\u001b[1;32m    104\u001b[0m \u001b[38;5;28;01mdef\u001b[39;00m\u001b[38;5;250m \u001b[39m\u001b[38;5;21m__call__\u001b[39m(\u001b[38;5;28mself\u001b[39m, step, loss, inr, state, optimizer_state):\n\u001b[0;32m--> 105\u001b[0m     metrics \u001b[38;5;241m=\u001b[39m \u001b[38;5;28;43mself\u001b[39;49m\u001b[38;5;241;43m.\u001b[39;49m\u001b[43mmetric_collector\u001b[49m\u001b[38;5;241;43m.\u001b[39;49m\u001b[43mon_batch_end\u001b[49m\u001b[43m(\u001b[49m\n\u001b[1;32m    106\u001b[0m \u001b[43m        \u001b[49m\u001b[43minr\u001b[49m\u001b[38;5;241;43m=\u001b[39;49m\u001b[43minr\u001b[49m\u001b[43m,\u001b[49m\u001b[43m \u001b[49m\n\u001b[1;32m    107\u001b[0m \u001b[43m        \u001b[49m\u001b[43mstate\u001b[49m\u001b[38;5;241;43m=\u001b[39;49m\u001b[43mstate\u001b[49m\u001b[43m,\u001b[49m\u001b[43m \u001b[49m\n\u001b[1;32m    108\u001b[0m \u001b[43m        \u001b[49m\u001b[43mloss\u001b[49m\u001b[38;5;241;43m=\u001b[39;49m\u001b[43mloss\u001b[49m\u001b[43m,\u001b[49m\u001b[43m \u001b[49m\n\u001b[1;32m    109\u001b[0m \u001b[43m        \u001b[49m\u001b[43moptimizer_state\u001b[49m\u001b[38;5;241;43m=\u001b[39;49m\u001b[43moptimizer_state\u001b[49m\u001b[43m,\u001b[49m\u001b[43m \u001b[49m\n\u001b[1;32m    110\u001b[0m \u001b[43m        \u001b[49m\u001b[43mstep\u001b[49m\u001b[38;5;241;43m=\u001b[39;49m\u001b[43mstep\u001b[49m\n\u001b[1;32m    111\u001b[0m \u001b[43m    \u001b[49m\u001b[43m)\u001b[49m\n\u001b[1;32m    113\u001b[0m     \u001b[38;5;28;01mif\u001b[39;00m metrics \u001b[38;5;129;01mand\u001b[39;00m \u001b[38;5;124m'\u001b[39m\u001b[38;5;124mreconstructed_audio\u001b[39m\u001b[38;5;124m'\u001b[39m \u001b[38;5;129;01min\u001b[39;00m metrics:\n\u001b[1;32m    114\u001b[0m         \u001b[38;5;28mself\u001b[39m\u001b[38;5;241m.\u001b[39mfinal_audio \u001b[38;5;241m=\u001b[39m metrics\u001b[38;5;241m.\u001b[39mpop(\u001b[38;5;124m'\u001b[39m\u001b[38;5;124mreconstructed_audio\u001b[39m\u001b[38;5;124m'\u001b[39m)  \u001b[38;5;66;03m# Store but don't log the audio array\u001b[39;00m\n",
      "File \u001b[0;32m~/PycharmProjects/INR_BEP/.venv/lib/python3.10/site-packages/common_dl_utils/metrics.py:110\u001b[0m, in \u001b[0;36mMetricCollector.on_batch_end\u001b[0;34m(self, **kwargs)\u001b[0m\n\u001b[1;32m    108\u001b[0m \u001b[38;5;28;01mif\u001b[39;00m \u001b[38;5;28mself\u001b[39m\u001b[38;5;241m.\u001b[39m_step \u001b[38;5;241m%\u001b[39m \u001b[38;5;28mself\u001b[39m\u001b[38;5;241m.\u001b[39mbatch_frequency \u001b[38;5;241m==\u001b[39m \u001b[38;5;241m0\u001b[39m:\n\u001b[1;32m    109\u001b[0m     \u001b[38;5;28;01mfor\u001b[39;00m metric \u001b[38;5;129;01min\u001b[39;00m \u001b[38;5;28mself\u001b[39m\u001b[38;5;241m.\u001b[39mon_every_n_batches:\n\u001b[0;32m--> 110\u001b[0m         results\u001b[38;5;241m.\u001b[39mupdate(\u001b[43mmetric\u001b[49m\u001b[38;5;241;43m.\u001b[39;49m\u001b[43mcompute\u001b[49m\u001b[43m(\u001b[49m\u001b[38;5;241;43m*\u001b[39;49m\u001b[38;5;241;43m*\u001b[39;49m\u001b[43mkwargs\u001b[49m\u001b[43m)\u001b[49m)\n\u001b[1;32m    112\u001b[0m \u001b[38;5;28;01mreturn\u001b[39;00m results\n",
      "File \u001b[0;32m~/PycharmProjects/INR_BEP/inr_utils/metrics.py:341\u001b[0m, in \u001b[0;36mAudioMetricsOnGrid.compute\u001b[0;34m(self, **kwargs)\u001b[0m\n\u001b[1;32m    338\u001b[0m     inr \u001b[38;5;241m=\u001b[39m handle_state(inr, state)\n\u001b[1;32m    340\u001b[0m \u001b[38;5;66;03m# Get reconstruction\u001b[39;00m\n\u001b[0;32m--> 341\u001b[0m reconstructed \u001b[38;5;241m=\u001b[39m np\u001b[38;5;241m.\u001b[39marray(\u001b[38;5;28;43mself\u001b[39;49m\u001b[38;5;241;43m.\u001b[39;49m\u001b[43m_evaluate_on_grid\u001b[49m\u001b[43m(\u001b[49m\u001b[43minr\u001b[49m\u001b[43m,\u001b[49m\u001b[43m \u001b[49m\u001b[38;5;28;43mself\u001b[39;49m\u001b[38;5;241;43m.\u001b[39;49m\u001b[43mgrid\u001b[49m\u001b[43m)\u001b[49m)\u001b[38;5;241m.\u001b[39msqueeze()\n\u001b[1;32m    343\u001b[0m \u001b[38;5;66;03m# Ensure same length for comparison\u001b[39;00m\n\u001b[1;32m    344\u001b[0m min_len \u001b[38;5;241m=\u001b[39m \u001b[38;5;28mmin\u001b[39m(\u001b[38;5;28mlen\u001b[39m(\u001b[38;5;28mself\u001b[39m\u001b[38;5;241m.\u001b[39mtarget_audio), \u001b[38;5;28mlen\u001b[39m(reconstructed))\n",
      "    \u001b[0;31m[... skipping hidden 3 frame]\u001b[0m\n",
      "File \u001b[0;32m~/PycharmProjects/INR_BEP/.venv/lib/python3.10/site-packages/equinox/_module.py:953\u001b[0m, in \u001b[0;36m_unflatten_module\u001b[0;34m(cls, aux, dynamic_field_values)\u001b[0m\n\u001b[1;32m    943\u001b[0m     aux \u001b[38;5;241m=\u001b[39m _FlattenedData(\n\u001b[1;32m    944\u001b[0m         \u001b[38;5;28mtuple\u001b[39m(dynamic_field_names),\n\u001b[1;32m    945\u001b[0m         \u001b[38;5;28mtuple\u001b[39m(static_field_names),\n\u001b[0;32m   (...)\u001b[0m\n\u001b[1;32m    948\u001b[0m         \u001b[38;5;28mtuple\u001b[39m(wrapper_field_values),\n\u001b[1;32m    949\u001b[0m     )\n\u001b[1;32m    950\u001b[0m     \u001b[38;5;28;01mreturn\u001b[39;00m \u001b[38;5;28mtuple\u001b[39m(dynamic_field_values), aux\n\u001b[0;32m--> 953\u001b[0m \u001b[38;5;28;01mdef\u001b[39;00m\u001b[38;5;250m \u001b[39m\u001b[38;5;21m_unflatten_module\u001b[39m(\u001b[38;5;28mcls\u001b[39m: \u001b[38;5;28mtype\u001b[39m[\u001b[38;5;124m\"\u001b[39m\u001b[38;5;124mModule\u001b[39m\u001b[38;5;124m\"\u001b[39m], aux: _FlattenedData, dynamic_field_values):\n\u001b[1;32m    954\u001b[0m     \u001b[38;5;66;03m# This doesn't go via `__init__`. A user may have done something nontrivial there,\u001b[39;00m\n\u001b[1;32m    955\u001b[0m     \u001b[38;5;66;03m# and the field values may be dummy values as used in various places throughout JAX.\u001b[39;00m\n\u001b[1;32m    956\u001b[0m     \u001b[38;5;66;03m# See also\u001b[39;00m\n\u001b[1;32m    957\u001b[0m     \u001b[38;5;66;03m# https://jax.readthedocs.io/en/latest/pytrees.html#custom-pytrees-and-initialization,\u001b[39;00m\n\u001b[1;32m    958\u001b[0m     \u001b[38;5;66;03m# which was (I believe) inspired by Equinox's approach here.\u001b[39;00m\n\u001b[1;32m    959\u001b[0m     module \u001b[38;5;241m=\u001b[39m \u001b[38;5;28mobject\u001b[39m\u001b[38;5;241m.\u001b[39m\u001b[38;5;21m__new__\u001b[39m(\u001b[38;5;28mcls\u001b[39m)\n\u001b[1;32m    960\u001b[0m     \u001b[38;5;28;01mfor\u001b[39;00m name, value \u001b[38;5;129;01min\u001b[39;00m \u001b[38;5;28mzip\u001b[39m(aux\u001b[38;5;241m.\u001b[39mdynamic_field_names, dynamic_field_values):\n",
      "\u001b[0;31mKeyboardInterrupt\u001b[0m: "
     ]
    }
   ],
   "source": [
    "# Run the experiment with wandb logging\n",
    "try: \n",
    "        \n",
    "    with wandb.init(\n",
    "        project='inr-audio',\n",
    "        config={\n",
    "            'window_size': config.sampler[1]['window_size'],\n",
    "            'batch_size': config.sampler[1]['batch_size'],\n",
    "            'learning_rate': config.optimizer_config['learning_rate'],\n",
    "            'steps': config.steps,\n",
    "            'audio_path': config.sampler[1]['sound_fragment']\n",
    "        }\n",
    "    ) as run:\n",
    "        results = experiment.initialize()\n",
    "        \n",
    "except Exception as e:\n",
    "    traceback.print_exc()\n",
    "    print(e)\n",
    "    print('\\n')\n",
    "    pdb.post_mortem()"
   ]
  },
  {
   "cell_type": "code",
   "execution_count": null,
   "metadata": {
    "collapsed": false
   },
   "outputs": [],
   "source": []
  }
 ],
 "metadata": {
  "kernelspec": {
   "display_name": "Python 3 (ipykernel)",
   "language": "python",
   "name": "python3"
  },
  "language_info": {
   "codemirror_mode": {
    "name": "ipython",
    "version": 3
   },
   "file_extension": ".py",
   "mimetype": "text/x-python",
   "name": "python",
   "nbconvert_exporter": "python",
   "pygments_lexer": "ipython3",
   "version": "3.10.15"
  }
 },
 "nbformat": 4,
 "nbformat_minor": 2
}
