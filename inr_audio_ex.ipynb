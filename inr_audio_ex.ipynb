{
 "cells": [
  {
   "cell_type": "code",
   "execution_count": 1,
   "metadata": {},
   "outputs": [
    {
     "name": "stderr",
     "output_type": "stream",
     "text": [
      "\u001b[34m\u001b[1mwandb\u001b[0m: Using wandb-core as the SDK backend. Please refer to https://wandb.me/wandb-core for more information.\n",
      "\u001b[34m\u001b[1mwandb\u001b[0m: Currently logged in as: \u001b[33mabdtab\u001b[0m (\u001b[33mabdtab-tue\u001b[0m). Use \u001b[1m`wandb login --relogin`\u001b[0m to force relogin\n"
     ]
    }
   ],
   "source": [
    "\n",
    "import pdb\n",
    "import os\n",
    "import traceback\n",
    "import numpy as np\n",
    "import jax\n",
    "from jax import numpy as jnp\n",
    "import optax\n",
    "import wandb\n",
    "import equinox as eqx\n",
    "from typing import Optional, Callable\n",
    "import librosa\n",
    "\n",
    "from common_dl_utils.config_creation import Config\n",
    "import common_jax_utils as cju\n",
    "\n",
    "wandb.login()\n",
    "\n",
    "key = jax.random.PRNGKey(12398)\n",
    "key_gen = cju.key_generator(key)"
   ]
  },
  {
   "cell_type": "code",
   "execution_count": 2,
   "metadata": {},
   "outputs": [],
   "source": [
    "def load_audio_file(file_path, sr=16000, save_npy=True):\n",
    "    \"\"\"\n",
    "    Load an audio file and return it as a normalized numpy array.\n",
    "    Optionally save as .npy file.\n",
    "    \"\"\"\n",
    "    # Load the audio file\n",
    "    audio, _ = librosa.load(file_path, sr=sr)\n",
    "    \n",
    "    # Convert to numpy array and normalize to [-1, 1] range\n",
    "    audio = np.array(audio, dtype=np.float32)\n",
    "    audio = audio / np.max(np.abs(audio))\n",
    "\n",
    "    if save_npy:\n",
    "        # Create npy filename from original audio filename\n",
    "        npy_path = os.path.splitext(file_path)[0] + '.npy'\n",
    "        np.save(npy_path, audio)\n",
    "        return audio, len(audio), npy_path\n",
    "   \n",
    "    return audio, len(audio), None"
   ]
  },
  {
   "cell_type": "code",
   "execution_count": 3,
   "metadata": {},
   "outputs": [],
   "source": [
    "# First set up the config properly\n",
    "config = Config()\n",
    "\n",
    "# Model architecture configuration\n",
    "config.architecture = './model_components'  # module containing model classes\n",
    "config.model_type = 'inr_modules.CombinedINR'\n",
    "\n",
    "# Model configuration\n",
    "config.model_config = Config()\n",
    "config.model_config.in_size = 1  # Time dimension input\n",
    "config.model_config.out_size = 1  # Audio amplitude output\n",
    "config.model_config.terms = [\n",
    "    ('inr_modules.MLPINR.from_config', {\n",
    "        'hidden_size': 256,\n",
    "        'num_layers': 5,\n",
    "        'layer_type': 'inr_layers.FinerLayer',\n",
    "        'num_splits': 1,\n",
    "        'use_complex': False,\n",
    "        'activation_kwargs': {'w0': 10},\n",
    "        'initialization_scheme': 'initialization_schemes.finer_scheme',\n",
    "        'initialization_scheme_kwargs': {'bias_k': 5}\n",
    "    })\n",
    "]\n",
    "\n",
    "# Training configuration\n",
    "config.trainer_module = './inr_utils'  # module containing training code\n",
    "config.trainer_type = 'training.train_inr'\n",
    "\n",
    "# Loss function configuration\n",
    "config.loss_evaluator = config.loss_function = 'losses.SoundLossEvaluator'\n",
    "config.loss_evaluator_config = config.loss_function_config = {\n",
    "    'time_domain_weight': 1.0,\n",
    "    'frequency_domain_weight': 0.1\n",
    "}\n",
    "\n",
    "# Optimizer configuration\n",
    "config.optimizer = 'adam'  # will use optax.adam\n",
    "config.optimizer_config = {\n",
    "    'learning_rate': 1e-3\n",
    "}\n",
    "\n",
    "# Load and save the audio file\n",
    "audio_path = './example_data/data_gt_bach.wav'  # Make sure this path exists\n",
    "audio_data, fragment_length, npy_path = load_audio_file(audio_path)\n",
    "\n",
    "# Sampler configuration\n",
    "config.sampler = ('sampling.SoundSampler', {\n",
    "    'window_size': 1024,\n",
    "    'batch_size': 32,\n",
    "    'fragment_length': fragment_length,  # Will be set after loading audio\n",
    "    'sound_fragment': npy_path\n",
    "})\n",
    "\n",
    "# Callback configuration for logging\n",
    "config.after_step_callback = 'callbacks.ComposedCallback'\n",
    "config.after_step_callback_config = {\n",
    "    'callbacks': [\n",
    "        ('callbacks.print_loss', {'after_every': 10}),\n",
    "        'callbacks.report_loss',\n",
    "        'callbacks.raise_error_on_nan'\n",
    "    ],\n",
    "    'show_logs': False\n",
    "}\n",
    "\n",
    "#  ('callbacks.MetricCollectingCallback',\n",
    "#             {'metric_collector': 'metrics.MetricCollector'}\n",
    "#         ),\n",
    "# # Metric collection configuration\n",
    "# config.metric_collector_config = {\n",
    "#     'metrics': [\n",
    "#         ('metrics.MSEOnFixedGrid', {'grid': [1024], 'batch_size': 1024, 'frequency': 'every_n_batches'})\n",
    "#     ],\n",
    "#     'batch_frequency': 100,\n",
    "#     'epoch_frequency': 1\n",
    "# }\n",
    "\n",
    "config.after_training_callback = None\n",
    "config.optimizer_state = None\n",
    "config.steps = 40000\n",
    "config.use_wandb = True\n"
   ]
  },
  {
   "cell_type": "code",
   "execution_count": 4,
   "metadata": {},
   "outputs": [],
   "source": [
    "try:\n",
    "    inr = cju.run_utils.get_model_from_config_and_key(\n",
    "        prng_key=next(key_gen),\n",
    "        config=config,\n",
    "        model_sub_config_name_base='model',\n",
    "        add_model_module_to_architecture_default_module=False,\n",
    "    )\n",
    "except Exception as e:\n",
    "    traceback.print_exc()\n",
    "    print(e)\n",
    "    print('\\n')\n",
    "    pdb.post_mortem()\n"
   ]
  },
  {
   "cell_type": "code",
   "execution_count": 5,
   "metadata": {},
   "outputs": [],
   "source": [
    "# Then get the experiment\n",
    "experiment = cju.run_utils.get_experiment_from_config_and_key(\n",
    "    prng_key=next(key_gen),\n",
    "    config=config,\n",
    "    model_kwarg_in_trainer='inr',\n",
    "    model_sub_config_name_base='model',\n",
    "    trainer_default_module_key='trainer_module',\n",
    "    additional_trainer_default_modules=[optax],\n",
    "    add_model_module_to_architecture_default_module=False,\n",
    "    initialize=False\n",
    ")"
   ]
  },
  {
   "cell_type": "code",
   "execution_count": 6,
   "metadata": {},
   "outputs": [
    {
     "data": {
      "text/html": [
       "Tracking run with wandb version 0.18.5"
      ],
      "text/plain": [
       "<IPython.core.display.HTML object>"
      ]
     },
     "metadata": {},
     "output_type": "display_data"
    },
    {
     "data": {
      "text/html": [
       "Run data is saved locally in <code>/home/abdtab/INR_BEP/wandb/run-20250123_114204-2yo77np9</code>"
      ],
      "text/plain": [
       "<IPython.core.display.HTML object>"
      ]
     },
     "metadata": {},
     "output_type": "display_data"
    },
    {
     "data": {
      "text/html": [
       "Syncing run <strong><a href='https://wandb.ai/abdtab-tue/inr-audio/runs/2yo77np9' target=\"_blank\">sandy-sun-30</a></strong> to <a href='https://wandb.ai/abdtab-tue/inr-audio' target=\"_blank\">Weights & Biases</a> (<a href='https://wandb.me/run' target=\"_blank\">docs</a>)<br/>"
      ],
      "text/plain": [
       "<IPython.core.display.HTML object>"
      ]
     },
     "metadata": {},
     "output_type": "display_data"
    },
    {
     "data": {
      "text/html": [
       " View project at <a href='https://wandb.ai/abdtab-tue/inr-audio' target=\"_blank\">https://wandb.ai/abdtab-tue/inr-audio</a>"
      ],
      "text/plain": [
       "<IPython.core.display.HTML object>"
      ]
     },
     "metadata": {},
     "output_type": "display_data"
    },
    {
     "data": {
      "text/html": [
       " View run at <a href='https://wandb.ai/abdtab-tue/inr-audio/runs/2yo77np9' target=\"_blank\">https://wandb.ai/abdtab-tue/inr-audio/runs/2yo77np9</a>"
      ],
      "text/plain": [
       "<IPython.core.display.HTML object>"
      ]
     },
     "metadata": {},
     "output_type": "display_data"
    },
    {
     "name": "stderr",
     "output_type": "stream",
     "text": [
      "Traceback (most recent call last):\n",
      "  File \"/tmp/ipykernel_15087/2184283701.py\", line 12, in <module>\n",
      "    results = experiment.initialize()\n",
      "  File \"/home/abdtab/miniconda3/envs/inr_edu_24/lib/python3.10/site-packages/common_dl_utils/config_realization.py\", line 195, in initialize\n",
      "    return cls(**processed_self_kwargs)\n",
      "  File \"/home/abdtab/INR_BEP/inr_utils/training.py\", line 192, in train_inr\n",
      "    inr, optimizer_state, loss, state = train_step(inr, optimizer_state, next(key_gen), state)\n",
      "  File \"/home/abdtab/miniconda3/envs/inr_edu_24/lib/python3.10/site-packages/equinox/_jit.py\", line 242, in __call__\n",
      "    return self._call(False, args, kwargs)\n",
      "  File \"/home/abdtab/miniconda3/envs/inr_edu_24/lib/python3.10/site-packages/equinox/_module.py\", line 1078, in __call__\n",
      "    return self.__func__(self.__self__, *args, **kwargs)\n",
      "  File \"/home/abdtab/miniconda3/envs/inr_edu_24/lib/python3.10/site-packages/equinox/_jit.py\", line 215, in _call\n",
      "    out = self._cached(dynamic_donate, dynamic_nodonate, static)\n",
      "  File \"/home/abdtab/miniconda3/envs/inr_edu_24/lib/python3.10/site-packages/jax/_src/traceback_util.py\", line 180, in reraise_with_filtered_traceback\n",
      "    return fun(*args, **kwargs)\n",
      "  File \"/home/abdtab/miniconda3/envs/inr_edu_24/lib/python3.10/site-packages/jax/_src/pjit.py\", line 356, in cache_miss\n",
      "    outs, out_flat, out_tree, args_flat, jaxpr, attrs_tracked = _python_pjit_helper(\n",
      "  File \"/home/abdtab/miniconda3/envs/inr_edu_24/lib/python3.10/site-packages/jax/_src/pjit.py\", line 179, in _python_pjit_helper\n",
      "    p, args_flat = _infer_params(fun, jit_info, args, kwargs)\n",
      "  File \"/home/abdtab/miniconda3/envs/inr_edu_24/lib/python3.10/site-packages/jax/_src/pjit.py\", line 773, in _infer_params\n",
      "    p, args_flat = _infer_params_impl(\n",
      "  File \"/home/abdtab/miniconda3/envs/inr_edu_24/lib/python3.10/site-packages/jax/_src/pjit.py\", line 670, in _infer_params_impl\n",
      "    jaxpr, consts, out_avals, attrs_tracked = _create_pjit_jaxpr(\n",
      "  File \"/home/abdtab/miniconda3/envs/inr_edu_24/lib/python3.10/site-packages/jax/_src/linear_util.py\", line 352, in memoized_fun\n",
      "    ans = call(fun, *args)\n",
      "  File \"/home/abdtab/miniconda3/envs/inr_edu_24/lib/python3.10/site-packages/jax/_src/pjit.py\", line 1314, in _create_pjit_jaxpr\n",
      "    jaxpr, global_out_avals, consts, attrs_tracked = pe.trace_to_jaxpr_dynamic(\n",
      "  File \"/home/abdtab/miniconda3/envs/inr_edu_24/lib/python3.10/site-packages/jax/_src/profiler.py\", line 333, in wrapper\n",
      "    return func(*args, **kwargs)\n",
      "  File \"/home/abdtab/miniconda3/envs/inr_edu_24/lib/python3.10/site-packages/jax/_src/interpreters/partial_eval.py\", line 2278, in trace_to_jaxpr_dynamic\n",
      "    jaxpr, out_avals, consts, attrs_tracked = trace_to_subjaxpr_dynamic(\n",
      "  File \"/home/abdtab/miniconda3/envs/inr_edu_24/lib/python3.10/site-packages/jax/_src/interpreters/partial_eval.py\", line 2301, in trace_to_subjaxpr_dynamic\n",
      "    ans = fun.call_wrapped(*in_tracers_)\n",
      "  File \"/home/abdtab/miniconda3/envs/inr_edu_24/lib/python3.10/site-packages/jax/_src/linear_util.py\", line 193, in call_wrapped\n",
      "    ans = self.f(*args, **dict(self.params, **kwargs))\n",
      "  File \"/home/abdtab/miniconda3/envs/inr_edu_24/lib/python3.10/site-packages/equinox/_jit.py\", line 51, in fun_wrapped\n",
      "    out = fun(*args, **kwargs)\n",
      "  File \"/home/abdtab/INR_BEP/inr_utils/training.py\", line 67, in train_step\n",
      "    (loss, state), grad = eqx.filter_value_and_grad(loss_evaluator, has_aux=True)(inr, locations, state)\n",
      "  File \"/home/abdtab/miniconda3/envs/inr_edu_24/lib/python3.10/site-packages/equinox/_ad.py\", line 79, in __call__\n",
      "    return fun_value_and_grad(diff_x, nondiff_x, *args, **kwargs)\n",
      "  File \"/home/abdtab/miniconda3/envs/inr_edu_24/lib/python3.10/site-packages/jax/_src/traceback_util.py\", line 180, in reraise_with_filtered_traceback\n",
      "    return fun(*args, **kwargs)\n",
      "  File \"/home/abdtab/miniconda3/envs/inr_edu_24/lib/python3.10/site-packages/jax/_src/api.py\", line 464, in value_and_grad_f\n",
      "    ans, vjp_py, aux = _vjp(\n",
      "  File \"/home/abdtab/miniconda3/envs/inr_edu_24/lib/python3.10/site-packages/jax/_src/api.py\", line 1966, in _vjp\n",
      "    out_primals, vjp, aux = ad.vjp(flat_fun, primals_flat, has_aux=True)\n",
      "  File \"/home/abdtab/miniconda3/envs/inr_edu_24/lib/python3.10/site-packages/jax/_src/interpreters/ad.py\", line 144, in vjp\n",
      "    out_primals, pvals, jaxpr, consts, aux = linearize(traceable, *primals, has_aux=True)\n",
      "  File \"/home/abdtab/miniconda3/envs/inr_edu_24/lib/python3.10/site-packages/jax/_src/interpreters/ad.py\", line 131, in linearize\n",
      "    jaxpr, out_pvals, consts = pe.trace_to_jaxpr_nounits(jvpfun_flat, in_pvals)\n",
      "  File \"/home/abdtab/miniconda3/envs/inr_edu_24/lib/python3.10/site-packages/jax/_src/profiler.py\", line 333, in wrapper\n",
      "    return func(*args, **kwargs)\n",
      "  File \"/home/abdtab/miniconda3/envs/inr_edu_24/lib/python3.10/site-packages/jax/_src/interpreters/partial_eval.py\", line 681, in trace_to_jaxpr_nounits\n",
      "    jaxpr, (out_pvals, consts, env) = fun.call_wrapped(pvals)\n",
      "  File \"/home/abdtab/miniconda3/envs/inr_edu_24/lib/python3.10/site-packages/jax/_src/linear_util.py\", line 193, in call_wrapped\n",
      "    ans = self.f(*args, **dict(self.params, **kwargs))\n",
      "  File \"/home/abdtab/miniconda3/envs/inr_edu_24/lib/python3.10/site-packages/equinox/_ad.py\", line 62, in fun_value_and_grad\n",
      "    return self._fun(_x, *_args, **_kwargs)\n",
      "  File \"/home/abdtab/INR_BEP/inr_utils/losses.py\", line 158, in __call__\n",
      "    inr_values = jax.vmap(jax.vmap(inr)(time_points))  #should also work, but might need to adjust in and out axes\n",
      "  File \"/home/abdtab/miniconda3/envs/inr_edu_24/lib/python3.10/site-packages/jax/_src/traceback_util.py\", line 180, in reraise_with_filtered_traceback\n",
      "    return fun(*args, **kwargs)\n",
      "  File \"/home/abdtab/miniconda3/envs/inr_edu_24/lib/python3.10/site-packages/jax/_src/api.py\", line 992, in vmap_f\n",
      "    out_flat = batching.batch(\n",
      "  File \"/home/abdtab/miniconda3/envs/inr_edu_24/lib/python3.10/site-packages/jax/_src/linear_util.py\", line 193, in call_wrapped\n",
      "    ans = self.f(*args, **dict(self.params, **kwargs))\n",
      "  File \"/home/abdtab/INR_BEP/model_components/inr_modules.py\", line 163, in __call__\n",
      "    return self.post_processor(sum(term(x) for term in self.terms))\n",
      "  File \"/home/abdtab/INR_BEP/model_components/inr_modules.py\", line 163, in <genexpr>\n",
      "    return self.post_processor(sum(term(x) for term in self.terms))\n",
      "  File \"/home/abdtab/miniconda3/envs/inr_edu_24/lib/python3.10/contextlib.py\", line 79, in inner\n",
      "    return func(*args, **kwds)\n",
      "  File \"/home/abdtab/miniconda3/envs/inr_edu_24/lib/python3.10/site-packages/equinox/nn/_sequential.py\", line 105, in __call__\n",
      "    x = layer(x, key=key)\n",
      "  File \"/home/abdtab/INR_BEP/model_components/inr_layers.py\", line 162, in __call__\n",
      "    wxb = (self.weights @ x + self.biases,)\n",
      "  File \"/home/abdtab/miniconda3/envs/inr_edu_24/lib/python3.10/site-packages/jax/_src/numpy/array_methods.py\", line 1036, in op\n",
      "    return getattr(self.aval, f\"_{name}\")(self, *args)\n",
      "  File \"/home/abdtab/miniconda3/envs/inr_edu_24/lib/python3.10/site-packages/jax/_src/numpy/array_methods.py\", line 573, in deferring_binary_op\n",
      "    return binary_op(*args)\n",
      "  File \"/home/abdtab/miniconda3/envs/inr_edu_24/lib/python3.10/site-packages/jax/_src/traceback_util.py\", line 180, in reraise_with_filtered_traceback\n",
      "    return fun(*args, **kwargs)\n",
      "  File \"/home/abdtab/miniconda3/envs/inr_edu_24/lib/python3.10/site-packages/jax/_src/pjit.py\", line 356, in cache_miss\n",
      "    outs, out_flat, out_tree, args_flat, jaxpr, attrs_tracked = _python_pjit_helper(\n",
      "  File \"/home/abdtab/miniconda3/envs/inr_edu_24/lib/python3.10/site-packages/jax/_src/pjit.py\", line 179, in _python_pjit_helper\n",
      "    p, args_flat = _infer_params(fun, jit_info, args, kwargs)\n",
      "  File \"/home/abdtab/miniconda3/envs/inr_edu_24/lib/python3.10/site-packages/jax/_src/pjit.py\", line 773, in _infer_params\n",
      "    p, args_flat = _infer_params_impl(\n",
      "  File \"/home/abdtab/miniconda3/envs/inr_edu_24/lib/python3.10/site-packages/jax/_src/pjit.py\", line 670, in _infer_params_impl\n",
      "    jaxpr, consts, out_avals, attrs_tracked = _create_pjit_jaxpr(\n",
      "  File \"/home/abdtab/miniconda3/envs/inr_edu_24/lib/python3.10/site-packages/jax/_src/linear_util.py\", line 352, in memoized_fun\n",
      "    ans = call(fun, *args)\n",
      "  File \"/home/abdtab/miniconda3/envs/inr_edu_24/lib/python3.10/site-packages/jax/_src/pjit.py\", line 1314, in _create_pjit_jaxpr\n",
      "    jaxpr, global_out_avals, consts, attrs_tracked = pe.trace_to_jaxpr_dynamic(\n",
      "  File \"/home/abdtab/miniconda3/envs/inr_edu_24/lib/python3.10/site-packages/jax/_src/profiler.py\", line 333, in wrapper\n",
      "    return func(*args, **kwargs)\n",
      "  File \"/home/abdtab/miniconda3/envs/inr_edu_24/lib/python3.10/site-packages/jax/_src/interpreters/partial_eval.py\", line 2278, in trace_to_jaxpr_dynamic\n",
      "    jaxpr, out_avals, consts, attrs_tracked = trace_to_subjaxpr_dynamic(\n",
      "  File \"/home/abdtab/miniconda3/envs/inr_edu_24/lib/python3.10/site-packages/jax/_src/interpreters/partial_eval.py\", line 2301, in trace_to_subjaxpr_dynamic\n",
      "    ans = fun.call_wrapped(*in_tracers_)\n",
      "  File \"/home/abdtab/miniconda3/envs/inr_edu_24/lib/python3.10/site-packages/jax/_src/linear_util.py\", line 193, in call_wrapped\n",
      "    ans = self.f(*args, **dict(self.params, **kwargs))\n",
      "  File \"/home/abdtab/miniconda3/envs/inr_edu_24/lib/python3.10/site-packages/jax/_src/numpy/lax_numpy.py\", line 8216, in matmul\n",
      "    out = lax.dot_general(\n",
      "  File \"/home/abdtab/miniconda3/envs/inr_edu_24/lib/python3.10/site-packages/jax/_src/lax/lax.py\", line 1006, in dot_general\n",
      "    return dot_general_p.bind(lhs, rhs,\n",
      "  File \"/home/abdtab/miniconda3/envs/inr_edu_24/lib/python3.10/site-packages/jax/_src/core.py\", line 438, in bind\n",
      "    return self.bind_with_trace(find_top_trace(args), args, params)\n",
      "  File \"/home/abdtab/miniconda3/envs/inr_edu_24/lib/python3.10/site-packages/jax/_src/core.py\", line 442, in bind_with_trace\n",
      "    out = trace.process_primitive(self, map(trace.full_raise, args), params)\n",
      "  File \"/home/abdtab/miniconda3/envs/inr_edu_24/lib/python3.10/site-packages/jax/_src/interpreters/partial_eval.py\", line 1969, in process_primitive\n",
      "    return self.default_process_primitive(primitive, tracers, params)\n",
      "  File \"/home/abdtab/miniconda3/envs/inr_edu_24/lib/python3.10/site-packages/jax/_src/interpreters/partial_eval.py\", line 1973, in default_process_primitive\n",
      "    out_avals, effects = primitive.abstract_eval(*avals, **params)\n",
      "  File \"/home/abdtab/miniconda3/envs/inr_edu_24/lib/python3.10/site-packages/jax/_src/core.py\", line 475, in abstract_eval_\n",
      "    return abstract_eval(*args, **kwargs), no_effects\n",
      "  File \"/home/abdtab/miniconda3/envs/inr_edu_24/lib/python3.10/site-packages/jax/_src/lax/utils.py\", line 64, in standard_abstract_eval\n",
      "    return core.ShapedArray(shape_rule(*avals, **kwargs),\n",
      "  File \"/home/abdtab/miniconda3/envs/inr_edu_24/lib/python3.10/site-packages/jax/_src/lax/lax.py\", line 3117, in _dot_general_shape_rule\n",
      "    raise TypeError(msg.format(lhs_contracting_shape, rhs_contracting_shape))\n",
      "TypeError: dot_general requires contracting dimensions to have the same shape, got (1,) and (1024,).\n"
     ]
    },
    {
     "data": {
      "text/html": [
       " View run <strong style=\"color:#cdcd00\">sandy-sun-30</strong> at: <a href='https://wandb.ai/abdtab-tue/inr-audio/runs/2yo77np9' target=\"_blank\">https://wandb.ai/abdtab-tue/inr-audio/runs/2yo77np9</a><br/> View project at: <a href='https://wandb.ai/abdtab-tue/inr-audio' target=\"_blank\">https://wandb.ai/abdtab-tue/inr-audio</a><br/>Synced 5 W&B file(s), 0 media file(s), 0 artifact file(s) and 0 other file(s)"
      ],
      "text/plain": [
       "<IPython.core.display.HTML object>"
      ]
     },
     "metadata": {},
     "output_type": "display_data"
    },
    {
     "data": {
      "text/html": [
       "Find logs at: <code>./wandb/run-20250123_114204-2yo77np9/logs</code>"
      ],
      "text/plain": [
       "<IPython.core.display.HTML object>"
      ]
     },
     "metadata": {},
     "output_type": "display_data"
    },
    {
     "ename": "TypeError",
     "evalue": "dot_general requires contracting dimensions to have the same shape, got (1,) and (1024,).",
     "output_type": "error",
     "traceback": [
      "\u001b[0;31m---------------------------------------------------------------------------\u001b[0m",
      "\u001b[0;31mTypeError\u001b[0m                                 Traceback (most recent call last)",
      "Cell \u001b[0;32mIn[6], line 12\u001b[0m\n\u001b[1;32m      1\u001b[0m \u001b[38;5;66;03m# Run the experiment with wandb logging\u001b[39;00m\n\u001b[1;32m      2\u001b[0m \u001b[38;5;28;01mwith\u001b[39;00m wandb\u001b[38;5;241m.\u001b[39minit(\n\u001b[1;32m      3\u001b[0m     project\u001b[38;5;241m=\u001b[39m\u001b[38;5;124m'\u001b[39m\u001b[38;5;124minr-audio\u001b[39m\u001b[38;5;124m'\u001b[39m,\n\u001b[1;32m      4\u001b[0m     config\u001b[38;5;241m=\u001b[39m{\n\u001b[0;32m   (...)\u001b[0m\n\u001b[1;32m     10\u001b[0m     }\n\u001b[1;32m     11\u001b[0m ) \u001b[38;5;28;01mas\u001b[39;00m run:\n\u001b[0;32m---> 12\u001b[0m     results \u001b[38;5;241m=\u001b[39m \u001b[43mexperiment\u001b[49m\u001b[38;5;241;43m.\u001b[39;49m\u001b[43minitialize\u001b[49m\u001b[43m(\u001b[49m\u001b[43m)\u001b[49m\n",
      "File \u001b[0;32m~/miniconda3/envs/inr_edu_24/lib/python3.10/site-packages/common_dl_utils/config_realization.py:195\u001b[0m, in \u001b[0;36mPostponedInitialization.initialize\u001b[0;34m(self, **kwargs)\u001b[0m\n\u001b[1;32m    193\u001b[0m processed_self_kwargs\u001b[38;5;241m.\u001b[39mupdate(processed_kwargs)\n\u001b[1;32m    194\u001b[0m \u001b[38;5;28mcls\u001b[39m \u001b[38;5;241m=\u001b[39m _internal_utils\u001b[38;5;241m.\u001b[39msignature_to_var_keyword(\u001b[38;5;28mself\u001b[39m\u001b[38;5;241m.\u001b[39mcls, \u001b[38;5;28mself\u001b[39m\u001b[38;5;241m.\u001b[39msignature) \u001b[38;5;28;01mif\u001b[39;00m \u001b[38;5;28mself\u001b[39m\u001b[38;5;241m.\u001b[39mneeds_wrapping \u001b[38;5;28;01melse\u001b[39;00m \u001b[38;5;28mself\u001b[39m\u001b[38;5;241m.\u001b[39mcls\n\u001b[0;32m--> 195\u001b[0m \u001b[38;5;28;01mreturn\u001b[39;00m \u001b[38;5;28;43mcls\u001b[39;49m\u001b[43m(\u001b[49m\u001b[38;5;241;43m*\u001b[39;49m\u001b[38;5;241;43m*\u001b[39;49m\u001b[43mprocessed_self_kwargs\u001b[49m\u001b[43m)\u001b[49m\n",
      "File \u001b[0;32m~/INR_BEP/inr_utils/training.py:192\u001b[0m, in \u001b[0;36mtrain_inr\u001b[0;34m(inr, loss_evaluator, sampler, optimizer, steps, key, use_wandb, after_step_callback, after_training_callback, optimizer_state, state_initialization_function, state)\u001b[0m\n\u001b[1;32m    189\u001b[0m losses \u001b[38;5;241m=\u001b[39m np\u001b[38;5;241m.\u001b[39mempty(steps, dtype\u001b[38;5;241m=\u001b[39mnp\u001b[38;5;241m.\u001b[39mfloat32)\n\u001b[1;32m    191\u001b[0m \u001b[38;5;28;01mfor\u001b[39;00m step \u001b[38;5;129;01min\u001b[39;00m \u001b[38;5;28mrange\u001b[39m(steps):  \u001b[38;5;66;03m# the actual training loop\u001b[39;00m\n\u001b[0;32m--> 192\u001b[0m     inr, optimizer_state, loss, state \u001b[38;5;241m=\u001b[39m \u001b[43mtrain_step\u001b[49m\u001b[43m(\u001b[49m\u001b[43minr\u001b[49m\u001b[43m,\u001b[49m\u001b[43m \u001b[49m\u001b[43moptimizer_state\u001b[49m\u001b[43m,\u001b[49m\u001b[43m \u001b[49m\u001b[38;5;28;43mnext\u001b[39;49m\u001b[43m(\u001b[49m\u001b[43mkey_gen\u001b[49m\u001b[43m)\u001b[49m\u001b[43m,\u001b[49m\u001b[43m \u001b[49m\u001b[43mstate\u001b[49m\u001b[43m)\u001b[49m\n\u001b[1;32m    193\u001b[0m     losses[step] \u001b[38;5;241m=\u001b[39m loss\n\u001b[1;32m    194\u001b[0m     after_step_callback(step, loss, inr, state, optimizer_state)\n",
      "    \u001b[0;31m[... skipping hidden 15 frame]\u001b[0m\n",
      "File \u001b[0;32m~/INR_BEP/inr_utils/training.py:67\u001b[0m, in \u001b[0;36mmake_inr_train_step_function.<locals>.train_step\u001b[0;34m(inr, optimizer_state, key, state)\u001b[0m\n\u001b[1;32m     56\u001b[0m \u001b[38;5;250m\u001b[39m\u001b[38;5;124;03m\"\"\"take one train step with the inr model and optimizer\u001b[39;00m\n\u001b[1;32m     57\u001b[0m \n\u001b[1;32m     58\u001b[0m \u001b[38;5;124;03m:param inr: inr model to be optimized\u001b[39;00m\n\u001b[0;32m   (...)\u001b[0m\n\u001b[1;32m     64\u001b[0m \u001b[38;5;124;03mNB this function is decorated with eqx.filter_jit\u001b[39;00m\n\u001b[1;32m     65\u001b[0m \u001b[38;5;124;03m\"\"\"\u001b[39;00m\n\u001b[1;32m     66\u001b[0m locations \u001b[38;5;241m=\u001b[39m sampler(key)  \u001b[38;5;66;03m# think of an array of coordinates, although this can in general be any PyTree containing the relevant information for the loss_evaluator\u001b[39;00m\n\u001b[0;32m---> 67\u001b[0m (loss, state), grad \u001b[38;5;241m=\u001b[39m \u001b[43meqx\u001b[49m\u001b[38;5;241;43m.\u001b[39;49m\u001b[43mfilter_value_and_grad\u001b[49m\u001b[43m(\u001b[49m\u001b[43mloss_evaluator\u001b[49m\u001b[43m,\u001b[49m\u001b[43m \u001b[49m\u001b[43mhas_aux\u001b[49m\u001b[38;5;241;43m=\u001b[39;49m\u001b[38;5;28;43;01mTrue\u001b[39;49;00m\u001b[43m)\u001b[49m\u001b[43m(\u001b[49m\u001b[43minr\u001b[49m\u001b[43m,\u001b[49m\u001b[43m \u001b[49m\u001b[43mlocations\u001b[49m\u001b[43m,\u001b[49m\u001b[43m \u001b[49m\u001b[43mstate\u001b[49m\u001b[43m)\u001b[49m\n\u001b[1;32m     68\u001b[0m grad \u001b[38;5;241m=\u001b[39m jax\u001b[38;5;241m.\u001b[39mtree\u001b[38;5;241m.\u001b[39mmap(\n\u001b[1;32m     69\u001b[0m     \u001b[38;5;28;01mlambda\u001b[39;00m x: jnp\u001b[38;5;241m.\u001b[39mconjugate(x) \u001b[38;5;28;01mif\u001b[39;00m jnp\u001b[38;5;241m.\u001b[39miscomplexobj(x) \u001b[38;5;28;01melse\u001b[39;00m x,\n\u001b[1;32m     70\u001b[0m     grad\n\u001b[1;32m     71\u001b[0m )\n\u001b[1;32m     72\u001b[0m updates, optimizer_state \u001b[38;5;241m=\u001b[39m optimizer\u001b[38;5;241m.\u001b[39mupdate(grad, optimizer_state, inr)\n",
      "    \u001b[0;31m[... skipping hidden 10 frame]\u001b[0m\n",
      "File \u001b[0;32m~/INR_BEP/inr_utils/losses.py:158\u001b[0m, in \u001b[0;36mSoundLossEvaluator.__call__\u001b[0;34m(self, inr, locations, state)\u001b[0m\n\u001b[1;32m    154\u001b[0m     inr, state \u001b[38;5;241m=\u001b[39m \u001b[38;5;28mself\u001b[39m\u001b[38;5;241m.\u001b[39mstate_update_function(inr, state)\n\u001b[1;32m    156\u001b[0m \u001b[38;5;66;03m# Evaluate INR at time points - vmap over batch and window dimensions\u001b[39;00m\n\u001b[1;32m    157\u001b[0m \u001b[38;5;66;03m#inr_values = jax.vmap(lambda t: jax.vmap(lambda ti: inr(ti))(t))(time_points)\u001b[39;00m\n\u001b[0;32m--> 158\u001b[0m inr_values \u001b[38;5;241m=\u001b[39m jax\u001b[38;5;241m.\u001b[39mvmap(\u001b[43mjax\u001b[49m\u001b[38;5;241;43m.\u001b[39;49m\u001b[43mvmap\u001b[49m\u001b[43m(\u001b[49m\u001b[43minr\u001b[49m\u001b[43m)\u001b[49m\u001b[43m(\u001b[49m\u001b[43mtime_points\u001b[49m\u001b[43m)\u001b[49m)  \u001b[38;5;66;03m#should also work, but might need to adjust in and out axes\u001b[39;00m\n\u001b[1;32m    159\u001b[0m inr_values \u001b[38;5;241m=\u001b[39m jnp\u001b[38;5;241m.\u001b[39msqueeze(inr_values, axis\u001b[38;5;241m=\u001b[39m\u001b[38;5;241m-\u001b[39m\u001b[38;5;241m1\u001b[39m)  \u001b[38;5;66;03m# Remove last dimension of shape 1\u001b[39;00m\n\u001b[1;32m    161\u001b[0m \u001b[38;5;66;03m# Calculate time domain MSE loss\u001b[39;00m\n",
      "    \u001b[0;31m[... skipping hidden 3 frame]\u001b[0m\n",
      "File \u001b[0;32m~/INR_BEP/model_components/inr_modules.py:163\u001b[0m, in \u001b[0;36mCombinedINR.__call__\u001b[0;34m(self, x, state)\u001b[0m\n\u001b[1;32m    160\u001b[0m is_stateful \u001b[38;5;241m=\u001b[39m \u001b[38;5;28mself\u001b[39m\u001b[38;5;241m.\u001b[39mis_stateful()\n\u001b[1;32m    162\u001b[0m \u001b[38;5;28;01mif\u001b[39;00m \u001b[38;5;129;01mnot\u001b[39;00m is_stateful:\n\u001b[0;32m--> 163\u001b[0m     \u001b[38;5;28;01mreturn\u001b[39;00m \u001b[38;5;28mself\u001b[39m\u001b[38;5;241m.\u001b[39mpost_processor(\u001b[38;5;28;43msum\u001b[39;49m\u001b[43m(\u001b[49m\u001b[43mterm\u001b[49m\u001b[43m(\u001b[49m\u001b[43mx\u001b[49m\u001b[43m)\u001b[49m\u001b[43m \u001b[49m\u001b[38;5;28;43;01mfor\u001b[39;49;00m\u001b[43m \u001b[49m\u001b[43mterm\u001b[49m\u001b[43m \u001b[49m\u001b[38;5;129;43;01min\u001b[39;49;00m\u001b[43m \u001b[49m\u001b[38;5;28;43mself\u001b[39;49m\u001b[38;5;241;43m.\u001b[39;49m\u001b[43mterms\u001b[49m\u001b[43m)\u001b[49m)\n\u001b[1;32m    164\u001b[0m \u001b[38;5;28;01melif\u001b[39;00m state \u001b[38;5;129;01mis\u001b[39;00m \u001b[38;5;28;01mNone\u001b[39;00m:\n\u001b[1;32m    165\u001b[0m     \u001b[38;5;28;01mreturn\u001b[39;00m \u001b[38;5;28mself\u001b[39m\u001b[38;5;241m.\u001b[39mpost_processor(\u001b[38;5;28msum\u001b[39m(term(x) \u001b[38;5;28;01mfor\u001b[39;00m term \u001b[38;5;129;01min\u001b[39;00m \u001b[38;5;28mself\u001b[39m\u001b[38;5;241m.\u001b[39mterms)), \u001b[38;5;28;01mNone\u001b[39;00m\n",
      "File \u001b[0;32m~/INR_BEP/model_components/inr_modules.py:163\u001b[0m, in \u001b[0;36m<genexpr>\u001b[0;34m(.0)\u001b[0m\n\u001b[1;32m    160\u001b[0m is_stateful \u001b[38;5;241m=\u001b[39m \u001b[38;5;28mself\u001b[39m\u001b[38;5;241m.\u001b[39mis_stateful()\n\u001b[1;32m    162\u001b[0m \u001b[38;5;28;01mif\u001b[39;00m \u001b[38;5;129;01mnot\u001b[39;00m is_stateful:\n\u001b[0;32m--> 163\u001b[0m     \u001b[38;5;28;01mreturn\u001b[39;00m \u001b[38;5;28mself\u001b[39m\u001b[38;5;241m.\u001b[39mpost_processor(\u001b[38;5;28msum\u001b[39m(\u001b[43mterm\u001b[49m\u001b[43m(\u001b[49m\u001b[43mx\u001b[49m\u001b[43m)\u001b[49m \u001b[38;5;28;01mfor\u001b[39;00m term \u001b[38;5;129;01min\u001b[39;00m \u001b[38;5;28mself\u001b[39m\u001b[38;5;241m.\u001b[39mterms))\n\u001b[1;32m    164\u001b[0m \u001b[38;5;28;01melif\u001b[39;00m state \u001b[38;5;129;01mis\u001b[39;00m \u001b[38;5;28;01mNone\u001b[39;00m:\n\u001b[1;32m    165\u001b[0m     \u001b[38;5;28;01mreturn\u001b[39;00m \u001b[38;5;28mself\u001b[39m\u001b[38;5;241m.\u001b[39mpost_processor(\u001b[38;5;28msum\u001b[39m(term(x) \u001b[38;5;28;01mfor\u001b[39;00m term \u001b[38;5;129;01min\u001b[39;00m \u001b[38;5;28mself\u001b[39m\u001b[38;5;241m.\u001b[39mterms)), \u001b[38;5;28;01mNone\u001b[39;00m\n",
      "File \u001b[0;32m~/miniconda3/envs/inr_edu_24/lib/python3.10/contextlib.py:79\u001b[0m, in \u001b[0;36mContextDecorator.__call__.<locals>.inner\u001b[0;34m(*args, **kwds)\u001b[0m\n\u001b[1;32m     76\u001b[0m \u001b[38;5;129m@wraps\u001b[39m(func)\n\u001b[1;32m     77\u001b[0m \u001b[38;5;28;01mdef\u001b[39;00m \u001b[38;5;21minner\u001b[39m(\u001b[38;5;241m*\u001b[39margs, \u001b[38;5;241m*\u001b[39m\u001b[38;5;241m*\u001b[39mkwds):\n\u001b[1;32m     78\u001b[0m     \u001b[38;5;28;01mwith\u001b[39;00m \u001b[38;5;28mself\u001b[39m\u001b[38;5;241m.\u001b[39m_recreate_cm():\n\u001b[0;32m---> 79\u001b[0m         \u001b[38;5;28;01mreturn\u001b[39;00m \u001b[43mfunc\u001b[49m\u001b[43m(\u001b[49m\u001b[38;5;241;43m*\u001b[39;49m\u001b[43margs\u001b[49m\u001b[43m,\u001b[49m\u001b[43m \u001b[49m\u001b[38;5;241;43m*\u001b[39;49m\u001b[38;5;241;43m*\u001b[39;49m\u001b[43mkwds\u001b[49m\u001b[43m)\u001b[49m\n",
      "File \u001b[0;32m~/miniconda3/envs/inr_edu_24/lib/python3.10/site-packages/equinox/nn/_sequential.py:105\u001b[0m, in \u001b[0;36mSequential.__call__\u001b[0;34m(self, x, state, key)\u001b[0m\n\u001b[1;32m    103\u001b[0m         x, state \u001b[38;5;241m=\u001b[39m layer(x, state\u001b[38;5;241m=\u001b[39mstate, key\u001b[38;5;241m=\u001b[39mkey)\n\u001b[1;32m    104\u001b[0m     \u001b[38;5;28;01melse\u001b[39;00m:\n\u001b[0;32m--> 105\u001b[0m         x \u001b[38;5;241m=\u001b[39m \u001b[43mlayer\u001b[49m\u001b[43m(\u001b[49m\u001b[43mx\u001b[49m\u001b[43m,\u001b[49m\u001b[43m \u001b[49m\u001b[43mkey\u001b[49m\u001b[38;5;241;43m=\u001b[39;49m\u001b[43mkey\u001b[49m\u001b[43m)\u001b[49m\n\u001b[1;32m    106\u001b[0m \u001b[38;5;28;01mif\u001b[39;00m state \u001b[38;5;129;01mis\u001b[39;00m sentinel:\n\u001b[1;32m    107\u001b[0m     \u001b[38;5;28;01mreturn\u001b[39;00m x\n",
      "File \u001b[0;32m~/INR_BEP/model_components/inr_layers.py:162\u001b[0m, in \u001b[0;36mINRLayer.__call__\u001b[0;34m(self, x, key)\u001b[0m\n\u001b[1;32m    159\u001b[0m     wxb \u001b[38;5;241m=\u001b[39m [w \u001b[38;5;241m@\u001b[39m x \u001b[38;5;241m+\u001b[39m b \u001b[38;5;28;01mfor\u001b[39;00m w, b \u001b[38;5;129;01min\u001b[39;00m \u001b[38;5;28mzip\u001b[39m(\u001b[38;5;28mself\u001b[39m\u001b[38;5;241m.\u001b[39mweights, \u001b[38;5;28mself\u001b[39m\u001b[38;5;241m.\u001b[39mbiases)]\n\u001b[1;32m    160\u001b[0m \u001b[38;5;28;01melse\u001b[39;00m:\n\u001b[1;32m    161\u001b[0m     \u001b[38;5;66;03m# when num_splits=1\u001b[39;00m\n\u001b[0;32m--> 162\u001b[0m     wxb \u001b[38;5;241m=\u001b[39m (\u001b[38;5;28;43mself\u001b[39;49m\u001b[38;5;241;43m.\u001b[39;49m\u001b[43mweights\u001b[49m\u001b[43m \u001b[49m\u001b[38;5;241;43m@\u001b[39;49m\u001b[43m \u001b[49m\u001b[43mx\u001b[49m \u001b[38;5;241m+\u001b[39m \u001b[38;5;28mself\u001b[39m\u001b[38;5;241m.\u001b[39mbiases,)\n\u001b[1;32m    163\u001b[0m \u001b[38;5;28;01mreturn\u001b[39;00m \u001b[38;5;28mself\u001b[39m\u001b[38;5;241m.\u001b[39mactivation_function(\u001b[38;5;241m*\u001b[39mwxb)\n",
      "File \u001b[0;32m~/miniconda3/envs/inr_edu_24/lib/python3.10/site-packages/jax/_src/numpy/array_methods.py:1036\u001b[0m, in \u001b[0;36m_forward_operator_to_aval.<locals>.op\u001b[0;34m(self, *args)\u001b[0m\n\u001b[1;32m   1035\u001b[0m \u001b[38;5;28;01mdef\u001b[39;00m \u001b[38;5;21mop\u001b[39m(\u001b[38;5;28mself\u001b[39m, \u001b[38;5;241m*\u001b[39margs):\n\u001b[0;32m-> 1036\u001b[0m   \u001b[38;5;28;01mreturn\u001b[39;00m \u001b[38;5;28;43mgetattr\u001b[39;49m\u001b[43m(\u001b[49m\u001b[38;5;28;43mself\u001b[39;49m\u001b[38;5;241;43m.\u001b[39;49m\u001b[43maval\u001b[49m\u001b[43m,\u001b[49m\u001b[43m \u001b[49m\u001b[38;5;124;43mf\u001b[39;49m\u001b[38;5;124;43m\"\u001b[39;49m\u001b[38;5;124;43m_\u001b[39;49m\u001b[38;5;132;43;01m{\u001b[39;49;00m\u001b[43mname\u001b[49m\u001b[38;5;132;43;01m}\u001b[39;49;00m\u001b[38;5;124;43m\"\u001b[39;49m\u001b[43m)\u001b[49m\u001b[43m(\u001b[49m\u001b[38;5;28;43mself\u001b[39;49m\u001b[43m,\u001b[49m\u001b[43m \u001b[49m\u001b[38;5;241;43m*\u001b[39;49m\u001b[43margs\u001b[49m\u001b[43m)\u001b[49m\n",
      "File \u001b[0;32m~/miniconda3/envs/inr_edu_24/lib/python3.10/site-packages/jax/_src/numpy/array_methods.py:573\u001b[0m, in \u001b[0;36m_defer_to_unrecognized_arg.<locals>.deferring_binary_op\u001b[0;34m(self, other)\u001b[0m\n\u001b[1;32m    571\u001b[0m args \u001b[38;5;241m=\u001b[39m (other, \u001b[38;5;28mself\u001b[39m) \u001b[38;5;28;01mif\u001b[39;00m swap \u001b[38;5;28;01melse\u001b[39;00m (\u001b[38;5;28mself\u001b[39m, other)\n\u001b[1;32m    572\u001b[0m \u001b[38;5;28;01mif\u001b[39;00m \u001b[38;5;28misinstance\u001b[39m(other, _accepted_binop_types):\n\u001b[0;32m--> 573\u001b[0m   \u001b[38;5;28;01mreturn\u001b[39;00m \u001b[43mbinary_op\u001b[49m\u001b[43m(\u001b[49m\u001b[38;5;241;43m*\u001b[39;49m\u001b[43margs\u001b[49m\u001b[43m)\u001b[49m\n\u001b[1;32m    574\u001b[0m \u001b[38;5;66;03m# Note: don't use isinstance here, because we don't want to raise for\u001b[39;00m\n\u001b[1;32m    575\u001b[0m \u001b[38;5;66;03m# subclasses, e.g. NamedTuple objects that may override operators.\u001b[39;00m\n\u001b[1;32m    576\u001b[0m \u001b[38;5;28;01mif\u001b[39;00m \u001b[38;5;28mtype\u001b[39m(other) \u001b[38;5;129;01min\u001b[39;00m _rejected_binop_types:\n",
      "    \u001b[0;31m[... skipping hidden 11 frame]\u001b[0m\n",
      "File \u001b[0;32m~/miniconda3/envs/inr_edu_24/lib/python3.10/site-packages/jax/_src/numpy/lax_numpy.py:8216\u001b[0m, in \u001b[0;36mmatmul\u001b[0;34m(a, b, precision, preferred_element_type)\u001b[0m\n\u001b[1;32m   8214\u001b[0m a \u001b[38;5;241m=\u001b[39m lax\u001b[38;5;241m.\u001b[39msqueeze(a, \u001b[38;5;28mtuple\u001b[39m(a_squeeze))\n\u001b[1;32m   8215\u001b[0m b \u001b[38;5;241m=\u001b[39m lax\u001b[38;5;241m.\u001b[39msqueeze(b, \u001b[38;5;28mtuple\u001b[39m(b_squeeze))\n\u001b[0;32m-> 8216\u001b[0m out \u001b[38;5;241m=\u001b[39m \u001b[43mlax\u001b[49m\u001b[38;5;241;43m.\u001b[39;49m\u001b[43mdot_general\u001b[49m\u001b[43m(\u001b[49m\n\u001b[1;32m   8217\u001b[0m \u001b[43m  \u001b[49m\u001b[43ma\u001b[49m\u001b[43m,\u001b[49m\u001b[43m \u001b[49m\u001b[43mb\u001b[49m\u001b[43m,\u001b[49m\u001b[43m \u001b[49m\u001b[43m(\u001b[49m\u001b[43m(\u001b[49m\u001b[43m(\u001b[49m\u001b[43mndim\u001b[49m\u001b[43m(\u001b[49m\u001b[43ma\u001b[49m\u001b[43m)\u001b[49m\u001b[43m \u001b[49m\u001b[38;5;241;43m-\u001b[39;49m\u001b[43m \u001b[49m\u001b[38;5;241;43m1\u001b[39;49m\u001b[43m,\u001b[49m\u001b[43m)\u001b[49m\u001b[43m,\u001b[49m\u001b[43m \u001b[49m\u001b[43m(\u001b[49m\u001b[43mndim\u001b[49m\u001b[43m(\u001b[49m\u001b[43mb\u001b[49m\u001b[43m)\u001b[49m\u001b[43m \u001b[49m\u001b[38;5;241;43m-\u001b[39;49m\u001b[43m \u001b[49m\u001b[38;5;241;43m1\u001b[39;49m\u001b[43m \u001b[49m\u001b[38;5;241;43m-\u001b[39;49m\u001b[43m \u001b[49m\u001b[43mb_is_mat\u001b[49m\u001b[43m,\u001b[49m\u001b[43m)\u001b[49m\u001b[43m)\u001b[49m\u001b[43m,\u001b[49m\u001b[43m \u001b[49m\u001b[43m(\u001b[49m\u001b[43ma_batch\u001b[49m\u001b[43m,\u001b[49m\u001b[43m \u001b[49m\u001b[43mb_batch\u001b[49m\u001b[43m)\u001b[49m\u001b[43m)\u001b[49m\u001b[43m,\u001b[49m\n\u001b[1;32m   8218\u001b[0m \u001b[43m  \u001b[49m\u001b[43mprecision\u001b[49m\u001b[38;5;241;43m=\u001b[39;49m\u001b[43mprecision\u001b[49m\u001b[43m,\u001b[49m\u001b[43m \u001b[49m\u001b[43mpreferred_element_type\u001b[49m\u001b[38;5;241;43m=\u001b[39;49m\u001b[43mpreferred_element_type\u001b[49m\u001b[43m)\u001b[49m\n\u001b[1;32m   8219\u001b[0m result \u001b[38;5;241m=\u001b[39m lax\u001b[38;5;241m.\u001b[39mtranspose(out, perm)\n\u001b[1;32m   8220\u001b[0m \u001b[38;5;28;01mreturn\u001b[39;00m lax_internal\u001b[38;5;241m.\u001b[39m_convert_element_type(result, preferred_element_type, output_weak_type)\n",
      "    \u001b[0;31m[... skipping hidden 7 frame]\u001b[0m\n",
      "File \u001b[0;32m~/miniconda3/envs/inr_edu_24/lib/python3.10/site-packages/jax/_src/lax/lax.py:3117\u001b[0m, in \u001b[0;36m_dot_general_shape_rule\u001b[0;34m(lhs, rhs, dimension_numbers, precision, preferred_element_type, algorithm, transpose_algorithm)\u001b[0m\n\u001b[1;32m   3114\u001b[0m \u001b[38;5;28;01mif\u001b[39;00m \u001b[38;5;129;01mnot\u001b[39;00m core\u001b[38;5;241m.\u001b[39mdefinitely_equal_shape(lhs_contracting_shape, rhs_contracting_shape):\n\u001b[1;32m   3115\u001b[0m   msg \u001b[38;5;241m=\u001b[39m (\u001b[38;5;124m\"\u001b[39m\u001b[38;5;124mdot_general requires contracting dimensions to have the same \u001b[39m\u001b[38;5;124m\"\u001b[39m\n\u001b[1;32m   3116\u001b[0m          \u001b[38;5;124m\"\u001b[39m\u001b[38;5;124mshape, got \u001b[39m\u001b[38;5;132;01m{}\u001b[39;00m\u001b[38;5;124m and \u001b[39m\u001b[38;5;132;01m{}\u001b[39;00m\u001b[38;5;124m.\u001b[39m\u001b[38;5;124m\"\u001b[39m)\n\u001b[0;32m-> 3117\u001b[0m   \u001b[38;5;28;01mraise\u001b[39;00m \u001b[38;5;167;01mTypeError\u001b[39;00m(msg\u001b[38;5;241m.\u001b[39mformat(lhs_contracting_shape, rhs_contracting_shape))\n\u001b[1;32m   3119\u001b[0m \u001b[38;5;28;01mreturn\u001b[39;00m _dot_general_shape_computation(lhs\u001b[38;5;241m.\u001b[39mshape, rhs\u001b[38;5;241m.\u001b[39mshape, dimension_numbers)\n",
      "\u001b[0;31mTypeError\u001b[0m: dot_general requires contracting dimensions to have the same shape, got (1,) and (1024,)."
     ]
    }
   ],
   "source": [
    "# Run the experiment with wandb logging\n",
    "with wandb.init(\n",
    "    project='inr-audio',\n",
    "    config={\n",
    "        'window_size': config.sampler[1]['window_size'],\n",
    "        'batch_size': config.sampler[1]['batch_size'],\n",
    "        'learning_rate': config.optimizer_config['learning_rate'],\n",
    "        'steps': config.steps,\n",
    "        'audio_path': config.sampler[1]['sound_fragment']\n",
    "    }\n",
    ") as run:\n",
    "    results = experiment.initialize()"
   ]
  }
 ],
 "metadata": {
  "kernelspec": {
   "display_name": "Python (inr_edu_24)",
   "language": "python",
   "name": "inr_edu_24"
  },
  "language_info": {
   "codemirror_mode": {
    "name": "ipython",
    "version": 3
   },
   "file_extension": ".py",
   "mimetype": "text/x-python",
   "name": "python",
   "nbconvert_exporter": "python",
   "pygments_lexer": "ipython3",
   "version": "3.10.15"
  }
 },
 "nbformat": 4,
 "nbformat_minor": 2
}
