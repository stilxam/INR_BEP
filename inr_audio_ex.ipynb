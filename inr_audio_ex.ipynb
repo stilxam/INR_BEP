{
 "cells": [
  {
   "cell_type": "code",
   "execution_count": null,
   "metadata": {
    "ExecuteTime": {
     "end_time": "2025-01-28T15:19:34.097377424Z",
     "start_time": "2025-01-28T15:19:34.043198432Z"
    }
   },
   "outputs": [],
   "source": [
    "\n",
    "import pdb\n",
    "import os\n",
    "import traceback\n",
    "import numpy as np\n",
    "import jax\n",
    "import optax\n",
    "import wandb\n",
    "import librosa\n",
    "\n",
    "from common_dl_utils.config_creation import Config\n",
    "import common_jax_utils as cju\n",
    "\n",
    "wandb.login()\n",
    "\n",
    "key = jax.random.PRNGKey(12398)\n",
    "key_gen = cju.key_generator(key)"
   ]
  },
  {
   "cell_type": "code",
   "execution_count": 2,
   "metadata": {
    "ExecuteTime": {
     "end_time": "2025-01-28T15:19:34.718266998Z",
     "start_time": "2025-01-28T15:19:34.711259284Z"
    }
   },
   "outputs": [],
   "source": [
    "def load_audio_file(file_path, sr=16000, save_npy=True):\n",
    "    \"\"\"\n",
    "    Load an audio file and return it as a normalized numpy array.\n",
    "    Optionally save as .npy file.\n",
    "    \"\"\"\n",
    "    # Load the audio file\n",
    "    audio, _ = librosa.load(file_path, sr=sr)\n",
    "    \n",
    "    # Convert to numpy array and normalize to [-1, 1] range\n",
    "    audio = np.array(audio, dtype=np.float32)\n",
    "    audio = audio / np.max(np.abs(audio))\n",
    "\n",
    "    if save_npy:\n",
    "        # Create npy filename from original audio filename\n",
    "        npy_path = os.path.splitext(file_path)[0] + '.npy'\n",
    "        np.save(npy_path, audio)\n",
    "        return audio, len(audio), npy_path\n",
    "   \n",
    "    return audio, len(audio), None"
   ]
  },
  {
   "cell_type": "code",
   "execution_count": 3,
   "metadata": {
    "ExecuteTime": {
     "end_time": "2025-01-28T15:19:35.411177404Z",
     "start_time": "2025-01-28T15:19:35.389353173Z"
    }
   },
   "outputs": [],
   "source": [
    "# First set up the config properly\n",
    "config = Config()\n",
    "\n",
    "# Model architecture configuration\n",
    "config.architecture = './model_components'  # module containing model classes\n",
    "config.model_type = 'inr_modules.CombinedINR'\n",
    "\n",
    "# Model configuration\n",
    "config.model_config = Config()\n",
    "config.model_config.in_size = 1 # Time dimension input\n",
    "config.model_config.out_size = 1  # Audio amplitude output\n",
    "config.model_config.terms = [\n",
    "    ('inr_modules.MLPINR.from_config',{\n",
    "        'hidden_size': 256,\n",
    "        'num_layers': 5,\n",
    "        'layer_type': 'inr_layers.SirenLayer',\n",
    "        'num_splits': 1,\n",
    "        'use_complex': False,\n",
    "        'activation_kwargs': {'w0': 30.},\n",
    "        'initialization_scheme':'initialization_schemes.siren_scheme',\n",
    "        'positional_encoding_layer': ('inr_layers.IntegerLatticeEncoding.from_config', {'N': 5, 'dim_input': 1}),\n",
    "    }),\n",
    "    # ('inr_modules.MLPINR.from_config',{\n",
    "    #     'hidden_size': 1024,\n",
    "    #     'num_layers': 2,\n",
    "    #     'num_splits': 1,\n",
    "    #     'layer_type': 'inr_layers.GaussianINRLayer',\n",
    "    #     'use_complex': False,\n",
    "    #     'activation_kwargs': {'inverse_scale': 1},\n",
    "    # })\n",
    "    # ('inr_modules.MLPINR.from_config',{\n",
    "    #     'hidden_size': 256,\n",
    "    #     'num_layers': 5,\n",
    "    #     'layer_type': 'inr_layers.FinerLayer',\n",
    "    #     'num_splits': 1,\n",
    "    #     'use_complex': False,\n",
    "    #     'activation_kwargs': {'w0': 30},\n",
    "    #     'initialization_scheme':'initialization_schemes.finer_scheme',\n",
    "    #     'initialization_scheme_kwargs': {'bias_k': 10,'scale_factor': 10}\n",
    "    #     # 'initialization_scheme_k' : {'k': 20}\n",
    "    #     #'positional_encoding_layer': ('inr_layers.ClassicalPositionalEncoding.from_config', {'num_frequencies': 10}),\n",
    "    # })\n",
    "]\n",
    "\n",
    "# Training configuration\n",
    "config.trainer_module = './inr_utils'  # module containing training code\n",
    "config.trainer_type = 'training.train_inr'\n",
    "\n",
    "# Loss function configuration\n",
    "config.loss_evaluator = 'losses.SoundLossEvaluator'\n",
    "config.loss_evaluator_config = {\n",
    "    'time_domain_weight': 1.0,\n",
    "    'frequency_domain_weight': 0.1,\n",
    "    'state_update_function': ('states.update_ile', {'nr_increments': 1000})\n",
    "}\n",
    "\n",
    "\n",
    "# Optimizer configuration\n",
    "config.optimizer = 'adam'  # will use optax.adam\n",
    "config.optimizer_config = {\n",
    "    'learning_rate': 1e-3\n",
    "}\n",
    "\n",
    "# Load and save the audio file\n",
    "audio_path = './example_data/data_gt_bach.wav'  # Make sure this path exists\n",
    "audio_data, fragment_length, npy_path = load_audio_file(audio_path)\n",
    "\n",
    "# Sampler configuration\n",
    "config.sampler = ('sampling.SoundSampler', {\n",
    "    'window_size': 1024,\n",
    "    'batch_size': 32,\n",
    "    'fragment_length': fragment_length,  # Will be set after loading audio\n",
    "    'sound_fragment': npy_path\n",
    "})\n",
    "\n",
    "\n",
    "# Metric collector configuration\n",
    "config.metric_collector_config = {\n",
    "    'metrics': [\n",
    "        ('metrics.AudioMetricsOnGrid', {\n",
    "            'target_audio': audio_data,\n",
    "            'grid_size': fragment_length,\n",
    "            'batch_size': 1024,  # This will be automatically adjusted if needed\n",
    "            'sr': 16000,\n",
    "            'frequency': 'every_n_batches'\n",
    "        })\n",
    "    ],\n",
    "    'batch_frequency': 100,\n",
    "    'epoch_frequency': 1\n",
    "}\n",
    "# Callback configuration for logging\n",
    "config.after_step_callback = 'callbacks.ComposedCallback'  # This line was missing\n",
    "config.after_step_callback_config = {\n",
    "    'callbacks': [\n",
    "        ('callbacks.print_loss', {'after_every': 10}),\n",
    "        'callbacks.report_loss',\n",
    "        'callbacks.raise_error_on_nan',\n",
    "        ('callbacks.AudioMetricsCallback', {\n",
    "            'metric_collector': ('metrics.MetricCollector', config.metric_collector_config),\n",
    "            'print_metrics': True,\n",
    "            'print_frequency': 100\n",
    "        })\n",
    "    ],\n",
    "    'use_wandb': True,  # This was missing\n",
    "    'show_logs': False\n",
    "}\n",
    "\n",
    "# # Callback configuration for logging\n",
    "# config.after_step_callback = 'callbacks.ComposedCallback'\n",
    "# config.after_step_callback_config = {\n",
    "#     'callbacks': [\n",
    "#         ('callbacks.print_loss', {'after_every': 10}),\n",
    "#         'callbacks.report_loss',\n",
    "#         'callbacks.raise_error_on_nan'\n",
    "#     ],\n",
    "#     'show_logs': False\n",
    "# }\n",
    "\n",
    "\n",
    "\n",
    "config.after_training_callback = None\n",
    "config.optimizer_state = None\n",
    "config.steps = 40000\n",
    "config.use_wandb = True\n"
   ]
  },
  {
   "cell_type": "code",
   "execution_count": 4,
   "metadata": {
    "ExecuteTime": {
     "end_time": "2025-01-28T15:19:36.166425593Z",
     "start_time": "2025-01-28T15:19:36.136489867Z"
    }
   },
   "outputs": [],
   "source": [
    "try:\n",
    "    inr = cju.run_utils.get_model_from_config_and_key(\n",
    "        prng_key=next(key_gen),\n",
    "        config=config,\n",
    "        model_sub_config_name_base='model',\n",
    "        add_model_module_to_architecture_default_module=False,\n",
    "    )\n",
    "except Exception as e:\n",
    "    traceback.print_exc()\n",
    "    print(e)\n",
    "    print('\\n')\n",
    "    pdb.post_mortem()\n"
   ]
  },
  {
   "cell_type": "code",
   "execution_count": 5,
   "metadata": {
    "ExecuteTime": {
     "end_time": "2025-01-28T15:19:37.015539529Z",
     "start_time": "2025-01-28T15:19:36.861638375Z"
    }
   },
   "outputs": [],
   "source": [
    "# Then get the experiment\n",
    "experiment = cju.run_utils.get_experiment_from_config_and_key(\n",
    "    prng_key=next(key_gen),\n",
    "    config=config,\n",
    "    model_kwarg_in_trainer='inr',\n",
    "    model_sub_config_name_base='model',\n",
    "    trainer_default_module_key='trainer_module',\n",
    "    additional_trainer_default_modules=[optax],\n",
    "    add_model_module_to_architecture_default_module=False,\n",
    "    initialize=False\n",
    ")"
   ]
  },
  {
   "cell_type": "code",
   "execution_count": null,
   "metadata": {
    "ExecuteTime": {
     "end_time": "2025-01-28T15:20:00.620915562Z",
     "start_time": "2025-01-28T15:19:37.785714505Z"
    }
   },
   "outputs": [],
   "source": [
    "# Run the experiment with wandb logging\n",
    "try: \n",
    "        \n",
    "    with wandb.init(\n",
    "        project='inr-audio',\n",
    "        config={\n",
    "            'window_size': config.sampler[1]['window_size'],\n",
    "            'batch_size': config.sampler[1]['batch_size'],\n",
    "            'learning_rate': config.optimizer_config['learning_rate'],\n",
    "            'steps': config.steps,\n",
    "            'audio_path': config.sampler[1]['sound_fragment']\n",
    "        }\n",
    "    ) as run:\n",
    "        results = experiment.initialize()\n",
    "        \n",
    "except Exception as e:\n",
    "    traceback.print_exc()\n",
    "    print(e)\n",
    "    print('\\n')\n",
    "    pdb.post_mortem()"
   ]
  },
  {
   "cell_type": "code",
   "execution_count": null,
   "metadata": {},
   "outputs": [],
   "source": []
  }
 ],
 "metadata": {
  "kernelspec": {
   "display_name": "goshko_bep",
   "language": "python",
   "name": "python3"
  },
  "language_info": {
   "codemirror_mode": {
    "name": "ipython",
    "version": 3
   },
   "file_extension": ".py",
   "mimetype": "text/x-python",
   "name": "python",
   "nbconvert_exporter": "python",
   "pygments_lexer": "ipython3",
   "version": "3.10.14"
  }
 },
 "nbformat": 4,
 "nbformat_minor": 2
}
